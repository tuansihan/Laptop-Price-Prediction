{
 "cells": [
  {
   "cell_type": "markdown",
   "id": "7cb1d0b4",
   "metadata": {},
   "source": [
    "# Laptop Price Prediction"
   ]
  },
  {
   "cell_type": "code",
   "execution_count": 1180,
   "id": "d3a37844",
   "metadata": {},
   "outputs": [],
   "source": [
    "import pandas as pd\n",
    "import numpy as np\n",
    "import seaborn as sn\n",
    "import matplotlib.pyplot as plt\n",
    "%matplotlib inline"
   ]
  },
  {
   "cell_type": "markdown",
   "id": "5b6f73cc",
   "metadata": {},
   "source": [
    "## Data Pre-Processing"
   ]
  },
  {
   "cell_type": "code",
   "execution_count": 1181,
   "id": "115183e2",
   "metadata": {},
   "outputs": [
    {
     "data": {
      "text/html": [
       "<div>\n",
       "<style scoped>\n",
       "    .dataframe tbody tr th:only-of-type {\n",
       "        vertical-align: middle;\n",
       "    }\n",
       "\n",
       "    .dataframe tbody tr th {\n",
       "        vertical-align: top;\n",
       "    }\n",
       "\n",
       "    .dataframe thead th {\n",
       "        text-align: right;\n",
       "    }\n",
       "</style>\n",
       "<table border=\"1\" class=\"dataframe\">\n",
       "  <thead>\n",
       "    <tr style=\"text-align: right;\">\n",
       "      <th></th>\n",
       "      <th>Unnamed: 0</th>\n",
       "      <th>Company</th>\n",
       "      <th>TypeName</th>\n",
       "      <th>Inches</th>\n",
       "      <th>ScreenResolution</th>\n",
       "      <th>Cpu</th>\n",
       "      <th>Ram</th>\n",
       "      <th>Memory</th>\n",
       "      <th>Gpu</th>\n",
       "      <th>OpSys</th>\n",
       "      <th>Weight</th>\n",
       "      <th>Price_in_Rupees</th>\n",
       "      <th>Price_in_Ringgits</th>\n",
       "      <th>Unnamed: 13</th>\n",
       "      <th>Unnamed: 14</th>\n",
       "      <th>Unnamed: 15</th>\n",
       "      <th>Unnamed: 16</th>\n",
       "      <th>Unnamed: 17</th>\n",
       "      <th>Unnamed: 18</th>\n",
       "      <th>Unnamed: 19</th>\n",
       "    </tr>\n",
       "  </thead>\n",
       "  <tbody>\n",
       "    <tr>\n",
       "      <th>0</th>\n",
       "      <td>0</td>\n",
       "      <td>Apple</td>\n",
       "      <td>Ultrabook</td>\n",
       "      <td>13.3</td>\n",
       "      <td>IPS Panel Retina Display 2560x1600</td>\n",
       "      <td>Intel Core i5 2.3GHz</td>\n",
       "      <td>8GB</td>\n",
       "      <td>128GB SSD</td>\n",
       "      <td>Intel Iris Plus Graphics 640</td>\n",
       "      <td>macOS</td>\n",
       "      <td>1.37kg</td>\n",
       "      <td>71378.6832</td>\n",
       "      <td>4068.584942</td>\n",
       "      <td>NaN</td>\n",
       "      <td>NaN</td>\n",
       "      <td>NaN</td>\n",
       "      <td>NaN</td>\n",
       "      <td>NaN</td>\n",
       "      <td>NaN</td>\n",
       "      <td>NaN</td>\n",
       "    </tr>\n",
       "    <tr>\n",
       "      <th>1</th>\n",
       "      <td>1</td>\n",
       "      <td>Apple</td>\n",
       "      <td>Ultrabook</td>\n",
       "      <td>13.3</td>\n",
       "      <td>1440x900</td>\n",
       "      <td>Intel Core i5 1.8GHz</td>\n",
       "      <td>8GB</td>\n",
       "      <td>128GB Flash Storage</td>\n",
       "      <td>Intel HD Graphics 6000</td>\n",
       "      <td>macOS</td>\n",
       "      <td>1.34kg</td>\n",
       "      <td>47895.5232</td>\n",
       "      <td>2730.044822</td>\n",
       "      <td>NaN</td>\n",
       "      <td>NaN</td>\n",
       "      <td>NaN</td>\n",
       "      <td>NaN</td>\n",
       "      <td>NaN</td>\n",
       "      <td>NaN</td>\n",
       "      <td>NaN</td>\n",
       "    </tr>\n",
       "    <tr>\n",
       "      <th>2</th>\n",
       "      <td>2</td>\n",
       "      <td>HP</td>\n",
       "      <td>Notebook</td>\n",
       "      <td>15.6</td>\n",
       "      <td>Full HD 1920x1080</td>\n",
       "      <td>Intel Core i5 7200U 2.5GHz</td>\n",
       "      <td>8GB</td>\n",
       "      <td>256GB SSD</td>\n",
       "      <td>Intel HD Graphics 620</td>\n",
       "      <td>No OS</td>\n",
       "      <td>1.86kg</td>\n",
       "      <td>30636.0000</td>\n",
       "      <td>1746.252000</td>\n",
       "      <td>NaN</td>\n",
       "      <td>NaN</td>\n",
       "      <td>NaN</td>\n",
       "      <td>NaN</td>\n",
       "      <td>NaN</td>\n",
       "      <td>NaN</td>\n",
       "      <td>NaN</td>\n",
       "    </tr>\n",
       "    <tr>\n",
       "      <th>3</th>\n",
       "      <td>3</td>\n",
       "      <td>Apple</td>\n",
       "      <td>Ultrabook</td>\n",
       "      <td>15.4</td>\n",
       "      <td>IPS Panel Retina Display 2880x1800</td>\n",
       "      <td>Intel Core i7 2.7GHz</td>\n",
       "      <td>16GB</td>\n",
       "      <td>512GB SSD</td>\n",
       "      <td>AMD Radeon Pro 455</td>\n",
       "      <td>macOS</td>\n",
       "      <td>1.83kg</td>\n",
       "      <td>135195.3360</td>\n",
       "      <td>7706.134152</td>\n",
       "      <td>NaN</td>\n",
       "      <td>NaN</td>\n",
       "      <td>NaN</td>\n",
       "      <td>NaN</td>\n",
       "      <td>NaN</td>\n",
       "      <td>Conversion Rate as of 11 Jan 2022</td>\n",
       "      <td>NaN</td>\n",
       "    </tr>\n",
       "    <tr>\n",
       "      <th>4</th>\n",
       "      <td>4</td>\n",
       "      <td>Apple</td>\n",
       "      <td>Ultrabook</td>\n",
       "      <td>13.3</td>\n",
       "      <td>IPS Panel Retina Display 2560x1600</td>\n",
       "      <td>Intel Core i5 3.1GHz</td>\n",
       "      <td>8GB</td>\n",
       "      <td>256GB SSD</td>\n",
       "      <td>Intel Iris Plus Graphics 650</td>\n",
       "      <td>macOS</td>\n",
       "      <td>1.37kg</td>\n",
       "      <td>96095.8080</td>\n",
       "      <td>5477.461056</td>\n",
       "      <td>NaN</td>\n",
       "      <td>NaN</td>\n",
       "      <td>NaN</td>\n",
       "      <td>NaN</td>\n",
       "      <td>NaN</td>\n",
       "      <td>INR to MYR</td>\n",
       "      <td>0.057</td>\n",
       "    </tr>\n",
       "  </tbody>\n",
       "</table>\n",
       "</div>"
      ],
      "text/plain": [
       "   Unnamed: 0 Company   TypeName  Inches                    ScreenResolution  \\\n",
       "0           0   Apple  Ultrabook    13.3  IPS Panel Retina Display 2560x1600   \n",
       "1           1   Apple  Ultrabook    13.3                            1440x900   \n",
       "2           2      HP   Notebook    15.6                   Full HD 1920x1080   \n",
       "3           3   Apple  Ultrabook    15.4  IPS Panel Retina Display 2880x1800   \n",
       "4           4   Apple  Ultrabook    13.3  IPS Panel Retina Display 2560x1600   \n",
       "\n",
       "                          Cpu   Ram               Memory  \\\n",
       "0        Intel Core i5 2.3GHz   8GB            128GB SSD   \n",
       "1        Intel Core i5 1.8GHz   8GB  128GB Flash Storage   \n",
       "2  Intel Core i5 7200U 2.5GHz   8GB            256GB SSD   \n",
       "3        Intel Core i7 2.7GHz  16GB            512GB SSD   \n",
       "4        Intel Core i5 3.1GHz   8GB            256GB SSD   \n",
       "\n",
       "                            Gpu  OpSys  Weight  Price_in_Rupees  \\\n",
       "0  Intel Iris Plus Graphics 640  macOS  1.37kg       71378.6832   \n",
       "1        Intel HD Graphics 6000  macOS  1.34kg       47895.5232   \n",
       "2         Intel HD Graphics 620  No OS  1.86kg       30636.0000   \n",
       "3            AMD Radeon Pro 455  macOS  1.83kg      135195.3360   \n",
       "4  Intel Iris Plus Graphics 650  macOS  1.37kg       96095.8080   \n",
       "\n",
       "   Price_in_Ringgits  Unnamed: 13  Unnamed: 14  Unnamed: 15  Unnamed: 16  \\\n",
       "0        4068.584942          NaN          NaN          NaN          NaN   \n",
       "1        2730.044822          NaN          NaN          NaN          NaN   \n",
       "2        1746.252000          NaN          NaN          NaN          NaN   \n",
       "3        7706.134152          NaN          NaN          NaN          NaN   \n",
       "4        5477.461056          NaN          NaN          NaN          NaN   \n",
       "\n",
       "   Unnamed: 17                        Unnamed: 18  Unnamed: 19  \n",
       "0          NaN                                NaN          NaN  \n",
       "1          NaN                                NaN          NaN  \n",
       "2          NaN                                NaN          NaN  \n",
       "3          NaN  Conversion Rate as of 11 Jan 2022          NaN  \n",
       "4          NaN                         INR to MYR        0.057  "
      ]
     },
     "execution_count": 1181,
     "metadata": {},
     "output_type": "execute_result"
    }
   ],
   "source": [
    "df = pd.read_csv(\"laptop_data.csv\")\n",
    "df.head()"
   ]
  },
  {
   "cell_type": "code",
   "execution_count": 1182,
   "id": "70f1c755",
   "metadata": {},
   "outputs": [
    {
     "data": {
      "text/html": [
       "<div>\n",
       "<style scoped>\n",
       "    .dataframe tbody tr th:only-of-type {\n",
       "        vertical-align: middle;\n",
       "    }\n",
       "\n",
       "    .dataframe tbody tr th {\n",
       "        vertical-align: top;\n",
       "    }\n",
       "\n",
       "    .dataframe thead th {\n",
       "        text-align: right;\n",
       "    }\n",
       "</style>\n",
       "<table border=\"1\" class=\"dataframe\">\n",
       "  <thead>\n",
       "    <tr style=\"text-align: right;\">\n",
       "      <th></th>\n",
       "      <th>Company</th>\n",
       "      <th>TypeName</th>\n",
       "      <th>Inches</th>\n",
       "      <th>ScreenResolution</th>\n",
       "      <th>Cpu</th>\n",
       "      <th>Ram</th>\n",
       "      <th>Memory</th>\n",
       "      <th>Gpu</th>\n",
       "      <th>OpSys</th>\n",
       "      <th>Weight</th>\n",
       "      <th>Price</th>\n",
       "    </tr>\n",
       "  </thead>\n",
       "  <tbody>\n",
       "    <tr>\n",
       "      <th>0</th>\n",
       "      <td>Apple</td>\n",
       "      <td>Ultrabook</td>\n",
       "      <td>13.3</td>\n",
       "      <td>IPS Panel Retina Display 2560x1600</td>\n",
       "      <td>Intel Core i5 2.3GHz</td>\n",
       "      <td>8GB</td>\n",
       "      <td>128GB SSD</td>\n",
       "      <td>Intel Iris Plus Graphics 640</td>\n",
       "      <td>macOS</td>\n",
       "      <td>1.37kg</td>\n",
       "      <td>4068.584942</td>\n",
       "    </tr>\n",
       "    <tr>\n",
       "      <th>1</th>\n",
       "      <td>Apple</td>\n",
       "      <td>Ultrabook</td>\n",
       "      <td>13.3</td>\n",
       "      <td>1440x900</td>\n",
       "      <td>Intel Core i5 1.8GHz</td>\n",
       "      <td>8GB</td>\n",
       "      <td>128GB Flash Storage</td>\n",
       "      <td>Intel HD Graphics 6000</td>\n",
       "      <td>macOS</td>\n",
       "      <td>1.34kg</td>\n",
       "      <td>2730.044822</td>\n",
       "    </tr>\n",
       "    <tr>\n",
       "      <th>2</th>\n",
       "      <td>HP</td>\n",
       "      <td>Notebook</td>\n",
       "      <td>15.6</td>\n",
       "      <td>Full HD 1920x1080</td>\n",
       "      <td>Intel Core i5 7200U 2.5GHz</td>\n",
       "      <td>8GB</td>\n",
       "      <td>256GB SSD</td>\n",
       "      <td>Intel HD Graphics 620</td>\n",
       "      <td>No OS</td>\n",
       "      <td>1.86kg</td>\n",
       "      <td>1746.252000</td>\n",
       "    </tr>\n",
       "    <tr>\n",
       "      <th>3</th>\n",
       "      <td>Apple</td>\n",
       "      <td>Ultrabook</td>\n",
       "      <td>15.4</td>\n",
       "      <td>IPS Panel Retina Display 2880x1800</td>\n",
       "      <td>Intel Core i7 2.7GHz</td>\n",
       "      <td>16GB</td>\n",
       "      <td>512GB SSD</td>\n",
       "      <td>AMD Radeon Pro 455</td>\n",
       "      <td>macOS</td>\n",
       "      <td>1.83kg</td>\n",
       "      <td>7706.134152</td>\n",
       "    </tr>\n",
       "    <tr>\n",
       "      <th>4</th>\n",
       "      <td>Apple</td>\n",
       "      <td>Ultrabook</td>\n",
       "      <td>13.3</td>\n",
       "      <td>IPS Panel Retina Display 2560x1600</td>\n",
       "      <td>Intel Core i5 3.1GHz</td>\n",
       "      <td>8GB</td>\n",
       "      <td>256GB SSD</td>\n",
       "      <td>Intel Iris Plus Graphics 650</td>\n",
       "      <td>macOS</td>\n",
       "      <td>1.37kg</td>\n",
       "      <td>5477.461056</td>\n",
       "    </tr>\n",
       "  </tbody>\n",
       "</table>\n",
       "</div>"
      ],
      "text/plain": [
       "  Company   TypeName  Inches                    ScreenResolution  \\\n",
       "0   Apple  Ultrabook    13.3  IPS Panel Retina Display 2560x1600   \n",
       "1   Apple  Ultrabook    13.3                            1440x900   \n",
       "2      HP   Notebook    15.6                   Full HD 1920x1080   \n",
       "3   Apple  Ultrabook    15.4  IPS Panel Retina Display 2880x1800   \n",
       "4   Apple  Ultrabook    13.3  IPS Panel Retina Display 2560x1600   \n",
       "\n",
       "                          Cpu   Ram               Memory  \\\n",
       "0        Intel Core i5 2.3GHz   8GB            128GB SSD   \n",
       "1        Intel Core i5 1.8GHz   8GB  128GB Flash Storage   \n",
       "2  Intel Core i5 7200U 2.5GHz   8GB            256GB SSD   \n",
       "3        Intel Core i7 2.7GHz  16GB            512GB SSD   \n",
       "4        Intel Core i5 3.1GHz   8GB            256GB SSD   \n",
       "\n",
       "                            Gpu  OpSys  Weight        Price  \n",
       "0  Intel Iris Plus Graphics 640  macOS  1.37kg  4068.584942  \n",
       "1        Intel HD Graphics 6000  macOS  1.34kg  2730.044822  \n",
       "2         Intel HD Graphics 620  No OS  1.86kg  1746.252000  \n",
       "3            AMD Radeon Pro 455  macOS  1.83kg  7706.134152  \n",
       "4  Intel Iris Plus Graphics 650  macOS  1.37kg  5477.461056  "
      ]
     },
     "execution_count": 1182,
     "metadata": {},
     "output_type": "execute_result"
    }
   ],
   "source": [
    "# Removing unwanted columns\n",
    "df = df[['Company', 'TypeName', 'Inches', 'ScreenResolution', 'Cpu', 'Ram', 'Memory', 'Gpu', 'OpSys', 'Weight', 'Price_in_Ringgits']]\n",
    "\n",
    "# Changing Price_in_Ringgits to Price\n",
    "df = df.rename(columns = {\"Price_in_Ringgits\" : \"Price\"})\n",
    "\n",
    "df.head()"
   ]
  },
  {
   "cell_type": "markdown",
   "id": "8b420020",
   "metadata": {},
   "source": [
    "### Checking for Null Values and Duplicates"
   ]
  },
  {
   "cell_type": "code",
   "execution_count": 1183,
   "id": "073c0a73",
   "metadata": {},
   "outputs": [
    {
     "name": "stdout",
     "output_type": "stream",
     "text": [
      "<class 'pandas.core.frame.DataFrame'>\n",
      "RangeIndex: 1303 entries, 0 to 1302\n",
      "Data columns (total 11 columns):\n",
      " #   Column            Non-Null Count  Dtype  \n",
      "---  ------            --------------  -----  \n",
      " 0   Company           1303 non-null   object \n",
      " 1   TypeName          1303 non-null   object \n",
      " 2   Inches            1303 non-null   float64\n",
      " 3   ScreenResolution  1303 non-null   object \n",
      " 4   Cpu               1303 non-null   object \n",
      " 5   Ram               1303 non-null   object \n",
      " 6   Memory            1303 non-null   object \n",
      " 7   Gpu               1303 non-null   object \n",
      " 8   OpSys             1303 non-null   object \n",
      " 9   Weight            1303 non-null   object \n",
      " 10  Price             1303 non-null   float64\n",
      "dtypes: float64(2), object(9)\n",
      "memory usage: 112.1+ KB\n"
     ]
    }
   ],
   "source": [
    "df.info()"
   ]
  },
  {
   "cell_type": "code",
   "execution_count": 1184,
   "id": "d6c511f9",
   "metadata": {},
   "outputs": [
    {
     "data": {
      "text/plain": [
       "Company             0\n",
       "TypeName            0\n",
       "Inches              0\n",
       "ScreenResolution    0\n",
       "Cpu                 0\n",
       "Ram                 0\n",
       "Memory              0\n",
       "Gpu                 0\n",
       "OpSys               0\n",
       "Weight              0\n",
       "Price               0\n",
       "dtype: int64"
      ]
     },
     "execution_count": 1184,
     "metadata": {},
     "output_type": "execute_result"
    }
   ],
   "source": [
    "df.isnull().sum()"
   ]
  },
  {
   "cell_type": "code",
   "execution_count": 1185,
   "id": "9c8ca169",
   "metadata": {},
   "outputs": [
    {
     "data": {
      "text/plain": [
       "29"
      ]
     },
     "execution_count": 1185,
     "metadata": {},
     "output_type": "execute_result"
    }
   ],
   "source": [
    "df.duplicated().sum()"
   ]
  },
  {
   "cell_type": "markdown",
   "id": "a914fca7",
   "metadata": {},
   "source": [
    "### Identifying Categorical and Continuous Data"
   ]
  },
  {
   "cell_type": "code",
   "execution_count": 1186,
   "id": "ef1fe8cc",
   "metadata": {},
   "outputs": [
    {
     "data": {
      "text/plain": [
       "['Company',\n",
       " 'TypeName',\n",
       " 'ScreenResolution',\n",
       " 'Cpu',\n",
       " 'Ram',\n",
       " 'Memory',\n",
       " 'Gpu',\n",
       " 'OpSys',\n",
       " 'Weight']"
      ]
     },
     "execution_count": 1186,
     "metadata": {},
     "output_type": "execute_result"
    }
   ],
   "source": [
    "# Identifying Categorical Data\n",
    "cat_data = [col for col in df.columns if df[col].dtype=='O']\n",
    "cat_data"
   ]
  },
  {
   "cell_type": "code",
   "execution_count": 1187,
   "id": "a5e22044",
   "metadata": {},
   "outputs": [
    {
     "data": {
      "text/plain": [
       "['Inches', 'Price']"
      ]
     },
     "execution_count": 1187,
     "metadata": {},
     "output_type": "execute_result"
    }
   ],
   "source": [
    "# Identifying Numeric Data\n",
    "cont_data = [col for col in df.columns if df[col].dtype!='O']\n",
    "cont_data"
   ]
  },
  {
   "cell_type": "code",
   "execution_count": 1188,
   "id": "018d31eb",
   "metadata": {},
   "outputs": [],
   "source": [
    "# Function to identify Unique Values\n",
    "def unique_values(col):\n",
    "    print(f'The {col} column has ', df[col].unique(), ' Unique values')\n",
    "    \n",
    "# Count the number of Values in Specified Column\n",
    "def value_counts(col):\n",
    "    print(f'The {col} column has ', df[col].value_counts(), ' total values')"
   ]
  },
  {
   "cell_type": "code",
   "execution_count": 1189,
   "id": "d3aa8d23",
   "metadata": {},
   "outputs": [
    {
     "name": "stdout",
     "output_type": "stream",
     "text": [
      "The Company column has  ['Apple' 'HP' 'Acer' 'Asus' 'Dell' 'Lenovo' 'Chuwi' 'MSI' 'Microsoft'\n",
      " 'Toshiba' 'Huawei' 'Xiaomi' 'Vero' 'Razer' 'Mediacom' 'Samsung' 'Google'\n",
      " 'Fujitsu' 'LG']  Unique values\n",
      "---------------------------------------------------------------------------\n",
      "The TypeName column has  ['Ultrabook' 'Notebook' 'Netbook' 'Gaming' '2 in 1 Convertible'\n",
      " 'Workstation']  Unique values\n",
      "---------------------------------------------------------------------------\n",
      "The Inches column has  [13.3 15.6 15.4 14.  12.  11.6 17.3 10.1 13.5 12.5 13.  18.4 13.9 12.3\n",
      " 17.  15.  14.1 11.3]  Unique values\n",
      "---------------------------------------------------------------------------\n",
      "The ScreenResolution column has  ['IPS Panel Retina Display 2560x1600' '1440x900' 'Full HD 1920x1080'\n",
      " 'IPS Panel Retina Display 2880x1800' '1366x768'\n",
      " 'IPS Panel Full HD 1920x1080' 'IPS Panel Retina Display 2304x1440'\n",
      " 'IPS Panel Full HD / Touchscreen 1920x1080'\n",
      " 'Full HD / Touchscreen 1920x1080' 'Touchscreen / Quad HD+ 3200x1800'\n",
      " 'IPS Panel Touchscreen 1920x1200' 'Touchscreen 2256x1504'\n",
      " 'Quad HD+ / Touchscreen 3200x1800' 'IPS Panel 1366x768'\n",
      " 'IPS Panel 4K Ultra HD / Touchscreen 3840x2160'\n",
      " 'IPS Panel Full HD 2160x1440' '4K Ultra HD / Touchscreen 3840x2160'\n",
      " 'Touchscreen 2560x1440' '1600x900' 'IPS Panel 4K Ultra HD 3840x2160'\n",
      " '4K Ultra HD 3840x2160' 'Touchscreen 1366x768'\n",
      " 'IPS Panel Full HD 1366x768' 'IPS Panel 2560x1440'\n",
      " 'IPS Panel Full HD 2560x1440' 'IPS Panel Retina Display 2736x1824'\n",
      " 'Touchscreen 2400x1600' '2560x1440' 'IPS Panel Quad HD+ 2560x1440'\n",
      " 'IPS Panel Quad HD+ 3200x1800'\n",
      " 'IPS Panel Quad HD+ / Touchscreen 3200x1800'\n",
      " 'IPS Panel Touchscreen 1366x768' '1920x1080'\n",
      " 'IPS Panel Full HD 1920x1200'\n",
      " 'IPS Panel Touchscreen / 4K Ultra HD 3840x2160'\n",
      " 'IPS Panel Touchscreen 2560x1440' 'Touchscreen / Full HD 1920x1080'\n",
      " 'Quad HD+ 3200x1800' 'Touchscreen / 4K Ultra HD 3840x2160'\n",
      " 'IPS Panel Touchscreen 2400x1600']  Unique values\n",
      "---------------------------------------------------------------------------\n",
      "The Cpu column has  ['Intel Core i5 2.3GHz' 'Intel Core i5 1.8GHz'\n",
      " 'Intel Core i5 7200U 2.5GHz' 'Intel Core i7 2.7GHz'\n",
      " 'Intel Core i5 3.1GHz' 'AMD A9-Series 9420 3GHz' 'Intel Core i7 2.2GHz'\n",
      " 'Intel Core i7 8550U 1.8GHz' 'Intel Core i5 8250U 1.6GHz'\n",
      " 'Intel Core i3 6006U 2GHz' 'Intel Core i7 2.8GHz'\n",
      " 'Intel Core M m3 1.2GHz' 'Intel Core i7 7500U 2.7GHz'\n",
      " 'Intel Core i7 2.9GHz' 'Intel Core i3 7100U 2.4GHz'\n",
      " 'Intel Atom x5-Z8350 1.44GHz' 'Intel Core i5 7300HQ 2.5GHz'\n",
      " 'AMD E-Series E2-9000e 1.5GHz' 'Intel Core i5 1.6GHz'\n",
      " 'Intel Core i7 8650U 1.9GHz' 'Intel Atom x5-Z8300 1.44GHz'\n",
      " 'AMD E-Series E2-6110 1.5GHz' 'AMD A6-Series 9220 2.5GHz'\n",
      " 'Intel Celeron Dual Core N3350 1.1GHz' 'Intel Core i3 7130U 2.7GHz'\n",
      " 'Intel Core i7 7700HQ 2.8GHz' 'Intel Core i5 2.0GHz'\n",
      " 'AMD Ryzen 1700 3GHz' 'Intel Pentium Quad Core N4200 1.1GHz'\n",
      " 'Intel Atom x5-Z8550 1.44GHz' 'Intel Celeron Dual Core N3060 1.6GHz'\n",
      " 'Intel Core i5 1.3GHz' 'AMD FX 9830P 3GHz' 'Intel Core i7 7560U 2.4GHz'\n",
      " 'AMD E-Series 6110 1.5GHz' 'Intel Core i5 6200U 2.3GHz'\n",
      " 'Intel Core M 6Y75 1.2GHz' 'Intel Core i5 7500U 2.7GHz'\n",
      " 'Intel Core i3 6006U 2.2GHz' 'AMD A6-Series 9220 2.9GHz'\n",
      " 'Intel Core i7 6920HQ 2.9GHz' 'Intel Core i5 7Y54 1.2GHz'\n",
      " 'Intel Core i7 7820HK 2.9GHz' 'Intel Xeon E3-1505M V6 3GHz'\n",
      " 'Intel Core i7 6500U 2.5GHz' 'AMD E-Series 9000e 1.5GHz'\n",
      " 'AMD A10-Series A10-9620P 2.5GHz' 'AMD A6-Series A6-9220 2.5GHz'\n",
      " 'Intel Core i5 2.9GHz' 'Intel Core i7 6600U 2.6GHz'\n",
      " 'Intel Core i3 6006U 2.0GHz' 'Intel Celeron Dual Core 3205U 1.5GHz'\n",
      " 'Intel Core i7 7820HQ 2.9GHz' 'AMD A10-Series 9600P 2.4GHz'\n",
      " 'Intel Core i7 7600U 2.8GHz' 'AMD A8-Series 7410 2.2GHz'\n",
      " 'Intel Celeron Dual Core 3855U 1.6GHz'\n",
      " 'Intel Pentium Quad Core N3710 1.6GHz' 'AMD A12-Series 9720P 2.7GHz'\n",
      " 'Intel Core i5 7300U 2.6GHz' 'AMD A12-Series 9720P 3.6GHz'\n",
      " 'Intel Celeron Quad Core N3450 1.1GHz'\n",
      " 'Intel Celeron Dual Core N3060 1.60GHz' 'Intel Core i5 6440HQ 2.6GHz'\n",
      " 'Intel Core i7 6820HQ 2.7GHz' 'AMD Ryzen 1600 3.2GHz'\n",
      " 'Intel Core i7 7Y75 1.3GHz' 'Intel Core i5 7440HQ 2.8GHz'\n",
      " 'Intel Core i7 7660U 2.5GHz' 'Intel Core i7 7700HQ 2.7GHz'\n",
      " 'Intel Core M m3-7Y30 2.2GHz' 'Intel Core i5 7Y57 1.2GHz'\n",
      " 'Intel Core i7 6700HQ 2.6GHz' 'Intel Core i3 6100U 2.3GHz'\n",
      " 'AMD A10-Series 9620P 2.5GHz' 'AMD E-Series 7110 1.8GHz'\n",
      " 'Intel Celeron Dual Core N3350 2.0GHz' 'AMD A9-Series A9-9420 3GHz'\n",
      " 'Intel Core i7 6820HK 2.7GHz' 'Intel Core M 7Y30 1.0GHz'\n",
      " 'Intel Xeon E3-1535M v6 3.1GHz' 'Intel Celeron Quad Core N3160 1.6GHz'\n",
      " 'Intel Core i5 6300U 2.4GHz' 'Intel Core i3 6100U 2.1GHz'\n",
      " 'AMD E-Series E2-9000 2.2GHz' 'Intel Celeron Dual Core N3050 1.6GHz'\n",
      " 'Intel Core M M3-6Y30 0.9GHz' 'AMD A9-Series 9420 2.9GHz'\n",
      " 'Intel Core i5 6300HQ 2.3GHz' 'AMD A6-Series 7310 2GHz'\n",
      " 'Intel Atom Z8350 1.92GHz' 'Intel Xeon E3-1535M v5 2.9GHz'\n",
      " 'Intel Core i5 6260U 1.8GHz' 'Intel Pentium Dual Core N4200 1.1GHz'\n",
      " 'Intel Celeron Quad Core N3710 1.6GHz' 'Intel Core M 1.2GHz'\n",
      " 'AMD A12-Series 9700P 2.5GHz' 'Intel Core i7 7500U 2.5GHz'\n",
      " 'Intel Pentium Dual Core 4405U 2.1GHz' 'AMD A4-Series 7210 2.2GHz'\n",
      " 'Intel Core i7 6560U 2.2GHz' 'Intel Core M m7-6Y75 1.2GHz'\n",
      " 'AMD FX 8800P 2.1GHz' 'Intel Core M M7-6Y75 1.2GHz'\n",
      " 'Intel Core i5 7200U 2.50GHz' 'Intel Core i5 7200U 2.70GHz'\n",
      " 'Intel Atom X5-Z8350 1.44GHz' 'Intel Core i5 7200U 2.7GHz'\n",
      " 'Intel Core M 1.1GHz' 'Intel Pentium Dual Core 4405Y 1.5GHz'\n",
      " 'Intel Pentium Quad Core N3700 1.6GHz' 'Intel Core M 6Y54 1.1GHz'\n",
      " 'Intel Core i7 6500U 2.50GHz' 'Intel Celeron Dual Core N3350 2GHz'\n",
      " 'Samsung Cortex A72&A53 2.0GHz' 'AMD E-Series 9000 2.2GHz'\n",
      " 'Intel Core M 6Y30 0.9GHz' 'AMD A9-Series 9410 2.9GHz']  Unique values\n",
      "---------------------------------------------------------------------------\n",
      "The Ram column has  ['8GB' '16GB' '4GB' '2GB' '12GB' '6GB' '32GB' '24GB' '64GB']  Unique values\n",
      "---------------------------------------------------------------------------\n",
      "The Memory column has  ['128GB SSD' '128GB Flash Storage' '256GB SSD' '512GB SSD' '500GB HDD'\n",
      " '256GB Flash Storage' '1TB HDD' '32GB Flash Storage'\n",
      " '128GB SSD +  1TB HDD' '256GB SSD +  256GB SSD' '64GB Flash Storage'\n",
      " '256GB SSD +  1TB HDD' '256GB SSD +  2TB HDD' '32GB SSD' '2TB HDD'\n",
      " '64GB SSD' '1.0TB Hybrid' '512GB SSD +  1TB HDD' '1TB SSD'\n",
      " '256GB SSD +  500GB HDD' '128GB SSD +  2TB HDD' '512GB SSD +  512GB SSD'\n",
      " '16GB SSD' '16GB Flash Storage' '512GB SSD +  256GB SSD'\n",
      " '512GB SSD +  2TB HDD' '64GB Flash Storage +  1TB HDD' '180GB SSD'\n",
      " '1TB HDD +  1TB HDD' '32GB HDD' '1TB SSD +  1TB HDD'\n",
      " '512GB Flash Storage' '128GB HDD' '240GB SSD' '8GB SSD' '508GB Hybrid'\n",
      " '1.0TB HDD' '512GB SSD +  1.0TB Hybrid' '256GB SSD +  1.0TB Hybrid']  Unique values\n",
      "---------------------------------------------------------------------------\n",
      "The Gpu column has  ['Intel Iris Plus Graphics 640' 'Intel HD Graphics 6000'\n",
      " 'Intel HD Graphics 620' 'AMD Radeon Pro 455'\n",
      " 'Intel Iris Plus Graphics 650' 'AMD Radeon R5' 'Intel Iris Pro Graphics'\n",
      " 'Nvidia GeForce MX150' 'Intel UHD Graphics 620' 'Intel HD Graphics 520'\n",
      " 'AMD Radeon Pro 555' 'AMD Radeon R5 M430' 'Intel HD Graphics 615'\n",
      " 'AMD Radeon Pro 560' 'Nvidia GeForce 940MX' 'Intel HD Graphics 400'\n",
      " 'Nvidia GeForce GTX 1050' 'AMD Radeon R2' 'AMD Radeon 530'\n",
      " 'Nvidia GeForce 930MX' 'Intel HD Graphics' 'Intel HD Graphics 500'\n",
      " 'Nvidia GeForce 930MX ' 'Nvidia GeForce GTX 1060' 'Nvidia GeForce 150MX'\n",
      " 'Intel Iris Graphics 540' 'AMD Radeon RX 580' 'Nvidia GeForce 920MX'\n",
      " 'AMD Radeon R4 Graphics' 'AMD Radeon 520' 'Nvidia GeForce GTX 1070'\n",
      " 'Nvidia GeForce GTX 1050 Ti' 'Nvidia GeForce MX130' 'AMD R4 Graphics'\n",
      " 'Nvidia GeForce GTX 940MX' 'AMD Radeon RX 560' 'Nvidia GeForce 920M'\n",
      " 'AMD Radeon R7 M445' 'AMD Radeon RX 550' 'Nvidia GeForce GTX 1050M'\n",
      " 'Intel HD Graphics 515' 'AMD Radeon R5 M420' 'Intel HD Graphics 505'\n",
      " 'Nvidia GTX 980 SLI' 'AMD R17M-M1-70' 'Nvidia GeForce GTX 1080'\n",
      " 'Nvidia Quadro M1200' 'Nvidia GeForce 920MX ' 'Nvidia GeForce GTX 950M'\n",
      " 'AMD FirePro W4190M ' 'Nvidia GeForce GTX 980M' 'Intel Iris Graphics 550'\n",
      " 'Nvidia GeForce 930M' 'Intel HD Graphics 630' 'AMD Radeon R5 430'\n",
      " 'Nvidia GeForce GTX 940M' 'Intel HD Graphics 510' 'Intel HD Graphics 405'\n",
      " 'AMD Radeon RX 540' 'Nvidia GeForce GT 940MX' 'AMD FirePro W5130M'\n",
      " 'Nvidia Quadro M2200M' 'AMD Radeon R4' 'Nvidia Quadro M620'\n",
      " 'AMD Radeon R7 M460' 'Intel HD Graphics 530' 'Nvidia GeForce GTX 965M'\n",
      " 'Nvidia GeForce GTX1080' 'Nvidia GeForce GTX1050 Ti'\n",
      " 'Nvidia GeForce GTX 960M' 'AMD Radeon R2 Graphics' 'Nvidia Quadro M620M'\n",
      " 'Nvidia GeForce GTX 970M' 'Nvidia GeForce GTX 960<U+039C>'\n",
      " 'Intel Graphics 620' 'Nvidia GeForce GTX 960' 'AMD Radeon R5 520'\n",
      " 'AMD Radeon R7 M440' 'AMD Radeon R7' 'Nvidia Quadro M520M'\n",
      " 'Nvidia Quadro M2200' 'Nvidia Quadro M2000M' 'Intel HD Graphics 540'\n",
      " 'Nvidia Quadro M1000M' 'AMD Radeon 540' 'Nvidia GeForce GTX 1070M'\n",
      " 'Nvidia GeForce GTX1060' 'Intel HD Graphics 5300' 'AMD Radeon R5 M420X'\n",
      " 'AMD Radeon R7 Graphics' 'Nvidia GeForce 920' 'Nvidia GeForce 940M'\n",
      " 'Nvidia GeForce GTX 930MX' 'AMD Radeon R7 M465' 'AMD Radeon R3'\n",
      " 'Nvidia GeForce GTX 1050Ti' 'AMD Radeon R7 M365X' 'AMD Radeon R9 M385'\n",
      " 'Intel HD Graphics 620 ' 'Nvidia Quadro 3000M' 'Nvidia GeForce GTX 980 '\n",
      " 'AMD Radeon R5 M330' 'AMD FirePro W4190M' 'AMD FirePro W6150M'\n",
      " 'AMD Radeon R5 M315' 'Nvidia Quadro M500M' 'AMD Radeon R7 M360'\n",
      " 'Nvidia Quadro M3000M' 'Nvidia GeForce 960M' 'ARM Mali T860 MP4']  Unique values\n",
      "---------------------------------------------------------------------------\n",
      "The OpSys column has  ['macOS' 'No OS' 'Windows 10' 'Mac OS X' 'Linux' 'Android' 'Windows 10 S'\n",
      " 'Chrome OS' 'Windows 7']  Unique values\n",
      "---------------------------------------------------------------------------\n",
      "The Weight column has  ['1.37kg' '1.34kg' '1.86kg' '1.83kg' '2.1kg' '2.04kg' '1.3kg' '1.6kg'\n",
      " '2.2kg' '0.92kg' '1.22kg' '0.98kg' '2.5kg' '1.62kg' '1.91kg' '2.3kg'\n",
      " '1.35kg' '1.88kg' '1.89kg' '1.65kg' '2.71kg' '1.2kg' '1.44kg' '2.8kg'\n",
      " '2kg' '2.65kg' '2.77kg' '3.2kg' '0.69kg' '1.49kg' '2.4kg' '2.13kg'\n",
      " '2.43kg' '1.7kg' '1.4kg' '1.8kg' '1.9kg' '3kg' '1.252kg' '2.7kg' '2.02kg'\n",
      " '1.63kg' '1.96kg' '1.21kg' '2.45kg' '1.25kg' '1.5kg' '2.62kg' '1.38kg'\n",
      " '1.58kg' '1.85kg' '1.23kg' '1.26kg' '2.16kg' '2.36kg' '2.05kg' '1.32kg'\n",
      " '1.75kg' '0.97kg' '2.9kg' '2.56kg' '1.48kg' '1.74kg' '1.1kg' '1.56kg'\n",
      " '2.03kg' '1.05kg' '4.4kg' '1.90kg' '1.29kg' '2.0kg' '1.95kg' '2.06kg'\n",
      " '1.12kg' '1.42kg' '3.49kg' '3.35kg' '2.23kg' '4.42kg' '2.69kg' '2.37kg'\n",
      " '4.7kg' '3.6kg' '2.08kg' '4.3kg' '1.68kg' '1.41kg' '4.14kg' '2.18kg'\n",
      " '2.24kg' '2.67kg' '2.14kg' '1.36kg' '2.25kg' '2.15kg' '2.19kg' '2.54kg'\n",
      " '3.42kg' '1.28kg' '2.33kg' '1.45kg' '2.79kg' '1.84kg' '2.6kg' '2.26kg'\n",
      " '3.25kg' '1.59kg' '1.13kg' '1.78kg' '1.10kg' '1.15kg' '1.27kg' '1.43kg'\n",
      " '2.31kg' '1.16kg' '1.64kg' '2.17kg' '1.47kg' '3.78kg' '1.79kg' '0.91kg'\n",
      " '1.99kg' '4.33kg' '1.93kg' '1.87kg' '2.63kg' '3.4kg' '3.14kg' '1.94kg'\n",
      " '1.24kg' '4.6kg' '4.5kg' '2.73kg' '1.39kg' '2.29kg' '2.59kg' '2.94kg'\n",
      " '1.14kg' '3.8kg' '3.31kg' '1.09kg' '3.21kg' '1.19kg' '1.98kg' '1.17kg'\n",
      " '4.36kg' '1.71kg' '2.32kg' '4.2kg' '1.55kg' '0.81kg' '1.18kg' '2.72kg'\n",
      " '1.31kg' '0.920kg' '3.74kg' '1.76kg' '1.54kg' '2.83kg' '2.07kg' '2.38kg'\n",
      " '3.58kg' '1.08kg' '2.20kg' '2.75kg' '1.70kg' '2.99kg' '1.11kg' '2.09kg'\n",
      " '4kg' '3.0kg' '0.99kg' '3.52kg' '2.591kg' '2.21kg' '3.3kg' '2.191kg'\n",
      " '2.34kg' '4.0kg']  Unique values\n",
      "---------------------------------------------------------------------------\n",
      "The Price column has  [ 4068.584942   2730.044822   1746.252      7706.134152   5477.461056\n",
      "  1214.784      6499.003291   3518.925552   4540.2552     2338.4592\n",
      "  1196.258544   1047.72083    7410.091291   1515.139344   3833.858304\n",
      "  4611.775608   2262.5352     8679.63168    1515.44304    2973.18384\n",
      "   582.792624   3033.92304     783.53568    2487.27024    2001.35664\n",
      "  1271.392934   3337.61904    2429.568      3941.97408    2721.11616\n",
      "   744.0248304   604.35504    1333.22544    5676.07824    3030.88608\n",
      "   756.20304    1114.56432    1484.131982   2669.48784    1181.37744\n",
      "  4552.40304    1588.29971    2071.20672    4309.44624    1120.63824\n",
      "  3945.01104    1940.61744    1415.22336     968.79024    2554.08336\n",
      "  1210.19819    3349.76688    1166.19264    2331.777888   1780.235582\n",
      "  7437.51504    1260.3384     1819.13904    2857.77936    2095.5024\n",
      "  6022.29168    1332.283982    695.46384    1667.29104    2882.07504\n",
      "  3307.24944    2900.2968     2642.1552     3325.4712     1576.18224\n",
      "  2596.6008     1609.5888     2967.10992    3328.994074   4585.8096\n",
      "  2611.7856     1211.74704    1199.5992     4096.85904    2122.83504\n",
      "  1819.10867    4400.55504    5007.94704    2092.46544    3635.24112\n",
      "  3629.1672     3185.77104    2572.30512    1821.872304   1472.9256\n",
      "  1752.32592    3793.16304    2183.57424    1059.89904    1964.91312\n",
      "  3398.35824    4069.5264     1260.034704   3623.09328    4494.7008\n",
      "  3832.64352    4187.96784    4248.70704    2192.68512    4947.20784\n",
      "  4248.67667    3292.06464    3432.766997   1712.84544    3395.32128\n",
      "  1454.70384    6807.34584    1910.24784    3859.97616    1369.66896\n",
      "   786.57264    2466.01152     844.2445104  4239.59616    2818.29888\n",
      "  1940.58707    1363.59504    2684.67264    1737.14112    1816.10208\n",
      "  3000.51648     766.4072256  2848.66848    1989.2088     3389.308099\n",
      "  2639.11824    1828.24992    6116.43744    1044.71424    6161.99184\n",
      "  1357.52112    3793.95265    2730.22704    1512.40608    5739.8544\n",
      "  3285.99072    1879.87824    3993.6024     1223.89488    2444.7528\n",
      "  2210.90688    3276.87984    1056.86208    5463.49104    1103.96533\n",
      "  3220.66571    2593.56384    2289.86784     938.42064    1485.07344\n",
      "  2803.11408    1393.96464    8500.45104    2469.04848    5615.33904\n",
      "  2408.30928    3641.31504    4704.25104    7279.59312    2365.79184\n",
      "  3003.55344    3295.1016     8576.37504     789.6096     3036.656304\n",
      "  2119.79808    2548.00944    2775.78144   18522.41904    2912.44464\n",
      "  3173.6232     5603.1912     1497.22128    2253.42432    5311.64304\n",
      "  9277.9128     4245.67008    5919.03504    1813.06512    4273.00272\n",
      "  2830.082285   1788.76944    3131.10576    3489.46704    3884.27184\n",
      "  2057.084856   4139.37648    2411.34624    7459.806326   2526.75072\n",
      "  2608.77901    2335.42224    2705.93136    3853.90224    1211.71667\n",
      "  1002.1968     2608.74864    1184.4144    11813.7744     2569.26816\n",
      "  3477.3192     2699.85744    2991.4056     1697.66064    9107.84304\n",
      "  2049.948      6195.3984     1424.33424    2131.94592    1354.180464\n",
      "  3216.14064    7589.36304    5159.79504    3468.20832    1348.41024\n",
      "  1995.28272    1715.8824     2426.53104    1418.26032    3091.62528\n",
      "  2672.5248     5949.100944   2232.378187   2165.565067   2578.37904\n",
      "  1299.81888    2517.63984    1758.39984    2888.14896    3331.54512\n",
      "  3580.57584    2001.38701    3604.87152    5554.59984    2244.31344\n",
      "  8761.204426   4458.25728    1545.81264    6444.42912    1970.98704\n",
      "  3841.7544     1093.27523    5997.996      3167.54928    6374.57904\n",
      "   835.164      2563.19424    1396.697904   2976.2208     3923.75232\n",
      "  3322.43424    2739.33792     886.79232    3188.504304   4054.3416\n",
      "  8014.53744    2863.85328    4051.30464    3850.86528    3474.28224\n",
      "   835.1336304  3470.48604     834.860304   2174.46336    4795.35984\n",
      "  3428.72784     847.31184    4883.310202   1138.86       2013.50448\n",
      "  6157.193443   3960.19584    4279.07664    5279.056459   4260.85488\n",
      "  2948.584464    977.8707504  1692.710395   4333.74192    2869.9272\n",
      "  2456.90064    5314.68       1293.74496    6678.27504    2639.14861\n",
      "  1485.04307    1679.43888     868.57056    3617.01936    1225.41336\n",
      "  5026.1688     5311.339344   6930.34272    4157.59824    6483.9096\n",
      "  7619.73264    3155.40144    4831.80336    2107.61987    2365.397035\n",
      "  3734.124538   8236.23552    7972.02        929.30976    4643.51184\n",
      "  3475.80072    6830.12304    5688.22608    5305.56912    5102.0928\n",
      "  1242.11664     924.602472   5846.148      5900.81328    2396.19181\n",
      "  1818.835344   4555.44       1639.806552   3691.060445   5767.18704\n",
      "  3519.83664    3469.423104   6070.88304     908.05104     816.94224\n",
      "  3067.3296     7425.3672     5147.6472     1053.82512    7234.03872\n",
      "  2274.68304    4339.81584    1341.728928   6052.66128    3121.20527\n",
      "  7862.68944    4658.69664    4084.7112     6213.62016    1943.350704\n",
      "  1652.10624    1321.0776     6347.2464      923.23584    2305.05264\n",
      "  5642.67168    3504.65184    3872.124      5593.624776   2247.3504\n",
      "  7312.99968    4142.41344    5077.79712    1781.480736   2204.83296\n",
      "   755.899344   7100.41248    5460.45408    5922.072      3073.37315\n",
      "  4099.896      2729.923344   2766.67056    1032.5664     1879.84787\n",
      "  4856.09904     804.7944     3717.23904    1861.65648    4017.89808\n",
      "  2538.89856    3702.78311    4251.592152    744.0552     1583.683531\n",
      "  9013.69728    4567.58784    3886.488821   1776.6216     4181.89392\n",
      "  9149.661979   2421.702274   2234.807755   2423.49408    2142.57528\n",
      "  2384.0136     1404.138456   1205.67312    5250.90384    3392.25395\n",
      "  8196.75504    1652.561784   3887.3088      680.27904     774.4248\n",
      "  1727.726544   1876.537584   1913.2848     5967.6264     3006.5904\n",
      "  5651.75219    2520.6768     2080.3176     5663.9304     8087.42448\n",
      "  8287.86384    2274.71341    3062.834899   4668.991934    895.9032\n",
      "  7133.81904    4549.36608    5080.83408    1849.50864    5375.4192\n",
      "  1831.28688    1606.55184    6149.844      4476.47904    5071.7232\n",
      "  5354.16048    3702.05424    2030.147021    999.15984    1412.1864\n",
      "  6981.97104   14878.06704    2669.51821    1348.106544   1090.26864\n",
      "  3547.16928    1728.03024    4218.33744    6887.400106   1151.00784\n",
      "  3413.54304    4449.1464     2356.68096    2830.44672     725.83344\n",
      "  1421.29728    1940.64781    5527.2672     5770.224      4491.66384\n",
      "  2753.368675   5337.214243   7285.66704    3367.98864    1581.952464\n",
      "  7440.552      3550.20624    1366.632       832.12704    2790.96624\n",
      "  7893.05904    3683.83248    4810.54464    2153.20464    4403.288304\n",
      "  3619.448928   1108.186704   3231.32544    3446.9496     3632.20416\n",
      "  9558.436795   3732.42384    1272.48624    1624.7736     1636.92144\n",
      "  4515.261019   3820.49568    1251.22752    5672.585736   2484.081432\n",
      "  3140.21664    3929.82624    1503.2952     3030.582384   6228.80496\n",
      "  8545.2462     1860.472066   1657.177963    965.75328    5794.48931\n",
      "  7865.7264     2954.96208    2031.72624    5700.37392    1302.85584\n",
      "  1887.318792   2414.3832     5633.5608     1989.23917     905.01408\n",
      "  4332.709354   2602.887307   3644.352      5122.258214   2540.720736\n",
      " 11113.45142    4095.279821   1487.806704   1790.348659   5876.5176\n",
      "  1974.024      2915.4816     7346.40624    6360.851981   1247.583168\n",
      "  3665.61072    2019.5784     4661.7336    10018.93104    3421.773202\n",
      " 13329.21744    1442.556      3328.50816    2581.112304   4740.69456\n",
      "  8713.00787    3182.73408    5645.70864    4734.62064    1428.403766\n",
      "  3587.469739   3097.6992     3777.97824    7197.5952     1931.50656\n",
      "  8804.14704    1767.207024  10899.04205    7136.856      5357.19744\n",
      "  5742.89136    4066.48944     616.199184   5982.8112     3538.0584\n",
      "  7076.1168     2459.9376     6271.018704   2259.49824    2368.8288\n",
      "  5099.05584    7334.2584     2918.51856    2398.621378   1169.2296\n",
      "  7607.645539   2292.9048     3310.2864     5694.3        4124.19168\n",
      "  1078.1208    16700.24304    3601.83456    5010.984      8426.440325\n",
      "   987.012      1791.8064     9332.244014   2763.6336     2168.35907\n",
      "  5679.1152     1867.7304     3115.92096    6915.15792    2626.9704\n",
      "  5779.33488    2390.08752    7771.58064    2583.420394   3902.4936\n",
      "  3088.58832    6802.7904     5399.71488    3203.9928     4215.30048\n",
      "  2232.1656     5132.4624     2839.5576     2771.226      5162.832\n",
      "  2079.710208   1383.942672   4160.331504    901.97712    8044.90704\n",
      "  4479.516      2821.33584    2733.264      1864.69344    6113.704176\n",
      "  6222.73104    5961.52211    4503.81168    2396.16144    3659.5368\n",
      "  9414.576      3094.63187    2675.56176    3401.121874   2080.28723\n",
      "  3938.90675    5542.452      2216.677104   2150.349898    877.377744\n",
      "  3355.8408     5068.68624    1696.445856   4977.57744    8375.93568\n",
      "  4471.012512   5390.604      4433.9616     4522.00307    9578.57184\n",
      "  2353.644      5345.0496     3064.29264    5436.1584     2570.78664\n",
      "  1414.069315   2505.492      9563.38704    2110.6872     5961.491741\n",
      "  8503.488      3583.6128     6225.464304   3043.03392    2778.8184\n",
      "  2447.78976    3610.94544    5794.51968     821.8621152  3492.504\n",
      "  1154.0448     6344.20944    3826.5696     1661.21712    3340.62563\n",
      "  3186.56065    2077.28064    4673.88144    4828.7664     5731.381282\n",
      "  3674.7216     2338.42883    4525.0704     6769.38384    2417.38979\n",
      "  3600.103493   3177.996422   3219.1776     4932.02304    3279.9168\n",
      "  3732.39347    5238.756      3228.136632   3068.87845     640.191168\n",
      "  4327.668      3187.593216   3036.96       6387.759446   4461.29424\n",
      "  4694.046854   6954.60803     874.340784   7956.8352     6845.30784\n",
      "  2141.512344   5524.23024    3249.5472     3006.56003    5858.29584\n",
      "  4427.88768   12071.916      2423.52445    4036.11984    3948.048\n",
      "  1463.753981   5203.80059    1639.9584     2854.7424     9839.7504\n",
      "  1962.696139   2277.72       3131.07539    1175.30352    1195.01339\n",
      "  1050.75779    2485.296216   1940.010048   1518.48       3447.405144\n",
      "  3544.041211    634.72464    4291.528176   4589.423582   2633.04432\n",
      "  1208.71008    2335.877784   5979.77424    8351.60963    3125.03184\n",
      "  6760.27296    3985.97963     595.24416    4594.92048    1590.243365\n",
      "  5755.0392     6226.922045    844.27488    2283.79392    1870.76736\n",
      " 11994.16982    2380.97664    6595.426771   7410.1824     3470.637888\n",
      "  6975.745272   3067.025904   7103.44944    1029.52944    6835.225133\n",
      "  1454.369774   4533.573888   2394.61259    6198.43536    5372.38224\n",
      "  1448.59955    4221.3744     2062.09584    3963.2328     6539.698555\n",
      "  4971.50352    2523.71376    2718.10957    1011.30768    2760.59664\n",
      "  2098.53936    3531.98448    4030.04592    1117.60128    6529.464\n",
      "   826.05312    6222.427344   8139.0528     5919.00467     528.43104\n",
      "  3863.01312    4482.887026   5203.436155   4485.58992    1584.867946\n",
      " 10626.32304    1424.36461    4853.06208    1451.66688    6675.815102\n",
      "  2238.23952    1814.796187   1098.772128   4859.136      2657.34\n",
      "  7060.932      1740.17808    5506.00848     983.97504    3255.62112\n",
      "  1348.37987    1488.1104     2718.0792     2529.81805    2213.94384\n",
      "   877.68144    1670.29763    2447.75939    2187.583027   1937.58048\n",
      "  2320.23744  ]  Unique values\n",
      "---------------------------------------------------------------------------\n"
     ]
    }
   ],
   "source": [
    "for col in df.columns:\n",
    "    unique_values(col)\n",
    "    print('-' * 75)"
   ]
  },
  {
   "cell_type": "markdown",
   "id": "b37e5288",
   "metadata": {},
   "source": [
    "RAM, Memory & Weight could be converted to numeric values by removing the strings. This would be performed by executing the following steps below:"
   ]
  },
  {
   "cell_type": "code",
   "execution_count": 1190,
   "id": "3fcf0f7b",
   "metadata": {},
   "outputs": [
    {
     "data": {
      "text/html": [
       "<div>\n",
       "<style scoped>\n",
       "    .dataframe tbody tr th:only-of-type {\n",
       "        vertical-align: middle;\n",
       "    }\n",
       "\n",
       "    .dataframe tbody tr th {\n",
       "        vertical-align: top;\n",
       "    }\n",
       "\n",
       "    .dataframe thead th {\n",
       "        text-align: right;\n",
       "    }\n",
       "</style>\n",
       "<table border=\"1\" class=\"dataframe\">\n",
       "  <thead>\n",
       "    <tr style=\"text-align: right;\">\n",
       "      <th></th>\n",
       "      <th>Company</th>\n",
       "      <th>TypeName</th>\n",
       "      <th>Inches</th>\n",
       "      <th>ScreenResolution</th>\n",
       "      <th>Cpu</th>\n",
       "      <th>Ram</th>\n",
       "      <th>Memory</th>\n",
       "      <th>Gpu</th>\n",
       "      <th>OpSys</th>\n",
       "      <th>Weight</th>\n",
       "      <th>Price</th>\n",
       "    </tr>\n",
       "  </thead>\n",
       "  <tbody>\n",
       "    <tr>\n",
       "      <th>0</th>\n",
       "      <td>Apple</td>\n",
       "      <td>Ultrabook</td>\n",
       "      <td>13.3</td>\n",
       "      <td>IPS Panel Retina Display 2560x1600</td>\n",
       "      <td>Intel Core i5 2.3GHz</td>\n",
       "      <td>8</td>\n",
       "      <td>128GB SSD</td>\n",
       "      <td>Intel Iris Plus Graphics 640</td>\n",
       "      <td>macOS</td>\n",
       "      <td>1.37</td>\n",
       "      <td>4068.584942</td>\n",
       "    </tr>\n",
       "    <tr>\n",
       "      <th>1</th>\n",
       "      <td>Apple</td>\n",
       "      <td>Ultrabook</td>\n",
       "      <td>13.3</td>\n",
       "      <td>1440x900</td>\n",
       "      <td>Intel Core i5 1.8GHz</td>\n",
       "      <td>8</td>\n",
       "      <td>128GB Flash Storage</td>\n",
       "      <td>Intel HD Graphics 6000</td>\n",
       "      <td>macOS</td>\n",
       "      <td>1.34</td>\n",
       "      <td>2730.044822</td>\n",
       "    </tr>\n",
       "    <tr>\n",
       "      <th>2</th>\n",
       "      <td>HP</td>\n",
       "      <td>Notebook</td>\n",
       "      <td>15.6</td>\n",
       "      <td>Full HD 1920x1080</td>\n",
       "      <td>Intel Core i5 7200U 2.5GHz</td>\n",
       "      <td>8</td>\n",
       "      <td>256GB SSD</td>\n",
       "      <td>Intel HD Graphics 620</td>\n",
       "      <td>No OS</td>\n",
       "      <td>1.86</td>\n",
       "      <td>1746.252000</td>\n",
       "    </tr>\n",
       "    <tr>\n",
       "      <th>3</th>\n",
       "      <td>Apple</td>\n",
       "      <td>Ultrabook</td>\n",
       "      <td>15.4</td>\n",
       "      <td>IPS Panel Retina Display 2880x1800</td>\n",
       "      <td>Intel Core i7 2.7GHz</td>\n",
       "      <td>16</td>\n",
       "      <td>512GB SSD</td>\n",
       "      <td>AMD Radeon Pro 455</td>\n",
       "      <td>macOS</td>\n",
       "      <td>1.83</td>\n",
       "      <td>7706.134152</td>\n",
       "    </tr>\n",
       "    <tr>\n",
       "      <th>4</th>\n",
       "      <td>Apple</td>\n",
       "      <td>Ultrabook</td>\n",
       "      <td>13.3</td>\n",
       "      <td>IPS Panel Retina Display 2560x1600</td>\n",
       "      <td>Intel Core i5 3.1GHz</td>\n",
       "      <td>8</td>\n",
       "      <td>256GB SSD</td>\n",
       "      <td>Intel Iris Plus Graphics 650</td>\n",
       "      <td>macOS</td>\n",
       "      <td>1.37</td>\n",
       "      <td>5477.461056</td>\n",
       "    </tr>\n",
       "  </tbody>\n",
       "</table>\n",
       "</div>"
      ],
      "text/plain": [
       "  Company   TypeName  Inches                    ScreenResolution  \\\n",
       "0   Apple  Ultrabook    13.3  IPS Panel Retina Display 2560x1600   \n",
       "1   Apple  Ultrabook    13.3                            1440x900   \n",
       "2      HP   Notebook    15.6                   Full HD 1920x1080   \n",
       "3   Apple  Ultrabook    15.4  IPS Panel Retina Display 2880x1800   \n",
       "4   Apple  Ultrabook    13.3  IPS Panel Retina Display 2560x1600   \n",
       "\n",
       "                          Cpu  Ram               Memory  \\\n",
       "0        Intel Core i5 2.3GHz    8            128GB SSD   \n",
       "1        Intel Core i5 1.8GHz    8  128GB Flash Storage   \n",
       "2  Intel Core i5 7200U 2.5GHz    8            256GB SSD   \n",
       "3        Intel Core i7 2.7GHz   16            512GB SSD   \n",
       "4        Intel Core i5 3.1GHz    8            256GB SSD   \n",
       "\n",
       "                            Gpu  OpSys  Weight        Price  \n",
       "0  Intel Iris Plus Graphics 640  macOS    1.37  4068.584942  \n",
       "1        Intel HD Graphics 6000  macOS    1.34  2730.044822  \n",
       "2         Intel HD Graphics 620  No OS    1.86  1746.252000  \n",
       "3            AMD Radeon Pro 455  macOS    1.83  7706.134152  \n",
       "4  Intel Iris Plus Graphics 650  macOS    1.37  5477.461056  "
      ]
     },
     "execution_count": 1190,
     "metadata": {},
     "output_type": "execute_result"
    }
   ],
   "source": [
    "# Removing 'GB' from RAM column\n",
    "df['Ram'] = df['Ram'].astype(str).str.replace('GB','')\n",
    "\n",
    "# Converting RAM from String to Int\n",
    "df['Ram'] = df['Ram'].astype(int)\n",
    "\n",
    "# Removing 'kg' from Weight column\n",
    "df['Weight'] = df['Weight'].astype(str).str.replace('kg','')\n",
    "\n",
    "# Converting Weight from String to Float\n",
    "df['Weight'] = df['Weight'].astype(float)\n",
    "\n",
    "df.head()"
   ]
  },
  {
   "cell_type": "code",
   "execution_count": 1191,
   "id": "3fdd9f55",
   "metadata": {},
   "outputs": [
    {
     "name": "stdout",
     "output_type": "stream",
     "text": [
      "<class 'pandas.core.frame.DataFrame'>\n",
      "RangeIndex: 1303 entries, 0 to 1302\n",
      "Data columns (total 11 columns):\n",
      " #   Column            Non-Null Count  Dtype  \n",
      "---  ------            --------------  -----  \n",
      " 0   Company           1303 non-null   object \n",
      " 1   TypeName          1303 non-null   object \n",
      " 2   Inches            1303 non-null   float64\n",
      " 3   ScreenResolution  1303 non-null   object \n",
      " 4   Cpu               1303 non-null   object \n",
      " 5   Ram               1303 non-null   int32  \n",
      " 6   Memory            1303 non-null   object \n",
      " 7   Gpu               1303 non-null   object \n",
      " 8   OpSys             1303 non-null   object \n",
      " 9   Weight            1303 non-null   float64\n",
      " 10  Price             1303 non-null   float64\n",
      "dtypes: float64(3), int32(1), object(7)\n",
      "memory usage: 107.0+ KB\n"
     ]
    }
   ],
   "source": [
    "df.info()"
   ]
  },
  {
   "cell_type": "markdown",
   "id": "ab1b7a52",
   "metadata": {},
   "source": [
    "## Exploratory Data Analysis"
   ]
  },
  {
   "cell_type": "code",
   "execution_count": 1192,
   "id": "b5985d06",
   "metadata": {},
   "outputs": [
    {
     "name": "stderr",
     "output_type": "stream",
     "text": [
      "C:\\Users\\tuans\\anaconda3\\lib\\site-packages\\seaborn\\distributions.py:2557: FutureWarning: `distplot` is a deprecated function and will be removed in a future version. Please adapt your code to use either `displot` (a figure-level function with similar flexibility) or `histplot` (an axes-level function for histograms).\n",
      "  warnings.warn(msg, FutureWarning)\n"
     ]
    },
    {
     "data": {
      "text/plain": [
       "<AxesSubplot:xlabel='Price', ylabel='Density'>"
      ]
     },
     "execution_count": 1192,
     "metadata": {},
     "output_type": "execute_result"
    },
    {
     "data": {
      "image/png": "[encoded data removed]",
      "text/plain": [
       "<Figure size 432x288 with 1 Axes>"
      ]
     },
     "metadata": {
      "needs_background": "light"
     },
     "output_type": "display_data"
    }
   ],
   "source": [
    "# Checking the distribution of 'Price' column\n",
    "sn.distplot(df['Price'], color='red')"
   ]
  },
  {
   "cell_type": "code",
   "execution_count": 1193,
   "id": "c86fe39a",
   "metadata": {},
   "outputs": [],
   "source": [
    "# Function to plot countplots\n",
    "def draw_plot(col):\n",
    "    plt.figure(figsize=(15,7))\n",
    "    sn.countplot(df[col], palette='plasma')\n",
    "    plt.xticks(rotation='vertical')"
   ]
  },
  {
   "cell_type": "code",
   "execution_count": 1194,
   "id": "248f65d8",
   "metadata": {},
   "outputs": [
    {
     "name": "stderr",
     "output_type": "stream",
     "text": [
      "C:\\Users\\tuans\\anaconda3\\lib\\site-packages\\seaborn\\_decorators.py:36: FutureWarning: Pass the following variable as a keyword arg: x. From version 0.12, the only valid positional argument will be `data`, and passing other arguments without an explicit keyword will result in an error or misinterpretation.\n",
      "  warnings.warn(\n",
      "C:\\Users\\tuans\\anaconda3\\lib\\site-packages\\seaborn\\_decorators.py:36: FutureWarning: Pass the following variable as a keyword arg: x. From version 0.12, the only valid positional argument will be `data`, and passing other arguments without an explicit keyword will result in an error or misinterpretation.\n",
      "  warnings.warn(\n",
      "C:\\Users\\tuans\\anaconda3\\lib\\site-packages\\seaborn\\_decorators.py:36: FutureWarning: Pass the following variable as a keyword arg: x. From version 0.12, the only valid positional argument will be `data`, and passing other arguments without an explicit keyword will result in an error or misinterpretation.\n",
      "  warnings.warn(\n",
      "C:\\Users\\tuans\\anaconda3\\lib\\site-packages\\seaborn\\_decorators.py:36: FutureWarning: Pass the following variable as a keyword arg: x. From version 0.12, the only valid positional argument will be `data`, and passing other arguments without an explicit keyword will result in an error or misinterpretation.\n",
      "  warnings.warn(\n"
     ]
    },
    {
     "data": {
      "image/png": "[encoded data removed]",
      "text/plain": [
       "<Figure size 1080x504 with 1 Axes>"
      ]
     },
     "metadata": {
      "needs_background": "light"
     },
     "output_type": "display_data"
    },
    {
     "data": {
      "image/png": "[encoded data removed]",
      "text/plain": [
       "<Figure size 1080x504 with 1 Axes>"
      ]
     },
     "metadata": {
      "needs_background": "light"
     },
     "output_type": "display_data"
    },
    {
     "data": {
      "image/png": "[encoded data removed]",
      "text/plain": [
       "<Figure size 1080x504 with 1 Axes>"
      ]
     },
     "metadata": {
      "needs_background": "light"
     },
     "output_type": "display_data"
    },
    {
     "data": {
      "image/png": "[encoded data removed]",
      "text/plain": [
       "<Figure size 1080x504 with 1 Axes>"
      ]
     },
     "metadata": {
      "needs_background": "light"
     },
     "output_type": "display_data"
    }
   ],
   "source": [
    "# Plotting Countplots for Categorical Variables\n",
    "view_cat = ['Company', 'TypeName', 'Ram', 'OpSys']\n",
    "\n",
    "for col in view_cat:\n",
    "    draw_plot(col)"
   ]
  },
  {
   "cell_type": "markdown",
   "id": "09aa41f8",
   "metadata": {},
   "source": [
    "Based on the graphs plotted above, Dell, Lenovo, & HP are the most common laptop brands within the dataset. The most common type of laptops are Notebooks where the most frequently repeated RAM is 8GB and Operating System being Windows 10."
   ]
  },
  {
   "cell_type": "code",
   "execution_count": null,
   "id": "af873445",
   "metadata": {},
   "outputs": [],
   "source": []
  },
  {
   "cell_type": "code",
   "execution_count": 1195,
   "id": "e775a39a",
   "metadata": {},
   "outputs": [
    {
     "data": {
      "image/png": "[encoded data removed]",
      "text/plain": [
       "<Figure size 1080x504 with 1 Axes>"
      ]
     },
     "metadata": {
      "needs_background": "light"
     },
     "output_type": "display_data"
    }
   ],
   "source": [
    "# Identifying the Average Price of Laptops based on Brand\n",
    "plt.figure(figsize=(15,7))\n",
    "sn.barplot(x=df['Company'], y=df['Price'])\n",
    "plt.xticks(rotation='vertical')\n",
    "plt.show()"
   ]
  },
  {
   "cell_type": "markdown",
   "id": "ca96e557",
   "metadata": {},
   "source": [
    "The graph above allows us to get a better understanding of the average prices of the laptops based on the brand. The price range may vary based on specifications and demand."
   ]
  },
  {
   "cell_type": "code",
   "execution_count": null,
   "id": "ca7a6e77",
   "metadata": {},
   "outputs": [],
   "source": []
  },
  {
   "cell_type": "code",
   "execution_count": 1196,
   "id": "efe84a95",
   "metadata": {},
   "outputs": [
    {
     "name": "stderr",
     "output_type": "stream",
     "text": [
      "C:\\Users\\tuans\\anaconda3\\lib\\site-packages\\seaborn\\_decorators.py:36: FutureWarning: Pass the following variable as a keyword arg: x. From version 0.12, the only valid positional argument will be `data`, and passing other arguments without an explicit keyword will result in an error or misinterpretation.\n",
      "  warnings.warn(\n"
     ]
    },
    {
     "data": {
      "text/plain": [
       "<AxesSubplot:xlabel='TypeName', ylabel='count'>"
      ]
     },
     "execution_count": 1196,
     "metadata": {},
     "output_type": "execute_result"
    },
    {
     "data": {
      "image/png": "[encoded data removed]",
      "text/plain": [
       "<Figure size 1080x504 with 1 Axes>"
      ]
     },
     "metadata": {
      "needs_background": "light"
     },
     "output_type": "display_data"
    }
   ],
   "source": [
    "# Identifying the various types of laptops within the dataset\n",
    "plt.figure(figsize=(15,7))\n",
    "sn.countplot(df['TypeName'], palette='magma')"
   ]
  },
  {
   "cell_type": "code",
   "execution_count": 1197,
   "id": "392c20e7",
   "metadata": {},
   "outputs": [
    {
     "data": {
      "text/plain": [
       "<AxesSubplot:xlabel='TypeName', ylabel='Price'>"
      ]
     },
     "execution_count": 1197,
     "metadata": {},
     "output_type": "execute_result"
    },
    {
     "data": {
      "image/png": "[encoded data removed]",
      "text/plain": [
       "<Figure size 1080x504 with 1 Axes>"
      ]
     },
     "metadata": {
      "needs_background": "light"
     },
     "output_type": "display_data"
    }
   ],
   "source": [
    "# Identifying Laptop Price based on Type\n",
    "plt.figure(figsize=(15,7))\n",
    "sn.barplot(x=df['TypeName'], y=df['Price'], palette='Set3')"
   ]
  },
  {
   "cell_type": "code",
   "execution_count": 1198,
   "id": "a8063123",
   "metadata": {},
   "outputs": [
    {
     "data": {
      "text/plain": [
       "<AxesSubplot:xlabel='Inches', ylabel='Price'>"
      ]
     },
     "execution_count": 1198,
     "metadata": {},
     "output_type": "execute_result"
    },
    {
     "data": {
      "image/png": "[encoded data removed]",
      "text/plain": [
       "<Figure size 1080x720 with 1 Axes>"
      ]
     },
     "metadata": {
      "needs_background": "light"
     },
     "output_type": "display_data"
    }
   ],
   "source": [
    "# Identifying the Variation of Laptop Sizes based on Price\n",
    "plt.figure(figsize=(15,10))\n",
    "sn.scatterplot(x=df['Inches'], y=df['Price'])"
   ]
  },
  {
   "cell_type": "code",
   "execution_count": 1199,
   "id": "9432f5ba",
   "metadata": {},
   "outputs": [
    {
     "data": {
      "text/plain": [
       "Full HD 1920x1080                                507\n",
       "1366x768                                         281\n",
       "IPS Panel Full HD 1920x1080                      230\n",
       "IPS Panel Full HD / Touchscreen 1920x1080         53\n",
       "Full HD / Touchscreen 1920x1080                   47\n",
       "1600x900                                          23\n",
       "Touchscreen 1366x768                              16\n",
       "Quad HD+ / Touchscreen 3200x1800                  15\n",
       "IPS Panel 4K Ultra HD 3840x2160                   12\n",
       "IPS Panel 4K Ultra HD / Touchscreen 3840x2160     11\n",
       "4K Ultra HD / Touchscreen 3840x2160               10\n",
       "Touchscreen 2560x1440                              7\n",
       "4K Ultra HD 3840x2160                              7\n",
       "IPS Panel 1366x768                                 7\n",
       "IPS Panel Retina Display 2560x1600                 6\n",
       "IPS Panel Retina Display 2304x1440                 6\n",
       "IPS Panel Quad HD+ / Touchscreen 3200x1800         6\n",
       "Touchscreen 2256x1504                              6\n",
       "IPS Panel Touchscreen 2560x1440                    5\n",
       "1440x900                                           4\n",
       "IPS Panel 2560x1440                                4\n",
       "IPS Panel Touchscreen 1920x1200                    4\n",
       "IPS Panel Retina Display 2880x1800                 4\n",
       "1920x1080                                          3\n",
       "Touchscreen 2400x1600                              3\n",
       "IPS Panel Quad HD+ 2560x1440                       3\n",
       "IPS Panel Touchscreen 1366x768                     3\n",
       "Quad HD+ 3200x1800                                 3\n",
       "2560x1440                                          3\n",
       "IPS Panel Full HD 2160x1440                        2\n",
       "IPS Panel Touchscreen / 4K Ultra HD 3840x2160      2\n",
       "IPS Panel Quad HD+ 3200x1800                       2\n",
       "IPS Panel Full HD 1920x1200                        1\n",
       "IPS Panel Retina Display 2736x1824                 1\n",
       "IPS Panel Full HD 2560x1440                        1\n",
       "Touchscreen / 4K Ultra HD 3840x2160                1\n",
       "IPS Panel Touchscreen 2400x1600                    1\n",
       "Touchscreen / Quad HD+ 3200x1800                   1\n",
       "Touchscreen / Full HD 1920x1080                    1\n",
       "IPS Panel Full HD 1366x768                         1\n",
       "Name: ScreenResolution, dtype: int64"
      ]
     },
     "execution_count": 1199,
     "metadata": {},
     "output_type": "execute_result"
    }
   ],
   "source": [
    "# Identifying the number of laptops with each Screen Resolution\n",
    "df['ScreenResolution'].value_counts()"
   ]
  },
  {
   "cell_type": "code",
   "execution_count": 1200,
   "id": "f9838789",
   "metadata": {},
   "outputs": [
    {
     "data": {
      "text/html": [
       "<div>\n",
       "<style scoped>\n",
       "    .dataframe tbody tr th:only-of-type {\n",
       "        vertical-align: middle;\n",
       "    }\n",
       "\n",
       "    .dataframe tbody tr th {\n",
       "        vertical-align: top;\n",
       "    }\n",
       "\n",
       "    .dataframe thead th {\n",
       "        text-align: right;\n",
       "    }\n",
       "</style>\n",
       "<table border=\"1\" class=\"dataframe\">\n",
       "  <thead>\n",
       "    <tr style=\"text-align: right;\">\n",
       "      <th></th>\n",
       "      <th>Company</th>\n",
       "      <th>TypeName</th>\n",
       "      <th>Inches</th>\n",
       "      <th>ScreenResolution</th>\n",
       "      <th>Cpu</th>\n",
       "      <th>Ram</th>\n",
       "      <th>Memory</th>\n",
       "      <th>Gpu</th>\n",
       "      <th>OpSys</th>\n",
       "      <th>Weight</th>\n",
       "      <th>Price</th>\n",
       "      <th>TouchScreen</th>\n",
       "    </tr>\n",
       "  </thead>\n",
       "  <tbody>\n",
       "    <tr>\n",
       "      <th>0</th>\n",
       "      <td>Apple</td>\n",
       "      <td>Ultrabook</td>\n",
       "      <td>13.3</td>\n",
       "      <td>IPS Panel Retina Display 2560x1600</td>\n",
       "      <td>Intel Core i5 2.3GHz</td>\n",
       "      <td>8</td>\n",
       "      <td>128GB SSD</td>\n",
       "      <td>Intel Iris Plus Graphics 640</td>\n",
       "      <td>macOS</td>\n",
       "      <td>1.37</td>\n",
       "      <td>4068.584942</td>\n",
       "      <td>0</td>\n",
       "    </tr>\n",
       "    <tr>\n",
       "      <th>1</th>\n",
       "      <td>Apple</td>\n",
       "      <td>Ultrabook</td>\n",
       "      <td>13.3</td>\n",
       "      <td>1440x900</td>\n",
       "      <td>Intel Core i5 1.8GHz</td>\n",
       "      <td>8</td>\n",
       "      <td>128GB Flash Storage</td>\n",
       "      <td>Intel HD Graphics 6000</td>\n",
       "      <td>macOS</td>\n",
       "      <td>1.34</td>\n",
       "      <td>2730.044822</td>\n",
       "      <td>0</td>\n",
       "    </tr>\n",
       "    <tr>\n",
       "      <th>2</th>\n",
       "      <td>HP</td>\n",
       "      <td>Notebook</td>\n",
       "      <td>15.6</td>\n",
       "      <td>Full HD 1920x1080</td>\n",
       "      <td>Intel Core i5 7200U 2.5GHz</td>\n",
       "      <td>8</td>\n",
       "      <td>256GB SSD</td>\n",
       "      <td>Intel HD Graphics 620</td>\n",
       "      <td>No OS</td>\n",
       "      <td>1.86</td>\n",
       "      <td>1746.252000</td>\n",
       "      <td>0</td>\n",
       "    </tr>\n",
       "    <tr>\n",
       "      <th>3</th>\n",
       "      <td>Apple</td>\n",
       "      <td>Ultrabook</td>\n",
       "      <td>15.4</td>\n",
       "      <td>IPS Panel Retina Display 2880x1800</td>\n",
       "      <td>Intel Core i7 2.7GHz</td>\n",
       "      <td>16</td>\n",
       "      <td>512GB SSD</td>\n",
       "      <td>AMD Radeon Pro 455</td>\n",
       "      <td>macOS</td>\n",
       "      <td>1.83</td>\n",
       "      <td>7706.134152</td>\n",
       "      <td>0</td>\n",
       "    </tr>\n",
       "    <tr>\n",
       "      <th>4</th>\n",
       "      <td>Apple</td>\n",
       "      <td>Ultrabook</td>\n",
       "      <td>13.3</td>\n",
       "      <td>IPS Panel Retina Display 2560x1600</td>\n",
       "      <td>Intel Core i5 3.1GHz</td>\n",
       "      <td>8</td>\n",
       "      <td>256GB SSD</td>\n",
       "      <td>Intel Iris Plus Graphics 650</td>\n",
       "      <td>macOS</td>\n",
       "      <td>1.37</td>\n",
       "      <td>5477.461056</td>\n",
       "      <td>0</td>\n",
       "    </tr>\n",
       "  </tbody>\n",
       "</table>\n",
       "</div>"
      ],
      "text/plain": [
       "  Company   TypeName  Inches                    ScreenResolution  \\\n",
       "0   Apple  Ultrabook    13.3  IPS Panel Retina Display 2560x1600   \n",
       "1   Apple  Ultrabook    13.3                            1440x900   \n",
       "2      HP   Notebook    15.6                   Full HD 1920x1080   \n",
       "3   Apple  Ultrabook    15.4  IPS Panel Retina Display 2880x1800   \n",
       "4   Apple  Ultrabook    13.3  IPS Panel Retina Display 2560x1600   \n",
       "\n",
       "                          Cpu  Ram               Memory  \\\n",
       "0        Intel Core i5 2.3GHz    8            128GB SSD   \n",
       "1        Intel Core i5 1.8GHz    8  128GB Flash Storage   \n",
       "2  Intel Core i5 7200U 2.5GHz    8            256GB SSD   \n",
       "3        Intel Core i7 2.7GHz   16            512GB SSD   \n",
       "4        Intel Core i5 3.1GHz    8            256GB SSD   \n",
       "\n",
       "                            Gpu  OpSys  Weight        Price  TouchScreen  \n",
       "0  Intel Iris Plus Graphics 640  macOS    1.37  4068.584942            0  \n",
       "1        Intel HD Graphics 6000  macOS    1.34  2730.044822            0  \n",
       "2         Intel HD Graphics 620  No OS    1.86  1746.252000            0  \n",
       "3            AMD Radeon Pro 455  macOS    1.83  7706.134152            0  \n",
       "4  Intel Iris Plus Graphics 650  macOS    1.37  5477.461056            0  "
      ]
     },
     "execution_count": 1200,
     "metadata": {},
     "output_type": "execute_result"
    }
   ],
   "source": [
    "# Creating 'TouchScreen' Column with 1 if Touchscreen and 0 if Not Touchscreen\n",
    "df['TouchScreen'] = df['ScreenResolution'].apply(lambda element:1\n",
    "                                                if 'Touchscreen' in element else 0)\n",
    "\n",
    "df.head()"
   ]
  },
  {
   "cell_type": "code",
   "execution_count": 1201,
   "id": "1de5f3ee",
   "metadata": {},
   "outputs": [
    {
     "data": {
      "text/html": [
       "<div>\n",
       "<style scoped>\n",
       "    .dataframe tbody tr th:only-of-type {\n",
       "        vertical-align: middle;\n",
       "    }\n",
       "\n",
       "    .dataframe tbody tr th {\n",
       "        vertical-align: top;\n",
       "    }\n",
       "\n",
       "    .dataframe thead th {\n",
       "        text-align: right;\n",
       "    }\n",
       "</style>\n",
       "<table border=\"1\" class=\"dataframe\">\n",
       "  <thead>\n",
       "    <tr style=\"text-align: right;\">\n",
       "      <th></th>\n",
       "      <th>Company</th>\n",
       "      <th>TypeName</th>\n",
       "      <th>Inches</th>\n",
       "      <th>ScreenResolution</th>\n",
       "      <th>Cpu</th>\n",
       "      <th>Ram</th>\n",
       "      <th>Memory</th>\n",
       "      <th>Gpu</th>\n",
       "      <th>OpSys</th>\n",
       "      <th>Weight</th>\n",
       "      <th>Price</th>\n",
       "      <th>TouchScreen</th>\n",
       "    </tr>\n",
       "  </thead>\n",
       "  <tbody>\n",
       "    <tr>\n",
       "      <th>1298</th>\n",
       "      <td>Lenovo</td>\n",
       "      <td>2 in 1 Convertible</td>\n",
       "      <td>14.0</td>\n",
       "      <td>IPS Panel Full HD / Touchscreen 1920x1080</td>\n",
       "      <td>Intel Core i7 6500U 2.5GHz</td>\n",
       "      <td>4</td>\n",
       "      <td>128GB SSD</td>\n",
       "      <td>Intel HD Graphics 520</td>\n",
       "      <td>Windows 10</td>\n",
       "      <td>1.80</td>\n",
       "      <td>1937.58048</td>\n",
       "      <td>1</td>\n",
       "    </tr>\n",
       "    <tr>\n",
       "      <th>1299</th>\n",
       "      <td>Lenovo</td>\n",
       "      <td>2 in 1 Convertible</td>\n",
       "      <td>13.3</td>\n",
       "      <td>IPS Panel Quad HD+ / Touchscreen 3200x1800</td>\n",
       "      <td>Intel Core i7 6500U 2.5GHz</td>\n",
       "      <td>16</td>\n",
       "      <td>512GB SSD</td>\n",
       "      <td>Intel HD Graphics 520</td>\n",
       "      <td>Windows 10</td>\n",
       "      <td>1.30</td>\n",
       "      <td>4552.40304</td>\n",
       "      <td>1</td>\n",
       "    </tr>\n",
       "    <tr>\n",
       "      <th>1300</th>\n",
       "      <td>Lenovo</td>\n",
       "      <td>Notebook</td>\n",
       "      <td>14.0</td>\n",
       "      <td>1366x768</td>\n",
       "      <td>Intel Celeron Dual Core N3050 1.6GHz</td>\n",
       "      <td>2</td>\n",
       "      <td>64GB Flash Storage</td>\n",
       "      <td>Intel HD Graphics</td>\n",
       "      <td>Windows 10</td>\n",
       "      <td>1.50</td>\n",
       "      <td>695.46384</td>\n",
       "      <td>0</td>\n",
       "    </tr>\n",
       "    <tr>\n",
       "      <th>1301</th>\n",
       "      <td>HP</td>\n",
       "      <td>Notebook</td>\n",
       "      <td>15.6</td>\n",
       "      <td>1366x768</td>\n",
       "      <td>Intel Core i7 6500U 2.5GHz</td>\n",
       "      <td>6</td>\n",
       "      <td>1TB HDD</td>\n",
       "      <td>AMD Radeon R5 M330</td>\n",
       "      <td>Windows 10</td>\n",
       "      <td>2.19</td>\n",
       "      <td>2320.23744</td>\n",
       "      <td>0</td>\n",
       "    </tr>\n",
       "    <tr>\n",
       "      <th>1302</th>\n",
       "      <td>Asus</td>\n",
       "      <td>Notebook</td>\n",
       "      <td>15.6</td>\n",
       "      <td>1366x768</td>\n",
       "      <td>Intel Celeron Dual Core N3050 1.6GHz</td>\n",
       "      <td>4</td>\n",
       "      <td>500GB HDD</td>\n",
       "      <td>Intel HD Graphics</td>\n",
       "      <td>Windows 10</td>\n",
       "      <td>2.20</td>\n",
       "      <td>1120.63824</td>\n",
       "      <td>0</td>\n",
       "    </tr>\n",
       "  </tbody>\n",
       "</table>\n",
       "</div>"
      ],
      "text/plain": [
       "     Company            TypeName  Inches  \\\n",
       "1298  Lenovo  2 in 1 Convertible    14.0   \n",
       "1299  Lenovo  2 in 1 Convertible    13.3   \n",
       "1300  Lenovo            Notebook    14.0   \n",
       "1301      HP            Notebook    15.6   \n",
       "1302    Asus            Notebook    15.6   \n",
       "\n",
       "                                ScreenResolution  \\\n",
       "1298   IPS Panel Full HD / Touchscreen 1920x1080   \n",
       "1299  IPS Panel Quad HD+ / Touchscreen 3200x1800   \n",
       "1300                                    1366x768   \n",
       "1301                                    1366x768   \n",
       "1302                                    1366x768   \n",
       "\n",
       "                                       Cpu  Ram              Memory  \\\n",
       "1298            Intel Core i7 6500U 2.5GHz    4           128GB SSD   \n",
       "1299            Intel Core i7 6500U 2.5GHz   16           512GB SSD   \n",
       "1300  Intel Celeron Dual Core N3050 1.6GHz    2  64GB Flash Storage   \n",
       "1301            Intel Core i7 6500U 2.5GHz    6             1TB HDD   \n",
       "1302  Intel Celeron Dual Core N3050 1.6GHz    4           500GB HDD   \n",
       "\n",
       "                        Gpu       OpSys  Weight       Price  TouchScreen  \n",
       "1298  Intel HD Graphics 520  Windows 10    1.80  1937.58048            1  \n",
       "1299  Intel HD Graphics 520  Windows 10    1.30  4552.40304            1  \n",
       "1300      Intel HD Graphics  Windows 10    1.50   695.46384            0  \n",
       "1301     AMD Radeon R5 M330  Windows 10    2.19  2320.23744            0  \n",
       "1302      Intel HD Graphics  Windows 10    2.20  1120.63824            0  "
      ]
     },
     "execution_count": 1201,
     "metadata": {},
     "output_type": "execute_result"
    }
   ],
   "source": [
    "df.tail()"
   ]
  },
  {
   "cell_type": "code",
   "execution_count": 1202,
   "id": "d0add3f0",
   "metadata": {},
   "outputs": [
    {
     "data": {
      "text/html": [
       "<div>\n",
       "<style scoped>\n",
       "    .dataframe tbody tr th:only-of-type {\n",
       "        vertical-align: middle;\n",
       "    }\n",
       "\n",
       "    .dataframe tbody tr th {\n",
       "        vertical-align: top;\n",
       "    }\n",
       "\n",
       "    .dataframe thead th {\n",
       "        text-align: right;\n",
       "    }\n",
       "</style>\n",
       "<table border=\"1\" class=\"dataframe\">\n",
       "  <thead>\n",
       "    <tr style=\"text-align: right;\">\n",
       "      <th></th>\n",
       "      <th>Company</th>\n",
       "      <th>TypeName</th>\n",
       "      <th>Inches</th>\n",
       "      <th>ScreenResolution</th>\n",
       "      <th>Cpu</th>\n",
       "      <th>Ram</th>\n",
       "      <th>Memory</th>\n",
       "      <th>Gpu</th>\n",
       "      <th>OpSys</th>\n",
       "      <th>Weight</th>\n",
       "      <th>Price</th>\n",
       "      <th>TouchScreen</th>\n",
       "    </tr>\n",
       "  </thead>\n",
       "  <tbody>\n",
       "    <tr>\n",
       "      <th>721</th>\n",
       "      <td>HP</td>\n",
       "      <td>2 in 1 Convertible</td>\n",
       "      <td>13.3</td>\n",
       "      <td>IPS Panel Touchscreen 1366x768</td>\n",
       "      <td>Intel Core i5 7200U 2.5GHz</td>\n",
       "      <td>8</td>\n",
       "      <td>256GB SSD</td>\n",
       "      <td>Intel HD Graphics 620</td>\n",
       "      <td>Windows 10</td>\n",
       "      <td>1.58</td>\n",
       "      <td>2540.720736</td>\n",
       "      <td>1</td>\n",
       "    </tr>\n",
       "    <tr>\n",
       "      <th>905</th>\n",
       "      <td>LG</td>\n",
       "      <td>Ultrabook</td>\n",
       "      <td>15.6</td>\n",
       "      <td>IPS Panel Full HD / Touchscreen 1920x1080</td>\n",
       "      <td>Intel Core i7 7500U 2.7GHz</td>\n",
       "      <td>16</td>\n",
       "      <td>512GB SSD</td>\n",
       "      <td>Intel HD Graphics 620</td>\n",
       "      <td>Windows 10</td>\n",
       "      <td>1.08</td>\n",
       "      <td>6374.579040</td>\n",
       "      <td>1</td>\n",
       "    </tr>\n",
       "    <tr>\n",
       "      <th>852</th>\n",
       "      <td>Dell</td>\n",
       "      <td>Notebook</td>\n",
       "      <td>17.3</td>\n",
       "      <td>Full HD 1920x1080</td>\n",
       "      <td>Intel Core i7 7500U 2.7GHz</td>\n",
       "      <td>8</td>\n",
       "      <td>1TB HDD</td>\n",
       "      <td>AMD Radeon R7 M445</td>\n",
       "      <td>Linux</td>\n",
       "      <td>2.83</td>\n",
       "      <td>2626.970400</td>\n",
       "      <td>0</td>\n",
       "    </tr>\n",
       "    <tr>\n",
       "      <th>186</th>\n",
       "      <td>Dell</td>\n",
       "      <td>Notebook</td>\n",
       "      <td>15.6</td>\n",
       "      <td>4K Ultra HD / Touchscreen 3840x2160</td>\n",
       "      <td>Intel Core i7 7700HQ 2.8GHz</td>\n",
       "      <td>16</td>\n",
       "      <td>512GB SSD</td>\n",
       "      <td>Nvidia GeForce GTX 1050</td>\n",
       "      <td>Windows 10</td>\n",
       "      <td>2.06</td>\n",
       "      <td>7279.593120</td>\n",
       "      <td>1</td>\n",
       "    </tr>\n",
       "    <tr>\n",
       "      <th>556</th>\n",
       "      <td>Mediacom</td>\n",
       "      <td>Notebook</td>\n",
       "      <td>13.3</td>\n",
       "      <td>IPS Panel Full HD 1920x1080</td>\n",
       "      <td>Intel Atom x5-Z8350 1.44GHz</td>\n",
       "      <td>4</td>\n",
       "      <td>32GB Flash Storage</td>\n",
       "      <td>Intel HD Graphics</td>\n",
       "      <td>Windows 10</td>\n",
       "      <td>1.35</td>\n",
       "      <td>774.424800</td>\n",
       "      <td>0</td>\n",
       "    </tr>\n",
       "  </tbody>\n",
       "</table>\n",
       "</div>"
      ],
      "text/plain": [
       "      Company            TypeName  Inches  \\\n",
       "721        HP  2 in 1 Convertible    13.3   \n",
       "905        LG           Ultrabook    15.6   \n",
       "852      Dell            Notebook    17.3   \n",
       "186      Dell            Notebook    15.6   \n",
       "556  Mediacom            Notebook    13.3   \n",
       "\n",
       "                              ScreenResolution                          Cpu  \\\n",
       "721             IPS Panel Touchscreen 1366x768   Intel Core i5 7200U 2.5GHz   \n",
       "905  IPS Panel Full HD / Touchscreen 1920x1080   Intel Core i7 7500U 2.7GHz   \n",
       "852                          Full HD 1920x1080   Intel Core i7 7500U 2.7GHz   \n",
       "186        4K Ultra HD / Touchscreen 3840x2160  Intel Core i7 7700HQ 2.8GHz   \n",
       "556                IPS Panel Full HD 1920x1080  Intel Atom x5-Z8350 1.44GHz   \n",
       "\n",
       "     Ram              Memory                      Gpu       OpSys  Weight  \\\n",
       "721    8           256GB SSD    Intel HD Graphics 620  Windows 10    1.58   \n",
       "905   16           512GB SSD    Intel HD Graphics 620  Windows 10    1.08   \n",
       "852    8             1TB HDD       AMD Radeon R7 M445       Linux    2.83   \n",
       "186   16           512GB SSD  Nvidia GeForce GTX 1050  Windows 10    2.06   \n",
       "556    4  32GB Flash Storage        Intel HD Graphics  Windows 10    1.35   \n",
       "\n",
       "           Price  TouchScreen  \n",
       "721  2540.720736            1  \n",
       "905  6374.579040            1  \n",
       "852  2626.970400            0  \n",
       "186  7279.593120            1  \n",
       "556   774.424800            0  "
      ]
     },
     "execution_count": 1202,
     "metadata": {},
     "output_type": "execute_result"
    }
   ],
   "source": [
    "df.sample(5)"
   ]
  },
  {
   "cell_type": "code",
   "execution_count": null,
   "id": "e7cbfaaa",
   "metadata": {},
   "outputs": [],
   "source": []
  },
  {
   "cell_type": "code",
   "execution_count": 1203,
   "id": "26a67474",
   "metadata": {},
   "outputs": [
    {
     "name": "stderr",
     "output_type": "stream",
     "text": [
      "C:\\Users\\tuans\\anaconda3\\lib\\site-packages\\seaborn\\_decorators.py:36: FutureWarning: Pass the following variable as a keyword arg: x. From version 0.12, the only valid positional argument will be `data`, and passing other arguments without an explicit keyword will result in an error or misinterpretation.\n",
      "  warnings.warn(\n"
     ]
    },
    {
     "data": {
      "text/plain": [
       "<AxesSubplot:xlabel='TouchScreen', ylabel='count'>"
      ]
     },
     "execution_count": 1203,
     "metadata": {},
     "output_type": "execute_result"
    },
    {
     "data": {
      "image/png": "[encoded data removed]",
      "text/plain": [
       "<Figure size 432x288 with 1 Axes>"
      ]
     },
     "metadata": {
      "needs_background": "light"
     },
     "output_type": "display_data"
    }
   ],
   "source": [
    "# Identifying number of touchscreen laptops\n",
    "sn.countplot(df['TouchScreen'], palette='cool')"
   ]
  },
  {
   "cell_type": "markdown",
   "id": "d46a357d",
   "metadata": {},
   "source": [
    "As illustrated above, about 200 of the laptops within the dataset is Touchscreen."
   ]
  },
  {
   "cell_type": "code",
   "execution_count": 1204,
   "id": "314da813",
   "metadata": {},
   "outputs": [
    {
     "data": {
      "text/plain": [
       "<AxesSubplot:xlabel='TouchScreen', ylabel='Price'>"
      ]
     },
     "execution_count": 1204,
     "metadata": {},
     "output_type": "execute_result"
    },
    {
     "data": {
      "image/png": "[encoded data removed]",
      "text/plain": [
       "<Figure size 432x288 with 1 Axes>"
      ]
     },
     "metadata": {
      "needs_background": "light"
     },
     "output_type": "display_data"
    }
   ],
   "source": [
    "# Identifying price of touchscreen and non-touchscreen laptops\n",
    "sn.barplot(x=df['TouchScreen'], y=df['Price'], palette='cool')"
   ]
  },
  {
   "cell_type": "markdown",
   "id": "ddc4bd26",
   "metadata": {},
   "source": [
    "As shown above, the prices for Touchscreen laptops is over 4000RM which is significantly higher than laptops without touchscreen feature at around 3200RM."
   ]
  },
  {
   "cell_type": "code",
   "execution_count": 1205,
   "id": "f1db4a93",
   "metadata": {},
   "outputs": [
    {
     "data": {
      "text/html": [
       "<div>\n",
       "<style scoped>\n",
       "    .dataframe tbody tr th:only-of-type {\n",
       "        vertical-align: middle;\n",
       "    }\n",
       "\n",
       "    .dataframe tbody tr th {\n",
       "        vertical-align: top;\n",
       "    }\n",
       "\n",
       "    .dataframe thead th {\n",
       "        text-align: right;\n",
       "    }\n",
       "</style>\n",
       "<table border=\"1\" class=\"dataframe\">\n",
       "  <thead>\n",
       "    <tr style=\"text-align: right;\">\n",
       "      <th></th>\n",
       "      <th>Company</th>\n",
       "      <th>TypeName</th>\n",
       "      <th>Inches</th>\n",
       "      <th>ScreenResolution</th>\n",
       "      <th>Cpu</th>\n",
       "      <th>Ram</th>\n",
       "      <th>Memory</th>\n",
       "      <th>Gpu</th>\n",
       "      <th>OpSys</th>\n",
       "      <th>Weight</th>\n",
       "      <th>Price</th>\n",
       "      <th>TouchScreen</th>\n",
       "      <th>IPS</th>\n",
       "    </tr>\n",
       "  </thead>\n",
       "  <tbody>\n",
       "    <tr>\n",
       "      <th>265</th>\n",
       "      <td>Dell</td>\n",
       "      <td>2 in 1 Convertible</td>\n",
       "      <td>15.6</td>\n",
       "      <td>Full HD / Touchscreen 1920x1080</td>\n",
       "      <td>Intel Core i5 8250U 1.6GHz</td>\n",
       "      <td>8</td>\n",
       "      <td>256GB SSD</td>\n",
       "      <td>Intel UHD Graphics 620</td>\n",
       "      <td>Windows 10</td>\n",
       "      <td>2.67</td>\n",
       "      <td>2426.531040</td>\n",
       "      <td>1</td>\n",
       "      <td>0</td>\n",
       "    </tr>\n",
       "    <tr>\n",
       "      <th>95</th>\n",
       "      <td>Acer</td>\n",
       "      <td>2 in 1 Convertible</td>\n",
       "      <td>13.3</td>\n",
       "      <td>IPS Panel Full HD / Touchscreen 1920x1080</td>\n",
       "      <td>Intel Core i5 8250U 1.6GHz</td>\n",
       "      <td>8</td>\n",
       "      <td>256GB SSD</td>\n",
       "      <td>Intel UHD Graphics 620</td>\n",
       "      <td>Windows 10</td>\n",
       "      <td>1.50</td>\n",
       "      <td>2572.305120</td>\n",
       "      <td>1</td>\n",
       "      <td>1</td>\n",
       "    </tr>\n",
       "    <tr>\n",
       "      <th>127</th>\n",
       "      <td>Asus</td>\n",
       "      <td>Notebook</td>\n",
       "      <td>14.0</td>\n",
       "      <td>1366x768</td>\n",
       "      <td>AMD E-Series 6110 1.5GHz</td>\n",
       "      <td>4</td>\n",
       "      <td>64GB SSD</td>\n",
       "      <td>AMD Radeon R2</td>\n",
       "      <td>Windows 10 S</td>\n",
       "      <td>1.65</td>\n",
       "      <td>844.244510</td>\n",
       "      <td>0</td>\n",
       "      <td>0</td>\n",
       "    </tr>\n",
       "    <tr>\n",
       "      <th>818</th>\n",
       "      <td>Dell</td>\n",
       "      <td>Gaming</td>\n",
       "      <td>17.3</td>\n",
       "      <td>IPS Panel Full HD 1920x1080</td>\n",
       "      <td>Intel Core i7 7700HQ 2.8GHz</td>\n",
       "      <td>16</td>\n",
       "      <td>128GB SSD +  1TB HDD</td>\n",
       "      <td>Nvidia GeForce GTX 1060</td>\n",
       "      <td>Windows 10</td>\n",
       "      <td>4.36</td>\n",
       "      <td>7607.645539</td>\n",
       "      <td>0</td>\n",
       "      <td>1</td>\n",
       "    </tr>\n",
       "    <tr>\n",
       "      <th>26</th>\n",
       "      <td>Apple</td>\n",
       "      <td>Ultrabook</td>\n",
       "      <td>13.3</td>\n",
       "      <td>1440x900</td>\n",
       "      <td>Intel Core i5 1.6GHz</td>\n",
       "      <td>8</td>\n",
       "      <td>128GB Flash Storage</td>\n",
       "      <td>Intel HD Graphics 6000</td>\n",
       "      <td>Mac OS X</td>\n",
       "      <td>1.35</td>\n",
       "      <td>3337.619040</td>\n",
       "      <td>0</td>\n",
       "      <td>0</td>\n",
       "    </tr>\n",
       "  </tbody>\n",
       "</table>\n",
       "</div>"
      ],
      "text/plain": [
       "    Company            TypeName  Inches  \\\n",
       "265    Dell  2 in 1 Convertible    15.6   \n",
       "95     Acer  2 in 1 Convertible    13.3   \n",
       "127    Asus            Notebook    14.0   \n",
       "818    Dell              Gaming    17.3   \n",
       "26    Apple           Ultrabook    13.3   \n",
       "\n",
       "                              ScreenResolution                          Cpu  \\\n",
       "265            Full HD / Touchscreen 1920x1080   Intel Core i5 8250U 1.6GHz   \n",
       "95   IPS Panel Full HD / Touchscreen 1920x1080   Intel Core i5 8250U 1.6GHz   \n",
       "127                                   1366x768     AMD E-Series 6110 1.5GHz   \n",
       "818                IPS Panel Full HD 1920x1080  Intel Core i7 7700HQ 2.8GHz   \n",
       "26                                    1440x900         Intel Core i5 1.6GHz   \n",
       "\n",
       "     Ram                Memory                      Gpu         OpSys  Weight  \\\n",
       "265    8             256GB SSD   Intel UHD Graphics 620    Windows 10    2.67   \n",
       "95     8             256GB SSD   Intel UHD Graphics 620    Windows 10    1.50   \n",
       "127    4              64GB SSD            AMD Radeon R2  Windows 10 S    1.65   \n",
       "818   16  128GB SSD +  1TB HDD  Nvidia GeForce GTX 1060    Windows 10    4.36   \n",
       "26     8   128GB Flash Storage   Intel HD Graphics 6000      Mac OS X    1.35   \n",
       "\n",
       "           Price  TouchScreen  IPS  \n",
       "265  2426.531040            1    0  \n",
       "95   2572.305120            1    1  \n",
       "127   844.244510            0    0  \n",
       "818  7607.645539            0    1  \n",
       "26   3337.619040            0    0  "
      ]
     },
     "execution_count": 1205,
     "metadata": {},
     "output_type": "execute_result"
    }
   ],
   "source": [
    "# Creating 'IPS' Column with 1 if laptop has an IPS Panel and 0 if Not\n",
    "df['IPS'] = df['ScreenResolution'].apply(lambda element:1\n",
    "                                        if 'IPS' in element else 0)\n",
    "df.sample(5)"
   ]
  },
  {
   "cell_type": "code",
   "execution_count": 1206,
   "id": "02998190",
   "metadata": {},
   "outputs": [
    {
     "data": {
      "text/plain": [
       "<AxesSubplot:xlabel='IPS', ylabel='Price'>"
      ]
     },
     "execution_count": 1206,
     "metadata": {},
     "output_type": "execute_result"
    },
    {
     "data": {
      "image/png": "[encoded data removed]",
      "text/plain": [
       "<Figure size 432x288 with 1 Axes>"
      ]
     },
     "metadata": {
      "needs_background": "light"
     },
     "output_type": "display_data"
    }
   ],
   "source": [
    "# Identifying price of laptops with and without IPS Panels\n",
    "sn.barplot(x=df['IPS'], y=df['Price'], palette='cool')"
   ]
  },
  {
   "cell_type": "code",
   "execution_count": null,
   "id": "f4d8c9bf",
   "metadata": {},
   "outputs": [],
   "source": []
  },
  {
   "cell_type": "markdown",
   "id": "1a5fa638",
   "metadata": {},
   "source": [
    "### Extracting Width and Height from Resolution column"
   ]
  },
  {
   "cell_type": "code",
   "execution_count": 1207,
   "id": "4c7c70e4",
   "metadata": {
    "scrolled": true
   },
   "outputs": [
    {
     "data": {
      "text/html": [
       "<div>\n",
       "<style scoped>\n",
       "    .dataframe tbody tr th:only-of-type {\n",
       "        vertical-align: middle;\n",
       "    }\n",
       "\n",
       "    .dataframe tbody tr th {\n",
       "        vertical-align: top;\n",
       "    }\n",
       "\n",
       "    .dataframe thead th {\n",
       "        text-align: right;\n",
       "    }\n",
       "</style>\n",
       "<table border=\"1\" class=\"dataframe\">\n",
       "  <thead>\n",
       "    <tr style=\"text-align: right;\">\n",
       "      <th></th>\n",
       "      <th>0</th>\n",
       "      <th>1</th>\n",
       "    </tr>\n",
       "  </thead>\n",
       "  <tbody>\n",
       "    <tr>\n",
       "      <th>0</th>\n",
       "      <td>IPS Panel Retina Display 2560</td>\n",
       "      <td>1600</td>\n",
       "    </tr>\n",
       "    <tr>\n",
       "      <th>1</th>\n",
       "      <td>1440</td>\n",
       "      <td>900</td>\n",
       "    </tr>\n",
       "    <tr>\n",
       "      <th>2</th>\n",
       "      <td>Full HD 1920</td>\n",
       "      <td>1080</td>\n",
       "    </tr>\n",
       "    <tr>\n",
       "      <th>3</th>\n",
       "      <td>IPS Panel Retina Display 2880</td>\n",
       "      <td>1800</td>\n",
       "    </tr>\n",
       "    <tr>\n",
       "      <th>4</th>\n",
       "      <td>IPS Panel Retina Display 2560</td>\n",
       "      <td>1600</td>\n",
       "    </tr>\n",
       "  </tbody>\n",
       "</table>\n",
       "</div>"
      ],
      "text/plain": [
       "                               0     1\n",
       "0  IPS Panel Retina Display 2560  1600\n",
       "1                           1440   900\n",
       "2                   Full HD 1920  1080\n",
       "3  IPS Panel Retina Display 2880  1800\n",
       "4  IPS Panel Retina Display 2560  1600"
      ]
     },
     "execution_count": 1207,
     "metadata": {},
     "output_type": "execute_result"
    }
   ],
   "source": [
    "# Splitting Resolution Column into 2 Columns based on Width and Height\n",
    "split_res = df['ScreenResolution'].str.split('x', n=1, expand=True)\n",
    "split_res.head()"
   ]
  },
  {
   "cell_type": "code",
   "execution_count": 1208,
   "id": "7220b59c",
   "metadata": {},
   "outputs": [
    {
     "data": {
      "text/html": [
       "<div>\n",
       "<style scoped>\n",
       "    .dataframe tbody tr th:only-of-type {\n",
       "        vertical-align: middle;\n",
       "    }\n",
       "\n",
       "    .dataframe tbody tr th {\n",
       "        vertical-align: top;\n",
       "    }\n",
       "\n",
       "    .dataframe thead th {\n",
       "        text-align: right;\n",
       "    }\n",
       "</style>\n",
       "<table border=\"1\" class=\"dataframe\">\n",
       "  <thead>\n",
       "    <tr style=\"text-align: right;\">\n",
       "      <th></th>\n",
       "      <th>Company</th>\n",
       "      <th>TypeName</th>\n",
       "      <th>Inches</th>\n",
       "      <th>ScreenResolution</th>\n",
       "      <th>Cpu</th>\n",
       "      <th>Ram</th>\n",
       "      <th>Memory</th>\n",
       "      <th>Gpu</th>\n",
       "      <th>OpSys</th>\n",
       "      <th>Weight</th>\n",
       "      <th>Price</th>\n",
       "      <th>TouchScreen</th>\n",
       "      <th>IPS</th>\n",
       "      <th>Width</th>\n",
       "      <th>Height</th>\n",
       "    </tr>\n",
       "  </thead>\n",
       "  <tbody>\n",
       "    <tr>\n",
       "      <th>0</th>\n",
       "      <td>Apple</td>\n",
       "      <td>Ultrabook</td>\n",
       "      <td>13.3</td>\n",
       "      <td>IPS Panel Retina Display 2560x1600</td>\n",
       "      <td>Intel Core i5 2.3GHz</td>\n",
       "      <td>8</td>\n",
       "      <td>128GB SSD</td>\n",
       "      <td>Intel Iris Plus Graphics 640</td>\n",
       "      <td>macOS</td>\n",
       "      <td>1.37</td>\n",
       "      <td>4068.584942</td>\n",
       "      <td>0</td>\n",
       "      <td>1</td>\n",
       "      <td>IPS Panel Retina Display 2560</td>\n",
       "      <td>1600</td>\n",
       "    </tr>\n",
       "    <tr>\n",
       "      <th>1</th>\n",
       "      <td>Apple</td>\n",
       "      <td>Ultrabook</td>\n",
       "      <td>13.3</td>\n",
       "      <td>1440x900</td>\n",
       "      <td>Intel Core i5 1.8GHz</td>\n",
       "      <td>8</td>\n",
       "      <td>128GB Flash Storage</td>\n",
       "      <td>Intel HD Graphics 6000</td>\n",
       "      <td>macOS</td>\n",
       "      <td>1.34</td>\n",
       "      <td>2730.044822</td>\n",
       "      <td>0</td>\n",
       "      <td>0</td>\n",
       "      <td>1440</td>\n",
       "      <td>900</td>\n",
       "    </tr>\n",
       "    <tr>\n",
       "      <th>2</th>\n",
       "      <td>HP</td>\n",
       "      <td>Notebook</td>\n",
       "      <td>15.6</td>\n",
       "      <td>Full HD 1920x1080</td>\n",
       "      <td>Intel Core i5 7200U 2.5GHz</td>\n",
       "      <td>8</td>\n",
       "      <td>256GB SSD</td>\n",
       "      <td>Intel HD Graphics 620</td>\n",
       "      <td>No OS</td>\n",
       "      <td>1.86</td>\n",
       "      <td>1746.252000</td>\n",
       "      <td>0</td>\n",
       "      <td>0</td>\n",
       "      <td>Full HD 1920</td>\n",
       "      <td>1080</td>\n",
       "    </tr>\n",
       "    <tr>\n",
       "      <th>3</th>\n",
       "      <td>Apple</td>\n",
       "      <td>Ultrabook</td>\n",
       "      <td>15.4</td>\n",
       "      <td>IPS Panel Retina Display 2880x1800</td>\n",
       "      <td>Intel Core i7 2.7GHz</td>\n",
       "      <td>16</td>\n",
       "      <td>512GB SSD</td>\n",
       "      <td>AMD Radeon Pro 455</td>\n",
       "      <td>macOS</td>\n",
       "      <td>1.83</td>\n",
       "      <td>7706.134152</td>\n",
       "      <td>0</td>\n",
       "      <td>1</td>\n",
       "      <td>IPS Panel Retina Display 2880</td>\n",
       "      <td>1800</td>\n",
       "    </tr>\n",
       "    <tr>\n",
       "      <th>4</th>\n",
       "      <td>Apple</td>\n",
       "      <td>Ultrabook</td>\n",
       "      <td>13.3</td>\n",
       "      <td>IPS Panel Retina Display 2560x1600</td>\n",
       "      <td>Intel Core i5 3.1GHz</td>\n",
       "      <td>8</td>\n",
       "      <td>256GB SSD</td>\n",
       "      <td>Intel Iris Plus Graphics 650</td>\n",
       "      <td>macOS</td>\n",
       "      <td>1.37</td>\n",
       "      <td>5477.461056</td>\n",
       "      <td>0</td>\n",
       "      <td>1</td>\n",
       "      <td>IPS Panel Retina Display 2560</td>\n",
       "      <td>1600</td>\n",
       "    </tr>\n",
       "  </tbody>\n",
       "</table>\n",
       "</div>"
      ],
      "text/plain": [
       "  Company   TypeName  Inches                    ScreenResolution  \\\n",
       "0   Apple  Ultrabook    13.3  IPS Panel Retina Display 2560x1600   \n",
       "1   Apple  Ultrabook    13.3                            1440x900   \n",
       "2      HP   Notebook    15.6                   Full HD 1920x1080   \n",
       "3   Apple  Ultrabook    15.4  IPS Panel Retina Display 2880x1800   \n",
       "4   Apple  Ultrabook    13.3  IPS Panel Retina Display 2560x1600   \n",
       "\n",
       "                          Cpu  Ram               Memory  \\\n",
       "0        Intel Core i5 2.3GHz    8            128GB SSD   \n",
       "1        Intel Core i5 1.8GHz    8  128GB Flash Storage   \n",
       "2  Intel Core i5 7200U 2.5GHz    8            256GB SSD   \n",
       "3        Intel Core i7 2.7GHz   16            512GB SSD   \n",
       "4        Intel Core i5 3.1GHz    8            256GB SSD   \n",
       "\n",
       "                            Gpu  OpSys  Weight        Price  TouchScreen  IPS  \\\n",
       "0  Intel Iris Plus Graphics 640  macOS    1.37  4068.584942            0    1   \n",
       "1        Intel HD Graphics 6000  macOS    1.34  2730.044822            0    0   \n",
       "2         Intel HD Graphics 620  No OS    1.86  1746.252000            0    0   \n",
       "3            AMD Radeon Pro 455  macOS    1.83  7706.134152            0    1   \n",
       "4  Intel Iris Plus Graphics 650  macOS    1.37  5477.461056            0    1   \n",
       "\n",
       "                           Width Height  \n",
       "0  IPS Panel Retina Display 2560   1600  \n",
       "1                           1440    900  \n",
       "2                   Full HD 1920   1080  \n",
       "3  IPS Panel Retina Display 2880   1800  \n",
       "4  IPS Panel Retina Display 2560   1600  "
      ]
     },
     "execution_count": 1208,
     "metadata": {},
     "output_type": "execute_result"
    }
   ],
   "source": [
    "# Merging 'split_res' into df\n",
    "df['Width'] = split_res[0]\n",
    "df['Height'] = split_res[1]\n",
    "df.head()"
   ]
  },
  {
   "cell_type": "markdown",
   "id": "92daeaf9",
   "metadata": {},
   "source": [
    "Since Width consists of Text alongside the Width, We shall use RegEx to split the width from the Text. This is done as follows:"
   ]
  },
  {
   "cell_type": "code",
   "execution_count": 1209,
   "id": "c5185689",
   "metadata": {},
   "outputs": [
    {
     "data": {
      "text/html": [
       "<div>\n",
       "<style scoped>\n",
       "    .dataframe tbody tr th:only-of-type {\n",
       "        vertical-align: middle;\n",
       "    }\n",
       "\n",
       "    .dataframe tbody tr th {\n",
       "        vertical-align: top;\n",
       "    }\n",
       "\n",
       "    .dataframe thead th {\n",
       "        text-align: right;\n",
       "    }\n",
       "</style>\n",
       "<table border=\"1\" class=\"dataframe\">\n",
       "  <thead>\n",
       "    <tr style=\"text-align: right;\">\n",
       "      <th></th>\n",
       "      <th>Company</th>\n",
       "      <th>TypeName</th>\n",
       "      <th>Inches</th>\n",
       "      <th>ScreenResolution</th>\n",
       "      <th>Cpu</th>\n",
       "      <th>Ram</th>\n",
       "      <th>Memory</th>\n",
       "      <th>Gpu</th>\n",
       "      <th>OpSys</th>\n",
       "      <th>Weight</th>\n",
       "      <th>Price</th>\n",
       "      <th>TouchScreen</th>\n",
       "      <th>IPS</th>\n",
       "      <th>Width</th>\n",
       "      <th>Height</th>\n",
       "    </tr>\n",
       "  </thead>\n",
       "  <tbody>\n",
       "    <tr>\n",
       "      <th>0</th>\n",
       "      <td>Apple</td>\n",
       "      <td>Ultrabook</td>\n",
       "      <td>13.3</td>\n",
       "      <td>IPS Panel Retina Display 2560x1600</td>\n",
       "      <td>Intel Core i5 2.3GHz</td>\n",
       "      <td>8</td>\n",
       "      <td>128GB SSD</td>\n",
       "      <td>Intel Iris Plus Graphics 640</td>\n",
       "      <td>macOS</td>\n",
       "      <td>1.37</td>\n",
       "      <td>4068.584942</td>\n",
       "      <td>0</td>\n",
       "      <td>1</td>\n",
       "      <td>2560</td>\n",
       "      <td>1600</td>\n",
       "    </tr>\n",
       "    <tr>\n",
       "      <th>1</th>\n",
       "      <td>Apple</td>\n",
       "      <td>Ultrabook</td>\n",
       "      <td>13.3</td>\n",
       "      <td>1440x900</td>\n",
       "      <td>Intel Core i5 1.8GHz</td>\n",
       "      <td>8</td>\n",
       "      <td>128GB Flash Storage</td>\n",
       "      <td>Intel HD Graphics 6000</td>\n",
       "      <td>macOS</td>\n",
       "      <td>1.34</td>\n",
       "      <td>2730.044822</td>\n",
       "      <td>0</td>\n",
       "      <td>0</td>\n",
       "      <td>1440</td>\n",
       "      <td>900</td>\n",
       "    </tr>\n",
       "    <tr>\n",
       "      <th>2</th>\n",
       "      <td>HP</td>\n",
       "      <td>Notebook</td>\n",
       "      <td>15.6</td>\n",
       "      <td>Full HD 1920x1080</td>\n",
       "      <td>Intel Core i5 7200U 2.5GHz</td>\n",
       "      <td>8</td>\n",
       "      <td>256GB SSD</td>\n",
       "      <td>Intel HD Graphics 620</td>\n",
       "      <td>No OS</td>\n",
       "      <td>1.86</td>\n",
       "      <td>1746.252000</td>\n",
       "      <td>0</td>\n",
       "      <td>0</td>\n",
       "      <td>1920</td>\n",
       "      <td>1080</td>\n",
       "    </tr>\n",
       "    <tr>\n",
       "      <th>3</th>\n",
       "      <td>Apple</td>\n",
       "      <td>Ultrabook</td>\n",
       "      <td>15.4</td>\n",
       "      <td>IPS Panel Retina Display 2880x1800</td>\n",
       "      <td>Intel Core i7 2.7GHz</td>\n",
       "      <td>16</td>\n",
       "      <td>512GB SSD</td>\n",
       "      <td>AMD Radeon Pro 455</td>\n",
       "      <td>macOS</td>\n",
       "      <td>1.83</td>\n",
       "      <td>7706.134152</td>\n",
       "      <td>0</td>\n",
       "      <td>1</td>\n",
       "      <td>2880</td>\n",
       "      <td>1800</td>\n",
       "    </tr>\n",
       "    <tr>\n",
       "      <th>4</th>\n",
       "      <td>Apple</td>\n",
       "      <td>Ultrabook</td>\n",
       "      <td>13.3</td>\n",
       "      <td>IPS Panel Retina Display 2560x1600</td>\n",
       "      <td>Intel Core i5 3.1GHz</td>\n",
       "      <td>8</td>\n",
       "      <td>256GB SSD</td>\n",
       "      <td>Intel Iris Plus Graphics 650</td>\n",
       "      <td>macOS</td>\n",
       "      <td>1.37</td>\n",
       "      <td>5477.461056</td>\n",
       "      <td>0</td>\n",
       "      <td>1</td>\n",
       "      <td>2560</td>\n",
       "      <td>1600</td>\n",
       "    </tr>\n",
       "  </tbody>\n",
       "</table>\n",
       "</div>"
      ],
      "text/plain": [
       "  Company   TypeName  Inches                    ScreenResolution  \\\n",
       "0   Apple  Ultrabook    13.3  IPS Panel Retina Display 2560x1600   \n",
       "1   Apple  Ultrabook    13.3                            1440x900   \n",
       "2      HP   Notebook    15.6                   Full HD 1920x1080   \n",
       "3   Apple  Ultrabook    15.4  IPS Panel Retina Display 2880x1800   \n",
       "4   Apple  Ultrabook    13.3  IPS Panel Retina Display 2560x1600   \n",
       "\n",
       "                          Cpu  Ram               Memory  \\\n",
       "0        Intel Core i5 2.3GHz    8            128GB SSD   \n",
       "1        Intel Core i5 1.8GHz    8  128GB Flash Storage   \n",
       "2  Intel Core i5 7200U 2.5GHz    8            256GB SSD   \n",
       "3        Intel Core i7 2.7GHz   16            512GB SSD   \n",
       "4        Intel Core i5 3.1GHz    8            256GB SSD   \n",
       "\n",
       "                            Gpu  OpSys  Weight        Price  TouchScreen  IPS  \\\n",
       "0  Intel Iris Plus Graphics 640  macOS    1.37  4068.584942            0    1   \n",
       "1        Intel HD Graphics 6000  macOS    1.34  2730.044822            0    0   \n",
       "2         Intel HD Graphics 620  No OS    1.86  1746.252000            0    0   \n",
       "3            AMD Radeon Pro 455  macOS    1.83  7706.134152            0    1   \n",
       "4  Intel Iris Plus Graphics 650  macOS    1.37  5477.461056            0    1   \n",
       "\n",
       "  Width Height  \n",
       "0  2560   1600  \n",
       "1  1440    900  \n",
       "2  1920   1080  \n",
       "3  2880   1800  \n",
       "4  2560   1600  "
      ]
     },
     "execution_count": 1209,
     "metadata": {},
     "output_type": "execute_result"
    }
   ],
   "source": [
    "# Replacing ',' with '' and finding numbers within the string\n",
    "df['Width'] = df['Width'].str.replace(',','').str.findall(r'(\\d+\\.?\\d+)').apply(lambda x:x[0])\n",
    "df.head()"
   ]
  },
  {
   "cell_type": "code",
   "execution_count": 1210,
   "id": "a009fc55",
   "metadata": {},
   "outputs": [
    {
     "data": {
      "text/html": [
       "<div>\n",
       "<style scoped>\n",
       "    .dataframe tbody tr th:only-of-type {\n",
       "        vertical-align: middle;\n",
       "    }\n",
       "\n",
       "    .dataframe tbody tr th {\n",
       "        vertical-align: top;\n",
       "    }\n",
       "\n",
       "    .dataframe thead th {\n",
       "        text-align: right;\n",
       "    }\n",
       "</style>\n",
       "<table border=\"1\" class=\"dataframe\">\n",
       "  <thead>\n",
       "    <tr style=\"text-align: right;\">\n",
       "      <th></th>\n",
       "      <th>Company</th>\n",
       "      <th>TypeName</th>\n",
       "      <th>Inches</th>\n",
       "      <th>ScreenResolution</th>\n",
       "      <th>Cpu</th>\n",
       "      <th>Ram</th>\n",
       "      <th>Memory</th>\n",
       "      <th>Gpu</th>\n",
       "      <th>OpSys</th>\n",
       "      <th>Weight</th>\n",
       "      <th>Price</th>\n",
       "      <th>TouchScreen</th>\n",
       "      <th>IPS</th>\n",
       "      <th>Width</th>\n",
       "      <th>Height</th>\n",
       "    </tr>\n",
       "  </thead>\n",
       "  <tbody>\n",
       "    <tr>\n",
       "      <th>378</th>\n",
       "      <td>Asus</td>\n",
       "      <td>Notebook</td>\n",
       "      <td>14.0</td>\n",
       "      <td>1366x768</td>\n",
       "      <td>Intel Celeron Dual Core N3350 1.1GHz</td>\n",
       "      <td>4</td>\n",
       "      <td>32GB Flash Storage</td>\n",
       "      <td>Intel HD Graphics 500</td>\n",
       "      <td>Windows 10</td>\n",
       "      <td>1.50</td>\n",
       "      <td>868.570560</td>\n",
       "      <td>0</td>\n",
       "      <td>0</td>\n",
       "      <td>1366</td>\n",
       "      <td>768</td>\n",
       "    </tr>\n",
       "    <tr>\n",
       "      <th>908</th>\n",
       "      <td>Lenovo</td>\n",
       "      <td>Notebook</td>\n",
       "      <td>15.6</td>\n",
       "      <td>IPS Panel Full HD 1920x1080</td>\n",
       "      <td>Intel Core i5 6300HQ 2.3GHz</td>\n",
       "      <td>8</td>\n",
       "      <td>128GB SSD +  1TB HDD</td>\n",
       "      <td>Nvidia GeForce GTX 960M</td>\n",
       "      <td>Windows 10</td>\n",
       "      <td>2.60</td>\n",
       "      <td>2396.161440</td>\n",
       "      <td>0</td>\n",
       "      <td>1</td>\n",
       "      <td>1920</td>\n",
       "      <td>1080</td>\n",
       "    </tr>\n",
       "    <tr>\n",
       "      <th>652</th>\n",
       "      <td>Dell</td>\n",
       "      <td>Ultrabook</td>\n",
       "      <td>13.3</td>\n",
       "      <td>Full HD 1920x1080</td>\n",
       "      <td>Intel Core i5 8250U 1.6GHz</td>\n",
       "      <td>8</td>\n",
       "      <td>256GB SSD</td>\n",
       "      <td>Intel UHD Graphics 620</td>\n",
       "      <td>Windows 10</td>\n",
       "      <td>1.20</td>\n",
       "      <td>4403.288304</td>\n",
       "      <td>0</td>\n",
       "      <td>0</td>\n",
       "      <td>1920</td>\n",
       "      <td>1080</td>\n",
       "    </tr>\n",
       "    <tr>\n",
       "      <th>437</th>\n",
       "      <td>Google</td>\n",
       "      <td>Ultrabook</td>\n",
       "      <td>12.3</td>\n",
       "      <td>Touchscreen 2400x1600</td>\n",
       "      <td>Intel Core i7 7Y75 1.3GHz</td>\n",
       "      <td>16</td>\n",
       "      <td>512GB SSD</td>\n",
       "      <td>Intel HD Graphics 615</td>\n",
       "      <td>Chrome OS</td>\n",
       "      <td>1.10</td>\n",
       "      <td>6678.275040</td>\n",
       "      <td>1</td>\n",
       "      <td>0</td>\n",
       "      <td>2400</td>\n",
       "      <td>1600</td>\n",
       "    </tr>\n",
       "    <tr>\n",
       "      <th>844</th>\n",
       "      <td>HP</td>\n",
       "      <td>Ultrabook</td>\n",
       "      <td>14.0</td>\n",
       "      <td>Full HD 1920x1080</td>\n",
       "      <td>Intel Core i7 6500U 2.5GHz</td>\n",
       "      <td>8</td>\n",
       "      <td>512GB SSD</td>\n",
       "      <td>Intel HD Graphics 520</td>\n",
       "      <td>Windows 7</td>\n",
       "      <td>1.54</td>\n",
       "      <td>5679.115200</td>\n",
       "      <td>0</td>\n",
       "      <td>0</td>\n",
       "      <td>1920</td>\n",
       "      <td>1080</td>\n",
       "    </tr>\n",
       "  </tbody>\n",
       "</table>\n",
       "</div>"
      ],
      "text/plain": [
       "    Company   TypeName  Inches             ScreenResolution  \\\n",
       "378    Asus   Notebook    14.0                     1366x768   \n",
       "908  Lenovo   Notebook    15.6  IPS Panel Full HD 1920x1080   \n",
       "652    Dell  Ultrabook    13.3            Full HD 1920x1080   \n",
       "437  Google  Ultrabook    12.3        Touchscreen 2400x1600   \n",
       "844      HP  Ultrabook    14.0            Full HD 1920x1080   \n",
       "\n",
       "                                      Cpu  Ram                Memory  \\\n",
       "378  Intel Celeron Dual Core N3350 1.1GHz    4    32GB Flash Storage   \n",
       "908           Intel Core i5 6300HQ 2.3GHz    8  128GB SSD +  1TB HDD   \n",
       "652            Intel Core i5 8250U 1.6GHz    8             256GB SSD   \n",
       "437             Intel Core i7 7Y75 1.3GHz   16             512GB SSD   \n",
       "844            Intel Core i7 6500U 2.5GHz    8             512GB SSD   \n",
       "\n",
       "                         Gpu       OpSys  Weight        Price  TouchScreen  \\\n",
       "378    Intel HD Graphics 500  Windows 10    1.50   868.570560            0   \n",
       "908  Nvidia GeForce GTX 960M  Windows 10    2.60  2396.161440            0   \n",
       "652   Intel UHD Graphics 620  Windows 10    1.20  4403.288304            0   \n",
       "437    Intel HD Graphics 615   Chrome OS    1.10  6678.275040            1   \n",
       "844    Intel HD Graphics 520   Windows 7    1.54  5679.115200            0   \n",
       "\n",
       "     IPS Width Height  \n",
       "378    0  1366    768  \n",
       "908    1  1920   1080  \n",
       "652    0  1920   1080  \n",
       "437    0  2400   1600  \n",
       "844    0  1920   1080  "
      ]
     },
     "execution_count": 1210,
     "metadata": {},
     "output_type": "execute_result"
    }
   ],
   "source": [
    "df.sample(5)"
   ]
  },
  {
   "cell_type": "code",
   "execution_count": 1211,
   "id": "0a0d5515",
   "metadata": {},
   "outputs": [],
   "source": [
    "# Converting Width and Height to int\n",
    "df['Width'] = df['Width'].astype('int')\n",
    "df['Height'] = df['Height'].astype('int')"
   ]
  },
  {
   "cell_type": "code",
   "execution_count": 1212,
   "id": "bdb1814a",
   "metadata": {},
   "outputs": [
    {
     "name": "stdout",
     "output_type": "stream",
     "text": [
      "<class 'pandas.core.frame.DataFrame'>\n",
      "RangeIndex: 1303 entries, 0 to 1302\n",
      "Data columns (total 15 columns):\n",
      " #   Column            Non-Null Count  Dtype  \n",
      "---  ------            --------------  -----  \n",
      " 0   Company           1303 non-null   object \n",
      " 1   TypeName          1303 non-null   object \n",
      " 2   Inches            1303 non-null   float64\n",
      " 3   ScreenResolution  1303 non-null   object \n",
      " 4   Cpu               1303 non-null   object \n",
      " 5   Ram               1303 non-null   int32  \n",
      " 6   Memory            1303 non-null   object \n",
      " 7   Gpu               1303 non-null   object \n",
      " 8   OpSys             1303 non-null   object \n",
      " 9   Weight            1303 non-null   float64\n",
      " 10  Price             1303 non-null   float64\n",
      " 11  TouchScreen       1303 non-null   int64  \n",
      " 12  IPS               1303 non-null   int64  \n",
      " 13  Width             1303 non-null   int32  \n",
      " 14  Height            1303 non-null   int32  \n",
      "dtypes: float64(3), int32(3), int64(2), object(7)\n",
      "memory usage: 137.6+ KB\n"
     ]
    }
   ],
   "source": [
    "df.info()"
   ]
  },
  {
   "cell_type": "code",
   "execution_count": null,
   "id": "8ad950d3",
   "metadata": {},
   "outputs": [],
   "source": []
  },
  {
   "cell_type": "markdown",
   "id": "6abcb8a8",
   "metadata": {},
   "source": [
    "## Identifying Correlation"
   ]
  },
  {
   "cell_type": "code",
   "execution_count": 1213,
   "id": "c533d663",
   "metadata": {},
   "outputs": [
    {
     "data": {
      "text/plain": [
       "<AxesSubplot:>"
      ]
     },
     "execution_count": 1213,
     "metadata": {},
     "output_type": "execute_result"
    },
    {
     "data": {
      "image/png": "[encoded data removed]",
      "text/plain": [
       "<Figure size 1080x504 with 2 Axes>"
      ]
     },
     "metadata": {
      "needs_background": "light"
     },
     "output_type": "display_data"
    }
   ],
   "source": [
    "plt.figure(figsize=(15,7))\n",
    "sn.heatmap(df.corr(), annot=True, cmap='autumn_r')"
   ]
  },
  {
   "cell_type": "markdown",
   "id": "b7ea7343",
   "metadata": {},
   "source": [
    "The heatmap above shows how correlated the features are with each other. Some insights retrieved could be the following:\n",
    "\n",
    "Based on the heatmap above, we can conclude that the width and height are heavily correlated. This could be due to the specified aspect ratios.\n",
    "\n",
    "Other features that are correlated are Weight and Inches, this could be due to the fact that the devices are often heavier as screen size increases.\n",
    "\n",
    "Some other feature that impact the Price are discussed below:"
   ]
  },
  {
   "cell_type": "code",
   "execution_count": 1214,
   "id": "e2b0c76e",
   "metadata": {},
   "outputs": [
    {
     "data": {
      "text/plain": [
       "Price          1.000000\n",
       "Ram            0.743007\n",
       "Width          0.556529\n",
       "Height         0.552809\n",
       "IPS            0.252208\n",
       "Weight         0.210370\n",
       "TouchScreen    0.191226\n",
       "Inches         0.068197\n",
       "Name: Price, dtype: float64"
      ]
     },
     "execution_count": 1214,
     "metadata": {},
     "output_type": "execute_result"
    }
   ],
   "source": [
    "df.corr()['Price'].sort_values(ascending=False)"
   ]
  },
  {
   "cell_type": "markdown",
   "id": "85d539ba",
   "metadata": {},
   "source": [
    "As shown above, some of the factors that impact the price are **RAM**, **Width** & **Height**. These features have a strong positive correlation with Price."
   ]
  },
  {
   "cell_type": "markdown",
   "id": "19111b66",
   "metadata": {},
   "source": [
    "As Width & Height are highly correlated would have the same amount of contribution in the Price. In order to get a more accurate prediction, the 'Inches', 'Height' & 'Width' columns would have to be used to create a New column called **PPI (Pixels Per Inch)**. "
   ]
  },
  {
   "cell_type": "markdown",
   "id": "a74a7a28",
   "metadata": {},
   "source": [
    "$$\n",
    "    PPI(Pixels Per Inch) = \\frac{\\sqrt{Width^2 + Height^2}}{inches}\n",
    "$$"
   ]
  },
  {
   "cell_type": "code",
   "execution_count": null,
   "id": "497a5dd9",
   "metadata": {},
   "outputs": [],
   "source": []
  },
  {
   "cell_type": "code",
   "execution_count": 1215,
   "id": "b5b1770f",
   "metadata": {},
   "outputs": [
    {
     "data": {
      "text/html": [
       "<div>\n",
       "<style scoped>\n",
       "    .dataframe tbody tr th:only-of-type {\n",
       "        vertical-align: middle;\n",
       "    }\n",
       "\n",
       "    .dataframe tbody tr th {\n",
       "        vertical-align: top;\n",
       "    }\n",
       "\n",
       "    .dataframe thead th {\n",
       "        text-align: right;\n",
       "    }\n",
       "</style>\n",
       "<table border=\"1\" class=\"dataframe\">\n",
       "  <thead>\n",
       "    <tr style=\"text-align: right;\">\n",
       "      <th></th>\n",
       "      <th>Company</th>\n",
       "      <th>TypeName</th>\n",
       "      <th>Inches</th>\n",
       "      <th>ScreenResolution</th>\n",
       "      <th>Cpu</th>\n",
       "      <th>Ram</th>\n",
       "      <th>Memory</th>\n",
       "      <th>Gpu</th>\n",
       "      <th>OpSys</th>\n",
       "      <th>Weight</th>\n",
       "      <th>Price</th>\n",
       "      <th>TouchScreen</th>\n",
       "      <th>IPS</th>\n",
       "      <th>Width</th>\n",
       "      <th>Height</th>\n",
       "      <th>PPI</th>\n",
       "    </tr>\n",
       "  </thead>\n",
       "  <tbody>\n",
       "    <tr>\n",
       "      <th>0</th>\n",
       "      <td>Apple</td>\n",
       "      <td>Ultrabook</td>\n",
       "      <td>13.3</td>\n",
       "      <td>IPS Panel Retina Display 2560x1600</td>\n",
       "      <td>Intel Core i5 2.3GHz</td>\n",
       "      <td>8</td>\n",
       "      <td>128GB SSD</td>\n",
       "      <td>Intel Iris Plus Graphics 640</td>\n",
       "      <td>macOS</td>\n",
       "      <td>1.37</td>\n",
       "      <td>4068.584942</td>\n",
       "      <td>0</td>\n",
       "      <td>1</td>\n",
       "      <td>2560</td>\n",
       "      <td>1600</td>\n",
       "      <td>226.983005</td>\n",
       "    </tr>\n",
       "    <tr>\n",
       "      <th>1</th>\n",
       "      <td>Apple</td>\n",
       "      <td>Ultrabook</td>\n",
       "      <td>13.3</td>\n",
       "      <td>1440x900</td>\n",
       "      <td>Intel Core i5 1.8GHz</td>\n",
       "      <td>8</td>\n",
       "      <td>128GB Flash Storage</td>\n",
       "      <td>Intel HD Graphics 6000</td>\n",
       "      <td>macOS</td>\n",
       "      <td>1.34</td>\n",
       "      <td>2730.044822</td>\n",
       "      <td>0</td>\n",
       "      <td>0</td>\n",
       "      <td>1440</td>\n",
       "      <td>900</td>\n",
       "      <td>127.677940</td>\n",
       "    </tr>\n",
       "    <tr>\n",
       "      <th>2</th>\n",
       "      <td>HP</td>\n",
       "      <td>Notebook</td>\n",
       "      <td>15.6</td>\n",
       "      <td>Full HD 1920x1080</td>\n",
       "      <td>Intel Core i5 7200U 2.5GHz</td>\n",
       "      <td>8</td>\n",
       "      <td>256GB SSD</td>\n",
       "      <td>Intel HD Graphics 620</td>\n",
       "      <td>No OS</td>\n",
       "      <td>1.86</td>\n",
       "      <td>1746.252000</td>\n",
       "      <td>0</td>\n",
       "      <td>0</td>\n",
       "      <td>1920</td>\n",
       "      <td>1080</td>\n",
       "      <td>141.211998</td>\n",
       "    </tr>\n",
       "    <tr>\n",
       "      <th>3</th>\n",
       "      <td>Apple</td>\n",
       "      <td>Ultrabook</td>\n",
       "      <td>15.4</td>\n",
       "      <td>IPS Panel Retina Display 2880x1800</td>\n",
       "      <td>Intel Core i7 2.7GHz</td>\n",
       "      <td>16</td>\n",
       "      <td>512GB SSD</td>\n",
       "      <td>AMD Radeon Pro 455</td>\n",
       "      <td>macOS</td>\n",
       "      <td>1.83</td>\n",
       "      <td>7706.134152</td>\n",
       "      <td>0</td>\n",
       "      <td>1</td>\n",
       "      <td>2880</td>\n",
       "      <td>1800</td>\n",
       "      <td>220.534624</td>\n",
       "    </tr>\n",
       "    <tr>\n",
       "      <th>4</th>\n",
       "      <td>Apple</td>\n",
       "      <td>Ultrabook</td>\n",
       "      <td>13.3</td>\n",
       "      <td>IPS Panel Retina Display 2560x1600</td>\n",
       "      <td>Intel Core i5 3.1GHz</td>\n",
       "      <td>8</td>\n",
       "      <td>256GB SSD</td>\n",
       "      <td>Intel Iris Plus Graphics 650</td>\n",
       "      <td>macOS</td>\n",
       "      <td>1.37</td>\n",
       "      <td>5477.461056</td>\n",
       "      <td>0</td>\n",
       "      <td>1</td>\n",
       "      <td>2560</td>\n",
       "      <td>1600</td>\n",
       "      <td>226.983005</td>\n",
       "    </tr>\n",
       "  </tbody>\n",
       "</table>\n",
       "</div>"
      ],
      "text/plain": [
       "  Company   TypeName  Inches                    ScreenResolution  \\\n",
       "0   Apple  Ultrabook    13.3  IPS Panel Retina Display 2560x1600   \n",
       "1   Apple  Ultrabook    13.3                            1440x900   \n",
       "2      HP   Notebook    15.6                   Full HD 1920x1080   \n",
       "3   Apple  Ultrabook    15.4  IPS Panel Retina Display 2880x1800   \n",
       "4   Apple  Ultrabook    13.3  IPS Panel Retina Display 2560x1600   \n",
       "\n",
       "                          Cpu  Ram               Memory  \\\n",
       "0        Intel Core i5 2.3GHz    8            128GB SSD   \n",
       "1        Intel Core i5 1.8GHz    8  128GB Flash Storage   \n",
       "2  Intel Core i5 7200U 2.5GHz    8            256GB SSD   \n",
       "3        Intel Core i7 2.7GHz   16            512GB SSD   \n",
       "4        Intel Core i5 3.1GHz    8            256GB SSD   \n",
       "\n",
       "                            Gpu  OpSys  Weight        Price  TouchScreen  IPS  \\\n",
       "0  Intel Iris Plus Graphics 640  macOS    1.37  4068.584942            0    1   \n",
       "1        Intel HD Graphics 6000  macOS    1.34  2730.044822            0    0   \n",
       "2         Intel HD Graphics 620  No OS    1.86  1746.252000            0    0   \n",
       "3            AMD Radeon Pro 455  macOS    1.83  7706.134152            0    1   \n",
       "4  Intel Iris Plus Graphics 650  macOS    1.37  5477.461056            0    1   \n",
       "\n",
       "   Width  Height         PPI  \n",
       "0   2560    1600  226.983005  \n",
       "1   1440     900  127.677940  \n",
       "2   1920    1080  141.211998  \n",
       "3   2880    1800  220.534624  \n",
       "4   2560    1600  226.983005  "
      ]
     },
     "execution_count": 1215,
     "metadata": {},
     "output_type": "execute_result"
    }
   ],
   "source": [
    "# Creating new Column by applying the formula above\n",
    "df['PPI'] = (((df['Width']**2 + df['Height']**2)) **0.5 / df['Inches'])\n",
    "df.head()"
   ]
  },
  {
   "cell_type": "code",
   "execution_count": 1216,
   "id": "9a74b7cd",
   "metadata": {},
   "outputs": [
    {
     "data": {
      "text/plain": [
       "<AxesSubplot:>"
      ]
     },
     "execution_count": 1216,
     "metadata": {},
     "output_type": "execute_result"
    },
    {
     "data": {
      "image/png": "[encoded data removed]",
      "text/plain": [
       "<Figure size 1080x504 with 2 Axes>"
      ]
     },
     "metadata": {
      "needs_background": "light"
     },
     "output_type": "display_data"
    }
   ],
   "source": [
    "# Identifying Correlation after calculating PPI \n",
    "plt.figure(figsize=(15,7))\n",
    "sn.heatmap(df.corr(), annot=True, cmap='autumn_r')"
   ]
  },
  {
   "cell_type": "code",
   "execution_count": 1217,
   "id": "f3c13979",
   "metadata": {},
   "outputs": [
    {
     "data": {
      "text/html": [
       "<div>\n",
       "<style scoped>\n",
       "    .dataframe tbody tr th:only-of-type {\n",
       "        vertical-align: middle;\n",
       "    }\n",
       "\n",
       "    .dataframe tbody tr th {\n",
       "        vertical-align: top;\n",
       "    }\n",
       "\n",
       "    .dataframe thead th {\n",
       "        text-align: right;\n",
       "    }\n",
       "</style>\n",
       "<table border=\"1\" class=\"dataframe\">\n",
       "  <thead>\n",
       "    <tr style=\"text-align: right;\">\n",
       "      <th></th>\n",
       "      <th>Company</th>\n",
       "      <th>TypeName</th>\n",
       "      <th>Cpu</th>\n",
       "      <th>Ram</th>\n",
       "      <th>Memory</th>\n",
       "      <th>Gpu</th>\n",
       "      <th>OpSys</th>\n",
       "      <th>Weight</th>\n",
       "      <th>Price</th>\n",
       "      <th>TouchScreen</th>\n",
       "      <th>IPS</th>\n",
       "      <th>PPI</th>\n",
       "    </tr>\n",
       "  </thead>\n",
       "  <tbody>\n",
       "    <tr>\n",
       "      <th>0</th>\n",
       "      <td>Apple</td>\n",
       "      <td>Ultrabook</td>\n",
       "      <td>Intel Core i5 2.3GHz</td>\n",
       "      <td>8</td>\n",
       "      <td>128GB SSD</td>\n",
       "      <td>Intel Iris Plus Graphics 640</td>\n",
       "      <td>macOS</td>\n",
       "      <td>1.37</td>\n",
       "      <td>4068.584942</td>\n",
       "      <td>0</td>\n",
       "      <td>1</td>\n",
       "      <td>226.983005</td>\n",
       "    </tr>\n",
       "    <tr>\n",
       "      <th>1</th>\n",
       "      <td>Apple</td>\n",
       "      <td>Ultrabook</td>\n",
       "      <td>Intel Core i5 1.8GHz</td>\n",
       "      <td>8</td>\n",
       "      <td>128GB Flash Storage</td>\n",
       "      <td>Intel HD Graphics 6000</td>\n",
       "      <td>macOS</td>\n",
       "      <td>1.34</td>\n",
       "      <td>2730.044822</td>\n",
       "      <td>0</td>\n",
       "      <td>0</td>\n",
       "      <td>127.677940</td>\n",
       "    </tr>\n",
       "    <tr>\n",
       "      <th>2</th>\n",
       "      <td>HP</td>\n",
       "      <td>Notebook</td>\n",
       "      <td>Intel Core i5 7200U 2.5GHz</td>\n",
       "      <td>8</td>\n",
       "      <td>256GB SSD</td>\n",
       "      <td>Intel HD Graphics 620</td>\n",
       "      <td>No OS</td>\n",
       "      <td>1.86</td>\n",
       "      <td>1746.252000</td>\n",
       "      <td>0</td>\n",
       "      <td>0</td>\n",
       "      <td>141.211998</td>\n",
       "    </tr>\n",
       "    <tr>\n",
       "      <th>3</th>\n",
       "      <td>Apple</td>\n",
       "      <td>Ultrabook</td>\n",
       "      <td>Intel Core i7 2.7GHz</td>\n",
       "      <td>16</td>\n",
       "      <td>512GB SSD</td>\n",
       "      <td>AMD Radeon Pro 455</td>\n",
       "      <td>macOS</td>\n",
       "      <td>1.83</td>\n",
       "      <td>7706.134152</td>\n",
       "      <td>0</td>\n",
       "      <td>1</td>\n",
       "      <td>220.534624</td>\n",
       "    </tr>\n",
       "    <tr>\n",
       "      <th>4</th>\n",
       "      <td>Apple</td>\n",
       "      <td>Ultrabook</td>\n",
       "      <td>Intel Core i5 3.1GHz</td>\n",
       "      <td>8</td>\n",
       "      <td>256GB SSD</td>\n",
       "      <td>Intel Iris Plus Graphics 650</td>\n",
       "      <td>macOS</td>\n",
       "      <td>1.37</td>\n",
       "      <td>5477.461056</td>\n",
       "      <td>0</td>\n",
       "      <td>1</td>\n",
       "      <td>226.983005</td>\n",
       "    </tr>\n",
       "  </tbody>\n",
       "</table>\n",
       "</div>"
      ],
      "text/plain": [
       "  Company   TypeName                         Cpu  Ram               Memory  \\\n",
       "0   Apple  Ultrabook        Intel Core i5 2.3GHz    8            128GB SSD   \n",
       "1   Apple  Ultrabook        Intel Core i5 1.8GHz    8  128GB Flash Storage   \n",
       "2      HP   Notebook  Intel Core i5 7200U 2.5GHz    8            256GB SSD   \n",
       "3   Apple  Ultrabook        Intel Core i7 2.7GHz   16            512GB SSD   \n",
       "4   Apple  Ultrabook        Intel Core i5 3.1GHz    8            256GB SSD   \n",
       "\n",
       "                            Gpu  OpSys  Weight        Price  TouchScreen  IPS  \\\n",
       "0  Intel Iris Plus Graphics 640  macOS    1.37  4068.584942            0    1   \n",
       "1        Intel HD Graphics 6000  macOS    1.34  2730.044822            0    0   \n",
       "2         Intel HD Graphics 620  No OS    1.86  1746.252000            0    0   \n",
       "3            AMD Radeon Pro 455  macOS    1.83  7706.134152            0    1   \n",
       "4  Intel Iris Plus Graphics 650  macOS    1.37  5477.461056            0    1   \n",
       "\n",
       "          PPI  \n",
       "0  226.983005  \n",
       "1  127.677940  \n",
       "2  141.211998  \n",
       "3  220.534624  \n",
       "4  226.983005  "
      ]
     },
     "execution_count": 1217,
     "metadata": {},
     "output_type": "execute_result"
    }
   ],
   "source": [
    "# Dropping Unnecessary Columns\n",
    "df.drop(columns=['ScreenResolution', 'Inches', 'Width', 'Height'], inplace=True)\n",
    "df.head()"
   ]
  },
  {
   "cell_type": "code",
   "execution_count": 1218,
   "id": "2ffc2839",
   "metadata": {},
   "outputs": [
    {
     "data": {
      "text/html": [
       "<div>\n",
       "<style scoped>\n",
       "    .dataframe tbody tr th:only-of-type {\n",
       "        vertical-align: middle;\n",
       "    }\n",
       "\n",
       "    .dataframe tbody tr th {\n",
       "        vertical-align: top;\n",
       "    }\n",
       "\n",
       "    .dataframe thead th {\n",
       "        text-align: right;\n",
       "    }\n",
       "</style>\n",
       "<table border=\"1\" class=\"dataframe\">\n",
       "  <thead>\n",
       "    <tr style=\"text-align: right;\">\n",
       "      <th></th>\n",
       "      <th>Company</th>\n",
       "      <th>TypeName</th>\n",
       "      <th>Cpu</th>\n",
       "      <th>Ram</th>\n",
       "      <th>Memory</th>\n",
       "      <th>Gpu</th>\n",
       "      <th>OpSys</th>\n",
       "      <th>Weight</th>\n",
       "      <th>Price</th>\n",
       "      <th>TouchScreen</th>\n",
       "      <th>IPS</th>\n",
       "      <th>PPI</th>\n",
       "    </tr>\n",
       "  </thead>\n",
       "  <tbody>\n",
       "    <tr>\n",
       "      <th>1279</th>\n",
       "      <td>Lenovo</td>\n",
       "      <td>Notebook</td>\n",
       "      <td>Intel Core i7 6700HQ 2.6GHz</td>\n",
       "      <td>8</td>\n",
       "      <td>1TB HDD</td>\n",
       "      <td>Nvidia GeForce GTX 960M</td>\n",
       "      <td>Windows 10</td>\n",
       "      <td>2.60</td>\n",
       "      <td>2730.22704</td>\n",
       "      <td>0</td>\n",
       "      <td>1</td>\n",
       "      <td>141.211998</td>\n",
       "    </tr>\n",
       "    <tr>\n",
       "      <th>733</th>\n",
       "      <td>Acer</td>\n",
       "      <td>Notebook</td>\n",
       "      <td>Intel Core i5 7200U 2.5GHz</td>\n",
       "      <td>4</td>\n",
       "      <td>500GB HDD</td>\n",
       "      <td>Intel HD Graphics 620</td>\n",
       "      <td>Windows 10</td>\n",
       "      <td>2.40</td>\n",
       "      <td>1697.66064</td>\n",
       "      <td>0</td>\n",
       "      <td>0</td>\n",
       "      <td>100.454670</td>\n",
       "    </tr>\n",
       "    <tr>\n",
       "      <th>129</th>\n",
       "      <td>HP</td>\n",
       "      <td>Notebook</td>\n",
       "      <td>Intel Core i5 8250U 1.6GHz</td>\n",
       "      <td>8</td>\n",
       "      <td>256GB SSD</td>\n",
       "      <td>Intel UHD Graphics 620</td>\n",
       "      <td>Windows 10</td>\n",
       "      <td>2.50</td>\n",
       "      <td>2818.29888</td>\n",
       "      <td>0</td>\n",
       "      <td>0</td>\n",
       "      <td>127.335675</td>\n",
       "    </tr>\n",
       "    <tr>\n",
       "      <th>843</th>\n",
       "      <td>Dell</td>\n",
       "      <td>Notebook</td>\n",
       "      <td>Intel Core i5 7200U 2.5GHz</td>\n",
       "      <td>8</td>\n",
       "      <td>128GB SSD</td>\n",
       "      <td>Intel HD Graphics 620</td>\n",
       "      <td>Windows 10</td>\n",
       "      <td>2.18</td>\n",
       "      <td>2168.35907</td>\n",
       "      <td>0</td>\n",
       "      <td>0</td>\n",
       "      <td>100.454670</td>\n",
       "    </tr>\n",
       "    <tr>\n",
       "      <th>792</th>\n",
       "      <td>Lenovo</td>\n",
       "      <td>2 in 1 Convertible</td>\n",
       "      <td>Intel Core i7 7500U 2.7GHz</td>\n",
       "      <td>8</td>\n",
       "      <td>512GB SSD</td>\n",
       "      <td>Intel HD Graphics 620</td>\n",
       "      <td>Windows 10</td>\n",
       "      <td>1.37</td>\n",
       "      <td>5982.81120</td>\n",
       "      <td>1</td>\n",
       "      <td>1</td>\n",
       "      <td>165.632118</td>\n",
       "    </tr>\n",
       "  </tbody>\n",
       "</table>\n",
       "</div>"
      ],
      "text/plain": [
       "     Company            TypeName                          Cpu  Ram     Memory  \\\n",
       "1279  Lenovo            Notebook  Intel Core i7 6700HQ 2.6GHz    8    1TB HDD   \n",
       "733     Acer            Notebook   Intel Core i5 7200U 2.5GHz    4  500GB HDD   \n",
       "129       HP            Notebook   Intel Core i5 8250U 1.6GHz    8  256GB SSD   \n",
       "843     Dell            Notebook   Intel Core i5 7200U 2.5GHz    8  128GB SSD   \n",
       "792   Lenovo  2 in 1 Convertible   Intel Core i7 7500U 2.7GHz    8  512GB SSD   \n",
       "\n",
       "                          Gpu       OpSys  Weight       Price  TouchScreen  \\\n",
       "1279  Nvidia GeForce GTX 960M  Windows 10    2.60  2730.22704            0   \n",
       "733     Intel HD Graphics 620  Windows 10    2.40  1697.66064            0   \n",
       "129    Intel UHD Graphics 620  Windows 10    2.50  2818.29888            0   \n",
       "843     Intel HD Graphics 620  Windows 10    2.18  2168.35907            0   \n",
       "792     Intel HD Graphics 620  Windows 10    1.37  5982.81120            1   \n",
       "\n",
       "      IPS         PPI  \n",
       "1279    1  141.211998  \n",
       "733     0  100.454670  \n",
       "129     0  127.335675  \n",
       "843     0  100.454670  \n",
       "792     1  165.632118  "
      ]
     },
     "execution_count": 1218,
     "metadata": {},
     "output_type": "execute_result"
    }
   ],
   "source": [
    "df.sample(5)"
   ]
  },
  {
   "cell_type": "markdown",
   "id": "ea5bd74d",
   "metadata": {},
   "source": [
    "Since **CPU** column consists of text data, this would have to be processed in order to increase the efficiency of the Model being developed."
   ]
  },
  {
   "cell_type": "code",
   "execution_count": 1219,
   "id": "a94135d9",
   "metadata": {},
   "outputs": [
    {
     "name": "stdout",
     "output_type": "stream",
     "text": [
      "['Intel Core i5 2.3GHz' 'Intel Core i5 1.8GHz'\n",
      " 'Intel Core i5 7200U 2.5GHz' 'Intel Core i7 2.7GHz'\n",
      " 'Intel Core i5 3.1GHz' 'AMD A9-Series 9420 3GHz' 'Intel Core i7 2.2GHz'\n",
      " 'Intel Core i7 8550U 1.8GHz' 'Intel Core i5 8250U 1.6GHz'\n",
      " 'Intel Core i3 6006U 2GHz' 'Intel Core i7 2.8GHz'\n",
      " 'Intel Core M m3 1.2GHz' 'Intel Core i7 7500U 2.7GHz'\n",
      " 'Intel Core i7 2.9GHz' 'Intel Core i3 7100U 2.4GHz'\n",
      " 'Intel Atom x5-Z8350 1.44GHz' 'Intel Core i5 7300HQ 2.5GHz'\n",
      " 'AMD E-Series E2-9000e 1.5GHz' 'Intel Core i5 1.6GHz'\n",
      " 'Intel Core i7 8650U 1.9GHz' 'Intel Atom x5-Z8300 1.44GHz'\n",
      " 'AMD E-Series E2-6110 1.5GHz' 'AMD A6-Series 9220 2.5GHz'\n",
      " 'Intel Celeron Dual Core N3350 1.1GHz' 'Intel Core i3 7130U 2.7GHz'\n",
      " 'Intel Core i7 7700HQ 2.8GHz' 'Intel Core i5 2.0GHz'\n",
      " 'AMD Ryzen 1700 3GHz' 'Intel Pentium Quad Core N4200 1.1GHz'\n",
      " 'Intel Atom x5-Z8550 1.44GHz' 'Intel Celeron Dual Core N3060 1.6GHz'\n",
      " 'Intel Core i5 1.3GHz' 'AMD FX 9830P 3GHz' 'Intel Core i7 7560U 2.4GHz'\n",
      " 'AMD E-Series 6110 1.5GHz' 'Intel Core i5 6200U 2.3GHz'\n",
      " 'Intel Core M 6Y75 1.2GHz' 'Intel Core i5 7500U 2.7GHz'\n",
      " 'Intel Core i3 6006U 2.2GHz' 'AMD A6-Series 9220 2.9GHz'\n",
      " 'Intel Core i7 6920HQ 2.9GHz' 'Intel Core i5 7Y54 1.2GHz'\n",
      " 'Intel Core i7 7820HK 2.9GHz' 'Intel Xeon E3-1505M V6 3GHz'\n",
      " 'Intel Core i7 6500U 2.5GHz' 'AMD E-Series 9000e 1.5GHz'\n",
      " 'AMD A10-Series A10-9620P 2.5GHz' 'AMD A6-Series A6-9220 2.5GHz'\n",
      " 'Intel Core i5 2.9GHz' 'Intel Core i7 6600U 2.6GHz'\n",
      " 'Intel Core i3 6006U 2.0GHz' 'Intel Celeron Dual Core 3205U 1.5GHz'\n",
      " 'Intel Core i7 7820HQ 2.9GHz' 'AMD A10-Series 9600P 2.4GHz'\n",
      " 'Intel Core i7 7600U 2.8GHz' 'AMD A8-Series 7410 2.2GHz'\n",
      " 'Intel Celeron Dual Core 3855U 1.6GHz'\n",
      " 'Intel Pentium Quad Core N3710 1.6GHz' 'AMD A12-Series 9720P 2.7GHz'\n",
      " 'Intel Core i5 7300U 2.6GHz' 'AMD A12-Series 9720P 3.6GHz'\n",
      " 'Intel Celeron Quad Core N3450 1.1GHz'\n",
      " 'Intel Celeron Dual Core N3060 1.60GHz' 'Intel Core i5 6440HQ 2.6GHz'\n",
      " 'Intel Core i7 6820HQ 2.7GHz' 'AMD Ryzen 1600 3.2GHz'\n",
      " 'Intel Core i7 7Y75 1.3GHz' 'Intel Core i5 7440HQ 2.8GHz'\n",
      " 'Intel Core i7 7660U 2.5GHz' 'Intel Core i7 7700HQ 2.7GHz'\n",
      " 'Intel Core M m3-7Y30 2.2GHz' 'Intel Core i5 7Y57 1.2GHz'\n",
      " 'Intel Core i7 6700HQ 2.6GHz' 'Intel Core i3 6100U 2.3GHz'\n",
      " 'AMD A10-Series 9620P 2.5GHz' 'AMD E-Series 7110 1.8GHz'\n",
      " 'Intel Celeron Dual Core N3350 2.0GHz' 'AMD A9-Series A9-9420 3GHz'\n",
      " 'Intel Core i7 6820HK 2.7GHz' 'Intel Core M 7Y30 1.0GHz'\n",
      " 'Intel Xeon E3-1535M v6 3.1GHz' 'Intel Celeron Quad Core N3160 1.6GHz'\n",
      " 'Intel Core i5 6300U 2.4GHz' 'Intel Core i3 6100U 2.1GHz'\n",
      " 'AMD E-Series E2-9000 2.2GHz' 'Intel Celeron Dual Core N3050 1.6GHz'\n",
      " 'Intel Core M M3-6Y30 0.9GHz' 'AMD A9-Series 9420 2.9GHz'\n",
      " 'Intel Core i5 6300HQ 2.3GHz' 'AMD A6-Series 7310 2GHz'\n",
      " 'Intel Atom Z8350 1.92GHz' 'Intel Xeon E3-1535M v5 2.9GHz'\n",
      " 'Intel Core i5 6260U 1.8GHz' 'Intel Pentium Dual Core N4200 1.1GHz'\n",
      " 'Intel Celeron Quad Core N3710 1.6GHz' 'Intel Core M 1.2GHz'\n",
      " 'AMD A12-Series 9700P 2.5GHz' 'Intel Core i7 7500U 2.5GHz'\n",
      " 'Intel Pentium Dual Core 4405U 2.1GHz' 'AMD A4-Series 7210 2.2GHz'\n",
      " 'Intel Core i7 6560U 2.2GHz' 'Intel Core M m7-6Y75 1.2GHz'\n",
      " 'AMD FX 8800P 2.1GHz' 'Intel Core M M7-6Y75 1.2GHz'\n",
      " 'Intel Core i5 7200U 2.50GHz' 'Intel Core i5 7200U 2.70GHz'\n",
      " 'Intel Atom X5-Z8350 1.44GHz' 'Intel Core i5 7200U 2.7GHz'\n",
      " 'Intel Core M 1.1GHz' 'Intel Pentium Dual Core 4405Y 1.5GHz'\n",
      " 'Intel Pentium Quad Core N3700 1.6GHz' 'Intel Core M 6Y54 1.1GHz'\n",
      " 'Intel Core i7 6500U 2.50GHz' 'Intel Celeron Dual Core N3350 2GHz'\n",
      " 'Samsung Cortex A72&A53 2.0GHz' 'AMD E-Series 9000 2.2GHz'\n",
      " 'Intel Core M 6Y30 0.9GHz' 'AMD A9-Series 9410 2.9GHz']\n"
     ]
    }
   ],
   "source": [
    "print(df['Cpu'].unique())"
   ]
  },
  {
   "cell_type": "markdown",
   "id": "7033b98b",
   "metadata": {},
   "source": [
    "As most processors within the dataset are manufactured by Intel, this could further be classified into **i3**, **i5**, **i7**. Alongside this, the second leading processor manufacturer is AMD, hence AMD processors would be classified into another category known as **AMD**. Processors that don't fall under these categories would be classified as **Other**"
   ]
  },
  {
   "cell_type": "code",
   "execution_count": 1220,
   "id": "77c30816",
   "metadata": {},
   "outputs": [
    {
     "data": {
      "text/html": [
       "<div>\n",
       "<style scoped>\n",
       "    .dataframe tbody tr th:only-of-type {\n",
       "        vertical-align: middle;\n",
       "    }\n",
       "\n",
       "    .dataframe tbody tr th {\n",
       "        vertical-align: top;\n",
       "    }\n",
       "\n",
       "    .dataframe thead th {\n",
       "        text-align: right;\n",
       "    }\n",
       "</style>\n",
       "<table border=\"1\" class=\"dataframe\">\n",
       "  <thead>\n",
       "    <tr style=\"text-align: right;\">\n",
       "      <th></th>\n",
       "      <th>Company</th>\n",
       "      <th>TypeName</th>\n",
       "      <th>Cpu</th>\n",
       "      <th>Ram</th>\n",
       "      <th>Memory</th>\n",
       "      <th>Gpu</th>\n",
       "      <th>OpSys</th>\n",
       "      <th>Weight</th>\n",
       "      <th>Price</th>\n",
       "      <th>TouchScreen</th>\n",
       "      <th>IPS</th>\n",
       "      <th>PPI</th>\n",
       "      <th>Processor</th>\n",
       "    </tr>\n",
       "  </thead>\n",
       "  <tbody>\n",
       "    <tr>\n",
       "      <th>0</th>\n",
       "      <td>Apple</td>\n",
       "      <td>Ultrabook</td>\n",
       "      <td>Intel Core i5 2.3GHz</td>\n",
       "      <td>8</td>\n",
       "      <td>128GB SSD</td>\n",
       "      <td>Intel Iris Plus Graphics 640</td>\n",
       "      <td>macOS</td>\n",
       "      <td>1.37</td>\n",
       "      <td>4068.584942</td>\n",
       "      <td>0</td>\n",
       "      <td>1</td>\n",
       "      <td>226.983005</td>\n",
       "      <td>Intel Core i5</td>\n",
       "    </tr>\n",
       "    <tr>\n",
       "      <th>1</th>\n",
       "      <td>Apple</td>\n",
       "      <td>Ultrabook</td>\n",
       "      <td>Intel Core i5 1.8GHz</td>\n",
       "      <td>8</td>\n",
       "      <td>128GB Flash Storage</td>\n",
       "      <td>Intel HD Graphics 6000</td>\n",
       "      <td>macOS</td>\n",
       "      <td>1.34</td>\n",
       "      <td>2730.044822</td>\n",
       "      <td>0</td>\n",
       "      <td>0</td>\n",
       "      <td>127.677940</td>\n",
       "      <td>Intel Core i5</td>\n",
       "    </tr>\n",
       "    <tr>\n",
       "      <th>2</th>\n",
       "      <td>HP</td>\n",
       "      <td>Notebook</td>\n",
       "      <td>Intel Core i5 7200U 2.5GHz</td>\n",
       "      <td>8</td>\n",
       "      <td>256GB SSD</td>\n",
       "      <td>Intel HD Graphics 620</td>\n",
       "      <td>No OS</td>\n",
       "      <td>1.86</td>\n",
       "      <td>1746.252000</td>\n",
       "      <td>0</td>\n",
       "      <td>0</td>\n",
       "      <td>141.211998</td>\n",
       "      <td>Intel Core i5</td>\n",
       "    </tr>\n",
       "    <tr>\n",
       "      <th>3</th>\n",
       "      <td>Apple</td>\n",
       "      <td>Ultrabook</td>\n",
       "      <td>Intel Core i7 2.7GHz</td>\n",
       "      <td>16</td>\n",
       "      <td>512GB SSD</td>\n",
       "      <td>AMD Radeon Pro 455</td>\n",
       "      <td>macOS</td>\n",
       "      <td>1.83</td>\n",
       "      <td>7706.134152</td>\n",
       "      <td>0</td>\n",
       "      <td>1</td>\n",
       "      <td>220.534624</td>\n",
       "      <td>Intel Core i7</td>\n",
       "    </tr>\n",
       "    <tr>\n",
       "      <th>4</th>\n",
       "      <td>Apple</td>\n",
       "      <td>Ultrabook</td>\n",
       "      <td>Intel Core i5 3.1GHz</td>\n",
       "      <td>8</td>\n",
       "      <td>256GB SSD</td>\n",
       "      <td>Intel Iris Plus Graphics 650</td>\n",
       "      <td>macOS</td>\n",
       "      <td>1.37</td>\n",
       "      <td>5477.461056</td>\n",
       "      <td>0</td>\n",
       "      <td>1</td>\n",
       "      <td>226.983005</td>\n",
       "      <td>Intel Core i5</td>\n",
       "    </tr>\n",
       "  </tbody>\n",
       "</table>\n",
       "</div>"
      ],
      "text/plain": [
       "  Company   TypeName                         Cpu  Ram               Memory  \\\n",
       "0   Apple  Ultrabook        Intel Core i5 2.3GHz    8            128GB SSD   \n",
       "1   Apple  Ultrabook        Intel Core i5 1.8GHz    8  128GB Flash Storage   \n",
       "2      HP   Notebook  Intel Core i5 7200U 2.5GHz    8            256GB SSD   \n",
       "3   Apple  Ultrabook        Intel Core i7 2.7GHz   16            512GB SSD   \n",
       "4   Apple  Ultrabook        Intel Core i5 3.1GHz    8            256GB SSD   \n",
       "\n",
       "                            Gpu  OpSys  Weight        Price  TouchScreen  IPS  \\\n",
       "0  Intel Iris Plus Graphics 640  macOS    1.37  4068.584942            0    1   \n",
       "1        Intel HD Graphics 6000  macOS    1.34  2730.044822            0    0   \n",
       "2         Intel HD Graphics 620  No OS    1.86  1746.252000            0    0   \n",
       "3            AMD Radeon Pro 455  macOS    1.83  7706.134152            0    1   \n",
       "4  Intel Iris Plus Graphics 650  macOS    1.37  5477.461056            0    1   \n",
       "\n",
       "          PPI      Processor  \n",
       "0  226.983005  Intel Core i5  \n",
       "1  127.677940  Intel Core i5  \n",
       "2  141.211998  Intel Core i5  \n",
       "3  220.534624  Intel Core i7  \n",
       "4  226.983005  Intel Core i5  "
      ]
     },
     "execution_count": 1220,
     "metadata": {},
     "output_type": "execute_result"
    }
   ],
   "source": [
    "# Extract Processor into new 'Processor' Column\n",
    "df['Processor'] = df['Cpu'].apply(lambda text:' '.join(text.split()[:3]))\n",
    "df.head()"
   ]
  },
  {
   "cell_type": "code",
   "execution_count": 1221,
   "id": "f14cb102",
   "metadata": {},
   "outputs": [
    {
     "data": {
      "text/html": [
       "<div>\n",
       "<style scoped>\n",
       "    .dataframe tbody tr th:only-of-type {\n",
       "        vertical-align: middle;\n",
       "    }\n",
       "\n",
       "    .dataframe tbody tr th {\n",
       "        vertical-align: top;\n",
       "    }\n",
       "\n",
       "    .dataframe thead th {\n",
       "        text-align: right;\n",
       "    }\n",
       "</style>\n",
       "<table border=\"1\" class=\"dataframe\">\n",
       "  <thead>\n",
       "    <tr style=\"text-align: right;\">\n",
       "      <th></th>\n",
       "      <th>Company</th>\n",
       "      <th>TypeName</th>\n",
       "      <th>Cpu</th>\n",
       "      <th>Ram</th>\n",
       "      <th>Memory</th>\n",
       "      <th>Gpu</th>\n",
       "      <th>OpSys</th>\n",
       "      <th>Weight</th>\n",
       "      <th>Price</th>\n",
       "      <th>TouchScreen</th>\n",
       "      <th>IPS</th>\n",
       "      <th>PPI</th>\n",
       "      <th>Processor</th>\n",
       "    </tr>\n",
       "  </thead>\n",
       "  <tbody>\n",
       "    <tr>\n",
       "      <th>197</th>\n",
       "      <td>HP</td>\n",
       "      <td>Notebook</td>\n",
       "      <td>Intel Core i5 8250U 1.6GHz</td>\n",
       "      <td>8</td>\n",
       "      <td>512GB SSD</td>\n",
       "      <td>Intel UHD Graphics 620</td>\n",
       "      <td>Windows 10</td>\n",
       "      <td>1.49</td>\n",
       "      <td>2912.444640</td>\n",
       "      <td>0</td>\n",
       "      <td>0</td>\n",
       "      <td>165.632118</td>\n",
       "      <td>Intel Core i5</td>\n",
       "    </tr>\n",
       "    <tr>\n",
       "      <th>220</th>\n",
       "      <td>Dell</td>\n",
       "      <td>Notebook</td>\n",
       "      <td>Intel Core i5 8250U 1.6GHz</td>\n",
       "      <td>8</td>\n",
       "      <td>256GB SSD</td>\n",
       "      <td>AMD Radeon 520</td>\n",
       "      <td>Linux</td>\n",
       "      <td>2.20</td>\n",
       "      <td>2057.084856</td>\n",
       "      <td>0</td>\n",
       "      <td>0</td>\n",
       "      <td>141.211998</td>\n",
       "      <td>Intel Core i5</td>\n",
       "    </tr>\n",
       "    <tr>\n",
       "      <th>942</th>\n",
       "      <td>Acer</td>\n",
       "      <td>Notebook</td>\n",
       "      <td>Intel Core i5 7200U 2.5GHz</td>\n",
       "      <td>4</td>\n",
       "      <td>500GB HDD</td>\n",
       "      <td>Intel HD Graphics 620</td>\n",
       "      <td>Windows 10</td>\n",
       "      <td>2.23</td>\n",
       "      <td>1879.878240</td>\n",
       "      <td>0</td>\n",
       "      <td>0</td>\n",
       "      <td>100.454670</td>\n",
       "      <td>Intel Core i5</td>\n",
       "    </tr>\n",
       "    <tr>\n",
       "      <th>514</th>\n",
       "      <td>Xiaomi</td>\n",
       "      <td>Notebook</td>\n",
       "      <td>Intel Core i7 8550U 1.8GHz</td>\n",
       "      <td>16</td>\n",
       "      <td>256GB SSD</td>\n",
       "      <td>Nvidia GeForce MX150</td>\n",
       "      <td>No OS</td>\n",
       "      <td>1.95</td>\n",
       "      <td>4251.592152</td>\n",
       "      <td>0</td>\n",
       "      <td>1</td>\n",
       "      <td>141.211998</td>\n",
       "      <td>Intel Core i7</td>\n",
       "    </tr>\n",
       "    <tr>\n",
       "      <th>947</th>\n",
       "      <td>Lenovo</td>\n",
       "      <td>Notebook</td>\n",
       "      <td>Intel Core i7 7500U 2.7GHz</td>\n",
       "      <td>8</td>\n",
       "      <td>1TB HDD</td>\n",
       "      <td>Nvidia GeForce 920MX</td>\n",
       "      <td>No OS</td>\n",
       "      <td>2.20</td>\n",
       "      <td>2080.317600</td>\n",
       "      <td>0</td>\n",
       "      <td>0</td>\n",
       "      <td>141.211998</td>\n",
       "      <td>Intel Core i7</td>\n",
       "    </tr>\n",
       "  </tbody>\n",
       "</table>\n",
       "</div>"
      ],
      "text/plain": [
       "    Company  TypeName                         Cpu  Ram     Memory  \\\n",
       "197      HP  Notebook  Intel Core i5 8250U 1.6GHz    8  512GB SSD   \n",
       "220    Dell  Notebook  Intel Core i5 8250U 1.6GHz    8  256GB SSD   \n",
       "942    Acer  Notebook  Intel Core i5 7200U 2.5GHz    4  500GB HDD   \n",
       "514  Xiaomi  Notebook  Intel Core i7 8550U 1.8GHz   16  256GB SSD   \n",
       "947  Lenovo  Notebook  Intel Core i7 7500U 2.7GHz    8    1TB HDD   \n",
       "\n",
       "                        Gpu       OpSys  Weight        Price  TouchScreen  \\\n",
       "197  Intel UHD Graphics 620  Windows 10    1.49  2912.444640            0   \n",
       "220          AMD Radeon 520       Linux    2.20  2057.084856            0   \n",
       "942   Intel HD Graphics 620  Windows 10    2.23  1879.878240            0   \n",
       "514    Nvidia GeForce MX150       No OS    1.95  4251.592152            0   \n",
       "947    Nvidia GeForce 920MX       No OS    2.20  2080.317600            0   \n",
       "\n",
       "     IPS         PPI      Processor  \n",
       "197    0  165.632118  Intel Core i5  \n",
       "220    0  141.211998  Intel Core i5  \n",
       "942    0  100.454670  Intel Core i5  \n",
       "514    1  141.211998  Intel Core i7  \n",
       "947    0  141.211998  Intel Core i7  "
      ]
     },
     "execution_count": 1221,
     "metadata": {},
     "output_type": "execute_result"
    }
   ],
   "source": [
    "df.sample(5)"
   ]
  },
  {
   "cell_type": "markdown",
   "id": "edc908bf",
   "metadata": {},
   "source": [
    "### Classifying Processors"
   ]
  },
  {
   "cell_type": "code",
   "execution_count": 1222,
   "id": "56c2c86e",
   "metadata": {},
   "outputs": [],
   "source": [
    "# Function to Classify Processors\n",
    "def classify_processor(text):\n",
    "    \n",
    "    if text == 'Intel Core i7' or text == 'Intel Core i5' or text == 'Intel Core i3':\n",
    "        return text\n",
    "    \n",
    "    else:\n",
    "        if text.split()[0] == 'AMD':\n",
    "            return 'AMD Processor'\n",
    "        \n",
    "        else:\n",
    "            return 'Other'"
   ]
  },
  {
   "cell_type": "code",
   "execution_count": 1223,
   "id": "9b455da7",
   "metadata": {},
   "outputs": [
    {
     "data": {
      "text/html": [
       "<div>\n",
       "<style scoped>\n",
       "    .dataframe tbody tr th:only-of-type {\n",
       "        vertical-align: middle;\n",
       "    }\n",
       "\n",
       "    .dataframe tbody tr th {\n",
       "        vertical-align: top;\n",
       "    }\n",
       "\n",
       "    .dataframe thead th {\n",
       "        text-align: right;\n",
       "    }\n",
       "</style>\n",
       "<table border=\"1\" class=\"dataframe\">\n",
       "  <thead>\n",
       "    <tr style=\"text-align: right;\">\n",
       "      <th></th>\n",
       "      <th>Company</th>\n",
       "      <th>TypeName</th>\n",
       "      <th>Cpu</th>\n",
       "      <th>Ram</th>\n",
       "      <th>Memory</th>\n",
       "      <th>Gpu</th>\n",
       "      <th>OpSys</th>\n",
       "      <th>Weight</th>\n",
       "      <th>Price</th>\n",
       "      <th>TouchScreen</th>\n",
       "      <th>IPS</th>\n",
       "      <th>PPI</th>\n",
       "      <th>Processor</th>\n",
       "    </tr>\n",
       "  </thead>\n",
       "  <tbody>\n",
       "    <tr>\n",
       "      <th>0</th>\n",
       "      <td>Apple</td>\n",
       "      <td>Ultrabook</td>\n",
       "      <td>Intel Core i5 2.3GHz</td>\n",
       "      <td>8</td>\n",
       "      <td>128GB SSD</td>\n",
       "      <td>Intel Iris Plus Graphics 640</td>\n",
       "      <td>macOS</td>\n",
       "      <td>1.37</td>\n",
       "      <td>4068.584942</td>\n",
       "      <td>0</td>\n",
       "      <td>1</td>\n",
       "      <td>226.983005</td>\n",
       "      <td>Intel Core i5</td>\n",
       "    </tr>\n",
       "    <tr>\n",
       "      <th>1</th>\n",
       "      <td>Apple</td>\n",
       "      <td>Ultrabook</td>\n",
       "      <td>Intel Core i5 1.8GHz</td>\n",
       "      <td>8</td>\n",
       "      <td>128GB Flash Storage</td>\n",
       "      <td>Intel HD Graphics 6000</td>\n",
       "      <td>macOS</td>\n",
       "      <td>1.34</td>\n",
       "      <td>2730.044822</td>\n",
       "      <td>0</td>\n",
       "      <td>0</td>\n",
       "      <td>127.677940</td>\n",
       "      <td>Intel Core i5</td>\n",
       "    </tr>\n",
       "    <tr>\n",
       "      <th>2</th>\n",
       "      <td>HP</td>\n",
       "      <td>Notebook</td>\n",
       "      <td>Intel Core i5 7200U 2.5GHz</td>\n",
       "      <td>8</td>\n",
       "      <td>256GB SSD</td>\n",
       "      <td>Intel HD Graphics 620</td>\n",
       "      <td>No OS</td>\n",
       "      <td>1.86</td>\n",
       "      <td>1746.252000</td>\n",
       "      <td>0</td>\n",
       "      <td>0</td>\n",
       "      <td>141.211998</td>\n",
       "      <td>Intel Core i5</td>\n",
       "    </tr>\n",
       "    <tr>\n",
       "      <th>3</th>\n",
       "      <td>Apple</td>\n",
       "      <td>Ultrabook</td>\n",
       "      <td>Intel Core i7 2.7GHz</td>\n",
       "      <td>16</td>\n",
       "      <td>512GB SSD</td>\n",
       "      <td>AMD Radeon Pro 455</td>\n",
       "      <td>macOS</td>\n",
       "      <td>1.83</td>\n",
       "      <td>7706.134152</td>\n",
       "      <td>0</td>\n",
       "      <td>1</td>\n",
       "      <td>220.534624</td>\n",
       "      <td>Intel Core i7</td>\n",
       "    </tr>\n",
       "    <tr>\n",
       "      <th>4</th>\n",
       "      <td>Apple</td>\n",
       "      <td>Ultrabook</td>\n",
       "      <td>Intel Core i5 3.1GHz</td>\n",
       "      <td>8</td>\n",
       "      <td>256GB SSD</td>\n",
       "      <td>Intel Iris Plus Graphics 650</td>\n",
       "      <td>macOS</td>\n",
       "      <td>1.37</td>\n",
       "      <td>5477.461056</td>\n",
       "      <td>0</td>\n",
       "      <td>1</td>\n",
       "      <td>226.983005</td>\n",
       "      <td>Intel Core i5</td>\n",
       "    </tr>\n",
       "  </tbody>\n",
       "</table>\n",
       "</div>"
      ],
      "text/plain": [
       "  Company   TypeName                         Cpu  Ram               Memory  \\\n",
       "0   Apple  Ultrabook        Intel Core i5 2.3GHz    8            128GB SSD   \n",
       "1   Apple  Ultrabook        Intel Core i5 1.8GHz    8  128GB Flash Storage   \n",
       "2      HP   Notebook  Intel Core i5 7200U 2.5GHz    8            256GB SSD   \n",
       "3   Apple  Ultrabook        Intel Core i7 2.7GHz   16            512GB SSD   \n",
       "4   Apple  Ultrabook        Intel Core i5 3.1GHz    8            256GB SSD   \n",
       "\n",
       "                            Gpu  OpSys  Weight        Price  TouchScreen  IPS  \\\n",
       "0  Intel Iris Plus Graphics 640  macOS    1.37  4068.584942            0    1   \n",
       "1        Intel HD Graphics 6000  macOS    1.34  2730.044822            0    0   \n",
       "2         Intel HD Graphics 620  No OS    1.86  1746.252000            0    0   \n",
       "3            AMD Radeon Pro 455  macOS    1.83  7706.134152            0    1   \n",
       "4  Intel Iris Plus Graphics 650  macOS    1.37  5477.461056            0    1   \n",
       "\n",
       "          PPI      Processor  \n",
       "0  226.983005  Intel Core i5  \n",
       "1  127.677940  Intel Core i5  \n",
       "2  141.211998  Intel Core i5  \n",
       "3  220.534624  Intel Core i7  \n",
       "4  226.983005  Intel Core i5  "
      ]
     },
     "execution_count": 1223,
     "metadata": {},
     "output_type": "execute_result"
    }
   ],
   "source": [
    "df['Processor'] = df['Processor'].apply(lambda text: classify_processor(text))\n",
    "df.head()"
   ]
  },
  {
   "cell_type": "code",
   "execution_count": 1224,
   "id": "78e85140",
   "metadata": {},
   "outputs": [
    {
     "data": {
      "text/html": [
       "<div>\n",
       "<style scoped>\n",
       "    .dataframe tbody tr th:only-of-type {\n",
       "        vertical-align: middle;\n",
       "    }\n",
       "\n",
       "    .dataframe tbody tr th {\n",
       "        vertical-align: top;\n",
       "    }\n",
       "\n",
       "    .dataframe thead th {\n",
       "        text-align: right;\n",
       "    }\n",
       "</style>\n",
       "<table border=\"1\" class=\"dataframe\">\n",
       "  <thead>\n",
       "    <tr style=\"text-align: right;\">\n",
       "      <th></th>\n",
       "      <th>Company</th>\n",
       "      <th>TypeName</th>\n",
       "      <th>Cpu</th>\n",
       "      <th>Ram</th>\n",
       "      <th>Memory</th>\n",
       "      <th>Gpu</th>\n",
       "      <th>OpSys</th>\n",
       "      <th>Weight</th>\n",
       "      <th>Price</th>\n",
       "      <th>TouchScreen</th>\n",
       "      <th>IPS</th>\n",
       "      <th>PPI</th>\n",
       "      <th>Processor</th>\n",
       "    </tr>\n",
       "  </thead>\n",
       "  <tbody>\n",
       "    <tr>\n",
       "      <th>327</th>\n",
       "      <td>Asus</td>\n",
       "      <td>Ultrabook</td>\n",
       "      <td>Intel Core i7 7500U 2.7GHz</td>\n",
       "      <td>8</td>\n",
       "      <td>256GB SSD</td>\n",
       "      <td>Nvidia GeForce 940MX</td>\n",
       "      <td>Windows 10</td>\n",
       "      <td>1.70</td>\n",
       "      <td>3188.504304</td>\n",
       "      <td>0</td>\n",
       "      <td>0</td>\n",
       "      <td>141.211998</td>\n",
       "      <td>Intel Core i7</td>\n",
       "    </tr>\n",
       "    <tr>\n",
       "      <th>467</th>\n",
       "      <td>Dell</td>\n",
       "      <td>Notebook</td>\n",
       "      <td>Intel Core i5 8250U 1.6GHz</td>\n",
       "      <td>8</td>\n",
       "      <td>2TB HDD</td>\n",
       "      <td>AMD Radeon 530</td>\n",
       "      <td>Windows 10</td>\n",
       "      <td>2.02</td>\n",
       "      <td>2305.052640</td>\n",
       "      <td>0</td>\n",
       "      <td>0</td>\n",
       "      <td>141.211998</td>\n",
       "      <td>Intel Core i5</td>\n",
       "    </tr>\n",
       "    <tr>\n",
       "      <th>652</th>\n",
       "      <td>Dell</td>\n",
       "      <td>Ultrabook</td>\n",
       "      <td>Intel Core i5 8250U 1.6GHz</td>\n",
       "      <td>8</td>\n",
       "      <td>256GB SSD</td>\n",
       "      <td>Intel UHD Graphics 620</td>\n",
       "      <td>Windows 10</td>\n",
       "      <td>1.20</td>\n",
       "      <td>4403.288304</td>\n",
       "      <td>0</td>\n",
       "      <td>0</td>\n",
       "      <td>165.632118</td>\n",
       "      <td>Intel Core i5</td>\n",
       "    </tr>\n",
       "    <tr>\n",
       "      <th>54</th>\n",
       "      <td>Acer</td>\n",
       "      <td>Notebook</td>\n",
       "      <td>Intel Core i3 7100U 2.4GHz</td>\n",
       "      <td>4</td>\n",
       "      <td>1TB HDD</td>\n",
       "      <td>Intel HD Graphics 620</td>\n",
       "      <td>Windows 10</td>\n",
       "      <td>2.40</td>\n",
       "      <td>1166.192640</td>\n",
       "      <td>0</td>\n",
       "      <td>0</td>\n",
       "      <td>100.454670</td>\n",
       "      <td>Intel Core i3</td>\n",
       "    </tr>\n",
       "    <tr>\n",
       "      <th>835</th>\n",
       "      <td>Dell</td>\n",
       "      <td>Gaming</td>\n",
       "      <td>Intel Core i7 7700HQ 2.8GHz</td>\n",
       "      <td>16</td>\n",
       "      <td>256GB SSD +  1TB HDD</td>\n",
       "      <td>Nvidia GeForce GTX 1070</td>\n",
       "      <td>Windows 10</td>\n",
       "      <td>3.21</td>\n",
       "      <td>8426.440325</td>\n",
       "      <td>0</td>\n",
       "      <td>0</td>\n",
       "      <td>141.211998</td>\n",
       "      <td>Intel Core i7</td>\n",
       "    </tr>\n",
       "  </tbody>\n",
       "</table>\n",
       "</div>"
      ],
      "text/plain": [
       "    Company   TypeName                          Cpu  Ram  \\\n",
       "327    Asus  Ultrabook   Intel Core i7 7500U 2.7GHz    8   \n",
       "467    Dell   Notebook   Intel Core i5 8250U 1.6GHz    8   \n",
       "652    Dell  Ultrabook   Intel Core i5 8250U 1.6GHz    8   \n",
       "54     Acer   Notebook   Intel Core i3 7100U 2.4GHz    4   \n",
       "835    Dell     Gaming  Intel Core i7 7700HQ 2.8GHz   16   \n",
       "\n",
       "                   Memory                      Gpu       OpSys  Weight  \\\n",
       "327             256GB SSD     Nvidia GeForce 940MX  Windows 10    1.70   \n",
       "467               2TB HDD           AMD Radeon 530  Windows 10    2.02   \n",
       "652             256GB SSD   Intel UHD Graphics 620  Windows 10    1.20   \n",
       "54                1TB HDD    Intel HD Graphics 620  Windows 10    2.40   \n",
       "835  256GB SSD +  1TB HDD  Nvidia GeForce GTX 1070  Windows 10    3.21   \n",
       "\n",
       "           Price  TouchScreen  IPS         PPI      Processor  \n",
       "327  3188.504304            0    0  141.211998  Intel Core i7  \n",
       "467  2305.052640            0    0  141.211998  Intel Core i5  \n",
       "652  4403.288304            0    0  165.632118  Intel Core i5  \n",
       "54   1166.192640            0    0  100.454670  Intel Core i3  \n",
       "835  8426.440325            0    0  141.211998  Intel Core i7  "
      ]
     },
     "execution_count": 1224,
     "metadata": {},
     "output_type": "execute_result"
    }
   ],
   "source": [
    "df.sample(5)"
   ]
  },
  {
   "cell_type": "code",
   "execution_count": 1225,
   "id": "c5c52ad1",
   "metadata": {},
   "outputs": [
    {
     "data": {
      "text/plain": [
       "Intel Core i7    527\n",
       "Intel Core i5    423\n",
       "Other            155\n",
       "Intel Core i3    136\n",
       "AMD Processor     62\n",
       "Name: Processor, dtype: int64"
      ]
     },
     "execution_count": 1225,
     "metadata": {},
     "output_type": "execute_result"
    }
   ],
   "source": [
    "df['Processor'].value_counts()"
   ]
  },
  {
   "cell_type": "code",
   "execution_count": 1226,
   "id": "3f70ae76",
   "metadata": {},
   "outputs": [
    {
     "name": "stderr",
     "output_type": "stream",
     "text": [
      "C:\\Users\\tuans\\anaconda3\\lib\\site-packages\\seaborn\\_decorators.py:36: FutureWarning: Pass the following variable as a keyword arg: x. From version 0.12, the only valid positional argument will be `data`, and passing other arguments without an explicit keyword will result in an error or misinterpretation.\n",
      "  warnings.warn(\n"
     ]
    },
    {
     "data": {
      "text/plain": [
       "<AxesSubplot:xlabel='Processor', ylabel='count'>"
      ]
     },
     "execution_count": 1226,
     "metadata": {},
     "output_type": "execute_result"
    },
    {
     "data": {
      "image/png": "[encoded data removed]",
      "text/plain": [
       "<Figure size 1080x576 with 1 Axes>"
      ]
     },
     "metadata": {
      "needs_background": "light"
     },
     "output_type": "display_data"
    }
   ],
   "source": [
    "# Plotting types of Processors\n",
    "plt.figure(figsize=(15,8))\n",
    "sn.countplot(df['Processor'], palette='magma')"
   ]
  },
  {
   "cell_type": "code",
   "execution_count": 1227,
   "id": "b39a9d0a",
   "metadata": {},
   "outputs": [
    {
     "data": {
      "text/plain": [
       "<AxesSubplot:xlabel='Processor', ylabel='Price'>"
      ]
     },
     "execution_count": 1227,
     "metadata": {},
     "output_type": "execute_result"
    },
    {
     "data": {
      "image/png": "[encoded data removed]",
      "text/plain": [
       "<Figure size 1080x576 with 1 Axes>"
      ]
     },
     "metadata": {
      "needs_background": "light"
     },
     "output_type": "display_data"
    }
   ],
   "source": [
    "# Plotting Laptop Prices based on Processor\n",
    "plt.figure(figsize=(15,8))\n",
    "sn.barplot(x = df['Processor'], y = df['Price'], palette = 'Blues_r')"
   ]
  },
  {
   "cell_type": "markdown",
   "id": "9314f8ca",
   "metadata": {},
   "source": [
    "As shown in the graph above, i7 tends to be the most expensive followed by i5. This was then followed by i3, AMD and other processors that are which are relatively the same price."
   ]
  },
  {
   "cell_type": "code",
   "execution_count": 1228,
   "id": "03fc1cb8",
   "metadata": {},
   "outputs": [
    {
     "data": {
      "text/html": [
       "<div>\n",
       "<style scoped>\n",
       "    .dataframe tbody tr th:only-of-type {\n",
       "        vertical-align: middle;\n",
       "    }\n",
       "\n",
       "    .dataframe tbody tr th {\n",
       "        vertical-align: top;\n",
       "    }\n",
       "\n",
       "    .dataframe thead th {\n",
       "        text-align: right;\n",
       "    }\n",
       "</style>\n",
       "<table border=\"1\" class=\"dataframe\">\n",
       "  <thead>\n",
       "    <tr style=\"text-align: right;\">\n",
       "      <th></th>\n",
       "      <th>Company</th>\n",
       "      <th>TypeName</th>\n",
       "      <th>Ram</th>\n",
       "      <th>Memory</th>\n",
       "      <th>Gpu</th>\n",
       "      <th>OpSys</th>\n",
       "      <th>Weight</th>\n",
       "      <th>Price</th>\n",
       "      <th>TouchScreen</th>\n",
       "      <th>IPS</th>\n",
       "      <th>PPI</th>\n",
       "      <th>Processor</th>\n",
       "    </tr>\n",
       "  </thead>\n",
       "  <tbody>\n",
       "    <tr>\n",
       "      <th>0</th>\n",
       "      <td>Apple</td>\n",
       "      <td>Ultrabook</td>\n",
       "      <td>8</td>\n",
       "      <td>128GB SSD</td>\n",
       "      <td>Intel Iris Plus Graphics 640</td>\n",
       "      <td>macOS</td>\n",
       "      <td>1.37</td>\n",
       "      <td>4068.584942</td>\n",
       "      <td>0</td>\n",
       "      <td>1</td>\n",
       "      <td>226.983005</td>\n",
       "      <td>Intel Core i5</td>\n",
       "    </tr>\n",
       "    <tr>\n",
       "      <th>1</th>\n",
       "      <td>Apple</td>\n",
       "      <td>Ultrabook</td>\n",
       "      <td>8</td>\n",
       "      <td>128GB Flash Storage</td>\n",
       "      <td>Intel HD Graphics 6000</td>\n",
       "      <td>macOS</td>\n",
       "      <td>1.34</td>\n",
       "      <td>2730.044822</td>\n",
       "      <td>0</td>\n",
       "      <td>0</td>\n",
       "      <td>127.677940</td>\n",
       "      <td>Intel Core i5</td>\n",
       "    </tr>\n",
       "    <tr>\n",
       "      <th>2</th>\n",
       "      <td>HP</td>\n",
       "      <td>Notebook</td>\n",
       "      <td>8</td>\n",
       "      <td>256GB SSD</td>\n",
       "      <td>Intel HD Graphics 620</td>\n",
       "      <td>No OS</td>\n",
       "      <td>1.86</td>\n",
       "      <td>1746.252000</td>\n",
       "      <td>0</td>\n",
       "      <td>0</td>\n",
       "      <td>141.211998</td>\n",
       "      <td>Intel Core i5</td>\n",
       "    </tr>\n",
       "    <tr>\n",
       "      <th>3</th>\n",
       "      <td>Apple</td>\n",
       "      <td>Ultrabook</td>\n",
       "      <td>16</td>\n",
       "      <td>512GB SSD</td>\n",
       "      <td>AMD Radeon Pro 455</td>\n",
       "      <td>macOS</td>\n",
       "      <td>1.83</td>\n",
       "      <td>7706.134152</td>\n",
       "      <td>0</td>\n",
       "      <td>1</td>\n",
       "      <td>220.534624</td>\n",
       "      <td>Intel Core i7</td>\n",
       "    </tr>\n",
       "    <tr>\n",
       "      <th>4</th>\n",
       "      <td>Apple</td>\n",
       "      <td>Ultrabook</td>\n",
       "      <td>8</td>\n",
       "      <td>256GB SSD</td>\n",
       "      <td>Intel Iris Plus Graphics 650</td>\n",
       "      <td>macOS</td>\n",
       "      <td>1.37</td>\n",
       "      <td>5477.461056</td>\n",
       "      <td>0</td>\n",
       "      <td>1</td>\n",
       "      <td>226.983005</td>\n",
       "      <td>Intel Core i5</td>\n",
       "    </tr>\n",
       "  </tbody>\n",
       "</table>\n",
       "</div>"
      ],
      "text/plain": [
       "  Company   TypeName  Ram               Memory                           Gpu  \\\n",
       "0   Apple  Ultrabook    8            128GB SSD  Intel Iris Plus Graphics 640   \n",
       "1   Apple  Ultrabook    8  128GB Flash Storage        Intel HD Graphics 6000   \n",
       "2      HP   Notebook    8            256GB SSD         Intel HD Graphics 620   \n",
       "3   Apple  Ultrabook   16            512GB SSD            AMD Radeon Pro 455   \n",
       "4   Apple  Ultrabook    8            256GB SSD  Intel Iris Plus Graphics 650   \n",
       "\n",
       "   OpSys  Weight        Price  TouchScreen  IPS         PPI      Processor  \n",
       "0  macOS    1.37  4068.584942            0    1  226.983005  Intel Core i5  \n",
       "1  macOS    1.34  2730.044822            0    0  127.677940  Intel Core i5  \n",
       "2  No OS    1.86  1746.252000            0    0  141.211998  Intel Core i5  \n",
       "3  macOS    1.83  7706.134152            0    1  220.534624  Intel Core i7  \n",
       "4  macOS    1.37  5477.461056            0    1  226.983005  Intel Core i5  "
      ]
     },
     "execution_count": 1228,
     "metadata": {},
     "output_type": "execute_result"
    }
   ],
   "source": [
    "# Dropping Cpu Column\n",
    "df.drop(columns=['Cpu'], inplace=True)\n",
    "df.head()"
   ]
  },
  {
   "cell_type": "markdown",
   "id": "0a2644af",
   "metadata": {},
   "source": [
    "### Analysis on RAM Column"
   ]
  },
  {
   "cell_type": "markdown",
   "id": "6fd99b0b",
   "metadata": {},
   "source": [
    "An in-depth analysis on the RAM column be essential as the RAM column has a 75% positive correlation with the price."
   ]
  },
  {
   "cell_type": "code",
   "execution_count": 1229,
   "id": "effee14f",
   "metadata": {},
   "outputs": [
    {
     "name": "stderr",
     "output_type": "stream",
     "text": [
      "C:\\Users\\tuans\\anaconda3\\lib\\site-packages\\seaborn\\_decorators.py:36: FutureWarning: Pass the following variable as a keyword arg: x. From version 0.12, the only valid positional argument will be `data`, and passing other arguments without an explicit keyword will result in an error or misinterpretation.\n",
      "  warnings.warn(\n"
     ]
    },
    {
     "data": {
      "text/plain": [
       "<AxesSubplot:xlabel='Ram', ylabel='count'>"
      ]
     },
     "execution_count": 1229,
     "metadata": {},
     "output_type": "execute_result"
    },
    {
     "data": {
      "image/png": "[encoded data removed]",
      "text/plain": [
       "<Figure size 1080x576 with 1 Axes>"
      ]
     },
     "metadata": {
      "needs_background": "light"
     },
     "output_type": "display_data"
    }
   ],
   "source": [
    "plt.figure(figsize=(15,8))\n",
    "sn.countplot(df['Ram'], palette='Reds_r')"
   ]
  },
  {
   "cell_type": "code",
   "execution_count": 1230,
   "id": "06bd2936",
   "metadata": {},
   "outputs": [
    {
     "data": {
      "text/plain": [
       "8     619\n",
       "4     375\n",
       "16    200\n",
       "6      41\n",
       "12     25\n",
       "2      22\n",
       "32     17\n",
       "24      3\n",
       "64      1\n",
       "Name: Ram, dtype: int64"
      ]
     },
     "execution_count": 1230,
     "metadata": {},
     "output_type": "execute_result"
    }
   ],
   "source": [
    "df['Ram'].value_counts()"
   ]
  },
  {
   "cell_type": "markdown",
   "id": "b9b6c2a1",
   "metadata": {},
   "source": [
    "As illustrated above, the most frequently used Ram is 8GB, followed by 4GB. This may vary based on the user's requirements and preferences."
   ]
  },
  {
   "cell_type": "code",
   "execution_count": 1231,
   "id": "2b5343e9",
   "metadata": {},
   "outputs": [
    {
     "name": "stderr",
     "output_type": "stream",
     "text": [
      "C:\\Users\\tuans\\anaconda3\\lib\\site-packages\\seaborn\\_decorators.py:36: FutureWarning: Pass the following variables as keyword args: x, y. From version 0.12, the only valid positional argument will be `data`, and passing other arguments without an explicit keyword will result in an error or misinterpretation.\n",
      "  warnings.warn(\n"
     ]
    },
    {
     "data": {
      "text/plain": [
       "<AxesSubplot:xlabel='Ram', ylabel='Price'>"
      ]
     },
     "execution_count": 1231,
     "metadata": {},
     "output_type": "execute_result"
    },
    {
     "data": {
      "image/png": "[encoded data removed]",
      "text/plain": [
       "<Figure size 1080x576 with 1 Axes>"
      ]
     },
     "metadata": {
      "needs_background": "light"
     },
     "output_type": "display_data"
    }
   ],
   "source": [
    "# Plotting Laptop Prices based on RAM\n",
    "plt.figure(figsize=(15,8))\n",
    "sn.barplot(df['Ram'], df['Price'], palette='copper')"
   ]
  },
  {
   "cell_type": "code",
   "execution_count": 1232,
   "id": "4c013d52",
   "metadata": {},
   "outputs": [
    {
     "name": "stderr",
     "output_type": "stream",
     "text": [
      "C:\\Users\\tuans\\anaconda3\\lib\\site-packages\\seaborn\\_decorators.py:36: FutureWarning: Pass the following variables as keyword args: x, y. From version 0.12, the only valid positional argument will be `data`, and passing other arguments without an explicit keyword will result in an error or misinterpretation.\n",
      "  warnings.warn(\n"
     ]
    },
    {
     "data": {
      "text/plain": [
       "<AxesSubplot:xlabel='Ram', ylabel='Price'>"
      ]
     },
     "execution_count": 1232,
     "metadata": {},
     "output_type": "execute_result"
    },
    {
     "data": {
      "image/png": "[encoded data removed]",
      "text/plain": [
       "<Figure size 1080x576 with 1 Axes>"
      ]
     },
     "metadata": {
      "needs_background": "light"
     },
     "output_type": "display_data"
    }
   ],
   "source": [
    "# Plotting the relationship between RAM and Price\n",
    "plt.figure(figsize=(15,8))\n",
    "sn.barplot(df['Ram'], df['Price'], palette = 'PuBu')"
   ]
  },
  {
   "cell_type": "markdown",
   "id": "95ed9c48",
   "metadata": {},
   "source": [
    "The bar graph above clearly shows the relationship between the RAM and the Price of the Laptop consisting the specified RAM. As proven, there is a strong positive correlation between the 2 variables allowing RAM to be a vital factor to be considered when determining a Laptop's Price.\n",
    "\n",
    "The graph above also shows that laptops with 24GB RAM have the widest range in Price ranging from RM 4000 to around RM 9500. Additionally, we can also see that laptops with 64GB RAM are most likely to have a price of 12000RM with the lowest variation in price. This could also be due to a lack of laptops with 64GB RAM within the dataset."
   ]
  },
  {
   "cell_type": "code",
   "execution_count": null,
   "id": "16d73e80",
   "metadata": {},
   "outputs": [],
   "source": []
  },
  {
   "cell_type": "markdown",
   "id": "e98d926b",
   "metadata": {},
   "source": [
    "### Analysis on Memory Column"
   ]
  },
  {
   "cell_type": "markdown",
   "id": "7c2c22b1",
   "metadata": {},
   "source": [
    "Since the Memory column consists of a wide variety of storage options from SSD, HDD, Flash and Hybrid, this column would have to be analyzed and processed to ensure the accuracy of the precition. "
   ]
  },
  {
   "cell_type": "code",
   "execution_count": 1233,
   "id": "ae2a0d1e",
   "metadata": {},
   "outputs": [
    {
     "data": {
      "text/plain": [
       "256GB SSD                        412\n",
       "1TB HDD                          223\n",
       "500GB HDD                        132\n",
       "512GB SSD                        118\n",
       "128GB SSD +  1TB HDD              94\n",
       "128GB SSD                         76\n",
       "256GB SSD +  1TB HDD              73\n",
       "32GB Flash Storage                38\n",
       "2TB HDD                           16\n",
       "64GB Flash Storage                15\n",
       "1TB SSD                           14\n",
       "512GB SSD +  1TB HDD              14\n",
       "256GB SSD +  2TB HDD              10\n",
       "1.0TB Hybrid                       9\n",
       "256GB Flash Storage                8\n",
       "16GB Flash Storage                 7\n",
       "32GB SSD                           6\n",
       "180GB SSD                          5\n",
       "128GB Flash Storage                4\n",
       "512GB SSD +  2TB HDD               3\n",
       "16GB SSD                           3\n",
       "256GB SSD +  500GB HDD             2\n",
       "128GB SSD +  2TB HDD               2\n",
       "1TB SSD +  1TB HDD                 2\n",
       "512GB Flash Storage                2\n",
       "256GB SSD +  256GB SSD             2\n",
       "240GB SSD                          1\n",
       "128GB HDD                          1\n",
       "508GB Hybrid                       1\n",
       "512GB SSD +  256GB SSD             1\n",
       "512GB SSD +  1.0TB Hybrid          1\n",
       "1TB HDD +  1TB HDD                 1\n",
       "1.0TB HDD                          1\n",
       "64GB SSD                           1\n",
       "256GB SSD +  1.0TB Hybrid          1\n",
       "8GB SSD                            1\n",
       "512GB SSD +  512GB SSD             1\n",
       "64GB Flash Storage +  1TB HDD      1\n",
       "32GB HDD                           1\n",
       "Name: Memory, dtype: int64"
      ]
     },
     "execution_count": 1233,
     "metadata": {},
     "output_type": "execute_result"
    }
   ],
   "source": [
    "df['Memory'].value_counts()"
   ]
  },
  {
   "cell_type": "code",
   "execution_count": 1234,
   "id": "615c367f",
   "metadata": {},
   "outputs": [
    {
     "data": {
      "text/html": [
       "<div>\n",
       "<style scoped>\n",
       "    .dataframe tbody tr th:only-of-type {\n",
       "        vertical-align: middle;\n",
       "    }\n",
       "\n",
       "    .dataframe tbody tr th {\n",
       "        vertical-align: top;\n",
       "    }\n",
       "\n",
       "    .dataframe thead th {\n",
       "        text-align: right;\n",
       "    }\n",
       "</style>\n",
       "<table border=\"1\" class=\"dataframe\">\n",
       "  <thead>\n",
       "    <tr style=\"text-align: right;\">\n",
       "      <th></th>\n",
       "      <th>0</th>\n",
       "      <th>1</th>\n",
       "    </tr>\n",
       "  </thead>\n",
       "  <tbody>\n",
       "    <tr>\n",
       "      <th>0</th>\n",
       "      <td>128 SSD</td>\n",
       "      <td>None</td>\n",
       "    </tr>\n",
       "    <tr>\n",
       "      <th>1</th>\n",
       "      <td>128 Flash Storage</td>\n",
       "      <td>None</td>\n",
       "    </tr>\n",
       "    <tr>\n",
       "      <th>2</th>\n",
       "      <td>256 SSD</td>\n",
       "      <td>None</td>\n",
       "    </tr>\n",
       "    <tr>\n",
       "      <th>3</th>\n",
       "      <td>512 SSD</td>\n",
       "      <td>None</td>\n",
       "    </tr>\n",
       "    <tr>\n",
       "      <th>4</th>\n",
       "      <td>256 SSD</td>\n",
       "      <td>None</td>\n",
       "    </tr>\n",
       "    <tr>\n",
       "      <th>...</th>\n",
       "      <td>...</td>\n",
       "      <td>...</td>\n",
       "    </tr>\n",
       "    <tr>\n",
       "      <th>1298</th>\n",
       "      <td>128 SSD</td>\n",
       "      <td>None</td>\n",
       "    </tr>\n",
       "    <tr>\n",
       "      <th>1299</th>\n",
       "      <td>512 SSD</td>\n",
       "      <td>None</td>\n",
       "    </tr>\n",
       "    <tr>\n",
       "      <th>1300</th>\n",
       "      <td>64 Flash Storage</td>\n",
       "      <td>None</td>\n",
       "    </tr>\n",
       "    <tr>\n",
       "      <th>1301</th>\n",
       "      <td>1000 HDD</td>\n",
       "      <td>None</td>\n",
       "    </tr>\n",
       "    <tr>\n",
       "      <th>1302</th>\n",
       "      <td>500 HDD</td>\n",
       "      <td>None</td>\n",
       "    </tr>\n",
       "  </tbody>\n",
       "</table>\n",
       "<p>1303 rows × 2 columns</p>\n",
       "</div>"
      ],
      "text/plain": [
       "                      0     1\n",
       "0               128 SSD  None\n",
       "1     128 Flash Storage  None\n",
       "2               256 SSD  None\n",
       "3               512 SSD  None\n",
       "4               256 SSD  None\n",
       "...                 ...   ...\n",
       "1298            128 SSD  None\n",
       "1299            512 SSD  None\n",
       "1300   64 Flash Storage  None\n",
       "1301           1000 HDD  None\n",
       "1302            500 HDD  None\n",
       "\n",
       "[1303 rows x 2 columns]"
      ]
     },
     "execution_count": 1234,
     "metadata": {},
     "output_type": "execute_result"
    }
   ],
   "source": [
    "# Converting Decimal Values to Whole (1.0TB to 1TB)\n",
    "df['Memory'] = df['Memory'].astype(str).replace('\\.0', '', regex = True)\n",
    "\n",
    "# Converting TB to GB (1TB = 1000GB)\n",
    "df['Memory'] = df['Memory'].str.replace('TB', '000GB')\n",
    "\n",
    "# Replacing GB with \"\"\n",
    "df['Memory'] = df['Memory'].str.replace('GB', '')\n",
    "\n",
    "# Separating SSD and HDD in Hybrid Devices\n",
    "storage = df['Memory'].str.split('+', n=1, expand = True)\n",
    "storage"
   ]
  },
  {
   "cell_type": "code",
   "execution_count": 1235,
   "id": "4ee6d5fa",
   "metadata": {},
   "outputs": [
    {
     "data": {
      "text/html": [
       "<div>\n",
       "<style scoped>\n",
       "    .dataframe tbody tr th:only-of-type {\n",
       "        vertical-align: middle;\n",
       "    }\n",
       "\n",
       "    .dataframe tbody tr th {\n",
       "        vertical-align: top;\n",
       "    }\n",
       "\n",
       "    .dataframe thead th {\n",
       "        text-align: right;\n",
       "    }\n",
       "</style>\n",
       "<table border=\"1\" class=\"dataframe\">\n",
       "  <thead>\n",
       "    <tr style=\"text-align: right;\">\n",
       "      <th></th>\n",
       "      <th>Company</th>\n",
       "      <th>TypeName</th>\n",
       "      <th>Ram</th>\n",
       "      <th>Memory</th>\n",
       "      <th>Gpu</th>\n",
       "      <th>OpSys</th>\n",
       "      <th>Weight</th>\n",
       "      <th>Price</th>\n",
       "      <th>TouchScreen</th>\n",
       "      <th>IPS</th>\n",
       "      <th>PPI</th>\n",
       "      <th>Processor</th>\n",
       "      <th>storage1</th>\n",
       "    </tr>\n",
       "  </thead>\n",
       "  <tbody>\n",
       "    <tr>\n",
       "      <th>0</th>\n",
       "      <td>Apple</td>\n",
       "      <td>Ultrabook</td>\n",
       "      <td>8</td>\n",
       "      <td>128 SSD</td>\n",
       "      <td>Intel Iris Plus Graphics 640</td>\n",
       "      <td>macOS</td>\n",
       "      <td>1.37</td>\n",
       "      <td>4068.584942</td>\n",
       "      <td>0</td>\n",
       "      <td>1</td>\n",
       "      <td>226.983005</td>\n",
       "      <td>Intel Core i5</td>\n",
       "      <td>128SSD</td>\n",
       "    </tr>\n",
       "    <tr>\n",
       "      <th>1</th>\n",
       "      <td>Apple</td>\n",
       "      <td>Ultrabook</td>\n",
       "      <td>8</td>\n",
       "      <td>128 Flash Storage</td>\n",
       "      <td>Intel HD Graphics 6000</td>\n",
       "      <td>macOS</td>\n",
       "      <td>1.34</td>\n",
       "      <td>2730.044822</td>\n",
       "      <td>0</td>\n",
       "      <td>0</td>\n",
       "      <td>127.677940</td>\n",
       "      <td>Intel Core i5</td>\n",
       "      <td>128FlashStorage</td>\n",
       "    </tr>\n",
       "    <tr>\n",
       "      <th>2</th>\n",
       "      <td>HP</td>\n",
       "      <td>Notebook</td>\n",
       "      <td>8</td>\n",
       "      <td>256 SSD</td>\n",
       "      <td>Intel HD Graphics 620</td>\n",
       "      <td>No OS</td>\n",
       "      <td>1.86</td>\n",
       "      <td>1746.252000</td>\n",
       "      <td>0</td>\n",
       "      <td>0</td>\n",
       "      <td>141.211998</td>\n",
       "      <td>Intel Core i5</td>\n",
       "      <td>256SSD</td>\n",
       "    </tr>\n",
       "    <tr>\n",
       "      <th>3</th>\n",
       "      <td>Apple</td>\n",
       "      <td>Ultrabook</td>\n",
       "      <td>16</td>\n",
       "      <td>512 SSD</td>\n",
       "      <td>AMD Radeon Pro 455</td>\n",
       "      <td>macOS</td>\n",
       "      <td>1.83</td>\n",
       "      <td>7706.134152</td>\n",
       "      <td>0</td>\n",
       "      <td>1</td>\n",
       "      <td>220.534624</td>\n",
       "      <td>Intel Core i7</td>\n",
       "      <td>512SSD</td>\n",
       "    </tr>\n",
       "    <tr>\n",
       "      <th>4</th>\n",
       "      <td>Apple</td>\n",
       "      <td>Ultrabook</td>\n",
       "      <td>8</td>\n",
       "      <td>256 SSD</td>\n",
       "      <td>Intel Iris Plus Graphics 650</td>\n",
       "      <td>macOS</td>\n",
       "      <td>1.37</td>\n",
       "      <td>5477.461056</td>\n",
       "      <td>0</td>\n",
       "      <td>1</td>\n",
       "      <td>226.983005</td>\n",
       "      <td>Intel Core i5</td>\n",
       "      <td>256SSD</td>\n",
       "    </tr>\n",
       "  </tbody>\n",
       "</table>\n",
       "</div>"
      ],
      "text/plain": [
       "  Company   TypeName  Ram             Memory                           Gpu  \\\n",
       "0   Apple  Ultrabook    8            128 SSD  Intel Iris Plus Graphics 640   \n",
       "1   Apple  Ultrabook    8  128 Flash Storage        Intel HD Graphics 6000   \n",
       "2      HP   Notebook    8            256 SSD         Intel HD Graphics 620   \n",
       "3   Apple  Ultrabook   16            512 SSD            AMD Radeon Pro 455   \n",
       "4   Apple  Ultrabook    8            256 SSD  Intel Iris Plus Graphics 650   \n",
       "\n",
       "   OpSys  Weight        Price  TouchScreen  IPS         PPI      Processor  \\\n",
       "0  macOS    1.37  4068.584942            0    1  226.983005  Intel Core i5   \n",
       "1  macOS    1.34  2730.044822            0    0  127.677940  Intel Core i5   \n",
       "2  No OS    1.86  1746.252000            0    0  141.211998  Intel Core i5   \n",
       "3  macOS    1.83  7706.134152            0    1  220.534624  Intel Core i7   \n",
       "4  macOS    1.37  5477.461056            0    1  226.983005  Intel Core i5   \n",
       "\n",
       "          storage1  \n",
       "0           128SSD  \n",
       "1  128FlashStorage  \n",
       "2           256SSD  \n",
       "3           512SSD  \n",
       "4           256SSD  "
      ]
     },
     "execution_count": 1235,
     "metadata": {},
     "output_type": "execute_result"
    }
   ],
   "source": [
    "# Removing Blank Spaces from storage[0]\n",
    "df['storage1'] = storage[0]\n",
    "df['storage1'] = df['storage1'].str.replace(' ', '')\n",
    "df.head()"
   ]
  },
  {
   "cell_type": "code",
   "execution_count": 1236,
   "id": "a805afe7",
   "metadata": {},
   "outputs": [],
   "source": [
    "# Function to set 1 based on storage1 Type\n",
    "def storage_classification(value):\n",
    "    df['storage1_' + value] = df['storage1'].apply(lambda x:1 if value in x else 0)\n",
    "    "
   ]
  },
  {
   "cell_type": "code",
   "execution_count": 1237,
   "id": "11be8046",
   "metadata": {},
   "outputs": [
    {
     "data": {
      "text/html": [
       "<div>\n",
       "<style scoped>\n",
       "    .dataframe tbody tr th:only-of-type {\n",
       "        vertical-align: middle;\n",
       "    }\n",
       "\n",
       "    .dataframe tbody tr th {\n",
       "        vertical-align: top;\n",
       "    }\n",
       "\n",
       "    .dataframe thead th {\n",
       "        text-align: right;\n",
       "    }\n",
       "</style>\n",
       "<table border=\"1\" class=\"dataframe\">\n",
       "  <thead>\n",
       "    <tr style=\"text-align: right;\">\n",
       "      <th></th>\n",
       "      <th>Company</th>\n",
       "      <th>TypeName</th>\n",
       "      <th>Ram</th>\n",
       "      <th>Memory</th>\n",
       "      <th>Gpu</th>\n",
       "      <th>OpSys</th>\n",
       "      <th>Weight</th>\n",
       "      <th>Price</th>\n",
       "      <th>TouchScreen</th>\n",
       "      <th>IPS</th>\n",
       "      <th>PPI</th>\n",
       "      <th>Processor</th>\n",
       "      <th>storage1</th>\n",
       "      <th>storage1_HDD</th>\n",
       "      <th>storage1_SSD</th>\n",
       "      <th>storage1_Hybrid</th>\n",
       "      <th>storage1_FlashStorage</th>\n",
       "    </tr>\n",
       "  </thead>\n",
       "  <tbody>\n",
       "    <tr>\n",
       "      <th>0</th>\n",
       "      <td>Apple</td>\n",
       "      <td>Ultrabook</td>\n",
       "      <td>8</td>\n",
       "      <td>128 SSD</td>\n",
       "      <td>Intel Iris Plus Graphics 640</td>\n",
       "      <td>macOS</td>\n",
       "      <td>1.37</td>\n",
       "      <td>4068.584942</td>\n",
       "      <td>0</td>\n",
       "      <td>1</td>\n",
       "      <td>226.983005</td>\n",
       "      <td>Intel Core i5</td>\n",
       "      <td>128SSD</td>\n",
       "      <td>0</td>\n",
       "      <td>1</td>\n",
       "      <td>0</td>\n",
       "      <td>0</td>\n",
       "    </tr>\n",
       "    <tr>\n",
       "      <th>1</th>\n",
       "      <td>Apple</td>\n",
       "      <td>Ultrabook</td>\n",
       "      <td>8</td>\n",
       "      <td>128 Flash Storage</td>\n",
       "      <td>Intel HD Graphics 6000</td>\n",
       "      <td>macOS</td>\n",
       "      <td>1.34</td>\n",
       "      <td>2730.044822</td>\n",
       "      <td>0</td>\n",
       "      <td>0</td>\n",
       "      <td>127.677940</td>\n",
       "      <td>Intel Core i5</td>\n",
       "      <td>128FlashStorage</td>\n",
       "      <td>0</td>\n",
       "      <td>0</td>\n",
       "      <td>0</td>\n",
       "      <td>1</td>\n",
       "    </tr>\n",
       "    <tr>\n",
       "      <th>2</th>\n",
       "      <td>HP</td>\n",
       "      <td>Notebook</td>\n",
       "      <td>8</td>\n",
       "      <td>256 SSD</td>\n",
       "      <td>Intel HD Graphics 620</td>\n",
       "      <td>No OS</td>\n",
       "      <td>1.86</td>\n",
       "      <td>1746.252000</td>\n",
       "      <td>0</td>\n",
       "      <td>0</td>\n",
       "      <td>141.211998</td>\n",
       "      <td>Intel Core i5</td>\n",
       "      <td>256SSD</td>\n",
       "      <td>0</td>\n",
       "      <td>1</td>\n",
       "      <td>0</td>\n",
       "      <td>0</td>\n",
       "    </tr>\n",
       "    <tr>\n",
       "      <th>3</th>\n",
       "      <td>Apple</td>\n",
       "      <td>Ultrabook</td>\n",
       "      <td>16</td>\n",
       "      <td>512 SSD</td>\n",
       "      <td>AMD Radeon Pro 455</td>\n",
       "      <td>macOS</td>\n",
       "      <td>1.83</td>\n",
       "      <td>7706.134152</td>\n",
       "      <td>0</td>\n",
       "      <td>1</td>\n",
       "      <td>220.534624</td>\n",
       "      <td>Intel Core i7</td>\n",
       "      <td>512SSD</td>\n",
       "      <td>0</td>\n",
       "      <td>1</td>\n",
       "      <td>0</td>\n",
       "      <td>0</td>\n",
       "    </tr>\n",
       "    <tr>\n",
       "      <th>4</th>\n",
       "      <td>Apple</td>\n",
       "      <td>Ultrabook</td>\n",
       "      <td>8</td>\n",
       "      <td>256 SSD</td>\n",
       "      <td>Intel Iris Plus Graphics 650</td>\n",
       "      <td>macOS</td>\n",
       "      <td>1.37</td>\n",
       "      <td>5477.461056</td>\n",
       "      <td>0</td>\n",
       "      <td>1</td>\n",
       "      <td>226.983005</td>\n",
       "      <td>Intel Core i5</td>\n",
       "      <td>256SSD</td>\n",
       "      <td>0</td>\n",
       "      <td>1</td>\n",
       "      <td>0</td>\n",
       "      <td>0</td>\n",
       "    </tr>\n",
       "  </tbody>\n",
       "</table>\n",
       "</div>"
      ],
      "text/plain": [
       "  Company   TypeName  Ram             Memory                           Gpu  \\\n",
       "0   Apple  Ultrabook    8            128 SSD  Intel Iris Plus Graphics 640   \n",
       "1   Apple  Ultrabook    8  128 Flash Storage        Intel HD Graphics 6000   \n",
       "2      HP   Notebook    8            256 SSD         Intel HD Graphics 620   \n",
       "3   Apple  Ultrabook   16            512 SSD            AMD Radeon Pro 455   \n",
       "4   Apple  Ultrabook    8            256 SSD  Intel Iris Plus Graphics 650   \n",
       "\n",
       "   OpSys  Weight        Price  TouchScreen  IPS         PPI      Processor  \\\n",
       "0  macOS    1.37  4068.584942            0    1  226.983005  Intel Core i5   \n",
       "1  macOS    1.34  2730.044822            0    0  127.677940  Intel Core i5   \n",
       "2  No OS    1.86  1746.252000            0    0  141.211998  Intel Core i5   \n",
       "3  macOS    1.83  7706.134152            0    1  220.534624  Intel Core i7   \n",
       "4  macOS    1.37  5477.461056            0    1  226.983005  Intel Core i5   \n",
       "\n",
       "          storage1  storage1_HDD  storage1_SSD  storage1_Hybrid  \\\n",
       "0           128SSD             0             1                0   \n",
       "1  128FlashStorage             0             0                0   \n",
       "2           256SSD             0             1                0   \n",
       "3           512SSD             0             1                0   \n",
       "4           256SSD             0             1                0   \n",
       "\n",
       "   storage1_FlashStorage  \n",
       "0                      0  \n",
       "1                      1  \n",
       "2                      0  \n",
       "3                      0  \n",
       "4                      0  "
      ]
     },
     "execution_count": 1237,
     "metadata": {},
     "output_type": "execute_result"
    }
   ],
   "source": [
    "memory_list = ['HDD', 'SSD', 'Hybrid', 'FlashStorage']\n",
    "\n",
    "for value in memory_list:\n",
    "    storage_classification(value)\n",
    "    \n",
    "df.head()"
   ]
  },
  {
   "cell_type": "code",
   "execution_count": 1238,
   "id": "8b87e5ac",
   "metadata": {},
   "outputs": [
    {
     "name": "stderr",
     "output_type": "stream",
     "text": [
      "C:\\Users\\tuans\\AppData\\Local\\Temp/ipykernel_6840/194634699.py:2: FutureWarning: The default value of regex will change from True to False in a future version.\n",
      "  df['storage1'] = df['storage1'].str.replace(r'\\D', '')\n"
     ]
    },
    {
     "data": {
      "text/plain": [
       "256     508\n",
       "1000    250\n",
       "128     177\n",
       "512     140\n",
       "500     132\n",
       "32       45\n",
       "64       17\n",
       "2000     16\n",
       "16       10\n",
       "180       5\n",
       "508       1\n",
       "8         1\n",
       "240       1\n",
       "Name: storage1, dtype: int64"
      ]
     },
     "execution_count": 1238,
     "metadata": {},
     "output_type": "execute_result"
    }
   ],
   "source": [
    "# Keep Storage Space (Int Value) and Remove Char Values\n",
    "df['storage1'] = df['storage1'].str.replace(r'\\D', '')\n",
    "df['storage1'].value_counts()"
   ]
  },
  {
   "cell_type": "code",
   "execution_count": 1239,
   "id": "390d8582",
   "metadata": {},
   "outputs": [
    {
     "data": {
      "text/html": [
       "<div>\n",
       "<style scoped>\n",
       "    .dataframe tbody tr th:only-of-type {\n",
       "        vertical-align: middle;\n",
       "    }\n",
       "\n",
       "    .dataframe tbody tr th {\n",
       "        vertical-align: top;\n",
       "    }\n",
       "\n",
       "    .dataframe thead th {\n",
       "        text-align: right;\n",
       "    }\n",
       "</style>\n",
       "<table border=\"1\" class=\"dataframe\">\n",
       "  <thead>\n",
       "    <tr style=\"text-align: right;\">\n",
       "      <th></th>\n",
       "      <th>Company</th>\n",
       "      <th>TypeName</th>\n",
       "      <th>Ram</th>\n",
       "      <th>Memory</th>\n",
       "      <th>Gpu</th>\n",
       "      <th>OpSys</th>\n",
       "      <th>Weight</th>\n",
       "      <th>Price</th>\n",
       "      <th>TouchScreen</th>\n",
       "      <th>IPS</th>\n",
       "      <th>PPI</th>\n",
       "      <th>Processor</th>\n",
       "      <th>storage1</th>\n",
       "      <th>storage1_HDD</th>\n",
       "      <th>storage1_SSD</th>\n",
       "      <th>storage1_Hybrid</th>\n",
       "      <th>storage1_FlashStorage</th>\n",
       "      <th>storage2</th>\n",
       "    </tr>\n",
       "  </thead>\n",
       "  <tbody>\n",
       "    <tr>\n",
       "      <th>0</th>\n",
       "      <td>Apple</td>\n",
       "      <td>Ultrabook</td>\n",
       "      <td>8</td>\n",
       "      <td>128 SSD</td>\n",
       "      <td>Intel Iris Plus Graphics 640</td>\n",
       "      <td>macOS</td>\n",
       "      <td>1.37</td>\n",
       "      <td>4068.584942</td>\n",
       "      <td>0</td>\n",
       "      <td>1</td>\n",
       "      <td>226.983005</td>\n",
       "      <td>Intel Core i5</td>\n",
       "      <td>128</td>\n",
       "      <td>0</td>\n",
       "      <td>1</td>\n",
       "      <td>0</td>\n",
       "      <td>0</td>\n",
       "      <td>None</td>\n",
       "    </tr>\n",
       "    <tr>\n",
       "      <th>1</th>\n",
       "      <td>Apple</td>\n",
       "      <td>Ultrabook</td>\n",
       "      <td>8</td>\n",
       "      <td>128 Flash Storage</td>\n",
       "      <td>Intel HD Graphics 6000</td>\n",
       "      <td>macOS</td>\n",
       "      <td>1.34</td>\n",
       "      <td>2730.044822</td>\n",
       "      <td>0</td>\n",
       "      <td>0</td>\n",
       "      <td>127.677940</td>\n",
       "      <td>Intel Core i5</td>\n",
       "      <td>128</td>\n",
       "      <td>0</td>\n",
       "      <td>0</td>\n",
       "      <td>0</td>\n",
       "      <td>1</td>\n",
       "      <td>None</td>\n",
       "    </tr>\n",
       "    <tr>\n",
       "      <th>2</th>\n",
       "      <td>HP</td>\n",
       "      <td>Notebook</td>\n",
       "      <td>8</td>\n",
       "      <td>256 SSD</td>\n",
       "      <td>Intel HD Graphics 620</td>\n",
       "      <td>No OS</td>\n",
       "      <td>1.86</td>\n",
       "      <td>1746.252000</td>\n",
       "      <td>0</td>\n",
       "      <td>0</td>\n",
       "      <td>141.211998</td>\n",
       "      <td>Intel Core i5</td>\n",
       "      <td>256</td>\n",
       "      <td>0</td>\n",
       "      <td>1</td>\n",
       "      <td>0</td>\n",
       "      <td>0</td>\n",
       "      <td>None</td>\n",
       "    </tr>\n",
       "    <tr>\n",
       "      <th>3</th>\n",
       "      <td>Apple</td>\n",
       "      <td>Ultrabook</td>\n",
       "      <td>16</td>\n",
       "      <td>512 SSD</td>\n",
       "      <td>AMD Radeon Pro 455</td>\n",
       "      <td>macOS</td>\n",
       "      <td>1.83</td>\n",
       "      <td>7706.134152</td>\n",
       "      <td>0</td>\n",
       "      <td>1</td>\n",
       "      <td>220.534624</td>\n",
       "      <td>Intel Core i7</td>\n",
       "      <td>512</td>\n",
       "      <td>0</td>\n",
       "      <td>1</td>\n",
       "      <td>0</td>\n",
       "      <td>0</td>\n",
       "      <td>None</td>\n",
       "    </tr>\n",
       "    <tr>\n",
       "      <th>4</th>\n",
       "      <td>Apple</td>\n",
       "      <td>Ultrabook</td>\n",
       "      <td>8</td>\n",
       "      <td>256 SSD</td>\n",
       "      <td>Intel Iris Plus Graphics 650</td>\n",
       "      <td>macOS</td>\n",
       "      <td>1.37</td>\n",
       "      <td>5477.461056</td>\n",
       "      <td>0</td>\n",
       "      <td>1</td>\n",
       "      <td>226.983005</td>\n",
       "      <td>Intel Core i5</td>\n",
       "      <td>256</td>\n",
       "      <td>0</td>\n",
       "      <td>1</td>\n",
       "      <td>0</td>\n",
       "      <td>0</td>\n",
       "      <td>None</td>\n",
       "    </tr>\n",
       "  </tbody>\n",
       "</table>\n",
       "</div>"
      ],
      "text/plain": [
       "  Company   TypeName  Ram             Memory                           Gpu  \\\n",
       "0   Apple  Ultrabook    8            128 SSD  Intel Iris Plus Graphics 640   \n",
       "1   Apple  Ultrabook    8  128 Flash Storage        Intel HD Graphics 6000   \n",
       "2      HP   Notebook    8            256 SSD         Intel HD Graphics 620   \n",
       "3   Apple  Ultrabook   16            512 SSD            AMD Radeon Pro 455   \n",
       "4   Apple  Ultrabook    8            256 SSD  Intel Iris Plus Graphics 650   \n",
       "\n",
       "   OpSys  Weight        Price  TouchScreen  IPS         PPI      Processor  \\\n",
       "0  macOS    1.37  4068.584942            0    1  226.983005  Intel Core i5   \n",
       "1  macOS    1.34  2730.044822            0    0  127.677940  Intel Core i5   \n",
       "2  No OS    1.86  1746.252000            0    0  141.211998  Intel Core i5   \n",
       "3  macOS    1.83  7706.134152            0    1  220.534624  Intel Core i7   \n",
       "4  macOS    1.37  5477.461056            0    1  226.983005  Intel Core i5   \n",
       "\n",
       "  storage1  storage1_HDD  storage1_SSD  storage1_Hybrid  \\\n",
       "0      128             0             1                0   \n",
       "1      128             0             0                0   \n",
       "2      256             0             1                0   \n",
       "3      512             0             1                0   \n",
       "4      256             0             1                0   \n",
       "\n",
       "   storage1_FlashStorage storage2  \n",
       "0                      0     None  \n",
       "1                      1     None  \n",
       "2                      0     None  \n",
       "3                      0     None  \n",
       "4                      0     None  "
      ]
     },
     "execution_count": 1239,
     "metadata": {},
     "output_type": "execute_result"
    }
   ],
   "source": [
    "# Working with storage[1]\n",
    "df['storage2'] = storage[1]\n",
    "df['storage1'] = df['storage1'].str.replace(' ', '')\n",
    "df.head()"
   ]
  },
  {
   "cell_type": "code",
   "execution_count": 1240,
   "id": "a20e99c5",
   "metadata": {},
   "outputs": [],
   "source": [
    "def storage_classification2(value):\n",
    "    df['storage2_' + value] = df['storage2'].apply(lambda x:1 if value in x else 0)\n",
    "    "
   ]
  },
  {
   "cell_type": "code",
   "execution_count": 1241,
   "id": "d2a6abce",
   "metadata": {},
   "outputs": [],
   "source": [
    "# Replacing null values with 0\n",
    "df['storage2'] = df['storage2'].fillna('0')"
   ]
  },
  {
   "cell_type": "code",
   "execution_count": 1242,
   "id": "62e3e9d2",
   "metadata": {},
   "outputs": [
    {
     "data": {
      "text/plain": [
       "0                1095\n",
       "  1000 HDD        185\n",
       "  2000 HDD         15\n",
       "  256 SSD           3\n",
       "  500 HDD           2\n",
       "  1000 Hybrid       2\n",
       "  512 SSD           1\n",
       "Name: storage2, dtype: int64"
      ]
     },
     "execution_count": 1242,
     "metadata": {},
     "output_type": "execute_result"
    }
   ],
   "source": [
    "df['storage2'].value_counts()"
   ]
  },
  {
   "cell_type": "code",
   "execution_count": 1243,
   "id": "4e9d7bf9",
   "metadata": {},
   "outputs": [],
   "source": [
    "for value in memory_list:\n",
    "    storage_classification2(value)"
   ]
  },
  {
   "cell_type": "code",
   "execution_count": 1244,
   "id": "74b75f96",
   "metadata": {},
   "outputs": [
    {
     "name": "stderr",
     "output_type": "stream",
     "text": [
      "C:\\Users\\tuans\\AppData\\Local\\Temp/ipykernel_6840/1168686245.py:2: FutureWarning: The default value of regex will change from True to False in a future version.\n",
      "  df['storage2'] = df['storage2'].str.replace(r'\\D', '')\n"
     ]
    },
    {
     "data": {
      "text/plain": [
       "0       1095\n",
       "1000     187\n",
       "2000      15\n",
       "256        3\n",
       "500        2\n",
       "512        1\n",
       "Name: storage2, dtype: int64"
      ]
     },
     "execution_count": 1244,
     "metadata": {},
     "output_type": "execute_result"
    }
   ],
   "source": [
    "# Keep Storage Space (Int Value) and Remove Char Values\n",
    "df['storage2'] = df['storage2'].str.replace(r'\\D', '')\n",
    "df['storage2'].value_counts()"
   ]
  },
  {
   "cell_type": "code",
   "execution_count": 1245,
   "id": "fa93bbd6",
   "metadata": {
    "scrolled": false
   },
   "outputs": [
    {
     "name": "stdout",
     "output_type": "stream",
     "text": [
      "<class 'pandas.core.frame.DataFrame'>\n",
      "RangeIndex: 1303 entries, 0 to 1302\n",
      "Data columns (total 22 columns):\n",
      " #   Column                 Non-Null Count  Dtype  \n",
      "---  ------                 --------------  -----  \n",
      " 0   Company                1303 non-null   object \n",
      " 1   TypeName               1303 non-null   object \n",
      " 2   Ram                    1303 non-null   int32  \n",
      " 3   Memory                 1303 non-null   object \n",
      " 4   Gpu                    1303 non-null   object \n",
      " 5   OpSys                  1303 non-null   object \n",
      " 6   Weight                 1303 non-null   float64\n",
      " 7   Price                  1303 non-null   float64\n",
      " 8   TouchScreen            1303 non-null   int64  \n",
      " 9   IPS                    1303 non-null   int64  \n",
      " 10  PPI                    1303 non-null   float64\n",
      " 11  Processor              1303 non-null   object \n",
      " 12  storage1               1303 non-null   object \n",
      " 13  storage1_HDD           1303 non-null   int64  \n",
      " 14  storage1_SSD           1303 non-null   int64  \n",
      " 15  storage1_Hybrid        1303 non-null   int64  \n",
      " 16  storage1_FlashStorage  1303 non-null   int64  \n",
      " 17  storage2               1303 non-null   object \n",
      " 18  storage2_HDD           1303 non-null   int64  \n",
      " 19  storage2_SSD           1303 non-null   int64  \n",
      " 20  storage2_Hybrid        1303 non-null   int64  \n",
      " 21  storage2_FlashStorage  1303 non-null   int64  \n",
      "dtypes: float64(3), int32(1), int64(10), object(8)\n",
      "memory usage: 219.0+ KB\n"
     ]
    }
   ],
   "source": [
    "df.info()"
   ]
  },
  {
   "cell_type": "code",
   "execution_count": 1246,
   "id": "574bdd10",
   "metadata": {},
   "outputs": [],
   "source": [
    "# Converting storage1 and storage2 to int\n",
    "df['storage1'] = df['storage1'].astype('int')\n",
    "df['storage2'] = df['storage2'].astype('int')"
   ]
  },
  {
   "cell_type": "code",
   "execution_count": 1247,
   "id": "f3b090ec",
   "metadata": {},
   "outputs": [
    {
     "data": {
      "text/html": [
       "<div>\n",
       "<style scoped>\n",
       "    .dataframe tbody tr th:only-of-type {\n",
       "        vertical-align: middle;\n",
       "    }\n",
       "\n",
       "    .dataframe tbody tr th {\n",
       "        vertical-align: top;\n",
       "    }\n",
       "\n",
       "    .dataframe thead th {\n",
       "        text-align: right;\n",
       "    }\n",
       "</style>\n",
       "<table border=\"1\" class=\"dataframe\">\n",
       "  <thead>\n",
       "    <tr style=\"text-align: right;\">\n",
       "      <th></th>\n",
       "      <th>Company</th>\n",
       "      <th>TypeName</th>\n",
       "      <th>Ram</th>\n",
       "      <th>Memory</th>\n",
       "      <th>Gpu</th>\n",
       "      <th>OpSys</th>\n",
       "      <th>Weight</th>\n",
       "      <th>Price</th>\n",
       "      <th>TouchScreen</th>\n",
       "      <th>IPS</th>\n",
       "      <th>...</th>\n",
       "      <th>storage1_FlashStorage</th>\n",
       "      <th>storage2</th>\n",
       "      <th>storage2_HDD</th>\n",
       "      <th>storage2_SSD</th>\n",
       "      <th>storage2_Hybrid</th>\n",
       "      <th>storage2_FlashStorage</th>\n",
       "      <th>HDD</th>\n",
       "      <th>SSD</th>\n",
       "      <th>Flash_Storage</th>\n",
       "      <th>Hybrid</th>\n",
       "    </tr>\n",
       "  </thead>\n",
       "  <tbody>\n",
       "    <tr>\n",
       "      <th>0</th>\n",
       "      <td>Apple</td>\n",
       "      <td>Ultrabook</td>\n",
       "      <td>8</td>\n",
       "      <td>128 SSD</td>\n",
       "      <td>Intel Iris Plus Graphics 640</td>\n",
       "      <td>macOS</td>\n",
       "      <td>1.37</td>\n",
       "      <td>4068.584942</td>\n",
       "      <td>0</td>\n",
       "      <td>1</td>\n",
       "      <td>...</td>\n",
       "      <td>0</td>\n",
       "      <td>0</td>\n",
       "      <td>0</td>\n",
       "      <td>0</td>\n",
       "      <td>0</td>\n",
       "      <td>0</td>\n",
       "      <td>0</td>\n",
       "      <td>128</td>\n",
       "      <td>0</td>\n",
       "      <td>0</td>\n",
       "    </tr>\n",
       "    <tr>\n",
       "      <th>1</th>\n",
       "      <td>Apple</td>\n",
       "      <td>Ultrabook</td>\n",
       "      <td>8</td>\n",
       "      <td>128 Flash Storage</td>\n",
       "      <td>Intel HD Graphics 6000</td>\n",
       "      <td>macOS</td>\n",
       "      <td>1.34</td>\n",
       "      <td>2730.044822</td>\n",
       "      <td>0</td>\n",
       "      <td>0</td>\n",
       "      <td>...</td>\n",
       "      <td>1</td>\n",
       "      <td>0</td>\n",
       "      <td>0</td>\n",
       "      <td>0</td>\n",
       "      <td>0</td>\n",
       "      <td>0</td>\n",
       "      <td>0</td>\n",
       "      <td>0</td>\n",
       "      <td>128</td>\n",
       "      <td>0</td>\n",
       "    </tr>\n",
       "    <tr>\n",
       "      <th>2</th>\n",
       "      <td>HP</td>\n",
       "      <td>Notebook</td>\n",
       "      <td>8</td>\n",
       "      <td>256 SSD</td>\n",
       "      <td>Intel HD Graphics 620</td>\n",
       "      <td>No OS</td>\n",
       "      <td>1.86</td>\n",
       "      <td>1746.252000</td>\n",
       "      <td>0</td>\n",
       "      <td>0</td>\n",
       "      <td>...</td>\n",
       "      <td>0</td>\n",
       "      <td>0</td>\n",
       "      <td>0</td>\n",
       "      <td>0</td>\n",
       "      <td>0</td>\n",
       "      <td>0</td>\n",
       "      <td>0</td>\n",
       "      <td>256</td>\n",
       "      <td>0</td>\n",
       "      <td>0</td>\n",
       "    </tr>\n",
       "    <tr>\n",
       "      <th>3</th>\n",
       "      <td>Apple</td>\n",
       "      <td>Ultrabook</td>\n",
       "      <td>16</td>\n",
       "      <td>512 SSD</td>\n",
       "      <td>AMD Radeon Pro 455</td>\n",
       "      <td>macOS</td>\n",
       "      <td>1.83</td>\n",
       "      <td>7706.134152</td>\n",
       "      <td>0</td>\n",
       "      <td>1</td>\n",
       "      <td>...</td>\n",
       "      <td>0</td>\n",
       "      <td>0</td>\n",
       "      <td>0</td>\n",
       "      <td>0</td>\n",
       "      <td>0</td>\n",
       "      <td>0</td>\n",
       "      <td>0</td>\n",
       "      <td>512</td>\n",
       "      <td>0</td>\n",
       "      <td>0</td>\n",
       "    </tr>\n",
       "    <tr>\n",
       "      <th>4</th>\n",
       "      <td>Apple</td>\n",
       "      <td>Ultrabook</td>\n",
       "      <td>8</td>\n",
       "      <td>256 SSD</td>\n",
       "      <td>Intel Iris Plus Graphics 650</td>\n",
       "      <td>macOS</td>\n",
       "      <td>1.37</td>\n",
       "      <td>5477.461056</td>\n",
       "      <td>0</td>\n",
       "      <td>1</td>\n",
       "      <td>...</td>\n",
       "      <td>0</td>\n",
       "      <td>0</td>\n",
       "      <td>0</td>\n",
       "      <td>0</td>\n",
       "      <td>0</td>\n",
       "      <td>0</td>\n",
       "      <td>0</td>\n",
       "      <td>256</td>\n",
       "      <td>0</td>\n",
       "      <td>0</td>\n",
       "    </tr>\n",
       "  </tbody>\n",
       "</table>\n",
       "<p>5 rows × 26 columns</p>\n",
       "</div>"
      ],
      "text/plain": [
       "  Company   TypeName  Ram             Memory                           Gpu  \\\n",
       "0   Apple  Ultrabook    8            128 SSD  Intel Iris Plus Graphics 640   \n",
       "1   Apple  Ultrabook    8  128 Flash Storage        Intel HD Graphics 6000   \n",
       "2      HP   Notebook    8            256 SSD         Intel HD Graphics 620   \n",
       "3   Apple  Ultrabook   16            512 SSD            AMD Radeon Pro 455   \n",
       "4   Apple  Ultrabook    8            256 SSD  Intel Iris Plus Graphics 650   \n",
       "\n",
       "   OpSys  Weight        Price  TouchScreen  IPS  ...  storage1_FlashStorage  \\\n",
       "0  macOS    1.37  4068.584942            0    1  ...                      0   \n",
       "1  macOS    1.34  2730.044822            0    0  ...                      1   \n",
       "2  No OS    1.86  1746.252000            0    0  ...                      0   \n",
       "3  macOS    1.83  7706.134152            0    1  ...                      0   \n",
       "4  macOS    1.37  5477.461056            0    1  ...                      0   \n",
       "\n",
       "  storage2  storage2_HDD  storage2_SSD  storage2_Hybrid  \\\n",
       "0        0             0             0                0   \n",
       "1        0             0             0                0   \n",
       "2        0             0             0                0   \n",
       "3        0             0             0                0   \n",
       "4        0             0             0                0   \n",
       "\n",
       "   storage2_FlashStorage  HDD  SSD  Flash_Storage  Hybrid  \n",
       "0                      0    0  128              0       0  \n",
       "1                      0    0    0            128       0  \n",
       "2                      0    0  256              0       0  \n",
       "3                      0    0  512              0       0  \n",
       "4                      0    0  256              0       0  \n",
       "\n",
       "[5 rows x 26 columns]"
      ]
     },
     "execution_count": 1247,
     "metadata": {},
     "output_type": "execute_result"
    }
   ],
   "source": [
    "# Combining storage2 & storage1 based on storage type\n",
    "df['HDD'] = ((df['storage1'] * df['storage1_HDD']) + (df['storage2'] * df['storage2_HDD']))\n",
    "df['SSD'] = ((df['storage1'] * df['storage1_SSD']) + (df['storage2'] * df['storage2_SSD']))\n",
    "df['Flash_Storage'] = ((df['storage1'] * df['storage1_FlashStorage']) + (df['storage2'] * df['storage2_FlashStorage']))\n",
    "df['Hybrid'] = ((df['storage1'] * df['storage1_Hybrid']) + (df['storage2'] * df['storage2_Hybrid']))\n",
    "df.head()"
   ]
  },
  {
   "cell_type": "code",
   "execution_count": 1248,
   "id": "3f43526d",
   "metadata": {},
   "outputs": [
    {
     "data": {
      "text/plain": [
       "Index(['Company', 'TypeName', 'Ram', 'Memory', 'Gpu', 'OpSys', 'Weight',\n",
       "       'Price', 'TouchScreen', 'IPS', 'PPI', 'Processor', 'storage1',\n",
       "       'storage1_HDD', 'storage1_SSD', 'storage1_Hybrid',\n",
       "       'storage1_FlashStorage', 'storage2', 'storage2_HDD', 'storage2_SSD',\n",
       "       'storage2_Hybrid', 'storage2_FlashStorage', 'HDD', 'SSD',\n",
       "       'Flash_Storage', 'Hybrid'],\n",
       "      dtype='object')"
      ]
     },
     "execution_count": 1248,
     "metadata": {},
     "output_type": "execute_result"
    }
   ],
   "source": [
    "df.columns"
   ]
  },
  {
   "cell_type": "code",
   "execution_count": 1249,
   "id": "ab5aaf5f",
   "metadata": {},
   "outputs": [],
   "source": [
    "# Dropping unnecessary columns\n",
    "df.drop(columns=['Memory', 'storage1', 'storage1_HDD', 'storage1_SSD', 'storage1_Hybrid',\n",
    "       'storage1_FlashStorage', 'storage2', 'storage2_HDD', 'storage2_SSD',\n",
    "       'storage2_Hybrid', 'storage2_FlashStorage'], inplace=True)"
   ]
  },
  {
   "cell_type": "code",
   "execution_count": 1250,
   "id": "bd3e4b4f",
   "metadata": {},
   "outputs": [
    {
     "data": {
      "text/html": [
       "<div>\n",
       "<style scoped>\n",
       "    .dataframe tbody tr th:only-of-type {\n",
       "        vertical-align: middle;\n",
       "    }\n",
       "\n",
       "    .dataframe tbody tr th {\n",
       "        vertical-align: top;\n",
       "    }\n",
       "\n",
       "    .dataframe thead th {\n",
       "        text-align: right;\n",
       "    }\n",
       "</style>\n",
       "<table border=\"1\" class=\"dataframe\">\n",
       "  <thead>\n",
       "    <tr style=\"text-align: right;\">\n",
       "      <th></th>\n",
       "      <th>Company</th>\n",
       "      <th>TypeName</th>\n",
       "      <th>Ram</th>\n",
       "      <th>Gpu</th>\n",
       "      <th>OpSys</th>\n",
       "      <th>Weight</th>\n",
       "      <th>Price</th>\n",
       "      <th>TouchScreen</th>\n",
       "      <th>IPS</th>\n",
       "      <th>PPI</th>\n",
       "      <th>Processor</th>\n",
       "      <th>HDD</th>\n",
       "      <th>SSD</th>\n",
       "      <th>Flash_Storage</th>\n",
       "      <th>Hybrid</th>\n",
       "    </tr>\n",
       "  </thead>\n",
       "  <tbody>\n",
       "    <tr>\n",
       "      <th>745</th>\n",
       "      <td>Acer</td>\n",
       "      <td>Notebook</td>\n",
       "      <td>2</td>\n",
       "      <td>Intel HD Graphics 400</td>\n",
       "      <td>Chrome OS</td>\n",
       "      <td>1.68</td>\n",
       "      <td>1002.19680</td>\n",
       "      <td>0</td>\n",
       "      <td>0</td>\n",
       "      <td>111.935204</td>\n",
       "      <td>Other</td>\n",
       "      <td>0</td>\n",
       "      <td>0</td>\n",
       "      <td>32</td>\n",
       "      <td>0</td>\n",
       "    </tr>\n",
       "    <tr>\n",
       "      <th>447</th>\n",
       "      <td>Dell</td>\n",
       "      <td>Workstation</td>\n",
       "      <td>8</td>\n",
       "      <td>Nvidia Quadro M620</td>\n",
       "      <td>Windows 10</td>\n",
       "      <td>2.23</td>\n",
       "      <td>6052.66128</td>\n",
       "      <td>0</td>\n",
       "      <td>0</td>\n",
       "      <td>141.211998</td>\n",
       "      <td>Other</td>\n",
       "      <td>1000</td>\n",
       "      <td>0</td>\n",
       "      <td>64</td>\n",
       "      <td>0</td>\n",
       "    </tr>\n",
       "    <tr>\n",
       "      <th>222</th>\n",
       "      <td>Toshiba</td>\n",
       "      <td>Ultrabook</td>\n",
       "      <td>8</td>\n",
       "      <td>Intel HD Graphics 520</td>\n",
       "      <td>Windows 10</td>\n",
       "      <td>1.20</td>\n",
       "      <td>4139.37648</td>\n",
       "      <td>0</td>\n",
       "      <td>0</td>\n",
       "      <td>165.632118</td>\n",
       "      <td>Intel Core i7</td>\n",
       "      <td>0</td>\n",
       "      <td>256</td>\n",
       "      <td>0</td>\n",
       "      <td>0</td>\n",
       "    </tr>\n",
       "    <tr>\n",
       "      <th>1009</th>\n",
       "      <td>HP</td>\n",
       "      <td>Notebook</td>\n",
       "      <td>4</td>\n",
       "      <td>Intel HD Graphics 620</td>\n",
       "      <td>Windows 10</td>\n",
       "      <td>1.64</td>\n",
       "      <td>2077.28064</td>\n",
       "      <td>0</td>\n",
       "      <td>0</td>\n",
       "      <td>111.935204</td>\n",
       "      <td>Intel Core i3</td>\n",
       "      <td>500</td>\n",
       "      <td>0</td>\n",
       "      <td>0</td>\n",
       "      <td>0</td>\n",
       "    </tr>\n",
       "    <tr>\n",
       "      <th>772</th>\n",
       "      <td>Toshiba</td>\n",
       "      <td>Notebook</td>\n",
       "      <td>4</td>\n",
       "      <td>Intel HD Graphics 520</td>\n",
       "      <td>Windows 10</td>\n",
       "      <td>1.75</td>\n",
       "      <td>3097.69920</td>\n",
       "      <td>0</td>\n",
       "      <td>1</td>\n",
       "      <td>111.935204</td>\n",
       "      <td>Intel Core i5</td>\n",
       "      <td>0</td>\n",
       "      <td>128</td>\n",
       "      <td>0</td>\n",
       "      <td>0</td>\n",
       "    </tr>\n",
       "  </tbody>\n",
       "</table>\n",
       "</div>"
      ],
      "text/plain": [
       "      Company     TypeName  Ram                    Gpu       OpSys  Weight  \\\n",
       "745      Acer     Notebook    2  Intel HD Graphics 400   Chrome OS    1.68   \n",
       "447      Dell  Workstation    8     Nvidia Quadro M620  Windows 10    2.23   \n",
       "222   Toshiba    Ultrabook    8  Intel HD Graphics 520  Windows 10    1.20   \n",
       "1009       HP     Notebook    4  Intel HD Graphics 620  Windows 10    1.64   \n",
       "772   Toshiba     Notebook    4  Intel HD Graphics 520  Windows 10    1.75   \n",
       "\n",
       "           Price  TouchScreen  IPS         PPI      Processor   HDD  SSD  \\\n",
       "745   1002.19680            0    0  111.935204          Other     0    0   \n",
       "447   6052.66128            0    0  141.211998          Other  1000    0   \n",
       "222   4139.37648            0    0  165.632118  Intel Core i7     0  256   \n",
       "1009  2077.28064            0    0  111.935204  Intel Core i3   500    0   \n",
       "772   3097.69920            0    1  111.935204  Intel Core i5     0  128   \n",
       "\n",
       "      Flash_Storage  Hybrid  \n",
       "745              32       0  \n",
       "447              64       0  \n",
       "222               0       0  \n",
       "1009              0       0  \n",
       "772               0       0  "
      ]
     },
     "execution_count": 1250,
     "metadata": {},
     "output_type": "execute_result"
    }
   ],
   "source": [
    "df.sample(5)"
   ]
  },
  {
   "cell_type": "code",
   "execution_count": 1251,
   "id": "a79f4300",
   "metadata": {},
   "outputs": [
    {
     "data": {
      "text/plain": [
       "Price            1.000000\n",
       "Ram              0.743007\n",
       "SSD              0.670799\n",
       "PPI              0.473487\n",
       "IPS              0.252208\n",
       "Weight           0.210370\n",
       "TouchScreen      0.191226\n",
       "Hybrid           0.007989\n",
       "Flash_Storage   -0.040511\n",
       "HDD             -0.096441\n",
       "Name: Price, dtype: float64"
      ]
     },
     "execution_count": 1251,
     "metadata": {},
     "output_type": "execute_result"
    }
   ],
   "source": [
    "df.corr()['Price'].sort_values(ascending=False)"
   ]
  },
  {
   "cell_type": "markdown",
   "id": "32e44c71",
   "metadata": {},
   "source": [
    "Once completing the pre-processing stage, we can conclude that laptops with **SSD** are more likely to be expensive based on the analysis performed on the dataset. It can also be observed that Flash Storage and HDD are negatively correlated with Price as these may be outdated forms of storage and the Price tends to decrease among Laptops with only HDD or Flash Storage."
   ]
  },
  {
   "cell_type": "code",
   "execution_count": null,
   "id": "2a56fc05",
   "metadata": {},
   "outputs": [],
   "source": []
  },
  {
   "cell_type": "markdown",
   "id": "6737a218",
   "metadata": {},
   "source": [
    "## Analysis on GPU Column"
   ]
  },
  {
   "cell_type": "code",
   "execution_count": 1252,
   "id": "21032437",
   "metadata": {},
   "outputs": [
    {
     "data": {
      "text/plain": [
       "array(['Intel Iris Plus Graphics 640', 'Intel HD Graphics 6000',\n",
       "       'Intel HD Graphics 620', 'AMD Radeon Pro 455',\n",
       "       'Intel Iris Plus Graphics 650', 'AMD Radeon R5',\n",
       "       'Intel Iris Pro Graphics', 'Nvidia GeForce MX150',\n",
       "       'Intel UHD Graphics 620', 'Intel HD Graphics 520',\n",
       "       'AMD Radeon Pro 555', 'AMD Radeon R5 M430',\n",
       "       'Intel HD Graphics 615', 'AMD Radeon Pro 560',\n",
       "       'Nvidia GeForce 940MX', 'Intel HD Graphics 400',\n",
       "       'Nvidia GeForce GTX 1050', 'AMD Radeon R2', 'AMD Radeon 530',\n",
       "       'Nvidia GeForce 930MX', 'Intel HD Graphics',\n",
       "       'Intel HD Graphics 500', 'Nvidia GeForce 930MX ',\n",
       "       'Nvidia GeForce GTX 1060', 'Nvidia GeForce 150MX',\n",
       "       'Intel Iris Graphics 540', 'AMD Radeon RX 580',\n",
       "       'Nvidia GeForce 920MX', 'AMD Radeon R4 Graphics', 'AMD Radeon 520',\n",
       "       'Nvidia GeForce GTX 1070', 'Nvidia GeForce GTX 1050 Ti',\n",
       "       'Nvidia GeForce MX130', 'AMD R4 Graphics',\n",
       "       'Nvidia GeForce GTX 940MX', 'AMD Radeon RX 560',\n",
       "       'Nvidia GeForce 920M', 'AMD Radeon R7 M445', 'AMD Radeon RX 550',\n",
       "       'Nvidia GeForce GTX 1050M', 'Intel HD Graphics 515',\n",
       "       'AMD Radeon R5 M420', 'Intel HD Graphics 505',\n",
       "       'Nvidia GTX 980 SLI', 'AMD R17M-M1-70', 'Nvidia GeForce GTX 1080',\n",
       "       'Nvidia Quadro M1200', 'Nvidia GeForce 920MX ',\n",
       "       'Nvidia GeForce GTX 950M', 'AMD FirePro W4190M ',\n",
       "       'Nvidia GeForce GTX 980M', 'Intel Iris Graphics 550',\n",
       "       'Nvidia GeForce 930M', 'Intel HD Graphics 630',\n",
       "       'AMD Radeon R5 430', 'Nvidia GeForce GTX 940M',\n",
       "       'Intel HD Graphics 510', 'Intel HD Graphics 405',\n",
       "       'AMD Radeon RX 540', 'Nvidia GeForce GT 940MX',\n",
       "       'AMD FirePro W5130M', 'Nvidia Quadro M2200M', 'AMD Radeon R4',\n",
       "       'Nvidia Quadro M620', 'AMD Radeon R7 M460',\n",
       "       'Intel HD Graphics 530', 'Nvidia GeForce GTX 965M',\n",
       "       'Nvidia GeForce GTX1080', 'Nvidia GeForce GTX1050 Ti',\n",
       "       'Nvidia GeForce GTX 960M', 'AMD Radeon R2 Graphics',\n",
       "       'Nvidia Quadro M620M', 'Nvidia GeForce GTX 970M',\n",
       "       'Nvidia GeForce GTX 960<U+039C>', 'Intel Graphics 620',\n",
       "       'Nvidia GeForce GTX 960', 'AMD Radeon R5 520',\n",
       "       'AMD Radeon R7 M440', 'AMD Radeon R7', 'Nvidia Quadro M520M',\n",
       "       'Nvidia Quadro M2200', 'Nvidia Quadro M2000M',\n",
       "       'Intel HD Graphics 540', 'Nvidia Quadro M1000M', 'AMD Radeon 540',\n",
       "       'Nvidia GeForce GTX 1070M', 'Nvidia GeForce GTX1060',\n",
       "       'Intel HD Graphics 5300', 'AMD Radeon R5 M420X',\n",
       "       'AMD Radeon R7 Graphics', 'Nvidia GeForce 920',\n",
       "       'Nvidia GeForce 940M', 'Nvidia GeForce GTX 930MX',\n",
       "       'AMD Radeon R7 M465', 'AMD Radeon R3', 'Nvidia GeForce GTX 1050Ti',\n",
       "       'AMD Radeon R7 M365X', 'AMD Radeon R9 M385',\n",
       "       'Intel HD Graphics 620 ', 'Nvidia Quadro 3000M',\n",
       "       'Nvidia GeForce GTX 980 ', 'AMD Radeon R5 M330',\n",
       "       'AMD FirePro W4190M', 'AMD FirePro W6150M', 'AMD Radeon R5 M315',\n",
       "       'Nvidia Quadro M500M', 'AMD Radeon R7 M360',\n",
       "       'Nvidia Quadro M3000M', 'Nvidia GeForce 960M', 'ARM Mali T860 MP4'],\n",
       "      dtype=object)"
      ]
     },
     "execution_count": 1252,
     "metadata": {},
     "output_type": "execute_result"
    }
   ],
   "source": [
    "df['Gpu'].unique()"
   ]
  },
  {
   "cell_type": "markdown",
   "id": "8e7f8e5e",
   "metadata": {},
   "source": [
    "Since consumers are more likely to focus on the Manufacturer prior to looking at the model, we shall put in more emphasis on the GPU Manufacturer throughout this Analysis. "
   ]
  },
  {
   "cell_type": "code",
   "execution_count": 1253,
   "id": "bb362ae8",
   "metadata": {},
   "outputs": [
    {
     "name": "stderr",
     "output_type": "stream",
     "text": [
      "C:\\Users\\tuans\\anaconda3\\lib\\site-packages\\seaborn\\_decorators.py:36: FutureWarning: Pass the following variable as a keyword arg: x. From version 0.12, the only valid positional argument will be `data`, and passing other arguments without an explicit keyword will result in an error or misinterpretation.\n",
      "  warnings.warn(\n"
     ]
    },
    {
     "data": {
      "text/plain": [
       "<AxesSubplot:xlabel='Gpu_manu', ylabel='count'>"
      ]
     },
     "execution_count": 1253,
     "metadata": {},
     "output_type": "execute_result"
    },
    {
     "data": {
      "image/png": "[encoded data removed]",
      "text/plain": [
       "<Figure size 1080x576 with 1 Axes>"
      ]
     },
     "metadata": {
      "needs_background": "light"
     },
     "output_type": "display_data"
    }
   ],
   "source": [
    "# Extracting Manufacturer Name / Brand into a new comlumn\n",
    "df['Gpu_manu'] = df['Gpu'].apply(lambda x:x.split()[0])\n",
    "\n",
    "plt.figure(figsize=(15,8))\n",
    "sn.countplot(df['Gpu_manu'], palette = 'magma')"
   ]
  },
  {
   "cell_type": "code",
   "execution_count": 1254,
   "id": "0c398dba",
   "metadata": {},
   "outputs": [
    {
     "data": {
      "text/plain": [
       "Intel     722\n",
       "Nvidia    400\n",
       "AMD       180\n",
       "ARM         1\n",
       "Name: Gpu_manu, dtype: int64"
      ]
     },
     "execution_count": 1254,
     "metadata": {},
     "output_type": "execute_result"
    }
   ],
   "source": [
    "df['Gpu_manu'].value_counts()"
   ]
  },
  {
   "cell_type": "code",
   "execution_count": 1255,
   "id": "54f55fb1",
   "metadata": {},
   "outputs": [
    {
     "name": "stderr",
     "output_type": "stream",
     "text": [
      "C:\\Users\\tuans\\anaconda3\\lib\\site-packages\\seaborn\\_decorators.py:36: FutureWarning: Pass the following variable as a keyword arg: x. From version 0.12, the only valid positional argument will be `data`, and passing other arguments without an explicit keyword will result in an error or misinterpretation.\n",
      "  warnings.warn(\n"
     ]
    },
    {
     "data": {
      "text/plain": [
       "<AxesSubplot:xlabel='Gpu_manu', ylabel='count'>"
      ]
     },
     "execution_count": 1255,
     "metadata": {},
     "output_type": "execute_result"
    },
    {
     "data": {
      "image/png": "[encoded data removed]",
      "text/plain": [
       "<Figure size 1080x576 with 1 Axes>"
      ]
     },
     "metadata": {
      "needs_background": "light"
     },
     "output_type": "display_data"
    }
   ],
   "source": [
    "# Dropping ARM as only 1 laptop within Dataset contains ARM \n",
    "df = df[df['Gpu_manu'] != 'ARM']\n",
    "\n",
    "plt.figure(figsize=(15,8))\n",
    "sn.countplot(df['Gpu_manu'], palette = 'magma')"
   ]
  },
  {
   "cell_type": "code",
   "execution_count": 1256,
   "id": "fa7c1238",
   "metadata": {},
   "outputs": [
    {
     "data": {
      "text/plain": [
       "Intel     722\n",
       "Nvidia    400\n",
       "AMD       180\n",
       "Name: Gpu_manu, dtype: int64"
      ]
     },
     "execution_count": 1256,
     "metadata": {},
     "output_type": "execute_result"
    }
   ],
   "source": [
    "df['Gpu_manu'].value_counts()"
   ]
  },
  {
   "cell_type": "code",
   "execution_count": 1257,
   "id": "cdb09a5c",
   "metadata": {
    "scrolled": false
   },
   "outputs": [
    {
     "name": "stderr",
     "output_type": "stream",
     "text": [
      "C:\\Users\\tuans\\anaconda3\\lib\\site-packages\\seaborn\\_decorators.py:36: FutureWarning: Pass the following variables as keyword args: x, y. From version 0.12, the only valid positional argument will be `data`, and passing other arguments without an explicit keyword will result in an error or misinterpretation.\n",
      "  warnings.warn(\n"
     ]
    },
    {
     "data": {
      "text/plain": [
       "<AxesSubplot:xlabel='Gpu_manu', ylabel='Price'>"
      ]
     },
     "execution_count": 1257,
     "metadata": {},
     "output_type": "execute_result"
    },
    {
     "data": {
      "image/png": "[encoded data removed]",
      "text/plain": [
       "<Figure size 432x288 with 1 Axes>"
      ]
     },
     "metadata": {
      "needs_background": "light"
     },
     "output_type": "display_data"
    }
   ],
   "source": [
    "# Checking variation in price based on GPU\n",
    "sn.barplot(df['Gpu_manu'], df['Price'], estimator = np.mean, palette = 'PuBu')"
   ]
  },
  {
   "cell_type": "markdown",
   "id": "c0e75970",
   "metadata": {},
   "source": [
    "As illustrated by the graph above, laptops with Nvidia GPU tends to be more expensive in comparison to Intel and AMD."
   ]
  },
  {
   "cell_type": "code",
   "execution_count": 1258,
   "id": "78cc693b",
   "metadata": {},
   "outputs": [
    {
     "data": {
      "text/html": [
       "<div>\n",
       "<style scoped>\n",
       "    .dataframe tbody tr th:only-of-type {\n",
       "        vertical-align: middle;\n",
       "    }\n",
       "\n",
       "    .dataframe tbody tr th {\n",
       "        vertical-align: top;\n",
       "    }\n",
       "\n",
       "    .dataframe thead th {\n",
       "        text-align: right;\n",
       "    }\n",
       "</style>\n",
       "<table border=\"1\" class=\"dataframe\">\n",
       "  <thead>\n",
       "    <tr style=\"text-align: right;\">\n",
       "      <th></th>\n",
       "      <th>Company</th>\n",
       "      <th>TypeName</th>\n",
       "      <th>Ram</th>\n",
       "      <th>OpSys</th>\n",
       "      <th>Weight</th>\n",
       "      <th>Price</th>\n",
       "      <th>TouchScreen</th>\n",
       "      <th>IPS</th>\n",
       "      <th>PPI</th>\n",
       "      <th>Processor</th>\n",
       "      <th>HDD</th>\n",
       "      <th>SSD</th>\n",
       "      <th>Flash_Storage</th>\n",
       "      <th>Hybrid</th>\n",
       "      <th>Gpu_manu</th>\n",
       "    </tr>\n",
       "  </thead>\n",
       "  <tbody>\n",
       "    <tr>\n",
       "      <th>0</th>\n",
       "      <td>Apple</td>\n",
       "      <td>Ultrabook</td>\n",
       "      <td>8</td>\n",
       "      <td>macOS</td>\n",
       "      <td>1.37</td>\n",
       "      <td>4068.584942</td>\n",
       "      <td>0</td>\n",
       "      <td>1</td>\n",
       "      <td>226.983005</td>\n",
       "      <td>Intel Core i5</td>\n",
       "      <td>0</td>\n",
       "      <td>128</td>\n",
       "      <td>0</td>\n",
       "      <td>0</td>\n",
       "      <td>Intel</td>\n",
       "    </tr>\n",
       "    <tr>\n",
       "      <th>1</th>\n",
       "      <td>Apple</td>\n",
       "      <td>Ultrabook</td>\n",
       "      <td>8</td>\n",
       "      <td>macOS</td>\n",
       "      <td>1.34</td>\n",
       "      <td>2730.044822</td>\n",
       "      <td>0</td>\n",
       "      <td>0</td>\n",
       "      <td>127.677940</td>\n",
       "      <td>Intel Core i5</td>\n",
       "      <td>0</td>\n",
       "      <td>0</td>\n",
       "      <td>128</td>\n",
       "      <td>0</td>\n",
       "      <td>Intel</td>\n",
       "    </tr>\n",
       "    <tr>\n",
       "      <th>2</th>\n",
       "      <td>HP</td>\n",
       "      <td>Notebook</td>\n",
       "      <td>8</td>\n",
       "      <td>No OS</td>\n",
       "      <td>1.86</td>\n",
       "      <td>1746.252000</td>\n",
       "      <td>0</td>\n",
       "      <td>0</td>\n",
       "      <td>141.211998</td>\n",
       "      <td>Intel Core i5</td>\n",
       "      <td>0</td>\n",
       "      <td>256</td>\n",
       "      <td>0</td>\n",
       "      <td>0</td>\n",
       "      <td>Intel</td>\n",
       "    </tr>\n",
       "    <tr>\n",
       "      <th>3</th>\n",
       "      <td>Apple</td>\n",
       "      <td>Ultrabook</td>\n",
       "      <td>16</td>\n",
       "      <td>macOS</td>\n",
       "      <td>1.83</td>\n",
       "      <td>7706.134152</td>\n",
       "      <td>0</td>\n",
       "      <td>1</td>\n",
       "      <td>220.534624</td>\n",
       "      <td>Intel Core i7</td>\n",
       "      <td>0</td>\n",
       "      <td>512</td>\n",
       "      <td>0</td>\n",
       "      <td>0</td>\n",
       "      <td>AMD</td>\n",
       "    </tr>\n",
       "    <tr>\n",
       "      <th>4</th>\n",
       "      <td>Apple</td>\n",
       "      <td>Ultrabook</td>\n",
       "      <td>8</td>\n",
       "      <td>macOS</td>\n",
       "      <td>1.37</td>\n",
       "      <td>5477.461056</td>\n",
       "      <td>0</td>\n",
       "      <td>1</td>\n",
       "      <td>226.983005</td>\n",
       "      <td>Intel Core i5</td>\n",
       "      <td>0</td>\n",
       "      <td>256</td>\n",
       "      <td>0</td>\n",
       "      <td>0</td>\n",
       "      <td>Intel</td>\n",
       "    </tr>\n",
       "  </tbody>\n",
       "</table>\n",
       "</div>"
      ],
      "text/plain": [
       "  Company   TypeName  Ram  OpSys  Weight        Price  TouchScreen  IPS  \\\n",
       "0   Apple  Ultrabook    8  macOS    1.37  4068.584942            0    1   \n",
       "1   Apple  Ultrabook    8  macOS    1.34  2730.044822            0    0   \n",
       "2      HP   Notebook    8  No OS    1.86  1746.252000            0    0   \n",
       "3   Apple  Ultrabook   16  macOS    1.83  7706.134152            0    1   \n",
       "4   Apple  Ultrabook    8  macOS    1.37  5477.461056            0    1   \n",
       "\n",
       "          PPI      Processor  HDD  SSD  Flash_Storage  Hybrid Gpu_manu  \n",
       "0  226.983005  Intel Core i5    0  128              0       0    Intel  \n",
       "1  127.677940  Intel Core i5    0    0            128       0    Intel  \n",
       "2  141.211998  Intel Core i5    0  256              0       0    Intel  \n",
       "3  220.534624  Intel Core i7    0  512              0       0      AMD  \n",
       "4  226.983005  Intel Core i5    0  256              0       0    Intel  "
      ]
     },
     "execution_count": 1258,
     "metadata": {},
     "output_type": "execute_result"
    }
   ],
   "source": [
    "# Dropping 'Gpu' Column as it's no longer required\n",
    "df = df.drop(columns = ['Gpu'])\n",
    "df.head()"
   ]
  },
  {
   "cell_type": "code",
   "execution_count": null,
   "id": "c454e155",
   "metadata": {},
   "outputs": [],
   "source": []
  },
  {
   "cell_type": "markdown",
   "id": "55851c34",
   "metadata": {},
   "source": [
    "## Analysis on OpSys Column"
   ]
  },
  {
   "cell_type": "code",
   "execution_count": 1259,
   "id": "f95ba3f4",
   "metadata": {},
   "outputs": [
    {
     "data": {
      "text/plain": [
       "array(['macOS', 'No OS', 'Windows 10', 'Mac OS X', 'Linux', 'Android',\n",
       "       'Windows 10 S', 'Chrome OS', 'Windows 7'], dtype=object)"
      ]
     },
     "execution_count": 1259,
     "metadata": {},
     "output_type": "execute_result"
    }
   ],
   "source": [
    "df['OpSys'].unique()"
   ]
  },
  {
   "cell_type": "code",
   "execution_count": 1260,
   "id": "936dfad5",
   "metadata": {},
   "outputs": [
    {
     "data": {
      "text/plain": [
       "Windows 10      1072\n",
       "No OS             66\n",
       "Linux             62\n",
       "Windows 7         45\n",
       "Chrome OS         26\n",
       "macOS             13\n",
       "Mac OS X           8\n",
       "Windows 10 S       8\n",
       "Android            2\n",
       "Name: OpSys, dtype: int64"
      ]
     },
     "execution_count": 1260,
     "metadata": {},
     "output_type": "execute_result"
    }
   ],
   "source": [
    "df['OpSys'].value_counts()"
   ]
  },
  {
   "cell_type": "markdown",
   "id": "f4ee2569",
   "metadata": {},
   "source": [
    "As shown above, some Operating Systems are updated versions of each other, these include Windows 10, which is an updated version of Windows 7 and so on. These can be merged based on the OS to make the prediction process more efficient and accurate."
   ]
  },
  {
   "cell_type": "code",
   "execution_count": 1261,
   "id": "284000b0",
   "metadata": {},
   "outputs": [
    {
     "name": "stderr",
     "output_type": "stream",
     "text": [
      "C:\\Users\\tuans\\anaconda3\\lib\\site-packages\\seaborn\\_decorators.py:36: FutureWarning: Pass the following variables as keyword args: x, y. From version 0.12, the only valid positional argument will be `data`, and passing other arguments without an explicit keyword will result in an error or misinterpretation.\n",
      "  warnings.warn(\n"
     ]
    },
    {
     "data": {
      "text/plain": [
       "<AxesSubplot:xlabel='OpSys', ylabel='Price'>"
      ]
     },
     "execution_count": 1261,
     "metadata": {},
     "output_type": "execute_result"
    },
    {
     "data": {
      "image/png": "[encoded data removed]",
      "text/plain": [
       "<Figure size 1080x576 with 1 Axes>"
      ]
     },
     "metadata": {
      "needs_background": "light"
     },
     "output_type": "display_data"
    }
   ],
   "source": [
    "# Variation in Price based on OS\n",
    "plt.figure(figsize=(15,8))\n",
    "sn.barplot(df['OpSys'], df['Price'], palette = 'cool_r')"
   ]
  },
  {
   "cell_type": "markdown",
   "id": "bb37fa36",
   "metadata": {},
   "source": [
    "### Classify OS"
   ]
  },
  {
   "cell_type": "code",
   "execution_count": 1262,
   "id": "2723637e",
   "metadata": {},
   "outputs": [
    {
     "data": {
      "text/plain": [
       "array(['macOS', 'No OS', 'Windows 10', 'Mac OS X', 'Linux', 'Android',\n",
       "       'Windows 10 S', 'Chrome OS', 'Windows 7'], dtype=object)"
      ]
     },
     "execution_count": 1262,
     "metadata": {},
     "output_type": "execute_result"
    }
   ],
   "source": [
    "df['OpSys'].unique()"
   ]
  },
  {
   "cell_type": "code",
   "execution_count": 1263,
   "id": "69effde9",
   "metadata": {},
   "outputs": [],
   "source": [
    "# Function to categorize OS\n",
    "def set_OS(text):\n",
    "    \n",
    "    if text == \"Windows 10\" or text == \"Windows 10 S\" or text == \"Windows 7\":\n",
    "        return 'Windows'\n",
    "    \n",
    "    elif text == \"Mac OS X\" or text == \"macOS\":\n",
    "        return 'Mac'\n",
    "    \n",
    "    else:\n",
    "        return 'Other'"
   ]
  },
  {
   "cell_type": "code",
   "execution_count": 1264,
   "id": "f34e290c",
   "metadata": {},
   "outputs": [
    {
     "data": {
      "text/html": [
       "<div>\n",
       "<style scoped>\n",
       "    .dataframe tbody tr th:only-of-type {\n",
       "        vertical-align: middle;\n",
       "    }\n",
       "\n",
       "    .dataframe tbody tr th {\n",
       "        vertical-align: top;\n",
       "    }\n",
       "\n",
       "    .dataframe thead th {\n",
       "        text-align: right;\n",
       "    }\n",
       "</style>\n",
       "<table border=\"1\" class=\"dataframe\">\n",
       "  <thead>\n",
       "    <tr style=\"text-align: right;\">\n",
       "      <th></th>\n",
       "      <th>Company</th>\n",
       "      <th>TypeName</th>\n",
       "      <th>Ram</th>\n",
       "      <th>OpSys</th>\n",
       "      <th>Weight</th>\n",
       "      <th>Price</th>\n",
       "      <th>TouchScreen</th>\n",
       "      <th>IPS</th>\n",
       "      <th>PPI</th>\n",
       "      <th>Processor</th>\n",
       "      <th>HDD</th>\n",
       "      <th>SSD</th>\n",
       "      <th>Flash_Storage</th>\n",
       "      <th>Hybrid</th>\n",
       "      <th>Gpu_manu</th>\n",
       "    </tr>\n",
       "  </thead>\n",
       "  <tbody>\n",
       "    <tr>\n",
       "      <th>0</th>\n",
       "      <td>Apple</td>\n",
       "      <td>Ultrabook</td>\n",
       "      <td>8</td>\n",
       "      <td>Mac</td>\n",
       "      <td>1.37</td>\n",
       "      <td>4068.584942</td>\n",
       "      <td>0</td>\n",
       "      <td>1</td>\n",
       "      <td>226.983005</td>\n",
       "      <td>Intel Core i5</td>\n",
       "      <td>0</td>\n",
       "      <td>128</td>\n",
       "      <td>0</td>\n",
       "      <td>0</td>\n",
       "      <td>Intel</td>\n",
       "    </tr>\n",
       "    <tr>\n",
       "      <th>1</th>\n",
       "      <td>Apple</td>\n",
       "      <td>Ultrabook</td>\n",
       "      <td>8</td>\n",
       "      <td>Mac</td>\n",
       "      <td>1.34</td>\n",
       "      <td>2730.044822</td>\n",
       "      <td>0</td>\n",
       "      <td>0</td>\n",
       "      <td>127.677940</td>\n",
       "      <td>Intel Core i5</td>\n",
       "      <td>0</td>\n",
       "      <td>0</td>\n",
       "      <td>128</td>\n",
       "      <td>0</td>\n",
       "      <td>Intel</td>\n",
       "    </tr>\n",
       "    <tr>\n",
       "      <th>2</th>\n",
       "      <td>HP</td>\n",
       "      <td>Notebook</td>\n",
       "      <td>8</td>\n",
       "      <td>Other</td>\n",
       "      <td>1.86</td>\n",
       "      <td>1746.252000</td>\n",
       "      <td>0</td>\n",
       "      <td>0</td>\n",
       "      <td>141.211998</td>\n",
       "      <td>Intel Core i5</td>\n",
       "      <td>0</td>\n",
       "      <td>256</td>\n",
       "      <td>0</td>\n",
       "      <td>0</td>\n",
       "      <td>Intel</td>\n",
       "    </tr>\n",
       "    <tr>\n",
       "      <th>3</th>\n",
       "      <td>Apple</td>\n",
       "      <td>Ultrabook</td>\n",
       "      <td>16</td>\n",
       "      <td>Mac</td>\n",
       "      <td>1.83</td>\n",
       "      <td>7706.134152</td>\n",
       "      <td>0</td>\n",
       "      <td>1</td>\n",
       "      <td>220.534624</td>\n",
       "      <td>Intel Core i7</td>\n",
       "      <td>0</td>\n",
       "      <td>512</td>\n",
       "      <td>0</td>\n",
       "      <td>0</td>\n",
       "      <td>AMD</td>\n",
       "    </tr>\n",
       "    <tr>\n",
       "      <th>4</th>\n",
       "      <td>Apple</td>\n",
       "      <td>Ultrabook</td>\n",
       "      <td>8</td>\n",
       "      <td>Mac</td>\n",
       "      <td>1.37</td>\n",
       "      <td>5477.461056</td>\n",
       "      <td>0</td>\n",
       "      <td>1</td>\n",
       "      <td>226.983005</td>\n",
       "      <td>Intel Core i5</td>\n",
       "      <td>0</td>\n",
       "      <td>256</td>\n",
       "      <td>0</td>\n",
       "      <td>0</td>\n",
       "      <td>Intel</td>\n",
       "    </tr>\n",
       "  </tbody>\n",
       "</table>\n",
       "</div>"
      ],
      "text/plain": [
       "  Company   TypeName  Ram  OpSys  Weight        Price  TouchScreen  IPS  \\\n",
       "0   Apple  Ultrabook    8    Mac    1.37  4068.584942            0    1   \n",
       "1   Apple  Ultrabook    8    Mac    1.34  2730.044822            0    0   \n",
       "2      HP   Notebook    8  Other    1.86  1746.252000            0    0   \n",
       "3   Apple  Ultrabook   16    Mac    1.83  7706.134152            0    1   \n",
       "4   Apple  Ultrabook    8    Mac    1.37  5477.461056            0    1   \n",
       "\n",
       "          PPI      Processor  HDD  SSD  Flash_Storage  Hybrid Gpu_manu  \n",
       "0  226.983005  Intel Core i5    0  128              0       0    Intel  \n",
       "1  127.677940  Intel Core i5    0    0            128       0    Intel  \n",
       "2  141.211998  Intel Core i5    0  256              0       0    Intel  \n",
       "3  220.534624  Intel Core i7    0  512              0       0      AMD  \n",
       "4  226.983005  Intel Core i5    0  256              0       0    Intel  "
      ]
     },
     "execution_count": 1264,
     "metadata": {},
     "output_type": "execute_result"
    }
   ],
   "source": [
    "df['OpSys'] = df['OpSys'].apply(lambda x:set_OS(x))\n",
    "df.head()"
   ]
  },
  {
   "cell_type": "code",
   "execution_count": 1265,
   "id": "e516f53a",
   "metadata": {},
   "outputs": [
    {
     "data": {
      "text/html": [
       "<div>\n",
       "<style scoped>\n",
       "    .dataframe tbody tr th:only-of-type {\n",
       "        vertical-align: middle;\n",
       "    }\n",
       "\n",
       "    .dataframe tbody tr th {\n",
       "        vertical-align: top;\n",
       "    }\n",
       "\n",
       "    .dataframe thead th {\n",
       "        text-align: right;\n",
       "    }\n",
       "</style>\n",
       "<table border=\"1\" class=\"dataframe\">\n",
       "  <thead>\n",
       "    <tr style=\"text-align: right;\">\n",
       "      <th></th>\n",
       "      <th>Company</th>\n",
       "      <th>TypeName</th>\n",
       "      <th>Ram</th>\n",
       "      <th>OpSys</th>\n",
       "      <th>Weight</th>\n",
       "      <th>Price</th>\n",
       "      <th>TouchScreen</th>\n",
       "      <th>IPS</th>\n",
       "      <th>PPI</th>\n",
       "      <th>Processor</th>\n",
       "      <th>HDD</th>\n",
       "      <th>SSD</th>\n",
       "      <th>Flash_Storage</th>\n",
       "      <th>Hybrid</th>\n",
       "      <th>Gpu_manu</th>\n",
       "    </tr>\n",
       "  </thead>\n",
       "  <tbody>\n",
       "    <tr>\n",
       "      <th>1274</th>\n",
       "      <td>Asus</td>\n",
       "      <td>Notebook</td>\n",
       "      <td>4</td>\n",
       "      <td>Windows</td>\n",
       "      <td>2.20</td>\n",
       "      <td>1120.63824</td>\n",
       "      <td>0</td>\n",
       "      <td>0</td>\n",
       "      <td>100.454670</td>\n",
       "      <td>Other</td>\n",
       "      <td>500</td>\n",
       "      <td>0</td>\n",
       "      <td>0</td>\n",
       "      <td>0</td>\n",
       "      <td>Intel</td>\n",
       "    </tr>\n",
       "    <tr>\n",
       "      <th>1162</th>\n",
       "      <td>HP</td>\n",
       "      <td>Gaming</td>\n",
       "      <td>8</td>\n",
       "      <td>Windows</td>\n",
       "      <td>2.62</td>\n",
       "      <td>2730.22704</td>\n",
       "      <td>0</td>\n",
       "      <td>1</td>\n",
       "      <td>141.211998</td>\n",
       "      <td>Intel Core i7</td>\n",
       "      <td>1000</td>\n",
       "      <td>0</td>\n",
       "      <td>0</td>\n",
       "      <td>0</td>\n",
       "      <td>Nvidia</td>\n",
       "    </tr>\n",
       "    <tr>\n",
       "      <th>727</th>\n",
       "      <td>Dell</td>\n",
       "      <td>2 in 1 Convertible</td>\n",
       "      <td>4</td>\n",
       "      <td>Windows</td>\n",
       "      <td>1.71</td>\n",
       "      <td>1970.98704</td>\n",
       "      <td>1</td>\n",
       "      <td>0</td>\n",
       "      <td>165.632118</td>\n",
       "      <td>Intel Core i3</td>\n",
       "      <td>1000</td>\n",
       "      <td>0</td>\n",
       "      <td>0</td>\n",
       "      <td>0</td>\n",
       "      <td>Intel</td>\n",
       "    </tr>\n",
       "    <tr>\n",
       "      <th>500</th>\n",
       "      <td>Asus</td>\n",
       "      <td>Netbook</td>\n",
       "      <td>4</td>\n",
       "      <td>Windows</td>\n",
       "      <td>1.20</td>\n",
       "      <td>1032.56640</td>\n",
       "      <td>0</td>\n",
       "      <td>0</td>\n",
       "      <td>135.094211</td>\n",
       "      <td>Other</td>\n",
       "      <td>0</td>\n",
       "      <td>0</td>\n",
       "      <td>64</td>\n",
       "      <td>0</td>\n",
       "      <td>Intel</td>\n",
       "    </tr>\n",
       "    <tr>\n",
       "      <th>844</th>\n",
       "      <td>HP</td>\n",
       "      <td>Ultrabook</td>\n",
       "      <td>8</td>\n",
       "      <td>Windows</td>\n",
       "      <td>1.54</td>\n",
       "      <td>5679.11520</td>\n",
       "      <td>0</td>\n",
       "      <td>0</td>\n",
       "      <td>157.350512</td>\n",
       "      <td>Intel Core i7</td>\n",
       "      <td>0</td>\n",
       "      <td>512</td>\n",
       "      <td>0</td>\n",
       "      <td>0</td>\n",
       "      <td>Intel</td>\n",
       "    </tr>\n",
       "  </tbody>\n",
       "</table>\n",
       "</div>"
      ],
      "text/plain": [
       "     Company            TypeName  Ram    OpSys  Weight       Price  \\\n",
       "1274    Asus            Notebook    4  Windows    2.20  1120.63824   \n",
       "1162      HP              Gaming    8  Windows    2.62  2730.22704   \n",
       "727     Dell  2 in 1 Convertible    4  Windows    1.71  1970.98704   \n",
       "500     Asus             Netbook    4  Windows    1.20  1032.56640   \n",
       "844       HP           Ultrabook    8  Windows    1.54  5679.11520   \n",
       "\n",
       "      TouchScreen  IPS         PPI      Processor   HDD  SSD  Flash_Storage  \\\n",
       "1274            0    0  100.454670          Other   500    0              0   \n",
       "1162            0    1  141.211998  Intel Core i7  1000    0              0   \n",
       "727             1    0  165.632118  Intel Core i3  1000    0              0   \n",
       "500             0    0  135.094211          Other     0    0             64   \n",
       "844             0    0  157.350512  Intel Core i7     0  512              0   \n",
       "\n",
       "      Hybrid Gpu_manu  \n",
       "1274       0    Intel  \n",
       "1162       0   Nvidia  \n",
       "727        0    Intel  \n",
       "500        0    Intel  \n",
       "844        0    Intel  "
      ]
     },
     "execution_count": 1265,
     "metadata": {},
     "output_type": "execute_result"
    }
   ],
   "source": [
    "df.sample(5)"
   ]
  },
  {
   "cell_type": "code",
   "execution_count": 1266,
   "id": "7e5b77d2",
   "metadata": {},
   "outputs": [
    {
     "name": "stderr",
     "output_type": "stream",
     "text": [
      "C:\\Users\\tuans\\anaconda3\\lib\\site-packages\\seaborn\\_decorators.py:36: FutureWarning: Pass the following variable as a keyword arg: x. From version 0.12, the only valid positional argument will be `data`, and passing other arguments without an explicit keyword will result in an error or misinterpretation.\n",
      "  warnings.warn(\n"
     ]
    },
    {
     "data": {
      "text/plain": [
       "<AxesSubplot:xlabel='OpSys', ylabel='count'>"
      ]
     },
     "execution_count": 1266,
     "metadata": {},
     "output_type": "execute_result"
    },
    {
     "data": {
      "image/png": "[encoded data removed]",
      "text/plain": [
       "<Figure size 432x288 with 1 Axes>"
      ]
     },
     "metadata": {
      "needs_background": "light"
     },
     "output_type": "display_data"
    }
   ],
   "source": [
    "sn.countplot(df['OpSys'], palette='cool')"
   ]
  },
  {
   "cell_type": "code",
   "execution_count": 1267,
   "id": "9d12d4aa",
   "metadata": {},
   "outputs": [
    {
     "data": {
      "text/plain": [
       "Windows    1125\n",
       "Other       156\n",
       "Mac          21\n",
       "Name: OpSys, dtype: int64"
      ]
     },
     "execution_count": 1267,
     "metadata": {},
     "output_type": "execute_result"
    }
   ],
   "source": [
    "df['OpSys'].value_counts()"
   ]
  },
  {
   "cell_type": "code",
   "execution_count": 1268,
   "id": "fecef269",
   "metadata": {},
   "outputs": [
    {
     "name": "stderr",
     "output_type": "stream",
     "text": [
      "C:\\Users\\tuans\\anaconda3\\lib\\site-packages\\seaborn\\_decorators.py:36: FutureWarning: Pass the following variables as keyword args: x, y. From version 0.12, the only valid positional argument will be `data`, and passing other arguments without an explicit keyword will result in an error or misinterpretation.\n",
      "  warnings.warn(\n"
     ]
    },
    {
     "data": {
      "text/plain": [
       "<AxesSubplot:xlabel='OpSys', ylabel='Price'>"
      ]
     },
     "execution_count": 1268,
     "metadata": {},
     "output_type": "execute_result"
    },
    {
     "data": {
      "image/png": "[encoded data removed]",
      "text/plain": [
       "<Figure size 432x288 with 1 Axes>"
      ]
     },
     "metadata": {
      "needs_background": "light"
     },
     "output_type": "display_data"
    }
   ],
   "source": [
    "# Identifying the variation in Price among the 3 categories\n",
    "sn.barplot(df['OpSys'], df['Price'], palette = 'cool')"
   ]
  },
  {
   "cell_type": "markdown",
   "id": "5bd3d04f",
   "metadata": {},
   "source": [
    "Based on the bar plot above, we can identify that Laptops with Mac OS tend to be more expensive ranging between RM 4000 to RM 5700. This is followed by Windows and Other OS. "
   ]
  },
  {
   "cell_type": "code",
   "execution_count": null,
   "id": "7b6e45da",
   "metadata": {},
   "outputs": [],
   "source": []
  },
  {
   "cell_type": "markdown",
   "id": "c95ecb53",
   "metadata": {},
   "source": [
    "## Analysis on Weight"
   ]
  },
  {
   "cell_type": "code",
   "execution_count": 1269,
   "id": "9318bc1c",
   "metadata": {},
   "outputs": [
    {
     "name": "stderr",
     "output_type": "stream",
     "text": [
      "C:\\Users\\tuans\\anaconda3\\lib\\site-packages\\seaborn\\distributions.py:2557: FutureWarning: `distplot` is a deprecated function and will be removed in a future version. Please adapt your code to use either `displot` (a figure-level function with similar flexibility) or `histplot` (an axes-level function for histograms).\n",
      "  warnings.warn(msg, FutureWarning)\n"
     ]
    },
    {
     "data": {
      "text/plain": [
       "<AxesSubplot:xlabel='Weight', ylabel='Density'>"
      ]
     },
     "execution_count": 1269,
     "metadata": {},
     "output_type": "execute_result"
    },
    {
     "data": {
      "image/png": "[encoded data removed]",
      "text/plain": [
       "<Figure size 432x288 with 1 Axes>"
      ]
     },
     "metadata": {
      "needs_background": "light"
     },
     "output_type": "display_data"
    }
   ],
   "source": [
    "sn.distplot(df['Weight'])"
   ]
  },
  {
   "cell_type": "code",
   "execution_count": 1270,
   "id": "f10991bb",
   "metadata": {},
   "outputs": [
    {
     "name": "stderr",
     "output_type": "stream",
     "text": [
      "C:\\Users\\tuans\\anaconda3\\lib\\site-packages\\seaborn\\_decorators.py:36: FutureWarning: Pass the following variables as keyword args: x, y. From version 0.12, the only valid positional argument will be `data`, and passing other arguments without an explicit keyword will result in an error or misinterpretation.\n",
      "  warnings.warn(\n"
     ]
    },
    {
     "data": {
      "text/plain": [
       "<AxesSubplot:xlabel='Weight', ylabel='Price'>"
      ]
     },
     "execution_count": 1270,
     "metadata": {},
     "output_type": "execute_result"
    },
    {
     "data": {
      "image/png": "[encoded data removed]",
      "text/plain": [
       "<Figure size 432x288 with 1 Axes>"
      ]
     },
     "metadata": {
      "needs_background": "light"
     },
     "output_type": "display_data"
    }
   ],
   "source": [
    "sn.scatterplot(df['Weight'], df['Price'])"
   ]
  },
  {
   "cell_type": "markdown",
   "id": "c57f9750",
   "metadata": {},
   "source": [
    "Based on the analysis performed on Weight, we can determine that most laptops within the dataset range within 1.0 kg to 3.0 kg at a price range below RM 10000. This could be due to the fact that the majority of the consumers require laptops for day-to-day tasks and not require any heavy usage to be performed."
   ]
  },
  {
   "cell_type": "code",
   "execution_count": null,
   "id": "2675ff4e",
   "metadata": {},
   "outputs": [],
   "source": []
  },
  {
   "cell_type": "markdown",
   "id": "f886800c",
   "metadata": {},
   "source": [
    "### Price Analysis"
   ]
  },
  {
   "cell_type": "code",
   "execution_count": 1271,
   "id": "9300cac3",
   "metadata": {},
   "outputs": [
    {
     "name": "stderr",
     "output_type": "stream",
     "text": [
      "C:\\Users\\tuans\\anaconda3\\lib\\site-packages\\seaborn\\distributions.py:2557: FutureWarning: `distplot` is a deprecated function and will be removed in a future version. Please adapt your code to use either `displot` (a figure-level function with similar flexibility) or `histplot` (an axes-level function for histograms).\n",
      "  warnings.warn(msg, FutureWarning)\n"
     ]
    },
    {
     "data": {
      "text/plain": [
       "<AxesSubplot:xlabel='Price', ylabel='Density'>"
      ]
     },
     "execution_count": 1271,
     "metadata": {},
     "output_type": "execute_result"
    },
    {
     "data": {
      "image/png": "[encoded data removed]",
      "text/plain": [
       "<Figure size 432x288 with 1 Axes>"
      ]
     },
     "metadata": {
      "needs_background": "light"
     },
     "output_type": "display_data"
    }
   ],
   "source": [
    "sn.distplot(df['Price'])"
   ]
  },
  {
   "cell_type": "markdown",
   "id": "c1460d99",
   "metadata": {},
   "source": [
    "Since the Price column is Left Skewed, we shall run the code below to get Gaussian Distribution."
   ]
  },
  {
   "cell_type": "code",
   "execution_count": 1272,
   "id": "84851226",
   "metadata": {},
   "outputs": [
    {
     "name": "stderr",
     "output_type": "stream",
     "text": [
      "C:\\Users\\tuans\\anaconda3\\lib\\site-packages\\seaborn\\distributions.py:2557: FutureWarning: `distplot` is a deprecated function and will be removed in a future version. Please adapt your code to use either `displot` (a figure-level function with similar flexibility) or `histplot` (an axes-level function for histograms).\n",
      "  warnings.warn(msg, FutureWarning)\n"
     ]
    },
    {
     "data": {
      "text/plain": [
       "<AxesSubplot:xlabel='Price', ylabel='Density'>"
      ]
     },
     "execution_count": 1272,
     "metadata": {},
     "output_type": "execute_result"
    },
    {
     "data": {
      "image/png": "[encoded data removed]",
      "text/plain": [
       "<Figure size 432x288 with 1 Axes>"
      ]
     },
     "metadata": {
      "needs_background": "light"
     },
     "output_type": "display_data"
    }
   ],
   "source": [
    "sn.distplot(np.log(df['Price']))"
   ]
  },
  {
   "cell_type": "markdown",
   "id": "36f328ae",
   "metadata": {},
   "source": [
    "### Identifying Correlation with Price"
   ]
  },
  {
   "cell_type": "code",
   "execution_count": 1273,
   "id": "ad6773b9",
   "metadata": {},
   "outputs": [
    {
     "data": {
      "text/plain": [
       "Price            1.000000\n",
       "Ram              0.742905\n",
       "SSD              0.670660\n",
       "PPI              0.475368\n",
       "IPS              0.253320\n",
       "Weight           0.209867\n",
       "TouchScreen      0.192917\n",
       "Hybrid           0.007942\n",
       "Flash_Storage   -0.040067\n",
       "HDD             -0.096891\n",
       "Name: Price, dtype: float64"
      ]
     },
     "execution_count": 1273,
     "metadata": {},
     "output_type": "execute_result"
    }
   ],
   "source": [
    "df.corr()['Price'].sort_values(ascending=False)"
   ]
  },
  {
   "cell_type": "code",
   "execution_count": 1274,
   "id": "ffc82ab6",
   "metadata": {},
   "outputs": [
    {
     "data": {
      "text/plain": [
       "<AxesSubplot:>"
      ]
     },
     "execution_count": 1274,
     "metadata": {},
     "output_type": "execute_result"
    },
    {
     "data": {
      "image/png": "[encoded data removed]",
      "text/plain": [
       "<Figure size 720x360 with 2 Axes>"
      ]
     },
     "metadata": {
      "needs_background": "light"
     },
     "output_type": "display_data"
    }
   ],
   "source": [
    "plt.figure(figsize=(10,5))\n",
    "sn.heatmap(df.corr(), annot=True, cmap='autumn_r')"
   ]
  },
  {
   "cell_type": "code",
   "execution_count": null,
   "id": "02464a6c",
   "metadata": {},
   "outputs": [],
   "source": []
  },
  {
   "cell_type": "markdown",
   "id": "1cbc6910",
   "metadata": {},
   "source": [
    "## Develop ML Model"
   ]
  },
  {
   "cell_type": "code",
   "execution_count": 1275,
   "id": "27752d38",
   "metadata": {},
   "outputs": [],
   "source": [
    "from sklearn.model_selection import train_test_split\n",
    "from sklearn.preprocessing import MinMaxScaler, StandardScaler\n",
    "from sklearn.pipeline import Pipeline\n",
    "from sklearn.compose import ColumnTransformer\n",
    "from sklearn.preprocessing import LabelEncoder, OneHotEncoder\n",
    "from sklearn import metrics\n",
    "from sklearn.model_selection import RandomizedSearchCV\n",
    "from sklearn.linear_model import LinearRegression, Lasso, Ridge\n",
    "from sklearn import tree\n",
    "from sklearn.tree import DecisionTreeRegressor\n",
    "from sklearn.ensemble import RandomForestRegressor, GradientBoostingRegressor\n",
    "from sklearn.neighbors import KNeighborsRegressor\n",
    "from sklearn.svm import SVR\n",
    "from xgboost import XGBRegressor"
   ]
  },
  {
   "cell_type": "code",
   "execution_count": 1276,
   "id": "bb4e5838",
   "metadata": {},
   "outputs": [],
   "source": [
    "train_data = df.drop(['Price'], axis=1)\n",
    "test_data = np.log(df['Price'])"
   ]
  },
  {
   "cell_type": "code",
   "execution_count": 1277,
   "id": "222a5a31",
   "metadata": {},
   "outputs": [],
   "source": [
    "X_train, X_test, y_train, y_test = train_test_split(train_data, test_data, test_size = 0.2, random_state = 5)"
   ]
  },
  {
   "cell_type": "markdown",
   "id": "fb7cf3a6",
   "metadata": {},
   "source": [
    "### Convert Categorical Variables into Numbers"
   ]
  },
  {
   "cell_type": "code",
   "execution_count": 1278,
   "id": "cd966be6",
   "metadata": {},
   "outputs": [
    {
     "data": {
      "text/plain": [
       "{0: 'Company',\n",
       " 1: 'TypeName',\n",
       " 2: 'Ram',\n",
       " 3: 'OpSys',\n",
       " 4: 'Weight',\n",
       " 5: 'TouchScreen',\n",
       " 6: 'IPS',\n",
       " 7: 'PPI',\n",
       " 8: 'Processor',\n",
       " 9: 'HDD',\n",
       " 10: 'SSD',\n",
       " 11: 'Flash_Storage',\n",
       " 12: 'Hybrid',\n",
       " 13: 'Gpu_manu'}"
      ]
     },
     "execution_count": 1278,
     "metadata": {},
     "output_type": "execute_result"
    }
   ],
   "source": [
    "# Converting Categorical Variables into Numbers for better processing\n",
    "mapper = {i: value for i, value in enumerate(X_train.columns)}\n",
    "mapper"
   ]
  },
  {
   "cell_type": "markdown",
   "id": "39cb6d4f",
   "metadata": {},
   "source": [
    "## Linear Regression"
   ]
  },
  {
   "cell_type": "code",
   "execution_count": 1279,
   "id": "87bae49b",
   "metadata": {},
   "outputs": [],
   "source": [
    "# Applying One Hot Encoding on Categorical Variables \n",
    "# Remainder='Passthrough' to ensure only the column transforming is effected\n",
    "ct = ColumnTransformer(transformers=[('col_transform', OneHotEncoder(sparse=False, drop='first'), [0, 1, 3, 8, 13])], remainder='passthrough')\n",
    "Lin_reg = LinearRegression()\n",
    "pipe = Pipeline([('ct', ct), ('Lin_reg', Lin_reg)])"
   ]
  },
  {
   "cell_type": "code",
   "execution_count": 1280,
   "id": "ceadf193",
   "metadata": {},
   "outputs": [],
   "source": [
    "pipe.fit(X_train, y_train)\n",
    "y_pred = pipe.predict(X_test)"
   ]
  },
  {
   "cell_type": "code",
   "execution_count": 1281,
   "id": "64999c32",
   "metadata": {
    "scrolled": true
   },
   "outputs": [
    {
     "name": "stdout",
     "output_type": "stream",
     "text": [
      "R2 Score: 0.8293540072522958\n",
      "MAE: 0.20659742983726367\n"
     ]
    }
   ],
   "source": [
    "print('R2 Score:', metrics.r2_score(y_test, y_pred))\n",
    "print('MAE:', metrics.mean_absolute_error(y_test, y_pred))"
   ]
  },
  {
   "cell_type": "code",
   "execution_count": 1282,
   "id": "42c4590a",
   "metadata": {},
   "outputs": [
    {
     "data": {
      "text/plain": [
       "1.2294875171504656"
      ]
     },
     "execution_count": 1282,
     "metadata": {},
     "output_type": "execute_result"
    }
   ],
   "source": [
    "np.exp(0.20659742983726367)"
   ]
  },
  {
   "cell_type": "code",
   "execution_count": null,
   "id": "d697699e",
   "metadata": {},
   "outputs": [],
   "source": []
  },
  {
   "cell_type": "markdown",
   "id": "a97aab2b",
   "metadata": {},
   "source": [
    "## Lasso Regression"
   ]
  },
  {
   "cell_type": "code",
   "execution_count": 1283,
   "id": "64a93263",
   "metadata": {},
   "outputs": [],
   "source": [
    "Lasso_reg = Lasso(alpha=0.001)\n",
    "\n",
    "pipe = Pipeline([('ct', ct), ('Lasso_reg', Lasso_reg)])"
   ]
  },
  {
   "cell_type": "code",
   "execution_count": 1284,
   "id": "4001fd83",
   "metadata": {},
   "outputs": [],
   "source": [
    "pipe.fit(X_train, y_train)\n",
    "y_pred = pipe.predict(X_test)"
   ]
  },
  {
   "cell_type": "code",
   "execution_count": 1285,
   "id": "ef25cabd",
   "metadata": {},
   "outputs": [
    {
     "name": "stdout",
     "output_type": "stream",
     "text": [
      "R2 Score: 0.8245620071849699\n",
      "MAE: 0.2123401236337087\n"
     ]
    }
   ],
   "source": [
    "print('R2 Score:', metrics.r2_score(y_test, y_pred))\n",
    "print('MAE:', metrics.mean_absolute_error(y_test, y_pred))"
   ]
  },
  {
   "cell_type": "code",
   "execution_count": 1286,
   "id": "3cb1ad53",
   "metadata": {},
   "outputs": [
    {
     "data": {
      "text/plain": [
       "1.236568399698404"
      ]
     },
     "execution_count": 1286,
     "metadata": {},
     "output_type": "execute_result"
    }
   ],
   "source": [
    "np.exp(0.2123401236337087)"
   ]
  },
  {
   "cell_type": "code",
   "execution_count": null,
   "id": "2d0af835",
   "metadata": {},
   "outputs": [],
   "source": []
  },
  {
   "cell_type": "markdown",
   "id": "867b6b84",
   "metadata": {},
   "source": [
    "## Ridge Regression"
   ]
  },
  {
   "cell_type": "code",
   "execution_count": 1287,
   "id": "19d5f9e8",
   "metadata": {},
   "outputs": [],
   "source": [
    "Ridge_reg = Ridge(alpha=10)\n",
    "\n",
    "pipe = Pipeline([('ct', ct), ('Ridge_reg', Ridge_reg)])"
   ]
  },
  {
   "cell_type": "code",
   "execution_count": 1288,
   "id": "81a70610",
   "metadata": {},
   "outputs": [],
   "source": [
    "pipe.fit(X_train, y_train)\n",
    "y_pred = pipe.predict(X_test)"
   ]
  },
  {
   "cell_type": "code",
   "execution_count": 1289,
   "id": "148a0597",
   "metadata": {},
   "outputs": [
    {
     "name": "stdout",
     "output_type": "stream",
     "text": [
      "R2 Score: 0.8208700488845084\n",
      "MAE: 0.21352399014303602\n"
     ]
    }
   ],
   "source": [
    "print('R2 Score:', metrics.r2_score(y_test, y_pred))\n",
    "print('MAE:', metrics.mean_absolute_error(y_test, y_pred))"
   ]
  },
  {
   "cell_type": "code",
   "execution_count": 1290,
   "id": "d3814949",
   "metadata": {},
   "outputs": [
    {
     "data": {
      "text/plain": [
       "1.2380331985053437"
      ]
     },
     "execution_count": 1290,
     "metadata": {},
     "output_type": "execute_result"
    }
   ],
   "source": [
    "np.exp(0.21352399014303602)"
   ]
  },
  {
   "cell_type": "code",
   "execution_count": null,
   "id": "65d09757",
   "metadata": {},
   "outputs": [],
   "source": []
  },
  {
   "cell_type": "markdown",
   "id": "9931289f",
   "metadata": {},
   "source": [
    "## Decision Tree"
   ]
  },
  {
   "cell_type": "code",
   "execution_count": 1291,
   "id": "99789959",
   "metadata": {},
   "outputs": [],
   "source": [
    "d_tree = DecisionTreeRegressor(max_depth=8)\n",
    "\n",
    "pipe = Pipeline([('ct', ct), ('d_tree', d_tree)])"
   ]
  },
  {
   "cell_type": "code",
   "execution_count": 1292,
   "id": "2b5ed808",
   "metadata": {},
   "outputs": [],
   "source": [
    "pipe.fit(X_train, y_train)\n",
    "y_pred = pipe.predict(X_test)"
   ]
  },
  {
   "cell_type": "code",
   "execution_count": 1293,
   "id": "eb2e3ebe",
   "metadata": {},
   "outputs": [
    {
     "name": "stdout",
     "output_type": "stream",
     "text": [
      "R2 Score: 0.8593866562049677\n",
      "MAE: 0.18933480262717012\n"
     ]
    }
   ],
   "source": [
    "print('R2 Score:', metrics.r2_score(y_test, y_pred))\n",
    "print('MAE:', metrics.mean_absolute_error(y_test, y_pred))"
   ]
  },
  {
   "cell_type": "code",
   "execution_count": 1294,
   "id": "e4e3f75f",
   "metadata": {},
   "outputs": [
    {
     "data": {
      "text/plain": [
       "1.2048629753306608"
      ]
     },
     "execution_count": 1294,
     "metadata": {},
     "output_type": "execute_result"
    }
   ],
   "source": [
    "np.exp(0.18636584705821863)"
   ]
  },
  {
   "cell_type": "code",
   "execution_count": null,
   "id": "0a83c40e",
   "metadata": {},
   "outputs": [],
   "source": []
  },
  {
   "cell_type": "markdown",
   "id": "27f64a3e",
   "metadata": {},
   "source": [
    "## Random Forest"
   ]
  },
  {
   "cell_type": "code",
   "execution_count": 1295,
   "id": "01d465fe",
   "metadata": {},
   "outputs": [],
   "source": [
    "ran_forest = RandomForestRegressor(n_estimators=100, random_state=3, max_samples=0.5,\n",
    "                              max_features=0.75, max_depth=15)\n",
    "\n",
    "pipe = Pipeline([('ct', ct), ('ran_forest', ran_forest)])"
   ]
  },
  {
   "cell_type": "code",
   "execution_count": 1296,
   "id": "dc6bd52d",
   "metadata": {},
   "outputs": [],
   "source": [
    "pipe.fit(X_train, y_train)\n",
    "y_pred = pipe.predict(X_test)"
   ]
  },
  {
   "cell_type": "code",
   "execution_count": 1297,
   "id": "4c5251f4",
   "metadata": {},
   "outputs": [
    {
     "name": "stdout",
     "output_type": "stream",
     "text": [
      "R2 Score: 0.9075332274916128\n",
      "MAE: 0.15223497098555694\n"
     ]
    }
   ],
   "source": [
    "print('R2 Score:', metrics.r2_score(y_test, y_pred))\n",
    "print('MAE:', metrics.mean_absolute_error(y_test, y_pred))"
   ]
  },
  {
   "cell_type": "code",
   "execution_count": 1298,
   "id": "80469cc3",
   "metadata": {},
   "outputs": [
    {
     "data": {
      "text/plain": [
       "1.1644338124501676"
      ]
     },
     "execution_count": 1298,
     "metadata": {},
     "output_type": "execute_result"
    }
   ],
   "source": [
    "np.exp(0.15223497098555694)"
   ]
  },
  {
   "cell_type": "code",
   "execution_count": null,
   "id": "f58e0b54",
   "metadata": {},
   "outputs": [],
   "source": []
  },
  {
   "cell_type": "markdown",
   "id": "e202d178",
   "metadata": {},
   "source": [
    "Among the algorithms applied, the one with the highest accuracy was **Random Forest** with an accuracy of **90.75%**. Hence, Random Forest would be implemented, Hyperparameter Tuning is then performed to further improve the accuracy of the prediction."
   ]
  },
  {
   "cell_type": "code",
   "execution_count": 1299,
   "id": "c62c629a",
   "metadata": {},
   "outputs": [],
   "source": [
    "import pickle\n",
    "\n",
    "pickle.dump(df,open('df.pkl','wb'))\n",
    "pickle.dump(pipe,open('pipe.pkl','wb'))"
   ]
  },
  {
   "cell_type": "code",
   "execution_count": 1300,
   "id": "80ea22af",
   "metadata": {},
   "outputs": [
    {
     "data": {
      "text/html": [
       "<div>\n",
       "<style scoped>\n",
       "    .dataframe tbody tr th:only-of-type {\n",
       "        vertical-align: middle;\n",
       "    }\n",
       "\n",
       "    .dataframe tbody tr th {\n",
       "        vertical-align: top;\n",
       "    }\n",
       "\n",
       "    .dataframe thead th {\n",
       "        text-align: right;\n",
       "    }\n",
       "</style>\n",
       "<table border=\"1\" class=\"dataframe\">\n",
       "  <thead>\n",
       "    <tr style=\"text-align: right;\">\n",
       "      <th></th>\n",
       "      <th>Company</th>\n",
       "      <th>TypeName</th>\n",
       "      <th>Ram</th>\n",
       "      <th>OpSys</th>\n",
       "      <th>Weight</th>\n",
       "      <th>TouchScreen</th>\n",
       "      <th>IPS</th>\n",
       "      <th>PPI</th>\n",
       "      <th>Processor</th>\n",
       "      <th>HDD</th>\n",
       "      <th>SSD</th>\n",
       "      <th>Flash_Storage</th>\n",
       "      <th>Hybrid</th>\n",
       "      <th>Gpu_manu</th>\n",
       "    </tr>\n",
       "  </thead>\n",
       "  <tbody>\n",
       "    <tr>\n",
       "      <th>0</th>\n",
       "      <td>Apple</td>\n",
       "      <td>Ultrabook</td>\n",
       "      <td>8</td>\n",
       "      <td>Mac</td>\n",
       "      <td>1.37</td>\n",
       "      <td>0</td>\n",
       "      <td>1</td>\n",
       "      <td>226.983005</td>\n",
       "      <td>Intel Core i5</td>\n",
       "      <td>0</td>\n",
       "      <td>128</td>\n",
       "      <td>0</td>\n",
       "      <td>0</td>\n",
       "      <td>Intel</td>\n",
       "    </tr>\n",
       "    <tr>\n",
       "      <th>1</th>\n",
       "      <td>Apple</td>\n",
       "      <td>Ultrabook</td>\n",
       "      <td>8</td>\n",
       "      <td>Mac</td>\n",
       "      <td>1.34</td>\n",
       "      <td>0</td>\n",
       "      <td>0</td>\n",
       "      <td>127.677940</td>\n",
       "      <td>Intel Core i5</td>\n",
       "      <td>0</td>\n",
       "      <td>0</td>\n",
       "      <td>128</td>\n",
       "      <td>0</td>\n",
       "      <td>Intel</td>\n",
       "    </tr>\n",
       "    <tr>\n",
       "      <th>2</th>\n",
       "      <td>HP</td>\n",
       "      <td>Notebook</td>\n",
       "      <td>8</td>\n",
       "      <td>Other</td>\n",
       "      <td>1.86</td>\n",
       "      <td>0</td>\n",
       "      <td>0</td>\n",
       "      <td>141.211998</td>\n",
       "      <td>Intel Core i5</td>\n",
       "      <td>0</td>\n",
       "      <td>256</td>\n",
       "      <td>0</td>\n",
       "      <td>0</td>\n",
       "      <td>Intel</td>\n",
       "    </tr>\n",
       "    <tr>\n",
       "      <th>3</th>\n",
       "      <td>Apple</td>\n",
       "      <td>Ultrabook</td>\n",
       "      <td>16</td>\n",
       "      <td>Mac</td>\n",
       "      <td>1.83</td>\n",
       "      <td>0</td>\n",
       "      <td>1</td>\n",
       "      <td>220.534624</td>\n",
       "      <td>Intel Core i7</td>\n",
       "      <td>0</td>\n",
       "      <td>512</td>\n",
       "      <td>0</td>\n",
       "      <td>0</td>\n",
       "      <td>AMD</td>\n",
       "    </tr>\n",
       "    <tr>\n",
       "      <th>4</th>\n",
       "      <td>Apple</td>\n",
       "      <td>Ultrabook</td>\n",
       "      <td>8</td>\n",
       "      <td>Mac</td>\n",
       "      <td>1.37</td>\n",
       "      <td>0</td>\n",
       "      <td>1</td>\n",
       "      <td>226.983005</td>\n",
       "      <td>Intel Core i5</td>\n",
       "      <td>0</td>\n",
       "      <td>256</td>\n",
       "      <td>0</td>\n",
       "      <td>0</td>\n",
       "      <td>Intel</td>\n",
       "    </tr>\n",
       "  </tbody>\n",
       "</table>\n",
       "</div>"
      ],
      "text/plain": [
       "  Company   TypeName  Ram  OpSys  Weight  TouchScreen  IPS         PPI  \\\n",
       "0   Apple  Ultrabook    8    Mac    1.37            0    1  226.983005   \n",
       "1   Apple  Ultrabook    8    Mac    1.34            0    0  127.677940   \n",
       "2      HP   Notebook    8  Other    1.86            0    0  141.211998   \n",
       "3   Apple  Ultrabook   16    Mac    1.83            0    1  220.534624   \n",
       "4   Apple  Ultrabook    8    Mac    1.37            0    1  226.983005   \n",
       "\n",
       "       Processor  HDD  SSD  Flash_Storage  Hybrid Gpu_manu  \n",
       "0  Intel Core i5    0  128              0       0    Intel  \n",
       "1  Intel Core i5    0    0            128       0    Intel  \n",
       "2  Intel Core i5    0  256              0       0    Intel  \n",
       "3  Intel Core i7    0  512              0       0      AMD  \n",
       "4  Intel Core i5    0  256              0       0    Intel  "
      ]
     },
     "execution_count": 1300,
     "metadata": {},
     "output_type": "execute_result"
    }
   ],
   "source": [
    "train_data.head()"
   ]
  },
  {
   "cell_type": "code",
   "execution_count": 1301,
   "id": "33d47593",
   "metadata": {},
   "outputs": [],
   "source": [
    "train_data.to_csv('trained_data.csv',index=None)"
   ]
  },
  {
   "cell_type": "code",
   "execution_count": null,
   "id": "0c903c62",
   "metadata": {},
   "outputs": [],
   "source": []
  },
  {
   "cell_type": "markdown",
   "id": "43c102d5",
   "metadata": {},
   "source": [
    "## Hyperparameter Tuning"
   ]
  },
  {
   "cell_type": "code",
   "execution_count": 1302,
   "id": "8033e74a",
   "metadata": {},
   "outputs": [
    {
     "data": {
      "text/plain": [
       "['Company', 'TypeName', 'OpSys', 'Processor', 'Gpu_manu']"
      ]
     },
     "execution_count": 1302,
     "metadata": {},
     "output_type": "execute_result"
    }
   ],
   "source": [
    "index_list = [0, 1, 3, 8, 13]\n",
    "transform_list = []\n",
    "\n",
    "for key, value in mapper.items():\n",
    "    if key in index_list:\n",
    "        transform_list.append(value)\n",
    "        \n",
    "transform_list"
   ]
  },
  {
   "cell_type": "code",
   "execution_count": 1303,
   "id": "1c5b046c",
   "metadata": {},
   "outputs": [
    {
     "data": {
      "text/html": [
       "<div>\n",
       "<style scoped>\n",
       "    .dataframe tbody tr th:only-of-type {\n",
       "        vertical-align: middle;\n",
       "    }\n",
       "\n",
       "    .dataframe tbody tr th {\n",
       "        vertical-align: top;\n",
       "    }\n",
       "\n",
       "    .dataframe thead th {\n",
       "        text-align: right;\n",
       "    }\n",
       "</style>\n",
       "<table border=\"1\" class=\"dataframe\">\n",
       "  <thead>\n",
       "    <tr style=\"text-align: right;\">\n",
       "      <th></th>\n",
       "      <th>Ram</th>\n",
       "      <th>Weight</th>\n",
       "      <th>TouchScreen</th>\n",
       "      <th>IPS</th>\n",
       "      <th>PPI</th>\n",
       "      <th>HDD</th>\n",
       "      <th>SSD</th>\n",
       "      <th>Flash_Storage</th>\n",
       "      <th>Hybrid</th>\n",
       "      <th>Company_Apple</th>\n",
       "      <th>...</th>\n",
       "      <th>TypeName_Ultrabook</th>\n",
       "      <th>TypeName_Workstation</th>\n",
       "      <th>OpSys_Other</th>\n",
       "      <th>OpSys_Windows</th>\n",
       "      <th>Processor_Intel Core i3</th>\n",
       "      <th>Processor_Intel Core i5</th>\n",
       "      <th>Processor_Intel Core i7</th>\n",
       "      <th>Processor_Other</th>\n",
       "      <th>Gpu_manu_Intel</th>\n",
       "      <th>Gpu_manu_Nvidia</th>\n",
       "    </tr>\n",
       "  </thead>\n",
       "  <tbody>\n",
       "    <tr>\n",
       "      <th>0</th>\n",
       "      <td>8</td>\n",
       "      <td>1.37</td>\n",
       "      <td>0</td>\n",
       "      <td>1</td>\n",
       "      <td>226.983005</td>\n",
       "      <td>0</td>\n",
       "      <td>128</td>\n",
       "      <td>0</td>\n",
       "      <td>0</td>\n",
       "      <td>1</td>\n",
       "      <td>...</td>\n",
       "      <td>1</td>\n",
       "      <td>0</td>\n",
       "      <td>0</td>\n",
       "      <td>0</td>\n",
       "      <td>0</td>\n",
       "      <td>1</td>\n",
       "      <td>0</td>\n",
       "      <td>0</td>\n",
       "      <td>1</td>\n",
       "      <td>0</td>\n",
       "    </tr>\n",
       "    <tr>\n",
       "      <th>1</th>\n",
       "      <td>8</td>\n",
       "      <td>1.34</td>\n",
       "      <td>0</td>\n",
       "      <td>0</td>\n",
       "      <td>127.677940</td>\n",
       "      <td>0</td>\n",
       "      <td>0</td>\n",
       "      <td>128</td>\n",
       "      <td>0</td>\n",
       "      <td>1</td>\n",
       "      <td>...</td>\n",
       "      <td>1</td>\n",
       "      <td>0</td>\n",
       "      <td>0</td>\n",
       "      <td>0</td>\n",
       "      <td>0</td>\n",
       "      <td>1</td>\n",
       "      <td>0</td>\n",
       "      <td>0</td>\n",
       "      <td>1</td>\n",
       "      <td>0</td>\n",
       "    </tr>\n",
       "    <tr>\n",
       "      <th>2</th>\n",
       "      <td>8</td>\n",
       "      <td>1.86</td>\n",
       "      <td>0</td>\n",
       "      <td>0</td>\n",
       "      <td>141.211998</td>\n",
       "      <td>0</td>\n",
       "      <td>256</td>\n",
       "      <td>0</td>\n",
       "      <td>0</td>\n",
       "      <td>0</td>\n",
       "      <td>...</td>\n",
       "      <td>0</td>\n",
       "      <td>0</td>\n",
       "      <td>1</td>\n",
       "      <td>0</td>\n",
       "      <td>0</td>\n",
       "      <td>1</td>\n",
       "      <td>0</td>\n",
       "      <td>0</td>\n",
       "      <td>1</td>\n",
       "      <td>0</td>\n",
       "    </tr>\n",
       "    <tr>\n",
       "      <th>3</th>\n",
       "      <td>16</td>\n",
       "      <td>1.83</td>\n",
       "      <td>0</td>\n",
       "      <td>1</td>\n",
       "      <td>220.534624</td>\n",
       "      <td>0</td>\n",
       "      <td>512</td>\n",
       "      <td>0</td>\n",
       "      <td>0</td>\n",
       "      <td>1</td>\n",
       "      <td>...</td>\n",
       "      <td>1</td>\n",
       "      <td>0</td>\n",
       "      <td>0</td>\n",
       "      <td>0</td>\n",
       "      <td>0</td>\n",
       "      <td>0</td>\n",
       "      <td>1</td>\n",
       "      <td>0</td>\n",
       "      <td>0</td>\n",
       "      <td>0</td>\n",
       "    </tr>\n",
       "    <tr>\n",
       "      <th>4</th>\n",
       "      <td>8</td>\n",
       "      <td>1.37</td>\n",
       "      <td>0</td>\n",
       "      <td>1</td>\n",
       "      <td>226.983005</td>\n",
       "      <td>0</td>\n",
       "      <td>256</td>\n",
       "      <td>0</td>\n",
       "      <td>0</td>\n",
       "      <td>1</td>\n",
       "      <td>...</td>\n",
       "      <td>1</td>\n",
       "      <td>0</td>\n",
       "      <td>0</td>\n",
       "      <td>0</td>\n",
       "      <td>0</td>\n",
       "      <td>1</td>\n",
       "      <td>0</td>\n",
       "      <td>0</td>\n",
       "      <td>1</td>\n",
       "      <td>0</td>\n",
       "    </tr>\n",
       "  </tbody>\n",
       "</table>\n",
       "<p>5 rows × 40 columns</p>\n",
       "</div>"
      ],
      "text/plain": [
       "   Ram  Weight  TouchScreen  IPS         PPI  HDD  SSD  Flash_Storage  Hybrid  \\\n",
       "0    8    1.37            0    1  226.983005    0  128              0       0   \n",
       "1    8    1.34            0    0  127.677940    0    0            128       0   \n",
       "2    8    1.86            0    0  141.211998    0  256              0       0   \n",
       "3   16    1.83            0    1  220.534624    0  512              0       0   \n",
       "4    8    1.37            0    1  226.983005    0  256              0       0   \n",
       "\n",
       "   Company_Apple  ...  TypeName_Ultrabook  TypeName_Workstation  OpSys_Other  \\\n",
       "0              1  ...                   1                     0            0   \n",
       "1              1  ...                   1                     0            0   \n",
       "2              0  ...                   0                     0            1   \n",
       "3              1  ...                   1                     0            0   \n",
       "4              1  ...                   1                     0            0   \n",
       "\n",
       "   OpSys_Windows  Processor_Intel Core i3  Processor_Intel Core i5  \\\n",
       "0              0                        0                        1   \n",
       "1              0                        0                        1   \n",
       "2              0                        0                        1   \n",
       "3              0                        0                        0   \n",
       "4              0                        0                        1   \n",
       "\n",
       "   Processor_Intel Core i7  Processor_Other  Gpu_manu_Intel  Gpu_manu_Nvidia  \n",
       "0                        0                0               1                0  \n",
       "1                        0                0               1                0  \n",
       "2                        0                0               1                0  \n",
       "3                        1                0               0                0  \n",
       "4                        0                0               1                0  \n",
       "\n",
       "[5 rows x 40 columns]"
      ]
     },
     "execution_count": 1303,
     "metadata": {},
     "output_type": "execute_result"
    }
   ],
   "source": [
    "train_data = pd.get_dummies(train_data, columns=transform_list, drop_first=True)\n",
    "train_data.head()"
   ]
  },
  {
   "cell_type": "code",
   "execution_count": 1304,
   "id": "d5fe77b9",
   "metadata": {},
   "outputs": [
    {
     "data": {
      "text/plain": [
       "((1106, 40), (196, 40))"
      ]
     },
     "execution_count": 1304,
     "metadata": {},
     "output_type": "execute_result"
    }
   ],
   "source": [
    "X_train, X_test, y_train, y_test = train_test_split(train_data, test_data, test_size=0.15, random_state=2)\n",
    "\n",
    "X_train.shape, X_test.shape"
   ]
  },
  {
   "cell_type": "code",
   "execution_count": null,
   "id": "ce4ff236",
   "metadata": {},
   "outputs": [
    {
     "data": {
      "text/plain": [
       "[Text(438.8729468053044, 478.60434782608695, 'Ram <= 7.0\\nmse = 0.39\\nsamples = 1106\\nvalue = 7.956'),\n",
       " Text(199.02597950572635, 457.3330434782609, 'Processor_Other <= 0.5\\nmse = 0.192\\nsamples = 362\\nvalue = 7.345'),\n",
       " Text(131.0553496081977, 436.0617391304348, 'Processor_Intel Core i5 <= 0.5\\nmse = 0.13\\nsamples = 256\\nvalue = 7.522'),\n",
       " Text(86.84764918625679, 414.7904347826087, 'Processor_Intel Core i7 <= 0.5\\nmse = 0.08\\nsamples = 154\\nvalue = 7.368'),\n",
       " Text(36.28625678119349, 393.5191304347826, 'Weight <= 1.645\\nmse = 0.07\\nsamples = 135\\nvalue = 7.318'),\n",
       " Text(5.740325497287523, 372.24782608695654, 'TypeName_Ultrabook <= 0.5\\nmse = 0.064\\nsamples = 10\\nvalue = 7.722'),\n",
       " Text(3.8268836648583484, 350.9765217391304, 'Weight <= 1.395\\nmse = 0.02\\nsamples = 8\\nvalue = 7.613'),\n",
       " Text(2.8701627486437613, 329.70521739130436, 'mse = 0.0\\nsamples = 1\\nvalue = 7.343'),\n",
       " Text(4.783604581072936, 329.70521739130436, 'Company_Lenovo <= 0.5\\nmse = 0.011\\nsamples = 7\\nvalue = 7.651'),\n",
       " Text(3.8268836648583484, 308.43391304347824, 'Weight <= 1.615\\nmse = 0.003\\nsamples = 6\\nvalue = 7.69'),\n",
       " Text(1.9134418324291742, 287.1626086956522, 'SSD <= 64.0\\nmse = 0.002\\nsamples = 3\\nvalue = 7.732'),\n",
       " Text(0.9567209162145871, 265.89130434782606, 'mse = 0.0\\nsamples = 1\\nvalue = 7.795'),\n",
       " Text(2.8701627486437613, 265.89130434782606, 'PPI <= 161.491\\nmse = 0.0\\nsamples = 2\\nvalue = 7.7'),\n",
       " Text(1.9134418324291742, 244.62, 'mse = 0.0\\nsamples = 1\\nvalue = 7.712'),\n",
       " Text(3.8268836648583484, 244.62, 'mse = -0.0\\nsamples = 1\\nvalue = 7.689'),\n",
       " Text(5.740325497287523, 287.1626086956522, 'Gpu_manu_Intel <= 0.5\\nmse = 0.0\\nsamples = 3\\nvalue = 7.648'),\n",
       " Text(4.783604581072936, 265.89130434782606, 'mse = 0.0\\nsamples = 1\\nvalue = 7.661'),\n",
       " Text(6.697046413502109, 265.89130434782606, 'Weight <= 1.635\\nmse = 0.0\\nsamples = 2\\nvalue = 7.642'),\n",
       " Text(5.740325497287523, 244.62, 'mse = 0.0\\nsamples = 1\\nvalue = 7.646'),\n",
       " Text(7.653767329716697, 244.62, 'mse = 0.0\\nsamples = 1\\nvalue = 7.639'),\n",
       " Text(5.740325497287523, 308.43391304347824, 'mse = -0.0\\nsamples = 1\\nvalue = 7.419'),\n",
       " Text(7.653767329716697, 350.9765217391304, 'SSD <= 64.0\\nmse = 0.0\\nsamples = 2\\nvalue = 8.159'),\n",
       " Text(6.697046413502109, 329.70521739130436, 'mse = 0.0\\nsamples = 1\\nvalue = 8.145'),\n",
       " Text(8.610488245931284, 329.70521739130436, 'mse = -0.0\\nsamples = 1\\nvalue = 8.173'),\n",
       " Text(66.83218806509946, 372.24782608695654, 'PPI <= 114.881\\nmse = 0.056\\nsamples = 125\\nvalue = 7.286'),\n",
       " Text(36.33297166968053, 350.9765217391304, 'Processor_Intel Core i3 <= 0.5\\nmse = 0.057\\nsamples = 63\\nvalue = 7.195'),\n",
       " Text(17.460156720916213, 329.70521739130436, 'Weight <= 1.665\\nmse = 0.049\\nsamples = 18\\nvalue = 6.989'),\n",
       " Text(16.503435804701628, 308.43391304347824, 'mse = 0.0\\nsamples = 1\\nvalue = 6.404'),\n",
       " Text(18.416877637130803, 308.43391304347824, 'Company_HP <= 0.5\\nmse = 0.03\\nsamples = 17\\nvalue = 7.023'),\n",
       " Text(14.8291742013261, 287.1626086956522, 'Company_Lenovo <= 0.5\\nmse = 0.022\\nsamples = 13\\nvalue = 7.077'),\n",
       " Text(10.523930078360458, 265.89130434782606, 'Weight <= 1.84\\nmse = 0.007\\nsamples = 9\\nvalue = 7.123'),\n",
       " Text(9.567209162145872, 244.62, 'mse = 0.0\\nsamples = 1\\nvalue = 7.261'),\n",
       " Text(11.480650994575045, 244.62, 'Weight <= 2.015\\nmse = 0.005\\nsamples = 8\\nvalue = 7.106'),\n",
       " Text(10.523930078360458, 223.3486956521739, 'mse = 0.0\\nsamples = 1\\nvalue = 6.966'),\n",
       " Text(12.437371910789633, 223.3486956521739, 'SSD <= 64.0\\nmse = 0.002\\nsamples = 7\\nvalue = 7.126'),\n",
       " Text(10.523930078360458, 202.07739130434783, 'Weight <= 2.25\\nmse = 0.0\\nsamples = 5\\nvalue = 7.099'),\n",
       " Text(9.567209162145872, 180.8060869565217, 'Ram <= 5.0\\nmse = 0.0\\nsamples = 4\\nvalue = 7.107'),\n",
       " Text(8.610488245931284, 159.53478260869565, 'Company_Asus <= 0.5\\nmse = 0.0\\nsamples = 3\\nvalue = 7.101'),\n",
       " Text(7.653767329716697, 138.26347826086953, 'HDD <= 750.0\\nmse = 0.0\\nsamples = 2\\nvalue = 7.096'),\n",
       " Text(6.697046413502109, 116.99217391304347, 'mse = 0.0\\nsamples = 1\\nvalue = 7.102'),\n",
       " Text(8.610488245931284, 116.99217391304347, 'mse = -0.0\\nsamples = 1\\nvalue = 7.09'),\n",
       " Text(9.567209162145872, 138.26347826086953, 'mse = 0.0\\nsamples = 1\\nvalue = 7.11'),\n",
       " Text(10.523930078360458, 159.53478260869565, 'mse = 0.0\\nsamples = 1\\nvalue = 7.125'),\n",
       " Text(11.480650994575045, 180.8060869565217, 'mse = -0.0\\nsamples = 1\\nvalue = 7.069'),\n",
       " Text(14.350813743218806, 202.07739130434783, 'SSD <= 192.0\\nmse = 0.001\\nsamples = 2\\nvalue = 7.194'),\n",
       " Text(13.394092827004219, 180.8060869565217, 'mse = 0.0\\nsamples = 1\\nvalue = 7.165'),\n",
       " Text(15.307534659433394, 180.8060869565217, 'mse = -0.0\\nsamples = 1\\nvalue = 7.222'),\n",
       " Text(19.134418324291744, 265.89130434782606, 'Weight <= 2.4\\nmse = 0.041\\nsamples = 4\\nvalue = 6.972'),\n",
       " Text(18.177697408077155, 244.62, 'SSD <= 64.0\\nmse = 0.005\\nsamples = 3\\nvalue = 6.862'),\n",
       " Text(17.22097649186257, 223.3486956521739, 'Weight <= 2.195\\nmse = 0.0\\nsamples = 2\\nvalue = 6.81'),\n",
       " Text(16.26425557564798, 202.07739130434783, 'mse = 0.0\\nsamples = 1\\nvalue = 6.808'),\n",
       " Text(18.177697408077155, 202.07739130434783, 'mse = 0.0\\nsamples = 1\\nvalue = 6.811'),\n",
       " Text(19.134418324291744, 223.3486956521739, 'mse = -0.0\\nsamples = 1\\nvalue = 6.966'),\n",
       " Text(20.09113924050633, 244.62, 'mse = 0.0\\nsamples = 1\\nvalue = 7.303'),\n",
       " Text(22.004581072935505, 287.1626086956522, 'OpSys_Windows <= 0.5\\nmse = 0.017\\nsamples = 4\\nvalue = 6.85'),\n",
       " Text(21.047860156720915, 265.89130434782606, 'mse = 0.0\\nsamples = 1\\nvalue = 6.664'),\n",
       " Text(22.96130198915009, 265.89130434782606, 'SSD <= 128.0\\nmse = 0.008\\nsamples = 3\\nvalue = 6.912'),\n",
       " Text(22.004581072935505, 244.62, 'Weight <= 1.98\\nmse = 0.003\\nsamples = 2\\nvalue = 6.857'),\n",
       " Text(21.047860156720915, 223.3486956521739, 'mse = 0.0\\nsamples = 1\\nvalue = 6.805'),\n",
       " Text(22.96130198915009, 223.3486956521739, 'mse = 0.0\\nsamples = 1\\nvalue = 6.91'),\n",
       " Text(23.918022905364676, 244.62, 'mse = -0.0\\nsamples = 1\\nvalue = 7.022'),\n",
       " Text(55.20578661844485, 329.70521739130436, 'OpSys_Other <= 0.5\\nmse = 0.036\\nsamples = 45\\nvalue = 7.277'),\n",
       " Text(45.832911392405066, 308.43391304347824, 'Company_HP <= 0.5\\nmse = 0.027\\nsamples = 33\\nvalue = 7.346'),\n",
       " Text(37.132730560578665, 287.1626086956522, 'Gpu_manu_Intel <= 0.5\\nmse = 0.022\\nsamples = 29\\nvalue = 7.322'),\n",
       " Text(28.22326702833032, 265.89130434782606, 'HDD <= 750.0\\nmse = 0.013\\nsamples = 7\\nvalue = 7.453'),\n",
       " Text(25.83146473779385, 244.62, 'SSD <= 64.0\\nmse = 0.001\\nsamples = 2\\nvalue = 7.292'),\n",
       " Text(24.874743821579266, 223.3486956521739, 'mse = 0.0\\nsamples = 1\\nvalue = 7.261'),\n",
       " Text(26.788185654008437, 223.3486956521739, 'mse = 0.0\\nsamples = 1\\nvalue = 7.323'),\n",
       " Text(30.615069318866787, 244.62, 'Weight <= 2.28\\nmse = 0.004\\nsamples = 5\\nvalue = 7.517'),\n",
       " Text(28.701627486437612, 223.3486956521739, 'Weight <= 2.19\\nmse = 0.003\\nsamples = 3\\nvalue = 7.494'),\n",
       " Text(27.744906570223026, 202.07739130434783, 'mse = 0.0\\nsamples = 2\\nvalue = 7.534'),\n",
       " Text(29.6583484026522, 202.07739130434783, 'mse = -0.0\\nsamples = 1\\nvalue = 7.413'),\n",
       " Text(32.52851115129596, 223.3486956521739, 'Weight <= 2.83\\nmse = 0.002\\nsamples = 2\\nvalue = 7.553'),\n",
       " Text(31.571790235081373, 202.07739130434783, 'mse = 0.0\\nsamples = 1\\nvalue = 7.602'),\n",
       " Text(33.48523206751055, 202.07739130434783, 'mse = 0.0\\nsamples = 1\\nvalue = 7.504'),\n",
       " Text(46.042194092827, 265.89130434782606, 'Weight <= 2.295\\nmse = 0.017\\nsamples = 22\\nvalue = 7.281'),\n",
       " Text(41.37817962628089, 244.62, 'Company_Dell <= 0.5\\nmse = 0.017\\nsamples = 14\\nvalue = 7.332'),\n",
       " Text(37.79047619047619, 223.3486956521739, 'Company_Toshiba <= 0.5\\nmse = 0.018\\nsamples = 8\\nvalue = 7.279'),\n",
       " Text(35.39867389993972, 202.07739130434783, 'SSD <= 64.0\\nmse = 0.002\\nsamples = 5\\nvalue = 7.219'),\n",
       " Text(33.48523206751055, 180.8060869565217, 'HDD <= 750.0\\nmse = 0.003\\nsamples = 3\\nvalue = 7.235'),\n",
       " Text(32.52851115129596, 159.53478260869565, 'mse = 0.0\\nsamples = 1\\nvalue = 7.305'),\n",
       " Text(34.44195298372514, 159.53478260869565, 'Company_Asus <= 0.5\\nmse = 0.0\\nsamples = 2\\nvalue = 7.2'),\n",
       " Text(33.48523206751055, 138.26347826086953, 'mse = 0.0\\nsamples = 1\\nvalue = 7.213'),\n",
       " Text(35.39867389993972, 138.26347826086953, 'mse = 0.0\\nsamples = 1\\nvalue = 7.186'),\n",
       " Text(37.312115732368895, 180.8060869565217, 'Company_Lenovo <= 0.5\\nmse = 0.001\\nsamples = 2\\nvalue = 7.195'),\n",
       " Text(36.35539481615431, 159.53478260869565, 'mse = 0.0\\nsamples = 1\\nvalue = 7.218'),\n",
       " Text(38.26883664858349, 159.53478260869565, 'mse = -0.0\\nsamples = 1\\nvalue = 7.172'),\n",
       " Text(40.18227848101266, 202.07739130434783, 'Weight <= 2.05\\nmse = 0.03\\nsamples = 3\\nvalue = 7.378'),\n",
       " Text(39.22555756479807, 180.8060869565217, 'mse = 0.025\\nsamples = 2\\nvalue = 7.46'),\n",
       " Text(41.138999397227245, 180.8060869565217, 'mse = 0.0\\nsamples = 1\\nvalue = 7.213'),\n",
       " Text(44.965883062085595, 223.3486956521739, 'Weight <= 2.235\\nmse = 0.006\\nsamples = 6\\nvalue = 7.402'),\n",
       " Text(44.00916214587101, 202.07739130434783, 'HDD <= 750.0\\nmse = 0.005\\nsamples = 5\\nvalue = 7.422'),\n",
       " Text(43.05244122965642, 180.8060869565217, 'PPI <= 106.195\\nmse = 0.006\\nsamples = 3\\nvalue = 7.396'),\n",
       " Text(42.09572031344183, 159.53478260869565, 'Weight <= 2.12\\nmse = 0.004\\nsamples = 2\\nvalue = 7.352'),\n",
       " Text(41.138999397227245, 138.26347826086953, 'mse = 0.0\\nsamples = 1\\nvalue = 7.289'),\n",
       " Text(43.05244122965642, 138.26347826086953, 'mse = 0.0\\nsamples = 1\\nvalue = 7.415'),\n",
       " Text(44.00916214587101, 159.53478260869565, 'mse = 0.0\\nsamples = 1\\nvalue = 7.482'),\n",
       " Text(44.965883062085595, 180.8060869565217, 'mse = 0.001\\nsamples = 2\\nvalue = 7.461'),\n",
       " Text(45.92260397830018, 202.07739130434783, 'mse = -0.0\\nsamples = 1\\nvalue = 7.305'),\n",
       " Text(50.70620855937312, 244.62, 'Company_Lenovo <= 0.5\\nmse = 0.005\\nsamples = 8\\nvalue = 7.192'),\n",
       " Text(49.74948764315853, 223.3486956521739, 'Ram <= 5.0\\nmse = 0.004\\nsamples = 7\\nvalue = 7.176'),\n",
       " Text(47.83604581072935, 202.07739130434783, 'HDD <= 750.0\\nmse = 0.003\\nsamples = 4\\nvalue = 7.14'),\n",
       " Text(46.87932489451477, 180.8060869565217, 'mse = 0.002\\nsamples = 2\\nvalue = 7.175'),\n",
       " Text(48.792766726943945, 180.8060869565217, 'Weight <= 2.35\\nmse = 0.002\\nsamples = 2\\nvalue = 7.105'),\n",
       " Text(47.83604581072935, 159.53478260869565, 'mse = 0.0\\nsamples = 1\\nvalue = 7.148'),\n",
       " Text(49.74948764315853, 159.53478260869565, 'mse = -0.0\\nsamples = 1\\nvalue = 7.061'),\n",
       " Text(51.6629294755877, 202.07739130434783, 'TouchScreen <= 0.5\\nmse = 0.0\\nsamples = 3\\nvalue = 7.225'),\n",
       " Text(50.70620855937312, 180.8060869565217, 'mse = 0.0\\nsamples = 2\\nvalue = 7.24'),\n",
       " Text(52.61965039180229, 180.8060869565217, 'mse = -0.0\\nsamples = 1\\nvalue = 7.195'),\n",
       " Text(51.6629294755877, 223.3486956521739, 'mse = -0.0\\nsamples = 1\\nvalue = 7.303'),\n",
       " Text(54.53309222423147, 287.1626086956522, 'Weight <= 1.965\\nmse = 0.035\\nsamples = 4\\nvalue = 7.517'),\n",
       " Text(53.576371308016874, 265.89130434782606, 'mse = 0.0\\nsamples = 1\\nvalue = 7.195'),\n",
       " Text(55.48981314044605, 265.89130434782606, 'Weight <= 2.205\\nmse = 0.001\\nsamples = 3\\nvalue = 7.624'),\n",
       " Text(54.53309222423147, 244.62, 'Weight <= 2.085\\nmse = 0.0\\nsamples = 2\\nvalue = 7.602'),\n",
       " Text(53.576371308016874, 223.3486956521739, 'mse = 0.0\\nsamples = 1\\nvalue = 7.588'),\n",
       " Text(55.48981314044605, 223.3486956521739, 'mse = -0.0\\nsamples = 1\\nvalue = 7.616'),\n",
       " Text(56.44653405666064, 244.62, 'mse = 0.0\\nsamples = 1\\nvalue = 7.669'),\n",
       " Text(64.57866184448463, 308.43391304347824, 'Company_Dell <= 0.5\\nmse = 0.012\\nsamples = 12\\nvalue = 7.087'),\n",
       " Text(61.230138637733575, 287.1626086956522, 'HDD <= 750.0\\nmse = 0.008\\nsamples = 8\\nvalue = 7.045'),\n",
       " Text(59.3166968053044, 265.89130434782606, 'Weight <= 2.25\\nmse = 0.008\\nsamples = 3\\nvalue = 7.118'),\n",
       " Text(58.35997588908981, 244.62, 'HDD <= 250.0\\nmse = 0.002\\nsamples = 2\\nvalue = 7.176'),\n",
       " Text(57.403254972875224, 223.3486956521739, 'mse = 0.0\\nsamples = 1\\nvalue = 7.132'),\n",
       " Text(59.3166968053044, 223.3486956521739, 'mse = 0.0\\nsamples = 1\\nvalue = 7.22'),\n",
       " Text(60.27341772151899, 244.62, 'mse = -0.0\\nsamples = 1\\nvalue = 7.002'),\n",
       " Text(63.143580470162746, 265.89130434782606, 'Weight <= 2.0\\nmse = 0.002\\nsamples = 5\\nvalue = 7.001'),\n",
       " Text(62.18685955394816, 244.62, 'Gpu_manu_Intel <= 0.5\\nmse = 0.001\\nsamples = 3\\nvalue = 6.971'),\n",
       " Text(61.230138637733575, 223.3486956521739, 'mse = 0.0\\nsamples = 1\\nvalue = 7.019'),\n",
       " Text(63.143580470162746, 223.3486956521739, 'Weight <= 1.88\\nmse = 0.0\\nsamples = 2\\nvalue = 6.947'),\n",
       " Text(62.18685955394816, 202.07739130434783, 'mse = 0.0\\nsamples = 1\\nvalue = 6.957'),\n",
       " Text(64.10030138637734, 202.07739130434783, 'mse = 0.0\\nsamples = 1\\nvalue = 6.937'),\n",
       " Text(64.10030138637734, 244.62, 'mse = 0.001\\nsamples = 2\\nvalue = 7.047'),\n",
       " Text(67.92718505123568, 287.1626086956522, 'Weight <= 2.215\\nmse = 0.011\\nsamples = 4\\nvalue = 7.172'),\n",
       " Text(66.9704641350211, 265.89130434782606, 'Gpu_manu_Intel <= 0.5\\nmse = 0.0\\nsamples = 3\\nvalue = 7.231'),\n",
       " Text(66.01374321880651, 244.62, 'mse = 0.0\\nsamples = 2\\nvalue = 7.243'),\n",
       " Text(67.92718505123568, 244.62, 'mse = 0.0\\nsamples = 1\\nvalue = 7.206'),\n",
       " Text(68.88390596745027, 265.89130434782606, 'mse = -0.0\\nsamples = 1\\nvalue = 6.994'),\n",
       " Text(97.33140446051839, 350.9765217391304, 'IPS <= 0.5\\nmse = 0.038\\nsamples = 62\\nvalue = 7.379'),\n",
       " Text(76.74695599758891, 329.70521739130436, 'PPI <= 122.581\\nmse = 0.034\\nsamples = 50\\nvalue = 7.336'),\n",
       " Text(71.27570825798674, 308.43391304347824, 'HDD <= 250.0\\nmse = 0.011\\nsamples = 2\\nvalue = 7.751'),\n",
       " Text(70.31898734177216, 287.1626086956522, 'mse = 0.0\\nsamples = 1\\nvalue = 7.646'),\n",
       " Text(72.23242917420133, 287.1626086956522, 'mse = -0.0\\nsamples = 1\\nvalue = 7.855'),\n",
       " Text(82.21820373719108, 308.43391304347824, 'Weight <= 1.885\\nmse = 0.028\\nsamples = 48\\nvalue = 7.319'),\n",
       " Text(74.1458710066305, 287.1626086956522, 'HDD <= 750.0\\nmse = 0.008\\nsamples = 6\\nvalue = 7.11'),\n",
       " Text(71.75406871609404, 265.89130434782606, 'SSD <= 64.0\\nmse = 0.004\\nsamples = 4\\nvalue = 7.065'),\n",
       " Text(69.84062688366485, 244.62, 'OpSys_Other <= 0.5\\nmse = 0.005\\nsamples = 2\\nvalue = 7.025'),\n",
       " Text(68.88390596745027, 223.3486956521739, 'mse = 0.0\\nsamples = 1\\nvalue = 7.095'),\n",
       " Text(70.79734779987945, 223.3486956521739, 'mse = 0.0\\nsamples = 1\\nvalue = 6.954'),\n",
       " Text(73.66751054852321, 244.62, 'Company_Lenovo <= 0.5\\nmse = 0.0\\nsamples = 2\\nvalue = 7.105'),\n",
       " Text(72.71078963230862, 223.3486956521739, 'mse = 0.0\\nsamples = 1\\nvalue = 7.099'),\n",
       " Text(74.62423146473779, 223.3486956521739, 'mse = 0.0\\nsamples = 1\\nvalue = 7.111'),\n",
       " Text(76.53767329716698, 265.89130434782606, 'Company_HP <= 0.5\\nmse = 0.004\\nsamples = 2\\nvalue = 7.2'),\n",
       " Text(75.58095238095238, 244.62, 'mse = 0.0\\nsamples = 1\\nvalue = 7.139'),\n",
       " Text(77.49439421338155, 244.62, 'mse = 0.0\\nsamples = 1\\nvalue = 7.261'),\n",
       " Text(90.29053646775166, 287.1626086956522, 'PPI <= 152.105\\nmse = 0.023\\nsamples = 42\\nvalue = 7.348'),\n",
       " Text(89.33381555153707, 265.89130434782606, 'OpSys_Windows <= 0.5\\nmse = 0.02\\nsamples = 41\\nvalue = 7.338'),\n",
       " Text(79.40783604581073, 244.62, 'Weight <= 2.1\\nmse = 0.008\\nsamples = 8\\nvalue = 7.226'),\n",
       " Text(77.49439421338155, 223.3486956521739, 'SSD <= 128.0\\nmse = 0.001\\nsamples = 2\\nvalue = 7.107'),\n",
       " Text(76.53767329716698, 202.07739130434783, 'mse = 0.0\\nsamples = 1\\nvalue = 7.074'),\n",
       " Text(78.45111512959615, 202.07739130434783, 'mse = 0.0\\nsamples = 1\\nvalue = 7.139'),\n",
       " Text(81.3212778782399, 223.3486956521739, 'PPI <= 134.274\\nmse = 0.005\\nsamples = 6\\nvalue = 7.266'),\n",
       " Text(80.36455696202532, 202.07739130434783, 'mse = 0.0\\nsamples = 1\\nvalue = 7.382'),\n",
       " Text(82.27799879445449, 202.07739130434783, 'Weight <= 2.225\\nmse = 0.002\\nsamples = 5\\nvalue = 7.243'),\n",
       " Text(81.3212778782399, 180.8060869565217, 'Gpu_manu_Intel <= 0.5\\nmse = 0.001\\nsamples = 4\\nvalue = 7.261'),\n",
       " Text(79.40783604581073, 159.53478260869565, 'SSD <= 128.0\\nmse = 0.0\\nsamples = 2\\nvalue = 7.289'),\n",
       " Text(78.45111512959615, 138.26347826086953, 'mse = 0.0\\nsamples = 1\\nvalue = 7.283'),\n",
       " Text(80.36455696202532, 138.26347826086953, 'mse = -0.0\\nsamples = 1\\nvalue = 7.295'),\n",
       " Text(83.23471971066908, 159.53478260869565, 'HDD <= 500.0\\nmse = 0.001\\nsamples = 2\\nvalue = 7.234'),\n",
       " Text(82.27799879445449, 138.26347826086953, 'mse = 0.0\\nsamples = 1\\nvalue = 7.207'),\n",
       " Text(84.19144062688366, 138.26347826086953, 'mse = 0.0\\nsamples = 1\\nvalue = 7.261'),\n",
       " Text(83.23471971066908, 180.8060869565217, 'mse = -0.0\\nsamples = 1\\nvalue = 7.17'),\n",
       " Text(99.25979505726342, 244.62, 'Weight <= 2.065\\nmse = 0.019\\nsamples = 33\\nvalue = 7.366'),\n",
       " Text(90.17094635322483, 223.3486956521739, 'Weight <= 1.955\\nmse = 0.013\\nsamples = 11\\nvalue = 7.418'),\n",
       " Text(87.06160337552743, 202.07739130434783, 'Processor_Intel Core i3 <= 0.5\\nmse = 0.003\\nsamples = 3\\nvalue = 7.274'),\n",
       " Text(86.10488245931283, 180.8060869565217, 'TypeName_Notebook <= 0.5\\nmse = 0.0\\nsamples = 2\\nvalue = 7.313'),\n",
       " Text(85.14816154309825, 159.53478260869565, 'mse = 0.0\\nsamples = 1\\nvalue = 7.323'),\n",
       " Text(87.06160337552743, 159.53478260869565, 'mse = 0.0\\nsamples = 1\\nvalue = 7.303'),\n",
       " Text(88.01832429174202, 180.8060869565217, 'mse = -0.0\\nsamples = 1\\nvalue = 7.195'),\n",
       " Text(93.28028933092224, 202.07739130434783, 'Gpu_manu_Intel <= 0.5\\nmse = 0.006\\nsamples = 8\\nvalue = 7.472'),\n",
       " Text(90.88848704038577, 180.8060869565217, 'Company_Asus <= 0.5\\nmse = 0.0\\nsamples = 6\\nvalue = 7.43'),\n",
       " Text(88.9750452079566, 159.53478260869565, 'Hybrid <= 500.0\\nmse = 0.0\\nsamples = 4\\nvalue = 7.416'),\n",
       " Text(88.01832429174202, 138.26347826086953, 'mse = 0.0\\nsamples = 1\\nvalue = 7.401'),\n",
       " Text(89.93176612417119, 138.26347826086953, 'mse = 0.0\\nsamples = 3\\nvalue = 7.421'),\n",
       " Text(92.80192887281495, 159.53478260869565, 'PPI <= 134.274\\nmse = 0.0\\nsamples = 2\\nvalue = 7.457'),\n",
       " Text(91.84520795660036, 138.26347826086953, 'mse = 0.0\\nsamples = 1\\nvalue = 7.446'),\n",
       " Text(93.75864978902953, 138.26347826086953, 'mse = 0.0\\nsamples = 1\\nvalue = 7.469'),\n",
       " Text(95.6720916214587, 180.8060869565217, 'HDD <= 250.0\\nmse = 0.002\\nsamples = 2\\nvalue = 7.598'),\n",
       " Text(94.71537070524413, 159.53478260869565, 'mse = 0.0\\nsamples = 1\\nvalue = 7.557'),\n",
       " Text(96.6288125376733, 159.53478260869565, 'mse = 0.0\\nsamples = 1\\nvalue = 7.64'),\n",
       " Text(108.34864376130199, 223.3486956521739, 'SSD <= 64.0\\nmse = 0.019\\nsamples = 22\\nvalue = 7.34'),\n",
       " Text(103.8042194092827, 202.07739130434783, 'Gpu_manu_Nvidia <= 0.5\\nmse = 0.011\\nsamples = 13\\nvalue = 7.289'),\n",
       " Text(100.45569620253164, 180.8060869565217, 'Ram <= 5.0\\nmse = 0.008\\nsamples = 9\\nvalue = 7.247'),\n",
       " Text(98.54225437010247, 159.53478260869565, 'Weight <= 2.09\\nmse = 0.006\\nsamples = 7\\nvalue = 7.217'),\n",
       " Text(97.58553345388789, 138.26347826086953, 'mse = 0.0\\nsamples = 1\\nvalue = 7.343'),\n",
       " Text(99.49897528631706, 138.26347826086953, 'Processor_Intel Core i3 <= 0.5\\nmse = 0.004\\nsamples = 6\\nvalue = 7.196'),\n",
       " Text(97.58553345388789, 116.99217391304347, 'HDD <= 750.0\\nmse = 0.002\\nsamples = 2\\nvalue = 7.146'),\n",
       " Text(96.6288125376733, 95.72086956521736, 'mse = 0.0\\nsamples = 1\\nvalue = 7.195'),\n",
       " Text(98.54225437010247, 95.72086956521736, 'mse = 0.0\\nsamples = 1\\nvalue = 7.097'),\n",
       " Text(101.41241711874623, 116.99217391304347, 'HDD <= 750.0\\nmse = 0.004\\nsamples = 4\\nvalue = 7.221'),\n",
       " Text(100.45569620253164, 95.72086956521736, 'mse = 0.0\\nsamples = 1\\nvalue = 7.125'),\n",
       " Text(102.36913803496083, 95.72086956521736, 'Company_Dell <= 0.5\\nmse = 0.001\\nsamples = 3\\nvalue = 7.253'),\n",
       " Text(101.41241711874623, 74.4495652173913, 'Gpu_manu_Intel <= 0.5\\nmse = 0.0\\nsamples = 2\\nvalue = 7.271'),\n",
       " Text(100.45569620253164, 53.17826086956518, 'mse = 0.0\\nsamples = 1\\nvalue = 7.261'),\n",
       " Text(102.36913803496083, 53.17826086956518, 'mse = -0.0\\nsamples = 1\\nvalue = 7.28'),\n",
       " Text(103.3258589511754, 74.4495652173913, 'mse = 0.0\\nsamples = 1\\nvalue = 7.218'),\n",
       " Text(102.36913803496083, 159.53478260869565, 'Company_HP <= 0.5\\nmse = 0.001\\nsamples = 2\\nvalue = 7.353'),\n",
       " Text(101.41241711874623, 138.26347826086953, 'mse = 0.0\\nsamples = 1\\nvalue = 7.323'),\n",
       " Text(103.3258589511754, 138.26347826086953, 'mse = -0.0\\nsamples = 1\\nvalue = 7.382'),\n",
       " Text(107.15274261603375, 180.8060869565217, 'Weight <= 2.215\\nmse = 0.006\\nsamples = 4\\nvalue = 7.381'),\n",
       " Text(106.19602169981917, 159.53478260869565, 'Company_Lenovo <= 0.5\\nmse = 0.008\\nsamples = 3\\nvalue = 7.372'),\n",
       " Text(105.23930078360458, 138.26347826086953, 'mse = 0.0\\nsamples = 1\\nvalue = 7.384'),\n",
       " Text(107.15274261603375, 138.26347826086953, 'mse = 0.011\\nsamples = 2\\nvalue = 7.366'),\n",
       " Text(108.10946353224834, 159.53478260869565, 'mse = 0.0\\nsamples = 1\\nvalue = 7.41'),\n",
       " Text(112.89306811332128, 202.07739130434783, 'Gpu_manu_Intel <= 0.5\\nmse = 0.022\\nsamples = 9\\nvalue = 7.413'),\n",
       " Text(111.93634719710668, 180.8060869565217, 'Ram <= 5.0\\nmse = 0.015\\nsamples = 8\\nvalue = 7.381'),\n",
       " Text(110.02290536467751, 159.53478260869565, 'Company_Lenovo <= 0.5\\nmse = 0.018\\nsamples = 5\\nvalue = 7.334'),\n",
       " Text(109.06618444846293, 138.26347826086953, 'Company_Asus <= 0.5\\nmse = 0.005\\nsamples = 4\\nvalue = 7.393'),\n",
       " Text(108.10946353224834, 116.99217391304347, 'Gpu_manu_Nvidia <= 0.5\\nmse = 0.004\\nsamples = 3\\nvalue = 7.369'),\n",
       " Text(107.15274261603375, 95.72086956521736, 'Weight <= 2.15\\nmse = 0.0\\nsamples = 2\\nvalue = 7.323'),\n",
       " Text(106.19602169981917, 74.4495652173913, 'mse = 0.0\\nsamples = 1\\nvalue = 7.323'),\n",
       " Text(108.10946353224834, 74.4495652173913, 'mse = 0.0\\nsamples = 1\\nvalue = 7.323'),\n",
       " Text(109.06618444846293, 95.72086956521736, 'mse = 0.0\\nsamples = 1\\nvalue = 7.46'),\n",
       " Text(110.02290536467751, 116.99217391304347, 'mse = -0.0\\nsamples = 1\\nvalue = 7.465'),\n",
       " Text(110.9796262808921, 138.26347826086953, 'mse = -0.0\\nsamples = 1\\nvalue = 7.1'),\n",
       " Text(113.84978902953587, 159.53478260869565, 'Gpu_manu_Nvidia <= 0.5\\nmse = 0.001\\nsamples = 3\\nvalue = 7.459'),\n",
       " Text(112.89306811332128, 138.26347826086953, 'mse = 0.002\\nsamples = 2\\nvalue = 7.461'),\n",
       " Text(114.80650994575045, 138.26347826086953, 'mse = 0.0\\nsamples = 1\\nvalue = 7.455'),\n",
       " Text(113.84978902953587, 180.8060869565217, 'mse = 0.0\\nsamples = 1\\nvalue = 7.67'),\n",
       " Text(91.24725738396624, 265.89130434782606, 'mse = 0.0\\nsamples = 1\\nvalue = 7.756'),\n",
       " Text(117.91585292344786, 329.70521739130436, 'Ram <= 5.0\\nmse = 0.015\\nsamples = 12\\nvalue = 7.559'),\n",
       " Text(114.08896925858951, 308.43391304347824, 'Company_Dell <= 0.5\\nmse = 0.008\\nsamples = 7\\nvalue = 7.62'),\n",
       " Text(113.13224834237492, 287.1626086956522, 'Weight <= 2.15\\nmse = 0.003\\nsamples = 6\\nvalue = 7.591'),\n",
       " Text(110.26208559373116, 265.89130434782606, 'Weight <= 1.72\\nmse = 0.001\\nsamples = 3\\nvalue = 7.542'),\n",
       " Text(109.30536467751658, 244.62, 'mse = 0.0\\nsamples = 1\\nvalue = 7.506'),\n",
       " Text(111.21880650994575, 244.62, 'TouchScreen <= 0.5\\nmse = 0.0\\nsamples = 2\\nvalue = 7.561'),\n",
       " Text(110.26208559373116, 223.3486956521739, 'mse = 0.0\\nsamples = 1\\nvalue = 7.566'),\n",
       " Text(112.17552742616034, 223.3486956521739, 'mse = 0.0\\nsamples = 1\\nvalue = 7.555'),\n",
       " Text(116.00241109101869, 265.89130434782606, 'HDD <= 500.0\\nmse = 0.001\\nsamples = 3\\nvalue = 7.64'),\n",
       " Text(115.0456901748041, 244.62, 'Company_HP <= 0.5\\nmse = 0.0\\nsamples = 2\\nvalue = 7.663'),\n",
       " Text(114.08896925858951, 223.3486956521739, 'mse = 0.0\\nsamples = 1\\nvalue = 7.665'),\n",
       " Text(116.00241109101869, 223.3486956521739, 'mse = 0.0\\nsamples = 1\\nvalue = 7.661'),\n",
       " Text(116.95913200723328, 244.62, 'mse = -0.0\\nsamples = 1\\nvalue = 7.595'),\n",
       " Text(115.0456901748041, 287.1626086956522, 'mse = -0.0\\nsamples = 1\\nvalue = 7.79'),\n",
       " Text(121.74273658830622, 308.43391304347824, 'Processor_Intel Core i3 <= 0.5\\nmse = 0.013\\nsamples = 5\\nvalue = 7.475'),\n",
       " Text(120.78601567209162, 287.1626086956522, 'Weight <= 2.68\\nmse = 0.005\\nsamples = 4\\nvalue = 7.523'),\n",
       " Text(119.82929475587703, 265.89130434782606, 'SSD <= 192.0\\nmse = 0.004\\nsamples = 3\\nvalue = 7.499'),\n",
       " Text(118.87257383966245, 244.62, 'Weight <= 2.28\\nmse = 0.0\\nsamples = 2\\nvalue = 7.455'),\n",
       " Text(117.91585292344786, 223.3486956521739, 'mse = 0.0\\nsamples = 1\\nvalue = 7.455'),\n",
       " Text(119.82929475587703, 223.3486956521739, 'mse = -0.0\\nsamples = 1\\nvalue = 7.455'),\n",
       " Text(120.78601567209162, 244.62, 'mse = 0.0\\nsamples = 1\\nvalue = 7.586'),\n",
       " Text(121.74273658830622, 265.89130434782606, 'mse = 0.0\\nsamples = 1\\nvalue = 7.596'),\n",
       " Text(122.6994575045208, 287.1626086956522, 'mse = -0.0\\nsamples = 1\\nvalue = 7.283'),\n",
       " Text(137.40904159132006, 393.5191304347826, 'Weight <= 2.26\\nmse = 0.015\\nsamples = 19\\nvalue = 7.72'),\n",
       " Text(132.9842073538276, 372.24782608695654, 'SSD <= 192.0\\nmse = 0.012\\nsamples = 16\\nvalue = 7.689'),\n",
       " Text(127.96142254370102, 350.9765217391304, 'Weight <= 2.145\\nmse = 0.01\\nsamples = 12\\nvalue = 7.653'),\n",
       " Text(124.61289933694997, 329.70521739130436, 'PPI <= 120.833\\nmse = 0.008\\nsamples = 6\\nvalue = 7.599'),\n",
       " Text(123.65617842073539, 308.43391304347824, 'mse = 0.0\\nsamples = 1\\nvalue = 7.472'),\n",
       " Text(125.56962025316456, 308.43391304347824, 'IPS <= 0.5\\nmse = 0.006\\nsamples = 5\\nvalue = 7.625'),\n",
       " Text(124.61289933694997, 287.1626086956522, 'mse = 0.0\\nsamples = 1\\nvalue = 7.769'),\n",
       " Text(126.52634116937915, 287.1626086956522, 'Weight <= 1.95\\nmse = 0.001\\nsamples = 4\\nvalue = 7.588'),\n",
       " Text(125.56962025316456, 265.89130434782606, 'mse = 0.0\\nsamples = 3\\nvalue = 7.569'),\n",
       " Text(127.48306208559373, 265.89130434782606, 'mse = -0.0\\nsamples = 1\\nvalue = 7.646'),\n",
       " Text(131.30994575045207, 329.70521739130436, 'HDD <= 750.0\\nmse = 0.005\\nsamples = 6\\nvalue = 7.707'),\n",
       " Text(129.39650391802292, 308.43391304347824, 'Company_Asus <= 0.5\\nmse = 0.003\\nsamples = 3\\nvalue = 7.651'),\n",
       " Text(128.4397830018083, 287.1626086956522, 'mse = 0.0\\nsamples = 1\\nvalue = 7.571'),\n",
       " Text(130.3532248342375, 287.1626086956522, 'mse = 0.0\\nsamples = 2\\nvalue = 7.691'),\n",
       " Text(133.22338758288126, 308.43391304347824, 'Weight <= 2.195\\nmse = 0.0\\nsamples = 3\\nvalue = 7.764'),\n",
       " Text(132.26666666666668, 287.1626086956522, 'mse = 0.0\\nsamples = 2\\nvalue = 7.749'),\n",
       " Text(134.18010849909584, 287.1626086956522, 'mse = -0.0\\nsamples = 1\\nvalue = 7.794'),\n",
       " Text(138.00699216395418, 350.9765217391304, 'Weight <= 1.99\\nmse = 0.003\\nsamples = 4\\nvalue = 7.796'),\n",
       " Text(136.09355033152502, 329.70521739130436, 'TypeName_Ultrabook <= 0.5\\nmse = 0.0\\nsamples = 2\\nvalue = 7.843'),\n",
       " Text(135.13682941531042, 308.43391304347824, 'mse = 0.0\\nsamples = 1\\nvalue = 7.853'),\n",
       " Text(137.0502712477396, 308.43391304347824, 'mse = 0.0\\nsamples = 1\\nvalue = 7.833'),\n",
       " Text(139.92043399638337, 329.70521739130436, 'Gpu_manu_Nvidia <= 0.5\\nmse = 0.001\\nsamples = 2\\nvalue = 7.749'),\n",
       " Text(138.9637130801688, 308.43391304347824, 'mse = 0.0\\nsamples = 1\\nvalue = 7.716'),\n",
       " Text(140.87715491259794, 308.43391304347824, 'mse = -0.0\\nsamples = 1\\nvalue = 7.782'),\n",
       " Text(141.83387582881255, 372.24782608695654, 'Gpu_manu_Intel <= 0.5\\nmse = 0.004\\nsamples = 3\\nvalue = 7.883'),\n",
       " Text(140.87715491259794, 350.9765217391304, 'mse = 0.0\\nsamples = 1\\nvalue = 7.966'),\n",
       " Text(142.79059674502713, 350.9765217391304, 'PPI <= 120.833\\nmse = 0.0\\nsamples = 2\\nvalue = 7.841'),\n",
       " Text(141.83387582881255, 329.70521739130436, 'mse = 0.0\\nsamples = 1\\nvalue = 7.856'),\n",
       " Text(143.7473176612417, 329.70521739130436, 'mse = 0.0\\nsamples = 1\\nvalue = 7.826'),\n",
       " Text(175.26305003013863, 414.7904347826087, 'Weight <= 1.485\\nmse = 0.114\\nsamples = 102\\nvalue = 7.754'),\n",
       " Text(156.18468957203135, 393.5191304347826, 'IPS <= 0.5\\nmse = 0.06\\nsamples = 17\\nvalue = 8.182'),\n",
       " Text(151.4010849909584, 372.24782608695654, 'Company_HP <= 0.5\\nmse = 0.039\\nsamples = 14\\nvalue = 8.25'),\n",
       " Text(147.57420132610005, 350.9765217391304, 'Company_Toshiba <= 0.5\\nmse = 0.018\\nsamples = 6\\nvalue = 8.106'),\n",
       " Text(145.6607594936709, 329.70521739130436, 'Company_Lenovo <= 0.5\\nmse = 0.002\\nsamples = 2\\nvalue = 7.934'),\n",
       " Text(144.7040385774563, 308.43391304347824, 'mse = 0.0\\nsamples = 1\\nvalue = 7.977'),\n",
       " Text(146.61748040988547, 308.43391304347824, 'mse = 0.0\\nsamples = 1\\nvalue = 7.892'),\n",
       " Text(149.48764315852924, 329.70521739130436, 'Weight <= 1.225\\nmse = 0.003\\nsamples = 4\\nvalue = 8.192'),\n",
       " Text(148.53092224231466, 308.43391304347824, 'Weight <= 1.125\\nmse = 0.001\\nsamples = 3\\nvalue = 8.221'),\n",
       " Text(147.57420132610005, 287.1626086956522, 'mse = 0.0\\nsamples = 1\\nvalue = 8.269'),\n",
       " Text(149.48764315852924, 287.1626086956522, 'mse = 0.0\\nsamples = 2\\nvalue = 8.197'),\n",
       " Text(150.44436407474382, 308.43391304347824, 'mse = 0.0\\nsamples = 1\\nvalue = 8.105'),\n",
       " Text(155.22796865581677, 350.9765217391304, 'PPI <= 161.491\\nmse = 0.028\\nsamples = 8\\nvalue = 8.358'),\n",
       " Text(153.31452682338758, 329.70521739130436, 'PPI <= 118.651\\nmse = 0.027\\nsamples = 5\\nvalue = 8.279'),\n",
       " Text(152.357805907173, 308.43391304347824, 'mse = 0.0\\nsamples = 1\\nvalue = 8.114'),\n",
       " Text(154.27124773960216, 308.43391304347824, 'TypeName_Ultrabook <= 0.5\\nmse = 0.026\\nsamples = 4\\nvalue = 8.32'),\n",
       " Text(153.31452682338758, 287.1626086956522, 'mse = 0.0\\nsamples = 1\\nvalue = 8.482'),\n",
       " Text(155.22796865581677, 287.1626086956522, 'PPI <= 141.359\\nmse = 0.023\\nsamples = 3\\nvalue = 8.266'),\n",
       " Text(154.27124773960216, 265.89130434782606, 'mse = 0.013\\nsamples = 2\\nvalue = 8.35'),\n",
       " Text(156.18468957203135, 265.89130434782606, 'mse = -0.0\\nsamples = 1\\nvalue = 8.097'),\n",
       " Text(157.14141048824592, 329.70521739130436, 'TypeName_Ultrabook <= 0.5\\nmse = 0.002\\nsamples = 3\\nvalue = 8.491'),\n",
       " Text(156.18468957203135, 308.43391304347824, 'mse = 0.0\\nsamples = 1\\nvalue = 8.549'),\n",
       " Text(158.09813140446053, 308.43391304347824, 'mse = 0.0\\nsamples = 2\\nvalue = 8.463'),\n",
       " Text(160.96829415310427, 372.24782608695654, 'Company_Toshiba <= 0.5\\nmse = 0.036\\nsamples = 3\\nvalue = 7.866'),\n",
       " Text(160.0115732368897, 350.9765217391304, 'TypeName_Notebook <= 0.5\\nmse = 0.006\\nsamples = 2\\nvalue = 7.739'),\n",
       " Text(159.0548523206751, 329.70521739130436, 'mse = 0.0\\nsamples = 1\\nvalue = 7.818'),\n",
       " Text(160.96829415310427, 329.70521739130436, 'mse = 0.0\\nsamples = 1\\nvalue = 7.661'),\n",
       " Text(161.92501506931887, 350.9765217391304, 'mse = -0.0\\nsamples = 1\\nvalue = 8.118'),\n",
       " Text(194.34141048824594, 393.5191304347826, 'OpSys_Windows <= 0.5\\nmse = 0.081\\nsamples = 85\\nvalue = 7.669'),\n",
       " Text(169.93755274261602, 372.24782608695654, 'Company_Dell <= 0.5\\nmse = 0.034\\nsamples = 15\\nvalue = 7.345'),\n",
       " Text(165.51271850512356, 350.9765217391304, 'Gpu_manu_Intel <= 0.5\\nmse = 0.011\\nsamples = 11\\nvalue = 7.27'),\n",
       " Text(162.88173598553345, 329.70521739130436, 'PPI <= 120.833\\nmse = 0.004\\nsamples = 3\\nvalue = 7.386'),\n",
       " Text(161.92501506931887, 308.43391304347824, 'mse = 0.0\\nsamples = 1\\nvalue = 7.472'),\n",
       " Text(163.83845690174803, 308.43391304347824, 'Weight <= 2.15\\nmse = 0.0\\nsamples = 2\\nvalue = 7.343'),\n",
       " Text(162.88173598553345, 287.1626086956522, 'mse = 0.0\\nsamples = 1\\nvalue = 7.363'),\n",
       " Text(164.79517781796264, 287.1626086956522, 'mse = -0.0\\nsamples = 1\\nvalue = 7.323'),\n",
       " Text(168.1437010247137, 329.70521739130436, 'Weight <= 1.88\\nmse = 0.007\\nsamples = 8\\nvalue = 7.226'),\n",
       " Text(167.18698010849909, 308.43391304347824, 'mse = 0.0\\nsamples = 1\\nvalue = 7.087'),\n",
       " Text(169.10042194092827, 308.43391304347824, 'Weight <= 2.03\\nmse = 0.005\\nsamples = 7\\nvalue = 7.246'),\n",
       " Text(166.7086196503918, 287.1626086956522, 'Company_HP <= 0.5\\nmse = 0.0\\nsamples = 2\\nvalue = 7.314'),\n",
       " Text(165.75189873417722, 265.89130434782606, 'mse = 0.0\\nsamples = 1\\nvalue = 7.305'),\n",
       " Text(167.6653405666064, 265.89130434782606, 'mse = 0.0\\nsamples = 1\\nvalue = 7.323'),\n",
       " Text(171.49222423146475, 287.1626086956522, 'PPI <= 120.833\\nmse = 0.004\\nsamples = 5\\nvalue = 7.219'),\n",
       " Text(169.57878239903556, 265.89130434782606, 'Company_Lenovo <= 0.5\\nmse = 0.006\\nsamples = 3\\nvalue = 7.192'),\n",
       " Text(168.62206148282098, 244.62, 'Company_HP <= 0.5\\nmse = 0.001\\nsamples = 2\\nvalue = 7.24'),\n",
       " Text(167.6653405666064, 223.3486956521739, 'mse = 0.0\\nsamples = 1\\nvalue = 7.202'),\n",
       " Text(169.57878239903556, 223.3486956521739, 'mse = 0.0\\nsamples = 1\\nvalue = 7.278'),\n",
       " Text(170.53550331525014, 244.62, 'mse = -0.0\\nsamples = 1\\nvalue = 7.097'),\n",
       " Text(173.4056660638939, 265.89130434782606, 'HDD <= 500.0\\nmse = 0.0\\nsamples = 2\\nvalue = 7.258'),\n",
       " Text(172.44894514767932, 244.62, 'mse = 0.0\\nsamples = 1\\nvalue = 7.259'),\n",
       " Text(174.3623869801085, 244.62, 'mse = 0.0\\nsamples = 1\\nvalue = 7.257'),\n",
       " Text(174.3623869801085, 350.9765217391304, 'Weight <= 2.055\\nmse = 0.038\\nsamples = 4\\nvalue = 7.552'),\n",
       " Text(173.4056660638939, 329.70521739130436, 'mse = 0.0\\nsamples = 1\\nvalue = 7.878'),\n",
       " Text(175.3191078963231, 329.70521739130436, 'HDD <= 500.0\\nmse = 0.003\\nsamples = 3\\nvalue = 7.443'),\n",
       " Text(174.3623869801085, 308.43391304347824, 'SSD <= 192.0\\nmse = 0.001\\nsamples = 2\\nvalue = 7.48'),\n",
       " Text(173.4056660638939, 287.1626086956522, 'mse = 0.0\\nsamples = 1\\nvalue = 7.455'),\n",
       " Text(175.3191078963231, 287.1626086956522, 'mse = 0.0\\nsamples = 1\\nvalue = 7.506'),\n",
       " Text(176.27582881253767, 308.43391304347824, 'mse = 0.0\\nsamples = 1\\nvalue = 7.368'),\n",
       " Text(218.74526823387583, 372.24782608695654, 'HDD <= 750.0\\nmse = 0.064\\nsamples = 70\\nvalue = 7.738'),\n",
       " Text(202.974321880651, 350.9765217391304, 'Company_HP <= 0.5\\nmse = 0.064\\nsamples = 52\\nvalue = 7.799'),\n",
       " Text(191.1647980711272, 329.70521739130436, 'Weight <= 1.885\\nmse = 0.047\\nsamples = 32\\nvalue = 7.722'),\n",
       " Text(181.05943339361062, 308.43391304347824, 'TypeName_Ultrabook <= 0.5\\nmse = 0.024\\nsamples = 11\\nvalue = 7.856'),\n",
       " Text(180.102712477396, 287.1626086956522, 'PPI <= 114.881\\nmse = 0.019\\nsamples = 10\\nvalue = 7.831'),\n",
       " Text(177.23254972875225, 265.89130434782606, 'Weight <= 1.755\\nmse = 0.012\\nsamples = 5\\nvalue = 7.922'),\n",
       " Text(176.27582881253767, 244.62, 'HDD <= 250.0\\nmse = 0.004\\nsamples = 4\\nvalue = 7.968'),\n",
       " Text(174.3623869801085, 223.3486956521739, 'IPS <= 0.5\\nmse = 0.0\\nsamples = 2\\nvalue = 8.03'),\n",
       " Text(173.4056660638939, 202.07739130434783, 'mse = 0.0\\nsamples = 1\\nvalue = 8.021'),\n",
       " Text(175.3191078963231, 202.07739130434783, 'mse = -0.0\\nsamples = 1\\nvalue = 8.038'),\n",
       " Text(178.18927064496685, 223.3486956521739, 'Company_Dell <= 0.5\\nmse = 0.0\\nsamples = 2\\nvalue = 7.907'),\n",
       " Text(177.23254972875225, 202.07739130434783, 'mse = 0.0\\nsamples = 1\\nvalue = 7.93'),\n",
       " Text(179.14599156118143, 202.07739130434783, 'mse = 0.0\\nsamples = 1\\nvalue = 7.885'),\n",
       " Text(178.18927064496685, 244.62, 'mse = -0.0\\nsamples = 1\\nvalue = 7.738'),\n",
       " Text(182.97287522603978, 265.89130434782606, 'Weight <= 1.75\\nmse = 0.009\\nsamples = 5\\nvalue = 7.74'),\n",
       " Text(181.05943339361062, 244.62, 'Company_Lenovo <= 0.5\\nmse = 0.001\\nsamples = 2\\nvalue = 7.628'),\n",
       " Text(180.102712477396, 223.3486956521739, 'mse = 0.0\\nsamples = 1\\nvalue = 7.595'),\n",
       " Text(182.0161543098252, 223.3486956521739, 'mse = -0.0\\nsamples = 1\\nvalue = 7.661'),\n",
       " Text(184.88631705846896, 244.62, 'HDD <= 250.0\\nmse = 0.001\\nsamples = 3\\nvalue = 7.815'),\n",
       " Text(183.92959614225438, 223.3486956521739, 'SSD <= 192.0\\nmse = 0.0\\nsamples = 2\\nvalue = 7.833'),\n",
       " Text(182.97287522603978, 202.07739130434783, 'mse = 0.0\\nsamples = 1\\nvalue = 7.836'),\n",
       " Text(184.88631705846896, 202.07739130434783, 'mse = 0.0\\nsamples = 1\\nvalue = 7.831'),\n",
       " Text(185.84303797468354, 223.3486956521739, 'mse = 0.0\\nsamples = 1\\nvalue = 7.777'),\n",
       " Text(182.0161543098252, 287.1626086956522, 'mse = 0.0\\nsamples = 1\\nvalue = 8.11'),\n",
       " Text(201.27016274864377, 308.43391304347824, 'Weight <= 2.34\\nmse = 0.045\\nsamples = 21\\nvalue = 7.652'),\n",
       " Text(196.12778782399036, 287.1626086956522, 'HDD <= 250.0\\nmse = 0.04\\nsamples = 18\\nvalue = 7.62'),\n",
       " Text(190.6266425557565, 265.89130434782606, 'SSD <= 192.0\\nmse = 0.027\\nsamples = 9\\nvalue = 7.549'),\n",
       " Text(188.7132007233273, 244.62, 'Weight <= 2.0\\nmse = 0.0\\nsamples = 2\\nvalue = 7.316'),\n",
       " Text(187.75647980711273, 223.3486956521739, 'mse = 0.0\\nsamples = 1\\nvalue = 7.321'),\n",
       " Text(189.66992163954188, 223.3486956521739, 'mse = 0.0\\nsamples = 1\\nvalue = 7.311'),\n",
       " Text(192.54008438818565, 244.62, 'Company_Lenovo <= 0.5\\nmse = 0.014\\nsamples = 7\\nvalue = 7.615'),\n",
       " Text(191.58336347197107, 223.3486956521739, 'Weight <= 2.15\\nmse = 0.004\\nsamples = 6\\nvalue = 7.572'),\n",
       " Text(189.1915611814346, 202.07739130434783, 'Weight <= 2.05\\nmse = 0.0\\nsamples = 2\\nvalue = 7.495'),\n",
       " Text(188.23484026522001, 180.8060869565217, 'mse = 0.0\\nsamples = 1\\nvalue = 7.485'),\n",
       " Text(190.1482820976492, 180.8060869565217, 'mse = 0.0\\nsamples = 1\\nvalue = 7.506'),\n",
       " Text(193.97516576250754, 202.07739130434783, 'Weight <= 2.265\\nmse = 0.001\\nsamples = 4\\nvalue = 7.61'),\n",
       " Text(192.06172393007836, 180.8060869565217, 'IPS <= 0.5\\nmse = 0.0\\nsamples = 2\\nvalue = 7.642'),\n",
       " Text(191.10500301386378, 159.53478260869565, 'mse = 0.0\\nsamples = 1\\nvalue = 7.649'),\n",
       " Text(193.01844484629294, 159.53478260869565, 'mse = -0.0\\nsamples = 1\\nvalue = 7.636'),\n",
       " Text(195.8886075949367, 180.8060869565217, 'PPI <= 120.833\\nmse = 0.0\\nsamples = 2\\nvalue = 7.579'),\n",
       " Text(194.93188667872212, 159.53478260869565, 'mse = 0.0\\nsamples = 1\\nvalue = 7.586'),\n",
       " Text(196.8453285111513, 159.53478260869565, 'mse = 0.0\\nsamples = 1\\nvalue = 7.571'),\n",
       " Text(193.49680530440025, 223.3486956521739, 'mse = 0.0\\nsamples = 1\\nvalue = 7.876'),\n",
       " Text(201.62893309222423, 265.89130434782606, 'Weight <= 2.06\\nmse = 0.043\\nsamples = 9\\nvalue = 7.691'),\n",
       " Text(198.75877034358047, 244.62, 'Company_Dell <= 0.5\\nmse = 0.015\\nsamples = 4\\nvalue = 7.879'),\n",
       " Text(197.8020494273659, 223.3486956521739, 'mse = 0.0\\nsamples = 1\\nvalue = 8.009'),\n",
       " Text(199.71549125979504, 223.3486956521739, 'Weight <= 1.94\\nmse = 0.012\\nsamples = 3\\nvalue = 7.836'),\n",
       " Text(198.75877034358047, 202.07739130434783, 'Weight <= 1.915\\nmse = 0.006\\nsamples = 2\\nvalue = 7.901'),\n",
       " Text(197.8020494273659, 180.8060869565217, 'mse = 0.0\\nsamples = 1\\nvalue = 7.826'),\n",
       " Text(199.71549125979504, 180.8060869565217, 'mse = 0.0\\nsamples = 1\\nvalue = 7.977'),\n",
       " Text(200.67221217600965, 202.07739130434783, 'mse = 0.0\\nsamples = 1\\nvalue = 7.704'),\n",
       " Text(204.499095840868, 244.62, 'Company_Toshiba <= 0.5\\nmse = 0.015\\nsamples = 5\\nvalue = 7.541'),\n",
       " Text(203.54237492465342, 223.3486956521739, 'Weight <= 2.165\\nmse = 0.003\\nsamples = 3\\nvalue = 7.475'),\n",
       " Text(202.5856540084388, 202.07739130434783, 'mse = 0.0\\nsamples = 1\\nvalue = 7.402'),\n",
       " Text(204.499095840868, 202.07739130434783, 'Weight <= 2.265\\nmse = 0.001\\nsamples = 2\\nvalue = 7.511'),\n",
       " Text(203.54237492465342, 180.8060869565217, 'mse = 0.0\\nsamples = 1\\nvalue = 7.539'),\n",
       " Text(205.45581675708257, 180.8060869565217, 'mse = -0.0\\nsamples = 1\\nvalue = 7.482'),\n",
       " Text(205.45581675708257, 223.3486956521739, 'mse = 0.017\\nsamples = 2\\nvalue = 7.641'),\n",
       " Text(206.41253767329718, 287.1626086956522, 'Gpu_manu_Nvidia <= 0.5\\nmse = 0.03\\nsamples = 3\\nvalue = 7.843'),\n",
       " Text(205.45581675708257, 265.89130434782606, 'mse = 0.0\\nsamples = 1\\nvalue = 8.072'),\n",
       " Text(207.36925858951176, 265.89130434782606, 'IPS <= 0.5\\nmse = 0.005\\nsamples = 2\\nvalue = 7.728'),\n",
       " Text(206.41253767329718, 244.62, 'mse = 0.0\\nsamples = 1\\nvalue = 7.655'),\n",
       " Text(208.32597950572634, 244.62, 'mse = -0.0\\nsamples = 1\\nvalue = 7.802'),\n",
       " Text(214.78384569017481, 329.70521739130436, 'Gpu_manu_Intel <= 0.5\\nmse = 0.067\\nsamples = 20\\nvalue = 7.922'),\n",
       " Text(212.39204339963834, 308.43391304347824, 'PPI <= 149.281\\nmse = 0.001\\nsamples = 3\\nvalue = 7.556'),\n",
       " Text(211.43532248342376, 287.1626086956522, 'Ram <= 5.0\\nmse = 0.0\\nsamples = 2\\nvalue = 7.534'),\n",
       " Text(210.47860156720915, 265.89130434782606, 'mse = 0.0\\nsamples = 1\\nvalue = 7.529'),\n",
       " Text(212.39204339963834, 265.89130434782606, 'mse = 0.0\\nsamples = 1\\nvalue = 7.539'),\n",
       " Text(213.34876431585292, 287.1626086956522, 'mse = 0.0\\nsamples = 1\\nvalue = 7.602'),\n",
       " Text(217.17564798071126, 308.43391304347824, 'IPS <= 0.5\\nmse = 0.051\\nsamples = 17\\nvalue = 7.986'),\n",
       " Text(215.2622061482821, 287.1626086956522, 'TypeName_Netbook <= 0.5\\nmse = 0.04\\nsamples = 14\\nvalue = 8.049'),\n",
       " Text(214.3054852320675, 265.89130434782606, 'TypeName_Notebook <= 0.5\\nmse = 0.027\\nsamples = 13\\nvalue = 8.015'),\n",
       " Text(213.34876431585292, 244.62, 'mse = 0.0\\nsamples = 1\\nvalue = 7.64'),\n",
       " Text(215.2622061482821, 244.62, 'PPI <= 149.281\\nmse = 0.017\\nsamples = 12\\nvalue = 8.046'),\n",
       " Text(210.7177817962628, 223.3486956521739, 'PPI <= 106.195\\nmse = 0.015\\nsamples = 7\\nvalue = 7.988'),\n",
       " Text(208.32597950572634, 202.07739130434783, 'HDD <= 250.0\\nmse = 0.01\\nsamples = 2\\nvalue = 8.099'),\n",
       " Text(207.36925858951176, 180.8060869565217, 'mse = 0.0\\nsamples = 1\\nvalue = 7.997'),\n",
       " Text(209.28270042194092, 180.8060869565217, 'mse = 0.0\\nsamples = 1\\nvalue = 8.2'),\n",
       " Text(213.1095840867993, 202.07739130434783, 'Weight <= 1.795\\nmse = 0.01\\nsamples = 5\\nvalue = 7.944'),\n",
       " Text(211.1961422543701, 180.8060869565217, 'HDD <= 250.0\\nmse = 0.012\\nsamples = 2\\nvalue = 7.88'),\n",
       " Text(210.23942133815552, 159.53478260869565, 'mse = 0.0\\nsamples = 1\\nvalue = 7.991'),\n",
       " Text(212.15286317058468, 159.53478260869565, 'mse = -0.0\\nsamples = 1\\nvalue = 7.769'),\n",
       " Text(215.02302591922844, 180.8060869565217, 'Weight <= 2.01\\nmse = 0.004\\nsamples = 3\\nvalue = 7.986'),\n",
       " Text(214.06630500301387, 159.53478260869565, 'mse = 0.0\\nsamples = 1\\nvalue = 8.077'),\n",
       " Text(215.97974683544305, 159.53478260869565, 'Weight <= 2.19\\nmse = 0.0\\nsamples = 2\\nvalue = 7.941'),\n",
       " Text(215.02302591922844, 138.26347826086953, 'mse = 0.0\\nsamples = 1\\nvalue = 7.924'),\n",
       " Text(216.93646775165763, 138.26347826086953, 'mse = 0.0\\nsamples = 1\\nvalue = 7.957'),\n",
       " Text(219.8066305003014, 223.3486956521739, 'Weight <= 1.745\\nmse = 0.008\\nsamples = 5\\nvalue = 8.128'),\n",
       " Text(217.8931886678722, 202.07739130434783, 'SSD <= 128.0\\nmse = 0.002\\nsamples = 3\\nvalue = 8.061'),\n",
       " Text(216.93646775165763, 180.8060869565217, 'mse = 0.0\\nsamples = 2\\nvalue = 8.034'),\n",
       " Text(218.8499095840868, 180.8060869565217, 'mse = -0.0\\nsamples = 1\\nvalue = 8.114'),\n",
       " Text(221.72007233273055, 202.07739130434783, 'SSD <= 192.0\\nmse = 0.001\\nsamples = 2\\nvalue = 8.229'),\n",
       " Text(220.76335141651597, 180.8060869565217, 'mse = 0.0\\nsamples = 1\\nvalue = 8.254'),\n",
       " Text(222.67679324894516, 180.8060869565217, 'mse = -0.0\\nsamples = 1\\nvalue = 8.205'),\n",
       " Text(216.21892706449668, 265.89130434782606, 'mse = 0.0\\nsamples = 1\\nvalue = 8.488'),\n",
       " Text(219.08908981314045, 287.1626086956522, 'SSD <= 64.0\\nmse = 0.0\\nsamples = 3\\nvalue = 7.695'),\n",
       " Text(218.13236889692587, 265.89130434782606, 'Weight <= 1.865\\nmse = 0.0\\nsamples = 2\\nvalue = 7.693'),\n",
       " Text(217.17564798071126, 244.62, 'mse = 0.0\\nsamples = 1\\nvalue = 7.693'),\n",
       " Text(219.08908981314045, 244.62, 'mse = 0.0\\nsamples = 1\\nvalue = 7.693'),\n",
       " Text(220.04581072935503, 265.89130434782606, 'mse = -0.0\\nsamples = 1\\nvalue = 7.698'),\n",
       " Text(234.51621458710068, 350.9765217391304, 'SSD <= 64.0\\nmse = 0.021\\nsamples = 18\\nvalue = 7.561'),\n",
       " Text(230.33056057866185, 329.70521739130436, 'Gpu_manu_Intel <= 0.5\\nmse = 0.014\\nsamples = 16\\nvalue = 7.53'),\n",
       " Text(224.82941531042798, 308.43391304347824, 'Gpu_manu_Nvidia <= 0.5\\nmse = 0.007\\nsamples = 8\\nvalue = 7.591'),\n",
       " Text(222.9159734779988, 287.1626086956522, 'PPI <= 134.274\\nmse = 0.003\\nsamples = 3\\nvalue = 7.689'),\n",
       " Text(221.9592525617842, 265.89130434782606, 'Ram <= 5.0\\nmse = 0.0\\nsamples = 2\\nvalue = 7.65'),\n",
       " Text(221.00253164556963, 244.62, 'mse = 0.0\\nsamples = 1\\nvalue = 7.64'),\n",
       " Text(222.9159734779988, 244.62, 'mse = -0.0\\nsamples = 1\\nvalue = 7.661'),\n",
       " Text(223.87269439421337, 265.89130434782606, 'mse = -0.0\\nsamples = 1\\nvalue = 7.765'),\n",
       " Text(226.74285714285713, 287.1626086956522, 'Ram <= 5.0\\nmse = 0.001\\nsamples = 5\\nvalue = 7.532'),\n",
       " Text(225.78613622664255, 265.89130434782606, 'PPI <= 123.663\\nmse = 0.0\\nsamples = 4\\nvalue = 7.519'),\n",
       " Text(224.82941531042798, 244.62, 'mse = 0.0\\nsamples = 1\\nvalue = 7.489'),\n",
       " Text(226.74285714285713, 244.62, 'Company_Lenovo <= 0.5\\nmse = 0.0\\nsamples = 3\\nvalue = 7.529'),\n",
       " Text(225.78613622664255, 223.3486956521739, 'Weight <= 2.215\\nmse = 0.0\\nsamples = 2\\nvalue = 7.532'),\n",
       " Text(224.82941531042798, 202.07739130434783, 'mse = 0.0\\nsamples = 1\\nvalue = 7.529'),\n",
       " Text(226.74285714285713, 202.07739130434783, 'mse = -0.0\\nsamples = 1\\nvalue = 7.534'),\n",
       " Text(227.69957805907174, 223.3486956521739, 'mse = -0.0\\nsamples = 1\\nvalue = 7.523'),\n",
       " Text(227.69957805907174, 265.89130434782606, 'mse = 0.0\\nsamples = 1\\nvalue = 7.586'),\n",
       " Text(235.83170584689572, 308.43391304347824, 'Company_HP <= 0.5\\nmse = 0.012\\nsamples = 8\\nvalue = 7.47'),\n",
       " Text(233.43990355635924, 287.1626086956522, 'Weight <= 2.205\\nmse = 0.008\\nsamples = 6\\nvalue = 7.515'),\n",
       " Text(231.52646172393008, 265.89130434782606, 'Weight <= 2.14\\nmse = 0.003\\nsamples = 3\\nvalue = 7.596'),\n",
       " Text(230.5697408077155, 244.62, 'Weight <= 1.8\\nmse = 0.0\\nsamples = 2\\nvalue = 7.557'),\n",
       " Text(229.6130198915009, 223.3486956521739, 'mse = 0.0\\nsamples = 1\\nvalue = 7.571'),\n",
       " Text(231.52646172393008, 223.3486956521739, 'mse = -0.0\\nsamples = 1\\nvalue = 7.543'),\n",
       " Text(232.48318264014466, 244.62, 'mse = 0.0\\nsamples = 1\\nvalue = 7.673'),\n",
       " Text(235.35334538878843, 265.89130434782606, 'Weight <= 2.24\\nmse = 0.0\\nsamples = 3\\nvalue = 7.434'),\n",
       " Text(234.39662447257385, 244.62, 'mse = 0.0\\nsamples = 1\\nvalue = 7.419'),\n",
       " Text(236.310066305003, 244.62, 'Ram <= 5.0\\nmse = 0.0\\nsamples = 2\\nvalue = 7.441'),\n",
       " Text(235.35334538878843, 223.3486956521739, 'mse = 0.0\\nsamples = 1\\nvalue = 7.437'),\n",
       " Text(237.2667872212176, 223.3486956521739, 'mse = 0.0\\nsamples = 1\\nvalue = 7.446'),\n",
       " Text(238.2235081374322, 287.1626086956522, 'TouchScreen <= 0.5\\nmse = 0.001\\nsamples = 2\\nvalue = 7.335'),\n",
       " Text(237.2667872212176, 265.89130434782606, 'mse = 0.0\\nsamples = 1\\nvalue = 7.303'),\n",
       " Text(239.18022905364677, 265.89130434782606, 'mse = 0.0\\nsamples = 1\\nvalue = 7.368'),\n",
       " Text(238.70186859553948, 329.70521739130436, 'PPI <= 123.663\\nmse = 0.014\\nsamples = 2\\nvalue = 7.808'),\n",
       " Text(237.7451476793249, 308.43391304347824, 'mse = 0.0\\nsamples = 1\\nvalue = 7.689'),\n",
       " Text(239.65858951175406, 308.43391304347824, 'mse = 0.0\\nsamples = 1\\nvalue = 7.927'),\n",
       " Text(266.996609403255, 436.0617391304348, 'Ram <= 3.0\\nmse = 0.084\\nsamples = 106\\nvalue = 6.916'),\n",
       " Text(245.87727546714888, 414.7904347826087, 'Company_Dell <= 0.5\\nmse = 0.045\\nsamples = 16\\nvalue = 6.613'),\n",
       " Text(244.9205545509343, 393.5191304347826, 'Weight <= 1.16\\nmse = 0.021\\nsamples = 14\\nvalue = 6.551'),\n",
       " Text(242.52875226039782, 372.24782608695654, 'TypeName_Netbook <= 0.5\\nmse = 0.008\\nsamples = 3\\nvalue = 6.723'),\n",
       " Text(241.57203134418324, 350.9765217391304, 'Company_Lenovo <= 0.5\\nmse = 0.003\\nsamples = 2\\nvalue = 6.778'),\n",
       " Text(240.61531042796867, 329.70521739130436, 'mse = 0.0\\nsamples = 1\\nvalue = 6.728'),\n",
       " Text(242.52875226039782, 329.70521739130436, 'mse = 0.0\\nsamples = 1\\nvalue = 6.829'),\n",
       " Text(243.48547317661243, 350.9765217391304, 'mse = -0.0\\nsamples = 1\\nvalue = 6.612'),\n",
       " Text(247.31235684147077, 372.24782608695654, 'SSD <= 8.0\\nmse = 0.014\\nsamples = 11\\nvalue = 6.504'),\n",
       " Text(245.3989150090416, 350.9765217391304, 'TypeName_Notebook <= 0.5\\nmse = 0.009\\nsamples = 9\\nvalue = 6.541'),\n",
       " Text(244.442194092827, 329.70521739130436, 'mse = 0.0\\nsamples = 3\\nvalue = 6.453'),\n",
       " Text(246.35563592525617, 329.70521739130436, 'Company_HP <= 0.5\\nmse = 0.008\\nsamples = 6\\nvalue = 6.585'),\n",
       " Text(245.3989150090416, 308.43391304347824, 'Company_Vero <= 0.5\\nmse = 0.003\\nsamples = 5\\nvalue = 6.553'),\n",
       " Text(244.442194092827, 287.1626086956522, 'Weight <= 1.46\\nmse = 0.001\\nsamples = 4\\nvalue = 6.576'),\n",
       " Text(243.48547317661243, 265.89130434782606, 'Company_Lenovo <= 0.5\\nmse = 0.0\\nsamples = 2\\nvalue = 6.608'),\n",
       " Text(242.52875226039782, 244.62, 'mse = 0.0\\nsamples = 1\\nvalue = 6.587'),\n",
       " Text(244.442194092827, 244.62, 'mse = -0.0\\nsamples = 1\\nvalue = 6.628'),\n",
       " Text(245.3989150090416, 265.89130434782606, 'mse = 0.0\\nsamples = 2\\nvalue = 6.545'),\n",
       " Text(246.35563592525617, 287.1626086956522, 'mse = 0.0\\nsamples = 1\\nvalue = 6.462'),\n",
       " Text(247.31235684147077, 308.43391304347824, 'mse = 0.0\\nsamples = 1\\nvalue = 6.742'),\n",
       " Text(249.22579867389993, 350.9765217391304, 'SSD <= 24.0\\nmse = 0.005\\nsamples = 2\\nvalue = 6.337'),\n",
       " Text(248.26907775768535, 329.70521739130436, 'mse = 0.0\\nsamples = 1\\nvalue = 6.404'),\n",
       " Text(250.18251959011454, 329.70521739130436, 'mse = 0.0\\nsamples = 1\\nvalue = 6.27'),\n",
       " Text(246.83399638336348, 393.5191304347826, 'mse = -0.0\\nsamples = 2\\nvalue = 7.048'),\n",
       " Text(288.1159433393611, 414.7904347826087, 'SSD <= 80.0\\nmse = 0.071\\nsamples = 90\\nvalue = 6.97'),\n",
       " Text(279.76799276672693, 393.5191304347826, 'PPI <= 170.932\\nmse = 0.057\\nsamples = 80\\nvalue = 6.933'),\n",
       " Text(274.55274261603375, 372.24782608695654, 'Company_Vero <= 0.5\\nmse = 0.041\\nsamples = 72\\nvalue = 6.899'),\n",
       " Text(270.3409282700422, 350.9765217391304, 'Weight <= 2.6\\nmse = 0.035\\nsamples = 69\\nvalue = 6.917'),\n",
       " Text(266.700904159132, 329.70521739130436, 'TouchScreen <= 0.5\\nmse = 0.03\\nsamples = 66\\nvalue = 6.899'),\n",
       " Text(262.2910186859554, 308.43391304347824, 'Company_Chuwi <= 0.5\\nmse = 0.024\\nsamples = 63\\nvalue = 6.885'),\n",
       " Text(261.33429776974083, 287.1626086956522, 'Flash_Storage <= 96.0\\nmse = 0.022\\nsamples = 61\\nvalue = 6.893'),\n",
       " Text(255.38468957203133, 265.89130434782606, 'Weight <= 1.445\\nmse = 0.02\\nsamples = 59\\nvalue = 6.885'),\n",
       " Text(246.35563592525617, 244.62, 'Weight <= 1.24\\nmse = 0.018\\nsamples = 15\\nvalue = 6.798'),\n",
       " Text(242.52875226039782, 223.3486956521739, 'Company_Samsung <= 0.5\\nmse = 0.019\\nsamples = 5\\nvalue = 6.901'),\n",
       " Text(241.57203134418324, 202.07739130434783, 'Company_Asus <= 0.5\\nmse = 0.012\\nsamples = 4\\nvalue = 6.95'),\n",
       " Text(239.65858951175406, 180.8060869565217, 'Flash_Storage <= 8.0\\nmse = 0.0\\nsamples = 2\\nvalue = 7.043'),\n",
       " Text(238.70186859553948, 159.53478260869565, 'mse = 0.0\\nsamples = 1\\nvalue = 7.022'),\n",
       " Text(240.61531042796867, 159.53478260869565, 'mse = 0.0\\nsamples = 1\\nvalue = 7.064'),\n",
       " Text(243.48547317661243, 180.8060869565217, 'Flash_Storage <= 40.0\\nmse = 0.007\\nsamples = 2\\nvalue = 6.857'),\n",
       " Text(242.52875226039782, 159.53478260869565, 'mse = 0.0\\nsamples = 1\\nvalue = 6.773'),\n",
       " Text(244.442194092827, 159.53478260869565, 'mse = 0.0\\nsamples = 1\\nvalue = 6.94'),\n",
       " Text(243.48547317661243, 202.07739130434783, 'mse = -0.0\\nsamples = 1\\nvalue = 6.706'),\n",
       " Text(250.18251959011454, 223.3486956521739, 'OpSys_Windows <= 0.5\\nmse = 0.009\\nsamples = 10\\nvalue = 6.746'),\n",
       " Text(248.26907775768535, 202.07739130434783, 'Weight <= 1.305\\nmse = 0.011\\nsamples = 4\\nvalue = 6.819'),\n",
       " Text(247.31235684147077, 180.8060869565217, 'SSD <= 8.0\\nmse = 0.003\\nsamples = 3\\nvalue = 6.764'),\n",
       " Text(246.35563592525617, 159.53478260869565, 'Weight <= 1.255\\nmse = 0.0\\nsamples = 2\\nvalue = 6.801'),\n",
       " Text(245.3989150090416, 138.26347826086953, 'mse = 0.0\\nsamples = 1\\nvalue = 6.805'),\n",
       " Text(247.31235684147077, 138.26347826086953, 'mse = 0.0\\nsamples = 1\\nvalue = 6.798'),\n",
       " Text(248.26907775768535, 159.53478260869565, 'mse = 0.0\\nsamples = 1\\nvalue = 6.691'),\n",
       " Text(249.22579867389993, 180.8060869565217, 'mse = 0.0\\nsamples = 1\\nvalue = 6.983'),\n",
       " Text(252.0959614225437, 202.07739130434783, 'Flash_Storage <= 48.0\\nmse = 0.003\\nsamples = 6\\nvalue = 6.698'),\n",
       " Text(251.13924050632912, 180.8060869565217, 'Weight <= 1.435\\nmse = 0.002\\nsamples = 5\\nvalue = 6.712'),\n",
       " Text(250.18251959011454, 159.53478260869565, 'Weight <= 1.375\\nmse = 0.001\\nsamples = 4\\nvalue = 6.693'),\n",
       " Text(249.22579867389993, 138.26347826086953, 'mse = 0.0\\nsamples = 1\\nvalue = 6.652'),\n",
       " Text(251.13924050632912, 138.26347826086953, 'Company_Lenovo <= 0.5\\nmse = 0.0\\nsamples = 3\\nvalue = 6.707'),\n",
       " Text(250.18251959011454, 116.99217391304347, 'HDD <= 16.0\\nmse = 0.0\\nsamples = 2\\nvalue = 6.698'),\n",
       " Text(249.22579867389993, 95.72086956521736, 'mse = 0.0\\nsamples = 1\\nvalue = 6.706'),\n",
       " Text(251.13924050632912, 95.72086956521736, 'mse = -0.0\\nsamples = 1\\nvalue = 6.691'),\n",
       " Text(252.0959614225437, 116.99217391304347, 'mse = -0.0\\nsamples = 1\\nvalue = 6.724'),\n",
       " Text(252.0959614225437, 159.53478260869565, 'mse = 0.0\\nsamples = 1\\nvalue = 6.788'),\n",
       " Text(253.0526823387583, 180.8060869565217, 'mse = 0.0\\nsamples = 1\\nvalue = 6.628'),\n",
       " Text(264.41374321880653, 244.62, 'Weight <= 1.475\\nmse = 0.017\\nsamples = 44\\nvalue = 6.915'),\n",
       " Text(258.3146473779385, 223.3486956521739, 'Company_Lenovo <= 0.5\\nmse = 0.008\\nsamples = 3\\nvalue = 7.118'),\n",
       " Text(257.35792646172393, 202.07739130434783, 'Company_Mediacom <= 0.5\\nmse = 0.0\\nsamples = 2\\nvalue = 7.056'),\n",
       " Text(256.40120554550936, 180.8060869565217, 'mse = 0.0\\nsamples = 1\\nvalue = 7.038'),\n",
       " Text(258.3146473779385, 180.8060869565217, 'mse = -0.0\\nsamples = 1\\nvalue = 7.074'),\n",
       " Text(259.2713682941531, 202.07739130434783, 'mse = 0.0\\nsamples = 1\\nvalue = 7.242'),\n",
       " Text(270.5128390596745, 223.3486956521739, 'Weight <= 1.95\\nmse = 0.015\\nsamples = 41\\nvalue = 6.9'),\n",
       " Text(264.2941531042797, 202.07739130434783, 'Weight <= 1.83\\nmse = 0.01\\nsamples = 12\\nvalue = 6.815'),\n",
       " Text(260.22808921036767, 180.8060869565217, 'Weight <= 1.64\\nmse = 0.006\\nsamples = 9\\nvalue = 6.855'),\n",
       " Text(256.8795660036166, 159.53478260869565, 'Company_Asus <= 0.5\\nmse = 0.004\\nsamples = 6\\nvalue = 6.821'),\n",
       " Text(254.96612417118746, 138.26347826086953, 'OpSys_Other <= 0.5\\nmse = 0.0\\nsamples = 2\\nvalue = 6.901'),\n",
       " Text(254.00940325497288, 116.99217391304347, 'mse = 0.0\\nsamples = 1\\nvalue = 6.907'),\n",
       " Text(255.92284508740204, 116.99217391304347, 'mse = 0.0\\nsamples = 1\\nvalue = 6.895'),\n",
       " Text(258.79300783604583, 138.26347826086953, 'Weight <= 1.565\\nmse = 0.001\\nsamples = 4\\nvalue = 6.781'),\n",
       " Text(257.83628691983125, 116.99217391304347, 'PPI <= 134.643\\nmse = 0.001\\nsamples = 3\\nvalue = 6.771'),\n",
       " Text(256.8795660036166, 95.72086956521736, 'mse = 0.0\\nsamples = 2\\nvalue = 6.753'),\n",
       " Text(258.79300783604583, 95.72086956521736, 'mse = 0.0\\nsamples = 1\\nvalue = 6.808'),\n",
       " Text(259.7497287522604, 116.99217391304347, 'mse = -0.0\\nsamples = 1\\nvalue = 6.811'),\n",
       " Text(263.5766124171187, 159.53478260869565, 'Company_Dell <= 0.5\\nmse = 0.003\\nsamples = 3\\nvalue = 6.924'),\n",
       " Text(262.61989150090415, 138.26347826086953, 'PPI <= 111.538\\nmse = 0.0\\nsamples = 2\\nvalue = 6.964'),\n",
       " Text(261.66317058468957, 116.99217391304347, 'mse = 0.0\\nsamples = 1\\nvalue = 6.963'),\n",
       " Text(263.5766124171187, 116.99217391304347, 'mse = 0.0\\nsamples = 1\\nvalue = 6.966'),\n",
       " Text(264.53333333333336, 138.26347826086953, 'mse = 0.0\\nsamples = 1\\nvalue = 6.844'),\n",
       " Text(268.3602169981917, 180.8060869565217, 'Company_Lenovo <= 0.5\\nmse = 0.003\\nsamples = 3\\nvalue = 6.695'),\n",
       " Text(267.4034960819771, 159.53478260869565, 'HDD <= 750.0\\nmse = 0.003\\nsamples = 2\\nvalue = 6.722'),\n",
       " Text(266.4467751657625, 138.26347826086953, 'mse = 0.0\\nsamples = 1\\nvalue = 6.668'),\n",
       " Text(268.3602169981917, 138.26347826086953, 'mse = 0.0\\nsamples = 1\\nvalue = 6.777'),\n",
       " Text(269.31693791440625, 159.53478260869565, 'mse = -0.0\\nsamples = 1\\nvalue = 6.642'),\n",
       " Text(276.73152501506934, 202.07739130434783, 'OpSys_Windows <= 0.5\\nmse = 0.012\\nsamples = 29\\nvalue = 6.935'),\n",
       " Text(272.18710066305005, 180.8060869565217, 'Weight <= 2.3\\nmse = 0.017\\nsamples = 11\\nvalue = 6.888'),\n",
       " Text(271.23037974683547, 159.53478260869565, 'IPS <= 0.5\\nmse = 0.018\\nsamples = 9\\nvalue = 6.913'),\n",
       " Text(270.27365883062083, 138.26347826086953, 'Company_Lenovo <= 0.5\\nmse = 0.019\\nsamples = 8\\nvalue = 6.903'),\n",
       " Text(269.31693791440625, 116.99217391304347, 'Weight <= 2.05\\nmse = 0.024\\nsamples = 6\\nvalue = 6.89'),\n",
       " Text(268.3602169981917, 95.72086956521736, 'mse = 0.035\\nsamples = 2\\nvalue = 6.914'),\n",
       " Text(270.27365883062083, 95.72086956521736, 'Weight <= 2.15\\nmse = 0.018\\nsamples = 4\\nvalue = 6.878'),\n",
       " Text(269.31693791440625, 74.4495652173913, 'mse = 0.0\\nsamples = 1\\nvalue = 6.808'),\n",
       " Text(271.23037974683547, 74.4495652173913, 'mse = 0.021\\nsamples = 3\\nvalue = 6.902'),\n",
       " Text(271.23037974683547, 116.99217391304347, 'mse = 0.003\\nsamples = 2\\nvalue = 6.941'),\n",
       " Text(272.18710066305005, 138.26347826086953, 'mse = -0.0\\nsamples = 1\\nvalue = 6.994'),\n",
       " Text(273.1438215792646, 159.53478260869565, 'mse = 0.0\\nsamples = 2\\nvalue = 6.777'),\n",
       " Text(281.27594936708863, 180.8060869565217, 'Weight <= 2.15\\nmse = 0.007\\nsamples = 18\\nvalue = 6.964'),\n",
       " Text(277.9274261603376, 159.53478260869565, 'HDD <= 750.0\\nmse = 0.004\\nsamples = 9\\nvalue = 6.917'),\n",
       " Text(276.01398432790836, 138.26347826086953, 'Company_HP <= 0.5\\nmse = 0.003\\nsamples = 5\\nvalue = 6.878'),\n",
       " Text(275.0572634116938, 116.99217391304347, 'PPI <= 106.195\\nmse = 0.002\\nsamples = 4\\nvalue = 6.858'),\n",
       " Text(274.1005424954792, 95.72086956521736, 'Weight <= 2.05\\nmse = 0.001\\nsamples = 3\\nvalue = 6.873'),\n",
       " Text(273.1438215792646, 74.4495652173913, 'mse = 0.0\\nsamples = 1\\nvalue = 6.828'),\n",
       " Text(275.0572634116938, 74.4495652173913, 'Company_Lenovo <= 0.5\\nmse = 0.001\\nsamples = 2\\nvalue = 6.896'),\n",
       " Text(274.1005424954792, 53.17826086956518, 'mse = 0.0\\nsamples = 1\\nvalue = 6.919'),\n",
       " Text(276.01398432790836, 53.17826086956518, 'mse = 0.0\\nsamples = 1\\nvalue = 6.873'),\n",
       " Text(276.01398432790836, 95.72086956521736, 'mse = -0.0\\nsamples = 1\\nvalue = 6.811'),\n",
       " Text(276.97070524412294, 116.99217391304347, 'mse = -0.0\\nsamples = 1\\nvalue = 6.96'),\n",
       " Text(279.84086799276673, 138.26347826086953, 'Weight <= 2.05\\nmse = 0.001\\nsamples = 4\\nvalue = 6.965'),\n",
       " Text(278.88414707655215, 116.99217391304347, 'PPI <= 120.833\\nmse = 0.0\\nsamples = 2\\nvalue = 6.944'),\n",
       " Text(277.9274261603376, 95.72086956521736, 'mse = 0.0\\nsamples = 1\\nvalue = 6.937'),\n",
       " Text(279.84086799276673, 95.72086956521736, 'mse = 0.0\\nsamples = 1\\nvalue = 6.951'),\n",
       " Text(280.7975889089813, 116.99217391304347, 'mse = 0.0\\nsamples = 2\\nvalue = 6.985'),\n",
       " Text(284.6244725738397, 159.53478260869565, 'HDD <= 750.0\\nmse = 0.006\\nsamples = 9\\nvalue = 7.01'),\n",
       " Text(283.6677516576251, 138.26347826086953, 'PPI <= 120.833\\nmse = 0.003\\nsamples = 8\\nvalue = 7.032'),\n",
       " Text(282.71103074141047, 116.99217391304347, 'Company_Lenovo <= 0.5\\nmse = 0.002\\nsamples = 7\\nvalue = 7.044'),\n",
       " Text(281.7543098251959, 95.72086956521736, 'Weight <= 2.3\\nmse = 0.0\\nsamples = 6\\nvalue = 7.027'),\n",
       " Text(280.7975889089813, 74.4495652173913, 'Company_Dell <= 0.5\\nmse = 0.0\\nsamples = 5\\nvalue = 7.022'),\n",
       " Text(279.84086799276673, 53.17826086956518, 'mse = 0.0\\nsamples = 4\\nvalue = 7.022'),\n",
       " Text(281.7543098251959, 53.17826086956518, 'mse = -0.0\\nsamples = 1\\nvalue = 7.022'),\n",
       " Text(282.71103074141047, 74.4495652173913, 'mse = -0.0\\nsamples = 1\\nvalue = 7.051'),\n",
       " Text(283.6677516576251, 95.72086956521736, 'mse = 0.0\\nsamples = 1\\nvalue = 7.149'),\n",
       " Text(284.6244725738397, 116.99217391304347, 'mse = 0.0\\nsamples = 1\\nvalue = 6.951'),\n",
       " Text(285.58119349005426, 138.26347826086953, 'mse = -0.0\\nsamples = 1\\nvalue = 6.834'),\n",
       " Text(267.28390596745027, 265.89130434782606, 'Weight <= 1.5\\nmse = 0.027\\nsamples = 2\\nvalue = 7.13'),\n",
       " Text(266.3271850512357, 244.62, 'mse = 0.0\\nsamples = 1\\nvalue = 7.295'),\n",
       " Text(268.24062688366485, 244.62, 'mse = -0.0\\nsamples = 1\\nvalue = 6.966'),\n",
       " Text(263.24773960217, 287.1626086956522, 'mse = 0.0\\nsamples = 2\\nvalue = 6.62'),\n",
       " Text(271.11078963230864, 308.43391304347824, 'Company_HP <= 0.5\\nmse = 0.053\\nsamples = 3\\nvalue = 7.206'),\n",
       " Text(270.15406871609406, 287.1626086956522, 'Weight <= 1.375\\nmse = 0.0\\nsamples = 2\\nvalue = 7.043'),\n",
       " Text(269.1973477998794, 265.89130434782606, 'mse = 0.0\\nsamples = 1\\nvalue = 7.048'),\n",
       " Text(271.11078963230864, 265.89130434782606, 'mse = 0.0\\nsamples = 1\\nvalue = 7.038'),\n",
       " Text(272.0675105485232, 287.1626086956522, 'mse = 0.0\\nsamples = 1\\nvalue = 7.532'),\n",
       " Text(273.9809523809524, 329.70521739130436, 'PPI <= 98.348\\nmse = 0.003\\nsamples = 3\\nvalue = 7.301'),\n",
       " Text(273.0242314647378, 308.43391304347824, 'mse = 0.0\\nsamples = 2\\nvalue = 7.26'),\n",
       " Text(274.93767329716695, 308.43391304347824, 'mse = -0.0\\nsamples = 1\\nvalue = 7.384'),\n",
       " Text(278.7645569620253, 350.9765217391304, 'IPS <= 0.5\\nmse = 0.016\\nsamples = 3\\nvalue = 6.495'),\n",
       " Text(277.80783604581075, 329.70521739130436, 'Weight <= 1.285\\nmse = 0.0\\nsamples = 2\\nvalue = 6.406'),\n",
       " Text(276.85111512959617, 308.43391304347824, 'mse = 0.0\\nsamples = 1\\nvalue = 6.424'),\n",
       " Text(278.7645569620253, 308.43391304347824, 'mse = 0.0\\nsamples = 1\\nvalue = 6.389'),\n",
       " Text(279.7212778782399, 329.70521739130436, 'mse = -0.0\\nsamples = 1\\nvalue = 6.672'),\n",
       " Text(284.9832429174201, 372.24782608695654, 'IPS <= 0.5\\nmse = 0.092\\nsamples = 8\\nvalue = 7.236'),\n",
       " Text(282.59144062688364, 350.9765217391304, 'Company_HP <= 0.5\\nmse = 0.002\\nsamples = 2\\nvalue = 7.575'),\n",
       " Text(281.63471971066906, 329.70521739130436, 'mse = 0.0\\nsamples = 1\\nvalue = 7.617'),\n",
       " Text(283.5481615430983, 329.70521739130436, 'mse = 0.0\\nsamples = 1\\nvalue = 7.532'),\n",
       " Text(287.3750452079566, 350.9765217391304, 'Flash_Storage <= 48.0\\nmse = 0.071\\nsamples = 6\\nvalue = 7.123'),\n",
       " Text(285.46160337552743, 329.70521739130436, 'SSD <= 16.0\\nmse = 0.006\\nsamples = 2\\nvalue = 6.889'),\n",
       " Text(284.50488245931285, 308.43391304347824, 'mse = 0.0\\nsamples = 1\\nvalue = 6.966'),\n",
       " Text(286.418324291742, 308.43391304347824, 'mse = 0.0\\nsamples = 1\\nvalue = 6.811'),\n",
       " Text(289.2884870403858, 329.70521739130436, 'OpSys_Windows <= 0.5\\nmse = 0.063\\nsamples = 4\\nvalue = 7.24'),\n",
       " Text(288.33176612417117, 308.43391304347824, 'mse = 0.0\\nsamples = 1\\nvalue = 6.876'),\n",
       " Text(290.2452079566004, 308.43391304347824, 'PPI <= 245.756\\nmse = 0.025\\nsamples = 3\\nvalue = 7.361'),\n",
       " Text(289.2884870403858, 287.1626086956522, 'mse = 0.022\\nsamples = 2\\nvalue = 7.432'),\n",
       " Text(291.20192887281496, 287.1626086956522, 'mse = -0.0\\nsamples = 1\\nvalue = 7.218'),\n",
       " Text(296.46389391199517, 393.5191304347826, 'Weight <= 1.805\\nmse = 0.083\\nsamples = 10\\nvalue = 7.272'),\n",
       " Text(294.0720916214587, 372.24782608695654, 'Weight <= 1.425\\nmse = 0.048\\nsamples = 6\\nvalue = 7.449'),\n",
       " Text(292.15864978902954, 350.9765217391304, 'Company_Lenovo <= 0.5\\nmse = 0.002\\nsamples = 2\\nvalue = 7.23'),\n",
       " Text(291.20192887281496, 329.70521739130436, 'mse = 0.0\\nsamples = 1\\nvalue = 7.186'),\n",
       " Text(293.1153707052441, 329.70521739130436, 'mse = 0.0\\nsamples = 1\\nvalue = 7.274'),\n",
       " Text(295.9855334538879, 350.9765217391304, 'Weight <= 1.69\\nmse = 0.035\\nsamples = 4\\nvalue = 7.559'),\n",
       " Text(295.0288125376733, 329.70521739130436, 'Company_Lenovo <= 0.5\\nmse = 0.023\\nsamples = 3\\nvalue = 7.638'),\n",
       " Text(294.0720916214587, 308.43391304347824, 'TouchScreen <= 0.5\\nmse = 0.0\\nsamples = 2\\nvalue = 7.743'),\n",
       " Text(293.1153707052441, 287.1626086956522, 'mse = 0.0\\nsamples = 1\\nvalue = 7.723'),\n",
       " Text(295.0288125376733, 287.1626086956522, 'mse = 0.0\\nsamples = 1\\nvalue = 7.764'),\n",
       " Text(295.9855334538879, 308.43391304347824, 'mse = -0.0\\nsamples = 1\\nvalue = 7.426'),\n",
       " Text(296.9422543701025, 329.70521739130436, 'mse = -0.0\\nsamples = 1\\nvalue = 7.323'),\n",
       " Text(298.85569620253165, 372.24782608695654, 'OpSys_Windows <= 0.5\\nmse = 0.017\\nsamples = 4\\nvalue = 7.006'),\n",
       " Text(297.89897528631707, 350.9765217391304, 'mse = 0.0\\nsamples = 1\\nvalue = 6.811'),\n",
       " Text(299.8124171187462, 350.9765217391304, 'Weight <= 2.03\\nmse = 0.006\\nsamples = 3\\nvalue = 7.071'),\n",
       " Text(298.85569620253165, 329.70521739130436, 'Company_HP <= 0.5\\nmse = 0.001\\nsamples = 2\\nvalue = 7.124'),\n",
       " Text(297.89897528631707, 308.43391304347824, 'mse = 0.0\\nsamples = 1\\nvalue = 7.149'),\n",
       " Text(299.8124171187462, 308.43391304347824, 'mse = -0.0\\nsamples = 1\\nvalue = 7.1'),\n",
       " Text(300.7691380349608, 329.70521739130436, 'mse = -0.0\\nsamples = 1\\nvalue = 6.966'),\n",
       " Text(678.7199141048825, 457.3330434782609, 'Ram <= 14.0\\nmse = 0.215\\nsamples = 744\\nvalue = 8.254'),\n",
       " Text(501.36502976190474, 436.0617391304348, 'TypeName_Notebook <= 0.5\\nmse = 0.159\\nsamples = 553\\nvalue = 8.103'),\n",
       " Text(403.7769853827607, 414.7904347826087, 'Weight <= 1.545\\nmse = 0.107\\nsamples = 268\\nvalue = 8.307'),\n",
       " Text(341.35806962025316, 393.5191304347826, 'SSD <= 218.0\\nmse = 0.076\\nsamples = 138\\nvalue = 8.416'),\n",
       " Text(306.50946353224833, 372.24782608695654, 'TypeName_Ultrabook <= 0.5\\nmse = 0.092\\nsamples = 15\\nvalue = 8.138'),\n",
       " Text(305.55274261603375, 350.9765217391304, 'mse = 0.0\\nsamples = 1\\nvalue = 7.315'),\n",
       " Text(307.4661844484629, 350.9765217391304, 'Processor_Intel Core i7 <= 0.5\\nmse = 0.047\\nsamples = 14\\nvalue = 8.196'),\n",
       " Text(306.50946353224833, 329.70521739130436, 'PPI <= 196.024\\nmse = 0.026\\nsamples = 13\\nvalue = 8.155'),\n",
       " Text(301.7258589511754, 308.43391304347824, 'PPI <= 126.523\\nmse = 0.007\\nsamples = 6\\nvalue = 8.011'),\n",
       " Text(300.7691380349608, 287.1626086956522, 'mse = 0.0\\nsamples = 1\\nvalue = 8.113'),\n",
       " Text(302.68257986739, 287.1626086956522, 'Weight <= 1.345\\nmse = 0.006\\nsamples = 5\\nvalue = 7.99'),\n",
       " Text(300.7691380349608, 265.89130434782606, 'Weight <= 1.255\\nmse = 0.002\\nsamples = 3\\nvalue = 7.941'),\n",
       " Text(299.8124171187462, 244.62, 'mse = 0.0\\nsamples = 1\\nvalue = 7.997'),\n",
       " Text(301.7258589511754, 244.62, 'SSD <= 64.0\\nmse = 0.0\\nsamples = 2\\nvalue = 7.912'),\n",
       " Text(300.7691380349608, 223.3486956521739, 'mse = 0.0\\nsamples = 1\\nvalue = 7.912'),\n",
       " Text(302.68257986739, 223.3486956521739, 'mse = 0.0\\nsamples = 1\\nvalue = 7.912'),\n",
       " Text(304.5960216998192, 265.89130434782606, 'Flash_Storage <= 192.0\\nmse = 0.002\\nsamples = 2\\nvalue = 8.065'),\n",
       " Text(303.6393007836046, 244.62, 'mse = 0.0\\nsamples = 1\\nvalue = 8.113'),\n",
       " Text(305.55274261603375, 244.62, 'mse = -0.0\\nsamples = 1\\nvalue = 8.017'),\n",
       " Text(311.2930681133213, 308.43391304347824, 'Company_Dell <= 0.5\\nmse = 0.01\\nsamples = 7\\nvalue = 8.278'),\n",
       " Text(310.3363471971067, 287.1626086956522, 'SSD <= 64.0\\nmse = 0.003\\nsamples = 6\\nvalue = 8.243'),\n",
       " Text(308.4229053646775, 265.89130434782606, 'Flash_Storage <= 384.0\\nmse = 0.003\\nsamples = 4\\nvalue = 8.222'),\n",
       " Text(307.4661844484629, 244.62, 'mse = 0.003\\nsamples = 2\\nvalue = 8.225'),\n",
       " Text(309.3796262808921, 244.62, 'mse = 0.002\\nsamples = 2\\nvalue = 8.218'),\n",
       " Text(312.24978902953586, 265.89130434782606, 'Company_Google <= 0.5\\nmse = 0.001\\nsamples = 2\\nvalue = 8.286'),\n",
       " Text(311.2930681133213, 244.62, 'mse = 0.0\\nsamples = 1\\nvalue = 8.311'),\n",
       " Text(313.20650994575044, 244.62, 'mse = -0.0\\nsamples = 1\\nvalue = 8.262'),\n",
       " Text(312.24978902953586, 287.1626086956522, 'mse = -0.0\\nsamples = 1\\nvalue = 8.488'),\n",
       " Text(308.4229053646775, 329.70521739130436, 'mse = 0.0\\nsamples = 1\\nvalue = 8.736'),\n",
       " Text(376.206675708258, 372.24782608695654, 'Company_Asus <= 0.5\\nmse = 0.063\\nsamples = 123\\nvalue = 8.45'),\n",
       " Text(349.27507534659435, 350.9765217391304, 'Gpu_manu_Intel <= 0.5\\nmse = 0.052\\nsamples = 113\\nvalue = 8.483'),\n",
       " Text(333.0061482820976, 329.70521739130436, 'Company_HP <= 0.5\\nmse = 0.006\\nsamples = 3\\nvalue = 8.033'),\n",
       " Text(332.04942736588305, 308.43391304347824, 'Processor_Intel Core i7 <= 0.5\\nmse = 0.001\\nsamples = 2\\nvalue = 7.983'),\n",
       " Text(331.09270644966847, 287.1626086956522, 'mse = 0.0\\nsamples = 1\\nvalue = 8.019'),\n",
       " Text(333.0061482820976, 287.1626086956522, 'mse = 0.0\\nsamples = 1\\nvalue = 7.948'),\n",
       " Text(333.96286919831226, 308.43391304347824, 'mse = 0.0\\nsamples = 1\\nvalue = 8.131'),\n",
       " Text(365.544002411091, 329.70521739130436, 'SSD <= 384.0\\nmse = 0.047\\nsamples = 110\\nvalue = 8.495'),\n",
       " Text(349.1769740807716, 308.43391304347824, 'PPI <= 255.28\\nmse = 0.046\\nsamples = 86\\nvalue = 8.46'),\n",
       " Text(334.91959011452684, 287.1626086956522, 'PPI <= 205.322\\nmse = 0.045\\nsamples = 72\\nvalue = 8.481'),\n",
       " Text(322.4298975286317, 265.89130434782606, 'Processor_Intel Core i7 <= 0.5\\nmse = 0.039\\nsamples = 60\\nvalue = 8.45'),\n",
       " Text(315.11995177817965, 244.62, 'Weight <= 1.49\\nmse = 0.043\\nsamples = 29\\nvalue = 8.403'),\n",
       " Text(313.20650994575044, 223.3486956521739, 'PPI <= 121.597\\nmse = 0.035\\nsamples = 27\\nvalue = 8.425'),\n",
       " Text(312.24978902953586, 202.07739130434783, 'mse = 0.0\\nsamples = 1\\nvalue = 8.109'),\n",
       " Text(314.163230861965, 202.07739130434783, 'Weight <= 1.415\\nmse = 0.032\\nsamples = 26\\nvalue = 8.437'),\n",
       " Text(312.24978902953586, 180.8060869565217, 'Weight <= 1.405\\nmse = 0.033\\nsamples = 24\\nvalue = 8.426'),\n",
       " Text(311.2930681133213, 159.53478260869565, 'PPI <= 187.962\\nmse = 0.025\\nsamples = 23\\nvalue = 8.446'),\n",
       " Text(306.0311030741411, 138.26347826086953, 'IPS <= 0.5\\nmse = 0.025\\nsamples = 21\\nvalue = 8.458'),\n",
       " Text(298.37733574442433, 116.99217391304347, 'TouchScreen <= 0.5\\nmse = 0.024\\nsamples = 12\\nvalue = 8.49'),\n",
       " Text(294.0720916214587, 95.72086956521736, 'Company_HP <= 0.5\\nmse = 0.011\\nsamples = 7\\nvalue = 8.412'),\n",
       " Text(291.20192887281496, 74.4495652173913, 'PPI <= 161.491\\nmse = 0.002\\nsamples = 4\\nvalue = 8.452'),\n",
       " Text(290.2452079566004, 53.17826086956518, 'mse = 0.0\\nsamples = 1\\nvalue = 8.513'),\n",
       " Text(292.15864978902954, 53.17826086956518, 'Company_Dell <= 0.5\\nmse = 0.001\\nsamples = 3\\nvalue = 8.432'),\n",
       " Text(291.20192887281496, 31.90695652173912, 'mse = 0.0\\nsamples = 1\\nvalue = 8.482'),\n",
       " Text(293.1153707052441, 31.90695652173912, 'Weight <= 1.245\\nmse = 0.0\\nsamples = 2\\nvalue = 8.407'),\n",
       " Text(292.15864978902954, 10.635652173913002, 'mse = 0.0\\nsamples = 1\\nvalue = 8.39'),\n",
       " Text(294.0720916214587, 10.635652173913002, 'mse = 0.0\\nsamples = 1\\nvalue = 8.423'),\n",
       " Text(296.9422543701025, 74.4495652173913, 'TypeName_Ultrabook <= 0.5\\nmse = 0.018\\nsamples = 3\\nvalue = 8.359'),\n",
       " Text(295.9855334538879, 53.17826086956518, 'PPI <= 150.8\\nmse = 0.008\\nsamples = 2\\nvalue = 8.439'),\n",
       " Text(295.0288125376733, 31.90695652173912, 'mse = 0.0\\nsamples = 1\\nvalue = 8.347'),\n",
       " Text(296.9422543701025, 31.90695652173912, 'mse = 0.0\\nsamples = 1\\nvalue = 8.531'),\n",
       " Text(297.89897528631707, 53.17826086956518, 'mse = -0.0\\nsamples = 1\\nvalue = 8.2'),\n",
       " Text(302.68257986739, 95.72086956521736, 'PPI <= 170.932\\nmse = 0.021\\nsamples = 5\\nvalue = 8.599'),\n",
       " Text(300.7691380349608, 74.4495652173913, 'Company_Dell <= 0.5\\nmse = 0.008\\nsamples = 2\\nvalue = 8.751'),\n",
       " Text(299.8124171187462, 53.17826086956518, 'mse = 0.0\\nsamples = 1\\nvalue = 8.841'),\n",
       " Text(301.7258589511754, 53.17826086956518, 'mse = 0.0\\nsamples = 1\\nvalue = 8.66'),\n",
       " Text(304.5960216998192, 74.4495652173913, 'Weight <= 1.35\\nmse = 0.004\\nsamples = 3\\nvalue = 8.498'),\n",
       " Text(303.6393007836046, 53.17826086956518, 'Weight <= 1.3\\nmse = 0.0\\nsamples = 2\\nvalue = 8.544'),\n",
       " Text(302.68257986739, 31.90695652173912, 'mse = 0.0\\nsamples = 1\\nvalue = 8.557'),\n",
       " Text(304.5960216998192, 31.90695652173912, 'mse = 0.0\\nsamples = 1\\nvalue = 8.531'),\n",
       " Text(305.55274261603375, 53.17826086956518, 'mse = 0.0\\nsamples = 1\\nvalue = 8.405'),\n",
       " Text(313.68487040385776, 116.99217391304347, 'TypeName_Ultrabook <= 0.5\\nmse = 0.024\\nsamples = 9\\nvalue = 8.416'),\n",
       " Text(310.3363471971067, 95.72086956521736, 'Weight <= 1.335\\nmse = 0.026\\nsamples = 4\\nvalue = 8.312'),\n",
       " Text(308.4229053646775, 74.4495652173913, 'Weight <= 1.28\\nmse = 0.023\\nsamples = 2\\nvalue = 8.203'),\n",
       " Text(307.4661844484629, 53.17826086956518, 'mse = 0.0\\nsamples = 1\\nvalue = 8.354'),\n",
       " Text(309.3796262808921, 53.17826086956518, 'mse = 0.0\\nsamples = 1\\nvalue = 8.052'),\n",
       " Text(312.24978902953586, 74.4495652173913, 'Weight <= 1.385\\nmse = 0.004\\nsamples = 2\\nvalue = 8.421'),\n",
       " Text(311.2930681133213, 53.17826086956518, 'mse = 0.0\\nsamples = 1\\nvalue = 8.354'),\n",
       " Text(313.20650994575044, 53.17826086956518, 'mse = 0.0\\nsamples = 1\\nvalue = 8.488'),\n",
       " Text(317.0333936106088, 95.72086956521736, 'PPI <= 170.932\\nmse = 0.008\\nsamples = 5\\nvalue = 8.499'),\n",
       " Text(316.07667269439423, 74.4495652173913, 'PPI <= 161.491\\nmse = 0.006\\nsamples = 3\\nvalue = 8.512'),\n",
       " Text(315.11995177817965, 53.17826086956518, 'mse = 0.008\\nsamples = 2\\nvalue = 8.515'),\n",
       " Text(317.0333936106088, 53.17826086956518, 'mse = -0.0\\nsamples = 1\\nvalue = 8.507'),\n",
       " Text(317.9901145268234, 74.4495652173913, 'mse = 0.011\\nsamples = 2\\nvalue = 8.48'),\n",
       " Text(316.5550331525015, 138.26347826086953, 'PPI <= 200.267\\nmse = 0.0\\nsamples = 2\\nvalue = 8.315'),\n",
       " Text(315.5983122362869, 116.99217391304347, 'mse = 0.0\\nsamples = 1\\nvalue = 8.318'),\n",
       " Text(317.5117540687161, 116.99217391304347, 'mse = 0.0\\nsamples = 1\\nvalue = 8.311'),\n",
       " Text(313.20650994575044, 159.53478260869565, 'mse = 0.0\\nsamples = 1\\nvalue = 7.966'),\n",
       " Text(316.07667269439423, 180.8060869565217, 'TypeName_Ultrabook <= 0.5\\nmse = 0.004\\nsamples = 2\\nvalue = 8.568'),\n",
       " Text(315.11995177817965, 159.53478260869565, 'mse = 0.0\\nsamples = 1\\nvalue = 8.507'),\n",
       " Text(317.0333936106088, 159.53478260869565, 'mse = -0.0\\nsamples = 1\\nvalue = 8.629'),\n",
       " Text(317.0333936106088, 223.3486956521739, 'PPI <= 145.5\\nmse = 0.065\\nsamples = 2\\nvalue = 8.108'),\n",
       " Text(316.07667269439423, 202.07739130434783, 'mse = 0.0\\nsamples = 1\\nvalue = 8.364'),\n",
       " Text(317.9901145268234, 202.07739130434783, 'mse = -0.0\\nsamples = 1\\nvalue = 7.853'),\n",
       " Text(329.7398432790838, 244.62, 'Weight <= 1.24\\nmse = 0.032\\nsamples = 31\\nvalue = 8.493'),\n",
       " Text(324.2088004822182, 223.3486956521739, 'TouchScreen <= 0.5\\nmse = 0.016\\nsamples = 7\\nvalue = 8.394'),\n",
       " Text(323.2520795660036, 202.07739130434783, 'Company_Samsung <= 0.5\\nmse = 0.007\\nsamples = 6\\nvalue = 8.433'),\n",
       " Text(322.295358649789, 180.8060869565217, 'IPS <= 0.5\\nmse = 0.006\\nsamples = 5\\nvalue = 8.41'),\n",
       " Text(321.33863773357444, 159.53478260869565, 'Company_Toshiba <= 0.5\\nmse = 0.003\\nsamples = 4\\nvalue = 8.383'),\n",
       " Text(320.38191681735987, 138.26347826086953, 'Weight <= 1.215\\nmse = 0.003\\nsamples = 3\\nvalue = 8.402'),\n",
       " Text(319.4251959011453, 116.99217391304347, 'mse = 0.002\\nsamples = 2\\nvalue = 8.432'),\n",
       " Text(321.33863773357444, 116.99217391304347, 'mse = -0.0\\nsamples = 1\\nvalue = 8.34'),\n",
       " Text(322.295358649789, 138.26347826086953, 'mse = 0.0\\nsamples = 1\\nvalue = 8.328'),\n",
       " Text(323.2520795660036, 159.53478260869565, 'mse = 0.0\\nsamples = 1\\nvalue = 8.519'),\n",
       " Text(324.2088004822182, 180.8060869565217, 'mse = -0.0\\nsamples = 1\\nvalue = 8.549'),\n",
       " Text(325.1655213984328, 202.07739130434783, 'mse = -0.0\\nsamples = 1\\nvalue = 8.158'),\n",
       " Text(335.27088607594936, 223.3486956521739, 'Weight <= 1.375\\nmse = 0.032\\nsamples = 24\\nvalue = 8.522'),\n",
       " Text(329.11199517781796, 202.07739130434783, 'TypeName_Ultrabook <= 0.5\\nmse = 0.028\\nsamples = 17\\nvalue = 8.562'),\n",
       " Text(326.1222423146474, 180.8060869565217, 'Company_Lenovo <= 0.5\\nmse = 0.025\\nsamples = 3\\nvalue = 8.742'),\n",
       " Text(325.1655213984328, 159.53478260869565, 'mse = 0.0\\nsamples = 1\\nvalue = 8.958'),\n",
       " Text(327.078963230862, 159.53478260869565, 'mse = 0.003\\nsamples = 2\\nvalue = 8.634'),\n",
       " Text(332.1017480409885, 180.8060869565217, 'PPI <= 161.491\\nmse = 0.021\\nsamples = 14\\nvalue = 8.523'),\n",
       " Text(328.99240506329113, 159.53478260869565, 'Company_Lenovo <= 0.5\\nmse = 0.001\\nsamples = 3\\nvalue = 8.603'),\n",
       " Text(328.03568414707655, 138.26347826086953, 'Company_Dell <= 0.5\\nmse = 0.0\\nsamples = 2\\nvalue = 8.585'),\n",
       " Text(327.078963230862, 116.99217391304347, 'mse = 0.0\\nsamples = 1\\nvalue = 8.578'),\n",
       " Text(328.99240506329113, 116.99217391304347, 'mse = 0.0\\nsamples = 1\\nvalue = 8.592'),\n",
       " Text(329.9491259795057, 138.26347826086953, 'mse = -0.0\\nsamples = 1\\nvalue = 8.639'),\n",
       " Text(335.211091018686, 159.53478260869565, 'Company_Microsoft <= 0.5\\nmse = 0.024\\nsamples = 11\\nvalue = 8.502'),\n",
       " Text(332.8192887281495, 138.26347826086953, 'PPI <= 170.932\\nmse = 0.025\\nsamples = 9\\nvalue = 8.474'),\n",
       " Text(330.9058468957203, 116.99217391304347, 'TouchScreen <= 0.5\\nmse = 0.003\\nsamples = 3\\nvalue = 8.413'),\n",
       " Text(329.9491259795057, 95.72086956521736, 'Company_Dell <= 0.5\\nmse = 0.0\\nsamples = 2\\nvalue = 8.375'),\n",
       " Text(328.99240506329113, 74.4495652173913, 'mse = 0.0\\nsamples = 1\\nvalue = 8.354'),\n",
       " Text(330.9058468957203, 74.4495652173913, 'mse = -0.0\\nsamples = 1\\nvalue = 8.396'),\n",
       " Text(331.8625678119349, 95.72086956521736, 'mse = 0.0\\nsamples = 1\\nvalue = 8.488'),\n",
       " Text(334.73273056057866, 116.99217391304347, 'TouchScreen <= 0.5\\nmse = 0.033\\nsamples = 6\\nvalue = 8.505'),\n",
       " Text(333.7760096443641, 95.72086956521736, 'Company_Lenovo <= 0.5\\nmse = 0.039\\nsamples = 5\\nvalue = 8.495'),\n",
       " Text(332.8192887281495, 74.4495652173913, 'mse = 0.064\\nsamples = 3\\nvalue = 8.492'),\n",
       " Text(334.73273056057866, 74.4495652173913, 'mse = 0.0\\nsamples = 2\\nvalue = 8.499'),\n",
       " Text(335.68945147679324, 95.72086956521736, 'mse = -0.0\\nsamples = 1\\nvalue = 8.557'),\n",
       " Text(337.60289330922245, 138.26347826086953, 'Weight <= 1.251\\nmse = 0.0\\nsamples = 2\\nvalue = 8.625'),\n",
       " Text(336.6461723930078, 116.99217391304347, 'mse = 0.0\\nsamples = 1\\nvalue = 8.606'),\n",
       " Text(338.55961422543703, 116.99217391304347, 'mse = 0.0\\nsamples = 1\\nvalue = 8.643'),\n",
       " Text(341.42977697408077, 202.07739130434783, 'TypeName_Ultrabook <= 0.5\\nmse = 0.029\\nsamples = 7\\nvalue = 8.425'),\n",
       " Text(340.4730560578662, 180.8060869565217, 'mse = 0.012\\nsamples = 2\\nvalue = 8.206'),\n",
       " Text(342.38649789029535, 180.8060869565217, 'Weight <= 1.45\\nmse = 0.009\\nsamples = 5\\nvalue = 8.513'),\n",
       " Text(340.4730560578662, 159.53478260869565, 'Company_HP <= 0.5\\nmse = 0.004\\nsamples = 3\\nvalue = 8.449'),\n",
       " Text(339.5163351416516, 138.26347826086953, 'mse = 0.0\\nsamples = 1\\nvalue = 8.533'),\n",
       " Text(341.42977697408077, 138.26347826086953, 'mse = 0.0\\nsamples = 2\\nvalue = 8.407'),\n",
       " Text(344.29993972272456, 159.53478260869565, 'Company_Toshiba <= 0.5\\nmse = 0.002\\nsamples = 2\\nvalue = 8.609'),\n",
       " Text(343.3432188065099, 138.26347826086953, 'mse = 0.0\\nsamples = 1\\nvalue = 8.654'),\n",
       " Text(345.25666063893914, 138.26347826086953, 'mse = -0.0\\nsamples = 1\\nvalue = 8.564'),\n",
       " Text(347.40928270042195, 265.89130434782606, 'OpSys_Windows <= 0.5\\nmse = 0.043\\nsamples = 12\\nvalue = 8.637'),\n",
       " Text(343.3432188065099, 244.62, 'Processor_Intel Core i5 <= 0.5\\nmse = 0.017\\nsamples = 4\\nvalue = 8.423'),\n",
       " Text(342.38649789029535, 223.3486956521739, 'mse = 0.0\\nsamples = 1\\nvalue = 8.252'),\n",
       " Text(344.29993972272456, 223.3486956521739, 'PPI <= 230.745\\nmse = 0.01\\nsamples = 3\\nvalue = 8.48'),\n",
       " Text(343.3432188065099, 202.07739130434783, 'mse = 0.014\\nsamples = 2\\nvalue = 8.488'),\n",
       " Text(345.25666063893914, 202.07739130434783, 'mse = 0.0\\nsamples = 1\\nvalue = 8.463'),\n",
       " Text(351.4753465943339, 244.62, 'Weight <= 1.41\\nmse = 0.022\\nsamples = 8\\nvalue = 8.745'),\n",
       " Text(348.1268233875829, 223.3486956521739, 'Weight <= 1.315\\nmse = 0.022\\nsamples = 3\\nvalue = 8.673'),\n",
       " Text(347.1701024713683, 202.07739130434783, 'mse = 0.0\\nsamples = 1\\nvalue = 8.868'),\n",
       " Text(349.08354430379745, 202.07739130434783, 'Weight <= 1.38\\nmse = 0.004\\nsamples = 2\\nvalue = 8.575'),\n",
       " Text(348.1268233875829, 180.8060869565217, 'mse = 0.0\\nsamples = 1\\nvalue = 8.511'),\n",
       " Text(350.04026522001203, 180.8060869565217, 'mse = 0.0\\nsamples = 1\\nvalue = 8.638'),\n",
       " Text(354.823869801085, 223.3486956521739, 'Company_Lenovo <= 0.5\\nmse = 0.016\\nsamples = 5\\nvalue = 8.788'),\n",
       " Text(352.9104279686558, 202.07739130434783, 'TouchScreen <= 0.5\\nmse = 0.007\\nsamples = 3\\nvalue = 8.702'),\n",
       " Text(351.95370705244125, 180.8060869565217, 'mse = 0.0\\nsamples = 1\\nvalue = 8.806'),\n",
       " Text(353.8671488848704, 180.8060869565217, 'TypeName_Ultrabook <= 0.5\\nmse = 0.002\\nsamples = 2\\nvalue = 8.649'),\n",
       " Text(352.9104279686558, 159.53478260869565, 'mse = 0.0\\nsamples = 1\\nvalue = 8.606'),\n",
       " Text(354.823869801085, 159.53478260869565, 'mse = -0.0\\nsamples = 1\\nvalue = 8.693'),\n",
       " Text(356.73731163351414, 202.07739130434783, 'IPS <= 0.5\\nmse = 0.003\\nsamples = 2\\nvalue = 8.917'),\n",
       " Text(355.78059071729956, 180.8060869565217, 'mse = 0.0\\nsamples = 1\\nvalue = 8.97'),\n",
       " Text(357.6940325497288, 180.8060869565217, 'mse = -0.0\\nsamples = 1\\nvalue = 8.864'),\n",
       " Text(363.4343580470163, 287.1626086956522, 'Company_Dell <= 0.5\\nmse = 0.04\\nsamples = 14\\nvalue = 8.35'),\n",
       " Text(360.5641952983725, 265.89130434782606, 'Processor_Intel Core i5 <= 0.5\\nmse = 0.015\\nsamples = 5\\nvalue = 8.196'),\n",
       " Text(358.65075346594335, 244.62, 'Weight <= 1.295\\nmse = 0.003\\nsamples = 3\\nvalue = 8.12'),\n",
       " Text(357.6940325497288, 223.3486956521739, 'mse = 0.0\\nsamples = 1\\nvalue = 8.047'),\n",
       " Text(359.60747438215793, 223.3486956521739, 'TouchScreen <= 0.5\\nmse = 0.0\\nsamples = 2\\nvalue = 8.156'),\n",
       " Text(358.65075346594335, 202.07739130434783, 'mse = 0.0\\nsamples = 1\\nvalue = 8.154'),\n",
       " Text(360.5641952983725, 202.07739130434783, 'mse = -0.0\\nsamples = 1\\nvalue = 8.158'),\n",
       " Text(362.47763713080167, 244.62, 'Company_Lenovo <= 0.5\\nmse = 0.012\\nsamples = 2\\nvalue = 8.312'),\n",
       " Text(361.5209162145871, 223.3486956521739, 'mse = 0.0\\nsamples = 1\\nvalue = 8.423'),\n",
       " Text(363.4343580470163, 223.3486956521739, 'mse = -0.0\\nsamples = 1\\nvalue = 8.2'),\n",
       " Text(366.30452079566004, 265.89130434782606, 'OpSys_Windows <= 0.5\\nmse = 0.033\\nsamples = 9\\nvalue = 8.435'),\n",
       " Text(365.34779987944546, 244.62, 'mse = 0.0\\nsamples = 1\\nvalue = 8.113'),\n",
       " Text(367.2612417118746, 244.62, 'Processor_Intel Core i7 <= 0.5\\nmse = 0.022\\nsamples = 8\\nvalue = 8.476'),\n",
       " Text(365.34779987944546, 223.3486956521739, 'Weight <= 1.265\\nmse = 0.004\\nsamples = 3\\nvalue = 8.587'),\n",
       " Text(364.3910789632309, 202.07739130434783, 'TypeName_Ultrabook <= 0.5\\nmse = 0.0\\nsamples = 2\\nvalue = 8.629'),\n",
       " Text(363.4343580470163, 180.8060869565217, 'mse = 0.0\\nsamples = 1\\nvalue = 8.614'),\n",
       " Text(365.34779987944546, 180.8060869565217, 'mse = -0.0\\nsamples = 1\\nvalue = 8.644'),\n",
       " Text(366.30452079566004, 202.07739130434783, 'mse = 0.0\\nsamples = 1\\nvalue = 8.504'),\n",
       " Text(369.1746835443038, 223.3486956521739, 'IPS <= 0.5\\nmse = 0.022\\nsamples = 5\\nvalue = 8.409'),\n",
       " Text(368.2179626280892, 202.07739130434783, 'TouchScreen <= 0.5\\nmse = 0.003\\nsamples = 4\\nvalue = 8.34'),\n",
       " Text(367.2612417118746, 180.8060869565217, 'mse = 0.0\\nsamples = 1\\nvalue = 8.256'),\n",
       " Text(369.1746835443038, 180.8060869565217, 'Weight <= 1.26\\nmse = 0.001\\nsamples = 3\\nvalue = 8.368'),\n",
       " Text(368.2179626280892, 159.53478260869565, 'Weight <= 1.215\\nmse = 0.0\\nsamples = 2\\nvalue = 8.347'),\n",
       " Text(367.2612417118746, 138.26347826086953, 'mse = 0.0\\nsamples = 1\\nvalue = 8.354'),\n",
       " Text(369.1746835443038, 138.26347826086953, 'mse = 0.0\\nsamples = 1\\nvalue = 8.34'),\n",
       " Text(370.1314044605184, 159.53478260869565, 'mse = 0.0\\nsamples = 1\\nvalue = 8.409'),\n",
       " Text(370.1314044605184, 202.07739130434783, 'mse = 0.0\\nsamples = 1\\nvalue = 8.686'),\n",
       " Text(381.9110307414105, 308.43391304347824, 'PPI <= 157.917\\nmse = 0.03\\nsamples = 24\\nvalue = 8.622'),\n",
       " Text(375.8717299578059, 287.1626086956522, 'Weight <= 1.51\\nmse = 0.027\\nsamples = 7\\nvalue = 8.728'),\n",
       " Text(374.9150090415913, 265.89130434782606, 'TouchScreen <= 0.5\\nmse = 0.009\\nsamples = 5\\nvalue = 8.81'),\n",
       " Text(373.9582881253767, 244.62, 'Weight <= 1.44\\nmse = 0.004\\nsamples = 4\\nvalue = 8.848'),\n",
       " Text(373.00156720916215, 223.3486956521739, 'PPI <= 149.281\\nmse = 0.002\\nsamples = 3\\nvalue = 8.879'),\n",
       " Text(372.04484629294757, 202.07739130434783, 'mse = 0.0\\nsamples = 1\\nvalue = 8.851'),\n",
       " Text(373.9582881253767, 202.07739130434783, 'IPS <= 0.5\\nmse = 0.002\\nsamples = 2\\nvalue = 8.893'),\n",
       " Text(373.00156720916215, 180.8060869565217, 'mse = 0.0\\nsamples = 1\\nvalue = 8.851'),\n",
       " Text(374.9150090415913, 180.8060869565217, 'mse = 0.0\\nsamples = 1\\nvalue = 8.935'),\n",
       " Text(374.9150090415913, 223.3486956521739, 'mse = -0.0\\nsamples = 1\\nvalue = 8.755'),\n",
       " Text(375.8717299578059, 244.62, 'mse = -0.0\\nsamples = 1\\nvalue = 8.66'),\n",
       " Text(376.8284508740205, 265.89130434782606, 'mse = 0.015\\nsamples = 2\\nvalue = 8.524'),\n",
       " Text(387.9503315250151, 287.1626086956522, 'Weight <= 1.355\\nmse = 0.024\\nsamples = 17\\nvalue = 8.578'),\n",
       " Text(383.7646775165762, 265.89130434782606, 'Weight <= 1.25\\nmse = 0.026\\nsamples = 12\\nvalue = 8.534'),\n",
       " Text(381.13369499698615, 244.62, 'Weight <= 1.075\\nmse = 0.023\\nsamples = 10\\nvalue = 8.57'),\n",
       " Text(378.7418927064497, 223.3486956521739, 'TypeName_Netbook <= 0.5\\nmse = 0.014\\nsamples = 4\\nvalue = 8.468'),\n",
       " Text(377.7851717902351, 202.07739130434783, 'TouchScreen <= 0.5\\nmse = 0.001\\nsamples = 3\\nvalue = 8.403'),\n",
       " Text(376.8284508740205, 180.8060869565217, 'Company_Huawei <= 0.5\\nmse = 0.0\\nsamples = 2\\nvalue = 8.427'),\n",
       " Text(375.8717299578059, 159.53478260869565, 'mse = 0.0\\nsamples = 1\\nvalue = 8.431'),\n",
       " Text(377.7851717902351, 159.53478260869565, 'mse = -0.0\\nsamples = 1\\nvalue = 8.423'),\n",
       " Text(378.7418927064497, 180.8060869565217, 'mse = 0.0\\nsamples = 1\\nvalue = 8.354'),\n",
       " Text(379.69861362266425, 202.07739130434783, 'mse = -0.0\\nsamples = 1\\nvalue = 8.665'),\n",
       " Text(383.5254972875226, 223.3486956521739, 'Weight <= 1.165\\nmse = 0.018\\nsamples = 6\\nvalue = 8.637'),\n",
       " Text(381.6120554550934, 202.07739130434783, 'IPS <= 0.5\\nmse = 0.01\\nsamples = 3\\nvalue = 8.714'),\n",
       " Text(380.65533453887883, 180.8060869565217, 'PPI <= 170.932\\nmse = 0.002\\nsamples = 2\\nvalue = 8.648'),\n",
       " Text(379.69861362266425, 159.53478260869565, 'mse = 0.0\\nsamples = 1\\nvalue = 8.696'),\n",
       " Text(381.6120554550934, 159.53478260869565, 'mse = -0.0\\nsamples = 1\\nvalue = 8.601'),\n",
       " Text(382.568776371308, 180.8060869565217, 'mse = -0.0\\nsamples = 1\\nvalue = 8.844'),\n",
       " Text(385.4389391199518, 202.07739130434783, 'Company_Lenovo <= 0.5\\nmse = 0.015\\nsamples = 3\\nvalue = 8.561'),\n",
       " Text(384.4822182037372, 180.8060869565217, 'mse = 0.0\\nsamples = 1\\nvalue = 8.718'),\n",
       " Text(386.39566003616636, 180.8060869565217, 'TypeName_Ultrabook <= 0.5\\nmse = 0.003\\nsamples = 2\\nvalue = 8.482'),\n",
       " Text(385.4389391199518, 159.53478260869565, 'mse = 0.0\\nsamples = 1\\nvalue = 8.423'),\n",
       " Text(387.35238095238094, 159.53478260869565, 'mse = 0.0\\nsamples = 1\\nvalue = 8.541'),\n",
       " Text(386.39566003616636, 244.62, 'TypeName_Ultrabook <= 0.5\\nmse = 0.003\\nsamples = 2\\nvalue = 8.356'),\n",
       " Text(385.4389391199518, 223.3486956521739, 'mse = 0.0\\nsamples = 1\\nvalue = 8.413'),\n",
       " Text(387.35238095238094, 223.3486956521739, 'mse = 0.0\\nsamples = 1\\nvalue = 8.299'),\n",
       " Text(392.1359855334539, 265.89130434782606, 'PPI <= 193.237\\nmse = 0.002\\nsamples = 5\\nvalue = 8.683'),\n",
       " Text(390.22254370102473, 244.62, 'Processor_Intel Core i5 <= 0.5\\nmse = 0.001\\nsamples = 3\\nvalue = 8.65'),\n",
       " Text(389.26582278481015, 223.3486956521739, 'PPI <= 162.057\\nmse = 0.001\\nsamples = 2\\nvalue = 8.665'),\n",
       " Text(388.3091018685955, 202.07739130434783, 'mse = 0.0\\nsamples = 1\\nvalue = 8.633'),\n",
       " Text(390.22254370102473, 202.07739130434783, 'mse = 0.0\\nsamples = 1\\nvalue = 8.697'),\n",
       " Text(391.1792646172393, 223.3486956521739, 'mse = -0.0\\nsamples = 1\\nvalue = 8.62'),\n",
       " Text(394.04942736588305, 244.62, 'OpSys_Windows <= 0.5\\nmse = 0.0\\nsamples = 2\\nvalue = 8.732'),\n",
       " Text(393.09270644966847, 223.3486956521739, 'mse = 0.0\\nsamples = 1\\nvalue = 8.732'),\n",
       " Text(395.0061482820976, 223.3486956521739, 'mse = 0.0\\nsamples = 1\\nvalue = 8.732'),\n",
       " Text(403.13827606992163, 350.9765217391304, 'Processor_Other <= 0.5\\nmse = 0.052\\nsamples = 10\\nvalue = 8.085'),\n",
       " Text(402.18155515370705, 329.70521739130436, 'SSD <= 640.0\\nmse = 0.019\\nsamples = 8\\nvalue = 8.181'),\n",
       " Text(401.2248342374925, 308.43391304347824, 'Weight <= 1.285\\nmse = 0.012\\nsamples = 7\\nvalue = 8.146'),\n",
       " Text(398.833031946956, 287.1626086956522, 'Weight <= 1.175\\nmse = 0.013\\nsamples = 5\\nvalue = 8.112'),\n",
       " Text(396.91959011452684, 265.89130434782606, 'PPI <= 161.491\\nmse = 0.005\\nsamples = 2\\nvalue = 8.219'),\n",
       " Text(395.96286919831226, 244.62, 'mse = 0.0\\nsamples = 1\\nvalue = 8.145'),\n",
       " Text(397.8763110307414, 244.62, 'mse = 0.0\\nsamples = 1\\nvalue = 8.292'),\n",
       " Text(400.74647377938516, 265.89130434782606, 'PPI <= 161.491\\nmse = 0.005\\nsamples = 3\\nvalue = 8.041'),\n",
       " Text(399.7897528631706, 244.62, 'mse = 0.001\\nsamples = 2\\nvalue = 8.09'),\n",
       " Text(401.70319469559973, 244.62, 'mse = -0.0\\nsamples = 1\\nvalue = 7.944'),\n",
       " Text(403.61663652802895, 287.1626086956522, 'Gpu_manu_Intel <= 0.5\\nmse = 0.001\\nsamples = 2\\nvalue = 8.23'),\n",
       " Text(402.65991561181437, 265.89130434782606, 'mse = 0.0\\nsamples = 1\\nvalue = 8.195'),\n",
       " Text(404.5733574442435, 265.89130434782606, 'mse = 0.0\\nsamples = 1\\nvalue = 8.265'),\n",
       " Text(403.13827606992163, 308.43391304347824, 'mse = -0.0\\nsamples = 1\\nvalue = 8.423'),\n",
       " Text(404.0949969861362, 329.70521739130436, 'mse = -0.0\\nsamples = 2\\nvalue = 7.703'),\n",
       " Text(466.19590114526824, 393.5191304347826, 'TypeName_Workstation <= 0.5\\nmse = 0.114\\nsamples = 130\\nvalue = 8.191'),\n",
       " Text(438.1856540084388, 372.24782608695654, 'PPI <= 134.274\\nmse = 0.073\\nsamples = 115\\nvalue = 8.117'),\n",
       " Text(409.83532248342374, 350.9765217391304, 'TypeName_Gaming <= 0.5\\nmse = 0.053\\nsamples = 22\\nvalue = 8.328'),\n",
       " Text(407.9218806509946, 329.70521739130436, 'Company_HP <= 0.5\\nmse = 0.008\\nsamples = 2\\nvalue = 7.929'),\n",
       " Text(406.96515973478, 308.43391304347824, 'mse = 0.0\\nsamples = 1\\nvalue = 8.018'),\n",
       " Text(408.87860156720916, 308.43391304347824, 'mse = 0.0\\nsamples = 1\\nvalue = 7.84'),\n",
       " Text(411.74876431585295, 329.70521739130436, 'OpSys_Windows <= 0.5\\nmse = 0.04\\nsamples = 20\\nvalue = 8.368'),\n",
       " Text(410.7920433996383, 308.43391304347824, 'mse = 0.0\\nsamples = 1\\nvalue = 7.966'),\n",
       " Text(412.70548523206753, 308.43391304347824, 'Ram <= 10.0\\nmse = 0.033\\nsamples = 19\\nvalue = 8.389'),\n",
       " Text(407.44352019288726, 287.1626086956522, 'SSD <= 64.0\\nmse = 0.026\\nsamples = 14\\nvalue = 8.329'),\n",
       " Text(406.4867992766727, 265.89130434782606, 'mse = 0.004\\nsamples = 2\\nvalue = 8.123'),\n",
       " Text(408.40024110910184, 265.89130434782606, 'Company_Asus <= 0.5\\nmse = 0.021\\nsamples = 12\\nvalue = 8.364'),\n",
       " Text(404.5733574442435, 244.62, 'Weight <= 2.65\\nmse = 0.015\\nsamples = 8\\nvalue = 8.306'),\n",
       " Text(403.61663652802895, 223.3486956521739, 'mse = 0.0\\nsamples = 1\\nvalue = 8.488'),\n",
       " Text(405.5300783604581, 223.3486956521739, 'Weight <= 2.725\\nmse = 0.012\\nsamples = 7\\nvalue = 8.28'),\n",
       " Text(402.65991561181437, 202.07739130434783, 'Processor_Intel Core i7 <= 0.5\\nmse = 0.01\\nsamples = 4\\nvalue = 8.246'),\n",
       " Text(401.70319469559973, 180.8060869565217, 'mse = 0.0\\nsamples = 1\\nvalue = 8.109'),\n",
       " Text(403.61663652802895, 180.8060869565217, 'SSD <= 192.0\\nmse = 0.005\\nsamples = 3\\nvalue = 8.291'),\n",
       " Text(402.65991561181437, 159.53478260869565, 'mse = 0.007\\nsamples = 2\\nvalue = 8.278'),\n",
       " Text(404.5733574442435, 159.53478260869565, 'mse = -0.0\\nsamples = 1\\nvalue = 8.318'),\n",
       " Text(408.40024110910184, 202.07739130434783, 'Weight <= 3.125\\nmse = 0.01\\nsamples = 3\\nvalue = 8.326'),\n",
       " Text(407.44352019288726, 180.8060869565217, 'Weight <= 2.825\\nmse = 0.001\\nsamples = 2\\nvalue = 8.393'),\n",
       " Text(406.4867992766727, 159.53478260869565, 'mse = 0.0\\nsamples = 1\\nvalue = 8.354'),\n",
       " Text(408.40024110910184, 159.53478260869565, 'mse = 0.0\\nsamples = 1\\nvalue = 8.432'),\n",
       " Text(409.3569620253165, 180.8060869565217, 'mse = 0.0\\nsamples = 1\\nvalue = 8.193'),\n",
       " Text(412.2271247739602, 244.62, 'Weight <= 3.36\\nmse = 0.013\\nsamples = 4\\nvalue = 8.479'),\n",
       " Text(411.27040385774563, 223.3486956521739, 'Weight <= 2.715\\nmse = 0.002\\nsamples = 3\\nvalue = 8.541'),\n",
       " Text(410.31368294153106, 202.07739130434783, 'mse = 0.0\\nsamples = 1\\nvalue = 8.488'),\n",
       " Text(412.2271247739602, 202.07739130434783, 'Weight <= 2.965\\nmse = 0.0\\nsamples = 2\\nvalue = 8.568'),\n",
       " Text(411.27040385774563, 180.8060869565217, 'mse = 0.0\\nsamples = 1\\nvalue = 8.59'),\n",
       " Text(413.1838456901748, 180.8060869565217, 'mse = -0.0\\nsamples = 1\\nvalue = 8.546'),\n",
       " Text(413.1838456901748, 223.3486956521739, 'mse = -0.0\\nsamples = 1\\nvalue = 8.291'),\n",
       " Text(417.96745027124774, 287.1626086956522, 'Processor_Intel Core i5 <= 0.5\\nmse = 0.015\\nsamples = 5\\nvalue = 8.555'),\n",
       " Text(417.01072935503316, 265.89130434782606, 'SSD <= 128.0\\nmse = 0.004\\nsamples = 4\\nvalue = 8.611'),\n",
       " Text(416.0540084388186, 244.62, 'Weight <= 3.76\\nmse = 0.001\\nsamples = 3\\nvalue = 8.577'),\n",
       " Text(415.097287522604, 223.3486956521739, 'Gpu_manu_Nvidia <= 0.5\\nmse = 0.0\\nsamples = 2\\nvalue = 8.592'),\n",
       " Text(414.14056660638937, 202.07739130434783, 'mse = 0.0\\nsamples = 1\\nvalue = 8.578'),\n",
       " Text(416.0540084388186, 202.07739130434783, 'mse = 0.0\\nsamples = 1\\nvalue = 8.606'),\n",
       " Text(417.01072935503316, 223.3486956521739, 'mse = -0.0\\nsamples = 1\\nvalue = 8.549'),\n",
       " Text(417.96745027124774, 244.62, 'mse = -0.0\\nsamples = 1\\nvalue = 8.711'),\n",
       " Text(418.9241711874623, 265.89130434782606, 'mse = -0.0\\nsamples = 1\\nvalue = 8.333'),\n",
       " Text(466.53598553345387, 350.9765217391304, 'SSD <= 384.0\\nmse = 0.064\\nsamples = 93\\nvalue = 8.067'),\n",
       " Text(452.0805304400241, 329.70521739130436, 'Processor_Intel Core i7 <= 0.5\\nmse = 0.056\\nsamples = 89\\nvalue = 8.047'),\n",
       " Text(435.35286317058467, 308.43391304347824, 'SSD <= 64.0\\nmse = 0.038\\nsamples = 37\\nvalue = 7.953'),\n",
       " Text(425.14285714285717, 287.1626086956522, 'Weight <= 2.475\\nmse = 0.024\\nsamples = 10\\nvalue = 7.799'),\n",
       " Text(421.7943339361061, 265.89130434782606, 'Gpu_manu_Nvidia <= 0.5\\nmse = 0.007\\nsamples = 6\\nvalue = 7.693'),\n",
       " Text(419.8808921036769, 244.62, 'Company_Dell <= 0.5\\nmse = 0.001\\nsamples = 3\\nvalue = 7.623'),\n",
       " Text(418.9241711874623, 223.3486956521739, 'mse = 0.0\\nsamples = 1\\nvalue = 7.661'),\n",
       " Text(420.8376130198915, 223.3486956521739, 'PPI <= 153.422\\nmse = 0.0\\nsamples = 2\\nvalue = 7.605'),\n",
       " Text(419.8808921036769, 202.07739130434783, 'mse = 0.0\\nsamples = 1\\nvalue = 7.608'),\n",
       " Text(421.7943339361061, 202.07739130434783, 'mse = 0.0\\nsamples = 1\\nvalue = 7.602'),\n",
       " Text(423.70777576853527, 244.62, 'OpSys_Windows <= 0.5\\nmse = 0.004\\nsamples = 3\\nvalue = 7.762'),\n",
       " Text(422.7510548523207, 223.3486956521739, 'mse = 0.003\\nsamples = 2\\nvalue = 7.734'),\n",
       " Text(424.66449668474985, 223.3486956521739, 'mse = 0.0\\nsamples = 1\\nvalue = 7.819'),\n",
       " Text(428.4913803496082, 265.89130434782606, 'Company_Lenovo <= 0.5\\nmse = 0.007\\nsamples = 4\\nvalue = 7.96'),\n",
       " Text(427.5346594333936, 244.62, 'Weight <= 2.605\\nmse = 0.007\\nsamples = 3\\nvalue = 7.934'),\n",
       " Text(426.577938517179, 223.3486956521739, 'mse = 0.0\\nsamples = 1\\nvalue = 7.819'),\n",
       " Text(428.4913803496082, 223.3486956521739, 'HDD <= 500.0\\nmse = 0.001\\nsamples = 2\\nvalue = 7.992'),\n",
       " Text(427.5346594333936, 202.07739130434783, 'mse = 0.0\\nsamples = 1\\nvalue = 7.966'),\n",
       " Text(429.4481012658228, 202.07739130434783, 'mse = -0.0\\nsamples = 1\\nvalue = 8.018'),\n",
       " Text(429.4481012658228, 244.62, 'mse = 0.0\\nsamples = 1\\nvalue = 8.035'),\n",
       " Text(445.5628691983122, 287.1626086956522, 'Company_Asus <= 0.5\\nmse = 0.031\\nsamples = 27\\nvalue = 8.01'),\n",
       " Text(444.60614828209765, 265.89130434782606, 'Company_MSI <= 0.5\\nmse = 0.022\\nsamples = 26\\nvalue = 7.99'),\n",
       " Text(439.1946955997589, 244.62, 'Company_Dell <= 0.5\\nmse = 0.022\\nsamples = 21\\nvalue = 7.964'),\n",
       " Text(434.1121157323689, 223.3486956521739, 'Weight <= 1.65\\nmse = 0.015\\nsamples = 12\\nvalue = 7.891'),\n",
       " Text(431.36154309825196, 202.07739130434783, 'PPI <= 161.491\\nmse = 0.024\\nsamples = 3\\nvalue = 7.807'),\n",
       " Text(430.4048221820374, 180.8060869565217, 'mse = 0.0\\nsamples = 1\\nvalue = 7.757'),\n",
       " Text(432.31826401446654, 180.8060869565217, 'mse = 0.035\\nsamples = 2\\nvalue = 7.832'),\n",
       " Text(436.8626883664858, 202.07739130434783, 'TouchScreen <= 0.5\\nmse = 0.008\\nsamples = 9\\nvalue = 7.919'),\n",
       " Text(434.2317058468957, 180.8060869565217, 'SSD <= 192.0\\nmse = 0.008\\nsamples = 7\\nvalue = 7.897'),\n",
       " Text(431.8399035563593, 159.53478260869565, 'OpSys_Other <= 0.5\\nmse = 0.009\\nsamples = 3\\nvalue = 7.944'),\n",
       " Text(430.88318264014464, 138.26347826086953, 'mse = 0.0\\nsamples = 1\\nvalue = 8.018'),\n",
       " Text(432.79662447257385, 138.26347826086953, 'mse = 0.01\\nsamples = 2\\nvalue = 7.907'),\n",
       " Text(436.62350813743217, 159.53478260869565, 'Gpu_manu_Intel <= 0.5\\nmse = 0.004\\nsamples = 4\\nvalue = 7.862'),\n",
       " Text(434.710066305003, 138.26347826086953, 'OpSys_Windows <= 0.5\\nmse = 0.001\\nsamples = 2\\nvalue = 7.8'),\n",
       " Text(433.75334538878843, 116.99217391304347, 'mse = 0.0\\nsamples = 1\\nvalue = 7.769'),\n",
       " Text(435.6667872212176, 116.99217391304347, 'mse = -0.0\\nsamples = 1\\nvalue = 7.831'),\n",
       " Text(438.5369499698614, 138.26347826086953, 'Weight <= 1.77\\nmse = 0.0\\nsamples = 2\\nvalue = 7.923'),\n",
       " Text(437.5802290536468, 116.99217391304347, 'mse = 0.0\\nsamples = 1\\nvalue = 7.912'),\n",
       " Text(439.49367088607596, 116.99217391304347, 'mse = -0.0\\nsamples = 1\\nvalue = 7.934'),\n",
       " Text(439.49367088607596, 180.8060869565217, 'Gpu_manu_Intel <= 0.5\\nmse = 0.0\\nsamples = 2\\nvalue = 7.997'),\n",
       " Text(438.5369499698614, 159.53478260869565, 'mse = 0.0\\nsamples = 1\\nvalue = 7.977'),\n",
       " Text(440.45039180229054, 159.53478260869565, 'mse = -0.0\\nsamples = 1\\nvalue = 8.018'),\n",
       " Text(444.2772754671489, 223.3486956521739, 'Weight <= 1.61\\nmse = 0.016\\nsamples = 9\\nvalue = 8.061'),\n",
       " Text(442.3638336347197, 202.07739130434783, 'TouchScreen <= 0.5\\nmse = 0.0\\nsamples = 2\\nvalue = 8.179'),\n",
       " Text(441.4071127185051, 180.8060869565217, 'mse = 0.0\\nsamples = 1\\nvalue = 8.158'),\n",
       " Text(443.3205545509343, 180.8060869565217, 'mse = 0.0\\nsamples = 1\\nvalue = 8.2'),\n",
       " Text(446.19071729957807, 202.07739130434783, 'Weight <= 1.75\\nmse = 0.015\\nsamples = 7\\nvalue = 8.028'),\n",
       " Text(445.2339963833635, 180.8060869565217, 'mse = 0.0\\nsamples = 1\\nvalue = 7.819'),\n",
       " Text(447.14743821579265, 180.8060869565217, 'Weight <= 2.635\\nmse = 0.009\\nsamples = 6\\nvalue = 8.063'),\n",
       " Text(446.19071729957807, 159.53478260869565, 'TypeName_Gaming <= 0.5\\nmse = 0.007\\nsamples = 5\\nvalue = 8.036'),\n",
       " Text(444.2772754671489, 138.26347826086953, 'HDD <= 500.0\\nmse = 0.0\\nsamples = 3\\nvalue = 8.095'),\n",
       " Text(443.3205545509343, 116.99217391304347, 'TouchScreen <= 0.5\\nmse = 0.0\\nsamples = 2\\nvalue = 8.109'),\n",
       " Text(442.3638336347197, 95.72086956521736, 'mse = 0.0\\nsamples = 1\\nvalue = 8.11'),\n",
       " Text(444.2772754671489, 95.72086956521736, 'mse = -0.0\\nsamples = 1\\nvalue = 8.108'),\n",
       " Text(445.2339963833635, 116.99217391304347, 'mse = 0.0\\nsamples = 1\\nvalue = 8.066'),\n",
       " Text(448.1041591320072, 138.26347826086953, 'Weight <= 2.59\\nmse = 0.003\\nsamples = 2\\nvalue = 7.947'),\n",
       " Text(447.14743821579265, 116.99217391304347, 'mse = 0.0\\nsamples = 1\\nvalue = 7.89'),\n",
       " Text(449.0608800482218, 116.99217391304347, 'mse = 0.0\\nsamples = 1\\nvalue = 8.003'),\n",
       " Text(448.1041591320072, 159.53478260869565, 'mse = -0.0\\nsamples = 1\\nvalue = 8.197'),\n",
       " Text(450.0176009644364, 244.62, 'Weight <= 2.3\\nmse = 0.004\\nsamples = 5\\nvalue = 8.1'),\n",
       " Text(449.0608800482218, 223.3486956521739, 'HDD <= 500.0\\nmse = 0.002\\nsamples = 4\\nvalue = 8.075'),\n",
       " ...]"
      ]
     },
     "execution_count": 1305,
     "metadata": {},
     "output_type": "execute_result"
    }
   ],
   "source": [
    "reg = DecisionTreeRegressor(random_state=0)\n",
    "reg.fit(X_train, y_train)\n",
    "plt.figure(figsize = (16,9))\n",
    "tree.plot_tree(reg, filled=True, feature_names = train_data.columns)"
   ]
  },
  {
   "cell_type": "markdown",
   "id": "508e1f0f",
   "metadata": {},
   "source": [
    "As we can see, the decision trees plotted are extensive and inefficient due to overfitting. This would also consume a much larger computational power. In order to overcome this, we could apply pruning to make the process more efficient."
   ]
  },
  {
   "cell_type": "code",
   "execution_count": null,
   "id": "6e806e9e",
   "metadata": {},
   "outputs": [],
   "source": [
    "# Cost Complexity Pruning\n",
    "path = reg.cost_complexity_pruning_path(X_train, y_train)\n",
    "ccp_alphas = path.ccp_alphas"
   ]
  },
  {
   "cell_type": "code",
   "execution_count": null,
   "id": "df0332d8",
   "metadata": {
    "scrolled": true
   },
   "outputs": [],
   "source": [
    "alpha_list = []\n",
    "\n",
    "for alpha in ccp_alphas:\n",
    "    reg = DecisionTreeRegressor(random_state=0,ccp_alpha=alpha)\n",
    "    reg.fit(X_train,y_train)\n",
    "    alpha_list.append(reg)"
   ]
  },
  {
   "cell_type": "code",
   "execution_count": null,
   "id": "ce1c48d9",
   "metadata": {},
   "outputs": [],
   "source": [
    "# Calculating Training & Testing Score\n",
    "train_score = [reg.score(X_train, y_train) for reg in alpha_list]\n",
    "test_score = [reg.score(X_test, y_test) for reg in alpha_list]"
   ]
  },
  {
   "cell_type": "code",
   "execution_count": null,
   "id": "0becc0d2",
   "metadata": {},
   "outputs": [],
   "source": [
    "plt.xlabel('ccp_alpha')\n",
    "plt.ylabel('Accuracy')\n",
    "\n",
    "plt.plot(ccp_alphas, train_score, marker = 'o',\n",
    "         label = 'training', color = 'blue')\n",
    "\n",
    "plt.plot(ccp_alphas, test_score, marker = '+',\n",
    "         label = 'testing', color = 'red', drawstyle='steps-post')\n",
    "\n",
    "plt.legend()\n",
    "plt.show()"
   ]
  },
  {
   "cell_type": "markdown",
   "id": "f95d5cba",
   "metadata": {},
   "source": [
    "Possible alpha values can lie between **0.002** and **0.008**"
   ]
  },
  {
   "cell_type": "code",
   "execution_count": null,
   "id": "b6937a46",
   "metadata": {},
   "outputs": [],
   "source": [
    "reg = DecisionTreeRegressor(random_state=0,ccp_alpha=0.0085)\n",
    "reg.fit(X_train,y_train)\n",
    "plt.figure(figsize=(16,9))\n",
    "tree.plot_tree(reg, filled=True, feature_names=train_data.columns)"
   ]
  },
  {
   "cell_type": "markdown",
   "id": "1e24cc34",
   "metadata": {},
   "source": [
    "Upon implementing Cost Complexity Pruning, the decision tree now consists of much lesser nodes, allowing it to be more efficient and less complicated."
   ]
  },
  {
   "cell_type": "code",
   "execution_count": null,
   "id": "df129b1b",
   "metadata": {},
   "outputs": [],
   "source": [
    "params = {\n",
    "    \n",
    "    'RandomForest':{\n",
    "        'model' : RandomForestRegressor(),\n",
    "        'params':{\n",
    "            'n_estimators': [int(x) for x in np.linspace(100, 1200, 10)],\n",
    "            'criterion': [\"mse\", \"mae\"],\n",
    "            'max_depth': [int(x) for x in np.linspace(1, 30, 5)],\n",
    "            'max_features': ['auto', 'sqrt', 'log2'],\n",
    "            'ccp_alpha': [x for x in np.linspace(0.0025, 0.0125, 5)],\n",
    "            'min_samples_split': [2, 5, 10, 14],\n",
    "            'min_samples_leaf': [2, 5, 10, 14],\n",
    "        }\n",
    "    },\n",
    "    'Decision Tree':{\n",
    "        'model': DecisionTreeRegressor(),\n",
    "        'params':{\n",
    "            'criterion': [\"mse\", \"mae\"],\n",
    "            'max_depth': [int(x) for x in np.linspace(1, 30, 5)],\n",
    "            'max_features': ['auto', 'sqrt', 'log2'],\n",
    "            'ccp_alpha': [x for x in np.linspace(0.0025, 0.0125, 5)],\n",
    "            'min_samples_split': [2, 5, 10, 14],\n",
    "            'min_samples_leaf': [2, 5, 10, 14],\n",
    "        }\n",
    "    }\n",
    "}"
   ]
  },
  {
   "cell_type": "code",
   "execution_count": null,
   "id": "fc753f4c",
   "metadata": {
    "scrolled": true
   },
   "outputs": [],
   "source": [
    "scores = []\n",
    "\n",
    "for modelname, mp in params.items():\n",
    "    clf = RandomizedSearchCV(mp['model'], param_distributions = mp['params'], cv=5,\n",
    "                            n_iter=10, scoring='neg_mean_squared_error', verbose=2)\n",
    "    clf.fit(X_train, y_train)\n",
    "    \n",
    "    # Storing Dictionary within a List\n",
    "    scores.append({\n",
    "        'model_name': modelname,\n",
    "        'best_score': clf.best_score_,\n",
    "        'best_estimator': clf.best_estimator_,\n",
    "    })"
   ]
  },
  {
   "cell_type": "code",
   "execution_count": null,
   "id": "e8bd2095",
   "metadata": {},
   "outputs": [],
   "source": [
    "# Converting dictionary keys and values into columns\n",
    "scores_df = pd.DataFrame(scores, columns = ['model_name', 'best_score', 'best_estimator'])\n",
    "scores_df"
   ]
  },
  {
   "cell_type": "code",
   "execution_count": null,
   "id": "d836ef67",
   "metadata": {},
   "outputs": [],
   "source": [
    "scores"
   ]
  },
  {
   "cell_type": "code",
   "execution_count": null,
   "id": "8e92a4ef",
   "metadata": {},
   "outputs": [],
   "source": [
    "rf = RandomForestRegressor(ccp_alpha=0.005, criterion='mae', max_depth=15,\n",
    "                        max_features='log2', min_samples_leaf=5,\n",
    "                        min_samples_split=14, n_estimators=955)\n",
    "\n",
    "rf.fit(X_train, y_train)\n",
    "y_pred = rf.predict(X_test)\n",
    "print(metrics.r2_score(y_test, y_pred))"
   ]
  },
  {
   "cell_type": "code",
   "execution_count": null,
   "id": "22fbe23a",
   "metadata": {},
   "outputs": [],
   "source": []
  },
  {
   "cell_type": "markdown",
   "id": "b52c08d6",
   "metadata": {},
   "source": [
    "## Final Prediction on entire Dataset"
   ]
  },
  {
   "cell_type": "markdown",
   "id": "c6dd06e4",
   "metadata": {},
   "source": [
    "Since the accuracy after hyperparameter tuning drops from 90% to 81% for the Random Forest Model, we shall use the initial Random Forest model in the final system to get the best prediction."
   ]
  },
  {
   "cell_type": "code",
   "execution_count": null,
   "id": "cfa19164",
   "metadata": {
    "scrolled": true
   },
   "outputs": [],
   "source": [
    "predicted = []\n",
    "test_train = np.array(train_data)\n",
    "\n",
    "for i in range(len(test_train)):\n",
    "    predicted.append(rf.predict([test_train[i]]))\n",
    "    \n",
    "predicted"
   ]
  },
  {
   "cell_type": "markdown",
   "id": "0f8fca33",
   "metadata": {},
   "source": [
    "Since the values in the 'predicted' array is the log value of the predicted Price, this would have to be converted back to the Price."
   ]
  },
  {
   "cell_type": "code",
   "execution_count": null,
   "id": "f48e904a",
   "metadata": {},
   "outputs": [],
   "source": [
    "pred_price = [np.exp(predicted[i][0]) for i in range(len(predicted))]"
   ]
  },
  {
   "cell_type": "code",
   "execution_count": null,
   "id": "02c1e542",
   "metadata": {},
   "outputs": [],
   "source": [
    "df['Predicted Price'] = np.array(pred_price)\n",
    "df.head()"
   ]
  },
  {
   "cell_type": "markdown",
   "id": "0751e8b5",
   "metadata": {},
   "source": [
    "## Plotting Actual vs Predicted Price"
   ]
  },
  {
   "cell_type": "code",
   "execution_count": null,
   "id": "b1e472d2",
   "metadata": {},
   "outputs": [],
   "source": [
    "sn.distplot(df['Price'],hist=False,color='orange',label='Actual')\n",
    "sn.distplot(df['Predicted Price'],hist=False,color='blue',label='Predicted')\n",
    "plt.legend()\n",
    "plt.show()"
   ]
  },
  {
   "cell_type": "markdown",
   "id": "8d339b69",
   "metadata": {},
   "source": [
    "As proven, the prediction is not as too accurate.As shown, the predicted price merely reaches the Actual median Price (RM 10000). Hence, the following blocks of code would be run."
   ]
  },
  {
   "cell_type": "code",
   "execution_count": null,
   "id": "d243c20e",
   "metadata": {},
   "outputs": [],
   "source": []
  },
  {
   "cell_type": "markdown",
   "id": "ed5f8210",
   "metadata": {},
   "source": [
    "## Random Forest v2.0"
   ]
  },
  {
   "cell_type": "code",
   "execution_count": null,
   "id": "31b2d285",
   "metadata": {},
   "outputs": [],
   "source": [
    "rf1 = RandomForestRegressor(n_estimators=100, random_state=3, max_samples=0.5,\n",
    "                            max_features=0.75, max_depth=15)"
   ]
  },
  {
   "cell_type": "code",
   "execution_count": null,
   "id": "ef0011df",
   "metadata": {},
   "outputs": [],
   "source": [
    "rf1.fit(X_train, y_train)\n",
    "rf1_r2_score = metrics.r2_score(y_test, rf1.predict(X_test)) * 100\n",
    "print(f'R2 Score:', round(rf1_r2_score,1), '%')"
   ]
  },
  {
   "cell_type": "markdown",
   "id": "a2d500e9",
   "metadata": {},
   "source": [
    "The R2 Score is much higher as shown at **88.8%**. This suggests that the the new Random Forest Regressor would be most suitable in order to get the most accurate prediction."
   ]
  },
  {
   "cell_type": "code",
   "execution_count": null,
   "id": "445327d6",
   "metadata": {},
   "outputs": [],
   "source": [
    "predicted = []\n",
    "test_train = np.array(train_data)\n",
    "\n",
    "for i in range(len(test_train)):\n",
    "    predicted.append(rf1.predict([test_train[i]]))\n",
    "    \n",
    "predicted"
   ]
  },
  {
   "cell_type": "code",
   "execution_count": null,
   "id": "d19c7bb8",
   "metadata": {},
   "outputs": [],
   "source": [
    "pred_price = [np.exp(predicted[i][0]) for i in range(len(predicted))]"
   ]
  },
  {
   "cell_type": "code",
   "execution_count": null,
   "id": "ea49368d",
   "metadata": {},
   "outputs": [],
   "source": [
    "df['Predicted Price'] = np.array(pred_price)\n",
    "df.head()"
   ]
  },
  {
   "cell_type": "markdown",
   "id": "f3943f86",
   "metadata": {},
   "source": [
    "## Plotting Actual vs Predicted Price"
   ]
  },
  {
   "cell_type": "code",
   "execution_count": null,
   "id": "52569d5d",
   "metadata": {},
   "outputs": [],
   "source": [
    "sn.distplot(df['Price'],hist=False,color='orange',label='Actual')\n",
    "sn.distplot(df['Predicted Price'],hist=False,color='blue',label='Predicted')\n",
    "plt.legend()\n",
    "plt.show()"
   ]
  },
  {
   "cell_type": "markdown",
   "id": "876fa9e5",
   "metadata": {},
   "source": [
    "As seen above, the actual price and predicted value follow the similar trend. This further confirms that the Random Forest Regressor v2.0 Model deems to be the best fit to predict the Laptop Prices in Malaysia. "
   ]
  },
  {
   "cell_type": "code",
   "execution_count": null,
   "id": "56684d24",
   "metadata": {},
   "outputs": [],
   "source": []
  },
  {
   "cell_type": "markdown",
   "id": "16514147",
   "metadata": {},
   "source": [
    "## Saving the ML Model"
   ]
  },
  {
   "cell_type": "code",
   "execution_count": null,
   "id": "a487de99",
   "metadata": {},
   "outputs": [],
   "source": [
    "import pickle\n",
    "file = open('laptop_price_pred_v2.pk1', 'wb')\n",
    "pickle.dump(rf1, file)\n",
    "file.close()"
   ]
  },
  {
   "cell_type": "code",
   "execution_count": null,
   "id": "3e2b0259",
   "metadata": {},
   "outputs": [],
   "source": []
  }
 ],
 "metadata": {
  "kernelspec": {
   "display_name": "Python 3 (ipykernel)",
   "language": "python",
   "name": "python3"
  },
  "language_info": {
   "codemirror_mode": {
    "name": "ipython",
    "version": 3
   },
   "file_extension": ".py",
   "mimetype": "text/x-python",
   "name": "python",
   "nbconvert_exporter": "python",
   "pygments_lexer": "ipython3",
   "version": "3.8.8"
  }
 },
 "nbformat": 4,
 "nbformat_minor": 5
}
